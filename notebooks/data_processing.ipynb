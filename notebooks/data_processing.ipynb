{
 "cells": [
  {
   "cell_type": "markdown",
   "metadata": {},
   "source": [
    "# Data Processing\n",
    "\n",
    "This notebook is about exploring how we can take the data we ingested and stored into an S3 bucket, and storing it into a vector database.\n",
    "\n",
    "See the Full Embeddings section for an important note about an error to be fixed later."
   ]
  },
  {
   "cell_type": "code",
   "execution_count": 3,
   "metadata": {
    "vscode": {
     "languageId": "shellscript"
    }
   },
   "outputs": [
    {
     "data": {
      "text/plain": [
       "'c:\\\\Users\\\\RaviB\\\\GitHub\\\\vegan-ai-nutritionist'"
      ]
     },
     "execution_count": 3,
     "metadata": {},
     "output_type": "execute_result"
    }
   ],
   "source": [
    "pwd"
   ]
  },
  {
   "cell_type": "markdown",
   "metadata": {},
   "source": [
    "## Managing Dependencies"
   ]
  },
  {
   "cell_type": "code",
   "execution_count": 2,
   "metadata": {
    "vscode": {
     "languageId": "shellscript"
    }
   },
   "outputs": [],
   "source": [
    "import os\n",
    "os.chdir(\"..\")"
   ]
  },
  {
   "cell_type": "code",
   "execution_count": 69,
   "metadata": {
    "vscode": {
     "languageId": "shellscript"
    }
   },
   "outputs": [
    {
     "name": "stdout",
     "output_type": "stream",
     "text": [
      "\u001b[34mUpdating dependencies\u001b[39m\n",
      "\u001b[2K\u001b[34mResolving dependencies...\u001b[39m \u001b[39;2m(35.3s)\u001b[39;22m[34mResolving dependencies...\u001b[39m \u001b[39;2m(4.2s)\u001b[39;22m\u001b[34mResolving dependencies...\u001b[39m \u001b[39;2m(18.0s)\u001b[39;22m\u001b[34mResolving dependencies...\u001b[39m \u001b[39;2m(19.0s)\u001b[39;22m\u001b[34mResolving dependencies...\u001b[39m \u001b[39;2m(19.1s)\u001b[39;22m\u001b[34mResolving dependencies...\u001b[39m \u001b[39;2m(26.9s)\u001b[39;22m\n",
      "\n",
      "\u001b[39;1mPackage operations\u001b[39;22m: \u001b[34m0\u001b[39m installs, \u001b[34m5\u001b[39m updates, \u001b[34m0\u001b[39m removals\n",
      "\n",
      "  \u001b[34;1m-\u001b[39;22m \u001b[39mUpdating \u001b[39m\u001b[36mplatformdirs\u001b[39m\u001b[39m (\u001b[39m\u001b[39;1m4.3.2\u001b[39;22m\u001b[39m -> \u001b[39m\u001b[39;1m4.3.3\u001b[39;22m\u001b[39m)\u001b[39m: \u001b[34mPending...\u001b[39m\n",
      "\u001b[1A\u001b[0J  \u001b[34;1m-\u001b[39;22m \u001b[39mUpdating \u001b[39m\u001b[36mplatformdirs\u001b[39m\u001b[39m (\u001b[39m\u001b[39;1m4.3.2\u001b[39;22m\u001b[39m -> \u001b[39m\u001b[39;1m4.3.3\u001b[39;22m\u001b[39m)\u001b[39m: \u001b[34mDownloading...\u001b[39m \u001b[39;1m0%\u001b[39;22m\n",
      "\u001b[1A\u001b[0J  \u001b[34;1m-\u001b[39;22m \u001b[39mUpdating \u001b[39m\u001b[36mplatformdirs\u001b[39m\u001b[39m (\u001b[39m\u001b[39;1m4.3.2\u001b[39;22m\u001b[39m -> \u001b[39m\u001b[39;1m4.3.3\u001b[39;22m\u001b[39m)\u001b[39m: \u001b[34mDownloading...\u001b[39m \u001b[39;1m100%\u001b[39;22m\n",
      "\u001b[1A\u001b[0J  \u001b[34;1m-\u001b[39;22m \u001b[39mUpdating \u001b[39m\u001b[36mplatformdirs\u001b[39m\u001b[39m (\u001b[39m\u001b[39;1m4.3.2\u001b[39;22m\u001b[39m -> \u001b[39m\u001b[39;1m4.3.3\u001b[39;22m\u001b[39m)\u001b[39m: \u001b[34mInstalling...\u001b[39m\n",
      "\u001b[1A\u001b[0J  \u001b[32;1m-\u001b[39;22m \u001b[39mUpdating \u001b[39m\u001b[36mplatformdirs\u001b[39m\u001b[39m (\u001b[39m\u001b[39;1m4.3.2\u001b[39;22m\u001b[39m -> \u001b[39m\u001b[32m4.3.3\u001b[39m\u001b[39m)\u001b[39m\n",
      "  \u001b[34;1m-\u001b[39;22m \u001b[39mUpdating \u001b[39m\u001b[36midna\u001b[39m\u001b[39m (\u001b[39m\u001b[39;1m3.8\u001b[39;22m\u001b[39m -> \u001b[39m\u001b[39;1m3.9\u001b[39;22m\u001b[39m)\u001b[39m: \u001b[34mPending...\u001b[39m\n",
      "\u001b[1A\u001b[0J  \u001b[34;1m-\u001b[39;22m \u001b[39mUpdating \u001b[39m\u001b[36midna\u001b[39m\u001b[39m (\u001b[39m\u001b[39;1m3.8\u001b[39;22m\u001b[39m -> \u001b[39m\u001b[39;1m3.9\u001b[39;22m\u001b[39m)\u001b[39m: \u001b[34mDownloading...\u001b[39m \u001b[39;1m0%\u001b[39;22m\n",
      "\u001b[1A\u001b[0J  \u001b[34;1m-\u001b[39;22m \u001b[39mUpdating \u001b[39m\u001b[36midna\u001b[39m\u001b[39m (\u001b[39m\u001b[39;1m3.8\u001b[39;22m\u001b[39m -> \u001b[39m\u001b[39;1m3.9\u001b[39;22m\u001b[39m)\u001b[39m: \u001b[34mDownloading...\u001b[39m \u001b[39;1m100%\u001b[39;22m\n",
      "\u001b[1A\u001b[0J  \u001b[34;1m-\u001b[39;22m \u001b[39mUpdating \u001b[39m\u001b[36midna\u001b[39m\u001b[39m (\u001b[39m\u001b[39;1m3.8\u001b[39;22m\u001b[39m -> \u001b[39m\u001b[39;1m3.9\u001b[39;22m\u001b[39m)\u001b[39m: \u001b[34mInstalling...\u001b[39m\n",
      "\u001b[1A\u001b[0J  \u001b[32;1m-\u001b[39;22m \u001b[39mUpdating \u001b[39m\u001b[36midna\u001b[39m\u001b[39m (\u001b[39m\u001b[39;1m3.8\u001b[39;22m\u001b[39m -> \u001b[39m\u001b[32m3.9\u001b[39m\u001b[39m)\u001b[39m\n",
      "  \u001b[34;1m-\u001b[39;22m \u001b[39mUpdating \u001b[39m\u001b[36murllib3\u001b[39m\u001b[39m (\u001b[39m\u001b[39;1m2.2.2\u001b[39;22m\u001b[39m -> \u001b[39m\u001b[39;1m2.2.3\u001b[39;22m\u001b[39m)\u001b[39m: \u001b[34mPending...\u001b[39m\n",
      "\u001b[1A\u001b[0J  \u001b[34;1m-\u001b[39;22m \u001b[39mUpdating \u001b[39m\u001b[36murllib3\u001b[39m\u001b[39m (\u001b[39m\u001b[39;1m2.2.2\u001b[39;22m\u001b[39m -> \u001b[39m\u001b[39;1m2.2.3\u001b[39;22m\u001b[39m)\u001b[39m: \u001b[34mDownloading...\u001b[39m \u001b[39;1m0%\u001b[39;22m\n",
      "\u001b[1A\u001b[0J  \u001b[34;1m-\u001b[39;22m \u001b[39mUpdating \u001b[39m\u001b[36murllib3\u001b[39m\u001b[39m (\u001b[39m\u001b[39;1m2.2.2\u001b[39;22m\u001b[39m -> \u001b[39m\u001b[39;1m2.2.3\u001b[39;22m\u001b[39m)\u001b[39m: \u001b[34mDownloading...\u001b[39m \u001b[39;1m100%\u001b[39;22m\n",
      "\u001b[1A\u001b[0J  \u001b[34;1m-\u001b[39;22m \u001b[39mUpdating \u001b[39m\u001b[36murllib3\u001b[39m\u001b[39m (\u001b[39m\u001b[39;1m2.2.2\u001b[39;22m\u001b[39m -> \u001b[39m\u001b[39;1m2.2.3\u001b[39;22m\u001b[39m)\u001b[39m: \u001b[34mInstalling...\u001b[39m\n",
      "\u001b[1A\u001b[0J  \u001b[32;1m-\u001b[39;22m \u001b[39mUpdating \u001b[39m\u001b[36murllib3\u001b[39m\u001b[39m (\u001b[39m\u001b[39;1m2.2.2\u001b[39;22m\u001b[39m -> \u001b[39m\u001b[32m2.2.3\u001b[39m\u001b[39m)\u001b[39m\n",
      "  \u001b[34;1m-\u001b[39;22m \u001b[39mUpdating \u001b[39m\u001b[36mlangchain-core\u001b[39m\u001b[39m (\u001b[39m\u001b[39;1m0.2.39\u001b[39;22m\u001b[39m -> \u001b[39m\u001b[39;1m0.2.40\u001b[39;22m\u001b[39m)\u001b[39m: \u001b[34mPending...\u001b[39m\n",
      "\u001b[1A\u001b[0J  \u001b[34;1m-\u001b[39;22m \u001b[39mUpdating \u001b[39m\u001b[36mlangchain-core\u001b[39m\u001b[39m (\u001b[39m\u001b[39;1m0.2.39\u001b[39;22m\u001b[39m -> \u001b[39m\u001b[39;1m0.2.40\u001b[39;22m\u001b[39m)\u001b[39m: \u001b[34mDownloading...\u001b[39m \u001b[39;1m0%\u001b[39;22m\n",
      "\u001b[1A\u001b[0J  \u001b[34;1m-\u001b[39;22m \u001b[39mUpdating \u001b[39m\u001b[36mlangchain-core\u001b[39m\u001b[39m (\u001b[39m\u001b[39;1m0.2.39\u001b[39;22m\u001b[39m -> \u001b[39m\u001b[39;1m0.2.40\u001b[39;22m\u001b[39m)\u001b[39m: \u001b[34mDownloading...\u001b[39m \u001b[39;1m100%\u001b[39;22m\n",
      "\u001b[1A\u001b[0J  \u001b[34;1m-\u001b[39;22m \u001b[39mUpdating \u001b[39m\u001b[36mlangchain-core\u001b[39m\u001b[39m (\u001b[39m\u001b[39;1m0.2.39\u001b[39;22m\u001b[39m -> \u001b[39m\u001b[39;1m0.2.40\u001b[39;22m\u001b[39m)\u001b[39m: \u001b[34mInstalling...\u001b[39m\n",
      "\u001b[1A\u001b[0J  \u001b[32;1m-\u001b[39;22m \u001b[39mUpdating \u001b[39m\u001b[36mlangchain-core\u001b[39m\u001b[39m (\u001b[39m\u001b[39;1m0.2.39\u001b[39;22m\u001b[39m -> \u001b[39m\u001b[32m0.2.40\u001b[39m\u001b[39m)\u001b[39m\n",
      "  \u001b[34;1m-\u001b[39;22m \u001b[39mUpdating \u001b[39m\u001b[36mlangchain-community\u001b[39m\u001b[39m (\u001b[39m\u001b[39;1m0.2.16\u001b[39;22m\u001b[39m -> \u001b[39m\u001b[39;1m0.2.17\u001b[39;22m\u001b[39m)\u001b[39m: \u001b[34mPending...\u001b[39m\n",
      "\u001b[1A\u001b[0J  \u001b[34;1m-\u001b[39;22m \u001b[39mUpdating \u001b[39m\u001b[36mlangchain-community\u001b[39m\u001b[39m (\u001b[39m\u001b[39;1m0.2.16\u001b[39;22m\u001b[39m -> \u001b[39m\u001b[39;1m0.2.17\u001b[39;22m\u001b[39m)\u001b[39m: \u001b[34mDownloading...\u001b[39m \u001b[39;1m0%\u001b[39;22m\n",
      "\u001b[1A\u001b[0J  \u001b[34;1m-\u001b[39;22m \u001b[39mUpdating \u001b[39m\u001b[36mlangchain-community\u001b[39m\u001b[39m (\u001b[39m\u001b[39;1m0.2.16\u001b[39;22m\u001b[39m -> \u001b[39m\u001b[39;1m0.2.17\u001b[39;22m\u001b[39m)\u001b[39m: \u001b[34mDownloading...\u001b[39m \u001b[39;1m30%\u001b[39;22m\n",
      "\u001b[1A\u001b[0J  \u001b[34;1m-\u001b[39;22m \u001b[39mUpdating \u001b[39m\u001b[36mlangchain-community\u001b[39m\u001b[39m (\u001b[39m\u001b[39;1m0.2.16\u001b[39;22m\u001b[39m -> \u001b[39m\u001b[39;1m0.2.17\u001b[39;22m\u001b[39m)\u001b[39m: \u001b[34mDownloading...\u001b[39m \u001b[39;1m90%\u001b[39;22m\n",
      "\u001b[1A\u001b[0J  \u001b[34;1m-\u001b[39;22m \u001b[39mUpdating \u001b[39m\u001b[36mlangchain-community\u001b[39m\u001b[39m (\u001b[39m\u001b[39;1m0.2.16\u001b[39;22m\u001b[39m -> \u001b[39m\u001b[39;1m0.2.17\u001b[39;22m\u001b[39m)\u001b[39m: \u001b[34mDownloading...\u001b[39m \u001b[39;1m100%\u001b[39;22m\n",
      "\u001b[1A\u001b[0J  \u001b[34;1m-\u001b[39;22m \u001b[39mUpdating \u001b[39m\u001b[36mlangchain-community\u001b[39m\u001b[39m (\u001b[39m\u001b[39;1m0.2.16\u001b[39;22m\u001b[39m -> \u001b[39m\u001b[39;1m0.2.17\u001b[39;22m\u001b[39m)\u001b[39m: \u001b[34mInstalling...\u001b[39m\n",
      "\u001b[1A\u001b[0J  \u001b[32;1m-\u001b[39;22m \u001b[39mUpdating \u001b[39m\u001b[36mlangchain-community\u001b[39m\u001b[39m (\u001b[39m\u001b[39;1m0.2.16\u001b[39;22m\u001b[39m -> \u001b[39m\u001b[32m0.2.17\u001b[39m\u001b[39m)\u001b[39m\n",
      "\n",
      "\u001b[34mWriting lock file\u001b[39m\n"
     ]
    }
   ],
   "source": [
    "# Switch to the directory containing the pyproject.toml file\n",
    "os.chdir(\"modules/data_processing\")\n",
    "\n",
    "# Install libraries using poetry, uncomment and change library names as needed\n",
    "!poetry update\n",
    "\n",
    "\n",
    "#switch back to the root directory\n",
    "os.chdir(\"../..\")"
   ]
  },
  {
   "cell_type": "code",
   "execution_count": 4,
   "metadata": {
    "vscode": {
     "languageId": "shellscript"
    }
   },
   "outputs": [
    {
     "data": {
      "text/plain": [
       "True"
      ]
     },
     "execution_count": 4,
     "metadata": {},
     "output_type": "execute_result"
    }
   ],
   "source": [
    "import os\n",
    "import pandas as pd\n",
    "import boto3\n",
    "import json\n",
    "from dotenv import load_dotenv\n",
    "\n",
    "load_dotenv()"
   ]
  },
  {
   "cell_type": "markdown",
   "metadata": {},
   "source": [
    "## Loading Raw Data\n",
    "\n",
    "We need to transform it a bit. We want to save the section as meta data and then store it with the embeddings."
   ]
  },
  {
   "cell_type": "code",
   "execution_count": 5,
   "metadata": {
    "vscode": {
     "languageId": "shellscript"
    }
   },
   "outputs": [
    {
     "data": {
      "text/plain": [
       "200"
      ]
     },
     "execution_count": 5,
     "metadata": {},
     "output_type": "execute_result"
    }
   ],
   "source": [
    "s3 = boto3.client('s3')\n",
    "\n",
    "bucket_name = os.environ.get('AWS_BUCKET_NAME')\n",
    "\n",
    "response = s3.list_objects_v2(Bucket=bucket_name)\n",
    "response[\"ResponseMetadata\"][\"HTTPStatusCode\"]"
   ]
  },
  {
   "cell_type": "code",
   "execution_count": 6,
   "metadata": {
    "vscode": {
     "languageId": "shellscript"
    }
   },
   "outputs": [],
   "source": [
    "file_name = 'vegan_research_papers.json'\n",
    "\n",
    "# Get the file contents from S3\n",
    "response = s3.get_object(Bucket=bucket_name, Key=file_name)"
   ]
  },
  {
   "cell_type": "code",
   "execution_count": 7,
   "metadata": {
    "vscode": {
     "languageId": "shellscript"
    }
   },
   "outputs": [],
   "source": [
    "# Load the JSON data from the file contents\n",
    "data = json.loads(response['Body'].read())"
   ]
  },
  {
   "cell_type": "code",
   "execution_count": 8,
   "metadata": {
    "vscode": {
     "languageId": "shellscript"
    }
   },
   "outputs": [
    {
     "data": {
      "text/plain": [
       "{'meta_data': {'content_type': 'Article',\n",
       "  'url': [{'format': '',\n",
       "    'platform': '',\n",
       "    'value': 'http://dx.doi.org/10.1007/s12237-023-01313-8'}],\n",
       "  'title': 'Responses of Coastal Wetlands to Rising Sea-Level Revisited: The Importance of Organic Production',\n",
       "  'publication_name': 'Estuaries and Coasts',\n",
       "  'doi': '10.1007/s12237-023-01313-8',\n",
       "  'publication_date': '2024-11-01',\n",
       "  'starting_page': '1735',\n",
       "  'ending_page': '1749',\n",
       "  'open_access': 'true',\n",
       "  'abstract': {'h1': 'Abstract',\n",
       "   'p': 'A network of 15 Surface Elevation Tables (SETs) at North Inlet estuary, South Carolina, has been monitored on annual or monthly time scales beginning from 1990 to 1996 and continuing through 2022. Of 73 time series in control plots, 12 had elevation gains equal to or exceeding the local rate of sea-level rise (SLR, 0.34\\xa0cm/year). Rising marsh elevation in North Inlet is dominated by organic production and, we hypothesize, is proportional to net ecosystem production. The rate of elevation gain was 0.47\\xa0cm/year in plots experimentally fertilized for 10\\xa0years with N&P compared to nearby control plots that have gained 0.1\\xa0cm/year in 26\\xa0years. The excess gains and losses of elevation in fertilized plots were accounted for by changes in belowground biomass and turnover. This is supported by bioassay experiments in marsh organs where at age 2 the belowground biomass of fertilized S. alterniflora plants was increasing by 1,994\\xa0g\\xa0m^−2\\xa0year^−1, which added a growth premium of 2.4\\xa0cm/year to elevation gain. This was contrasted with the net belowground growth of 746\\xa0g\\xa0m^−2\\xa0year^−1 in controls, which can add 0.89\\xa0cm/year to elevation. Root biomass density was greater in the fertilized bioassay treatments than in controls, plateauing at about 1,374\\xa0g\\xa0m^−2 and 472\\xa0g\\xa0m^−2, respectively. Growth of belowground biomass was dominated by rhizomes, which grew to 3,648\\xa0g\\xa0m^−2 in the fertilized treatments after 3\\xa0years and 1,439\\xa0g\\xa0m^−2 in the control treatments after 5\\xa0years. Depositional wetlands are limited by an exogenous supply of mineral sediment, whereas marshes like North Inlet could be classified as autonomous because they depend on in situ organic production to maintain elevation. Autonomous wetlands are more vulnerable to SLR because their elevation gains are constrained ultimately by photosynthetic efficiency.'}},\n",
       " 'content': [{'section': 'Introduction',\n",
       "   'body': 'Accelerating relative sea-level rise (RSLR) threatens coastal wetlands globally, and their survival depends on the ability of wetlands to build soil vertically and maintain their elevation in the tidal frame. Studies using the Surface Elevation Table–Marker Horizon (SET-MH) method are advancing our understanding of the processes contributing to the sustainability of coastal wetland elevation in the face of rising sea levels, and their management implications, resulting in an approach that allows for comprehensive and systematic monitoring of wetland elevation change over a wide range of coastal environments globally. Collectively, the 27 articles in this special issue present an examination of current advances at quantifying and understanding subsurface process influences on wetland elevation change and wetland responses to sea-level rise, drawing on research presentations from two special sessions at the Coastal and Estuarine Research Federation (CERF) 2021 conference plus additional recent research describing scientific insights gained from the SET-MH method. These insights include information from research on the five thematic topics presented below. This special issue should be of great value to everyone interested in the latest advances in coastal wetland elevation dynamics using the SET-MH technique.A 30-year retrospective on the scientific insights gained on the surface and shallow subsurface processes influencing wetland elevation dynamics using the SET-MH method, including fundamental revelations about tidal wetland elevation dynamics.The development and evolution of the SET-MH technique has led to the recognition that coastal wetland soil elevation dynamics are driven by complex interactions among surface and subsurface processes (Cahoon Investigations of the subsurface soil process influences on wetland elevation\\xa0(e.g., Maher and Starke Essential plant nutrients like nitrogen (N) and phosphorus (P) are often in limited supply in tidal wetlands, thereby restricting plant growth and soil organic matter accumulation influences on elevation gain. Nutrient enrichment in oligotrophic wetlands from sediment addition, nutrient pollution, or fertilization can lead to increased plant growth, soil organic matter accumulation, and wetland elevation gain (see\\xa0Table\\xa03 in Cahoon How the scientific community applies the SET–MH method to quantify and understand wetland responses to RSLR and other environmental drivers such as altered hydrology and sediment supply, changes in plant production, and management and restoration actions through statistical analyses of changes in surface elevation, and how the information gained can be used to inform management decisions.Wetland elevation trend responses to RSLR are shown to vary by lateral position within the estuary for salt marshes (e.g., riverine, bayside, and barrier island settings; Steinmuller et al. How SET-MH data are used in long-term monitoring networks at different geographic scales where the distance among network sites ranges from local (i.e., 10\\xa0s of kilometers) to regional (i.e., 100\\xa0s of kilometers) to national (i.e., 1000\\xa0s of kilometers), and what complementary datasets will enhance comparisons to environmental drivers such as RSLR.Local networks are used to assess environmental gradients in a coastal sound or bay, such as distance from a sediment source (e.g., ocean inlet (Roman et al. Multidecadal datasets from regional networks in the USA covering multiple sounds and bays in California (Thorne et al. A national network of 289 SET-MH stations spanning a range of tidal wetland types across mainland Australian coastal states and territories (Saintilan et al. Pairing the SET-MH method with survey techniques to increase lateral coverage of wetland elevation trends and with geodetic techniques to increase vertical coverage of vertical land motion, including both shallow and deep subsidence, thereby improving our understanding of coastal wetland elevation dynamics and responses to RSLR.An individual rod SET station measures elevation across an approximate 1.5 mWhen comparing a SET wetland elevation trend to a nearby tide gauge RSLR trend, the underlying assumption is that deep subsidence rates are the same beneath both the wetland and the tide station (Cahoon '},\n",
       "  {'section': 'Topic 1',\n",
       "   'body': 'A 30-year retrospective on the scientific insights gained on the surface and shallow subsurface processes influencing wetland elevation dynamics using the SET-MH method, including fundamental revelations about tidal wetland elevation dynamics.The development and evolution of the SET-MH technique has led to the recognition that coastal wetland soil elevation dynamics are driven by complex interactions among surface and subsurface processes (Cahoon '},\n",
       "  {'section': 'Topic 2',\n",
       "   'body': 'Investigations of the subsurface soil process influences on wetland elevation\\xa0(e.g., Maher and Starke Essential plant nutrients like nitrogen (N) and phosphorus (P) are often in limited supply in tidal wetlands, thereby restricting plant growth and soil organic matter accumulation influences on elevation gain. Nutrient enrichment in oligotrophic wetlands from sediment addition, nutrient pollution, or fertilization can lead to increased plant growth, soil organic matter accumulation, and wetland elevation gain (see\\xa0Table\\xa03 in Cahoon '},\n",
       "  {'section': 'Topic 3',\n",
       "   'body': 'How the scientific community applies the SET–MH method to quantify and understand wetland responses to RSLR and other environmental drivers such as altered hydrology and sediment supply, changes in plant production, and management and restoration actions through statistical analyses of changes in surface elevation, and how the information gained can be used to inform management decisions.Wetland elevation trend responses to RSLR are shown to vary by lateral position within the estuary for salt marshes (e.g., riverine, bayside, and barrier island settings; Steinmuller et al. '},\n",
       "  {'section': 'Topic 4',\n",
       "   'body': 'How SET-MH data are used in long-term monitoring networks at different geographic scales where the distance among network sites ranges from local (i.e., 10\\xa0s of kilometers) to regional (i.e., 100\\xa0s of kilometers) to national (i.e., 1000\\xa0s of kilometers), and what complementary datasets will enhance comparisons to environmental drivers such as RSLR.Local networks are used to assess environmental gradients in a coastal sound or bay, such as distance from a sediment source (e.g., ocean inlet (Roman et al. Multidecadal datasets from regional networks in the USA covering multiple sounds and bays in California (Thorne et al. A national network of 289 SET-MH stations spanning a range of tidal wetland types across mainland Australian coastal states and territories (Saintilan et al. '},\n",
       "  {'section': 'Local',\n",
       "   'body': 'Local networks are used to assess environmental gradients in a coastal sound or bay, such as distance from a sediment source (e.g., ocean inlet (Roman et al. '},\n",
       "  {'section': 'Regional',\n",
       "   'body': 'Multidecadal datasets from regional networks in the USA covering multiple sounds and bays in California (Thorne et al. '},\n",
       "  {'section': 'National',\n",
       "   'body': 'A national network of 289 SET-MH stations spanning a range of tidal wetland types across mainland Australian coastal states and territories (Saintilan et al. '},\n",
       "  {'section': 'Topic 5',\n",
       "   'body': 'Pairing the SET-MH method with survey techniques to increase lateral coverage of wetland elevation trends and with geodetic techniques to increase vertical coverage of vertical land motion, including both shallow and deep subsidence, thereby improving our understanding of coastal wetland elevation dynamics and responses to RSLR.An individual rod SET station measures elevation across an approximate 1.5 mWhen comparing a SET wetland elevation trend to a nearby tide gauge RSLR trend, the underlying assumption is that deep subsidence rates are the same beneath both the wetland and the tide station (Cahoon '},\n",
       "  {'section': 'Lateral Coverage',\n",
       "   'body': 'An individual rod SET station measures elevation across an approximate 1.5 m'},\n",
       "  {'section': 'Vertical Coverage',\n",
       "   'body': 'When comparing a SET wetland elevation trend to a nearby tide gauge RSLR trend, the underlying assumption is that deep subsidence rates are the same beneath both the wetland and the tide station (Cahoon '},\n",
       "  {'section': 'Disclaimer',\n",
       "   'body': 'Any use of trade, firm, or product names is for descriptive purposes only and does not imply endorsement by the U.S. Government.\\n'}]}"
      ]
     },
     "execution_count": 8,
     "metadata": {},
     "output_type": "execute_result"
    }
   ],
   "source": [
    "data[0]"
   ]
  },
  {
   "cell_type": "markdown",
   "metadata": {},
   "source": [
    "Let's explore a sample."
   ]
  },
  {
   "cell_type": "code",
   "execution_count": 9,
   "metadata": {
    "vscode": {
     "languageId": "shellscript"
    }
   },
   "outputs": [],
   "source": [
    "sample_pdf = data[1]\n",
    "sample_text = sample_pdf['content']\n",
    "sample_meta_data = sample_pdf['meta_data']"
   ]
  },
  {
   "cell_type": "code",
   "execution_count": 10,
   "metadata": {
    "vscode": {
     "languageId": "shellscript"
    }
   },
   "outputs": [
    {
     "data": {
      "text/plain": [
       "{'content_type': 'Article',\n",
       " 'url': [{'format': '',\n",
       "   'platform': '',\n",
       "   'value': 'http://dx.doi.org/10.1007/s00217-024-04565-1'}],\n",
       " 'title': 'Valorization of plant proteins for meat analogues design—a comprehensive review',\n",
       " 'publication_name': 'European Food Research and Technology',\n",
       " 'doi': '10.1007/s00217-024-04565-1',\n",
       " 'publication_date': '2024-10-01',\n",
       " 'starting_page': '2479',\n",
       " 'ending_page': '2513',\n",
       " 'open_access': 'true',\n",
       " 'abstract': {'h1': 'Abstract',\n",
       "  'p': 'Animal proteins from meat and its stuffs have recently been one of main concerns in the drive for sustainable food production. This viewpoint suggests that there are exciting prospects to reformulate meat products that are produced more sustainably and may also have health benefits by substituting high-protein nonmeat ingredients for some of the meat. Considering these pre-existing conditions, this review critically reviews recent data on extenders from several sources, including pulses, plant-based components, plant byproducts, and unconventional sources. We used the related keywords from Scopus-database without limiting the publishing date. With an emphasis on how these findings may impact the sustainability of meat products, it sees them as a great chance to enhance the functional quality and technological profile of meat. Therefore, to promote sustainability, meat alternatives such as plant-based meat equivalents are being made available. To boost consumer acceptability of these goods, further initiatives should also be developed to enhance the functioning of these innovative food items and increase public knowledge of plant-based meat analogues.'}}"
      ]
     },
     "execution_count": 10,
     "metadata": {},
     "output_type": "execute_result"
    }
   ],
   "source": [
    "sample_meta_data"
   ]
  },
  {
   "cell_type": "code",
   "execution_count": 11,
   "metadata": {
    "vscode": {
     "languageId": "shellscript"
    }
   },
   "outputs": [
    {
     "data": {
      "text/plain": [
       "[{'section': 'Introduction',\n",
       "  'body': \"Meat is recognized as a very popular food item worldwide and it is well known as an excellent quality protein source with other nutritional characteristics along with its appealing taste. With the growing rate of the planet's population, the need for food security is rising as well, and to feed this growing population a greater amount of good quality food having proper protein, fat, and other nutrition is required. Meanwhile, increased environmental footprint awareness plays a significant role in meat analogues supply for the sustainable and transparent food security of the planet. Animal is the solitary bioresource of meat protein and with rapid population growth, the need for meat protein is also increasing. Various data show that the demand will be magnified near to twice by 2050 [Changes in the different meat prices as per FAO meat price index. (Data Source: OECD-FAO Agricultural Outlook 2022–2031)Meat Greenhouse gas emissions intensity per regionThis paper collects and synthetizes the available research on plant-based meat analogues. The Scopus database was used to retrieve the data. The Scopus database was searched for data in January 2023 using the following keywords: (plant proteins) AND (meat analogues OR meat alternatives OR meat formulation OR ingredients OR functionalities). The PRISMA guidelines (The bibliometric analysis of plant protein-based meat analogues\"},\n",
       " {'section': 'Meat analogues',\n",
       "  'body': \"Figures\\xa0Graphical representation of different ingredients used in PBMA preparationDifferent ingredients and their functions used in PBMA-formulationProteins are made up of amino acids that are critical for human health and are mostly used in food processing to create a variety of nutritious diets [Classification of different types of protein used in the preparation of plant-based meat analoguesSoybeans are rich in protein and contain water-soluble and insoluble proteins. Based on the dry weight of mature raw seeds, soybeans have\\u2009~\\u20098.5–13% moisture,\\u2009~\\u200933–40% protein,\\u2009~\\u20093–4% ash,\\u2009~\\u200918–20% fats, and\\u2009~\\u20099–12% fibers [Amount of protein and essential amino acids in various plant and animal protein sources (g/100\\xa0g)Protein/ Essential amino acidsRDAEgg (Dried) BeefMilk (Dried)Soy isolateSoy concentrateDefatted soy flourWheat flourPea seedsLupine seedsSunflower seed kernelsProtein–48.0521.9126.3283.363.6337.09.6123.1236.1720.78Histidine7001.2020.6990.7142.3031.5781.2681.40.5861.030.632Isoleucine14002.4340.9971.5924.2532.9422.2812.00.9831.6151.139Leucine27304.151.7432.5786.7834.9173.8285.01.682.7431.659Lysine2.1003.3391.8522.0875.3273.9293.1291.11.7711.9330.937Methionine1050 *1.4950.5710.661.130.8140.6340.70.1950.2550.494Phenylalanine1750 *2.530.8651.2714.5933.2782.4533.71.1511.4351.169Tryptophan2800.7750.1440.3711.1160.8350.683NM0.1590.2890.348Threonine10502.1290.8751.1883.1372.4742.0421.80.8131.3310.928Valine18202.9911.0871.7624.0983.0642.3462.31.0351.511.315References[[[[[[[[[[[An overview of the functional quality as well as the application potential of different soy ingredientsProtein ingredientsComposition (%w/w)FunctionalityApplication in meat analoguesSoy isolate (alkaline/acid precipitation treatment)\\u2009~\\u200990% proteinGood solubility, gelling, and emulsificationStructuring process: Extrusion, shear cell, spinning, freeze structuring Role: Protein source, texture, binder, the base for fat substitutes, emulsifier Products: Burger patties, minced meat, sausagesSoy isolate (additional heat treatment/ toasted isolate)\\u2009~\\u200990% protein, denatured due to heat treatmentDecreased solubility, increased water holding capacity, good gellingStructuring process: Extrusion, shear cell Role: Protein source, texture, binder, the base for fat substitutes Products: Burger patties, minced meat, sausagesSoy concentrate\\u2009~\\u200970% proteinGood texturization propertiesProcess: Extrusion, Shear cell Role: Protein source, texture, binder Products: Burger patties, minced meat, sausages, muscle-type productsSoy milk (spray-dried powder)\\u2009>\\u200945% protein,\\u2009~\\u200930% fatHigh solubility, good emulsification propertiesProcess: Freeze structuring Role: Emulsifier, texture Products: Tofu and yuba productionSoy flour/meal (defatted)\\u2009~\\u200943–56% protein,\\u2009~\\u20090.5–9% fat,\\u2009~\\u20093–7% crude fiber,\\u2009>\\u200930% total carbohydrateWater binding capacity and fat retention, native proteinProcess: Extrusion Role: Texture, Binder Products: Burger patties, minced meat, sausages, muscle-type productsWheat Gluten isolate75–80% protein, 15–17% carbohydrates, 5–8% fatBinding, Dough forming/ Cross-linking capacity via S–S bridges, low solubilityStructuring process: Extrusion, shear cell Role: Adhesion, texture Products: Burger patties, muscle-type productsPea isolate\\u2009~\\u200985% proteinWater and fat binding, emulsification, and firm texture after thermal processingProcess: Extrusion, shear cell, spinning Role: Emulsifier, texture, Binder Products: Burger patties, minced meat, sausages, muscle-type productsWheat gluten is a significant component of many analogues. Because it is a by-product of the creation of colossal wheat starch, its price is appealing to the industry. In contrast to soy, the insoluble protein is left behind after the soluble and dispersible components of wheat are only removed by washing them with water [Gliadin (prolamin) is soluble in alcohol, whereas glutenin (glutelin) is soluble in diluted acid [Globally, 27% of the beans and pulses in the Additionally, the proteins of lupine, lentils, faba beans, mung beans, and chickpeas are capable of foam and emulsion stabilization [Oilseeds like rapeseed, canola, or sunflower recently have become cynosure along with soy and legumes. However, most seed isolates and concentrates are still not profitably accessible. These impart capabilities for substituting for soy in formulations of plant-based foods. The proteins extracted from by-products of the oil industry make their economic valorization very appealing. The existence of anti-nutritional parameters or polyphenols, which have the potential to interact with proteins and prevent their use in human nutrition, has led to limitations are currently dealt with extraction protocols and fermentation processes [Pseudo-cereals like quinoa seeds have gained popularity as a source of protein as well. Whole seeds and flour, which are less refined quinoa ingredients, were utilized as meat extenders in nuggets in meat products, gelling in mortadella, and fat replacers in burgers [The chia and pumpkin seed proteins are still being studied, so the emphasis is on protein purification (via alkaline pretreatment and dry separation) and the functionality that outcomes [Protein extraction from various plant sourcesProtein sourceExtraction methodProtein content recovered (PC)/Yield (Y) from the conventional methodReferencesSoybean meal (SBM) rapeseed meal (RSM), microalgae meal (MAM)Endoprotease enzyme (Protex 40XL, Protex P, Protex 5L and Protex 26L, Protex 50FE), Incubation—24\\xa0h at 40 ◦C, pH-12, protein concentration-5%SBM-Y-80% RSM and MAM-Y-15–30%[SoybeanAOT concentration-0.06\\xa0g/ ml, KCL concentration-0.05\\xa0g/ml, pH-8.5, time-30\\xa0min, temperature—40 ◦C11S globulin-PC-83.75%[Soybean MilkMW power-675 W, temperature—80 ◦C, stirring-160\\xa0rpmY-3.86\\xa0kg soybean milk/kg of soybean, PC-13.11%[Soybean protein isolatesPEF strength 30\\xa0kV/cm, treatment time 288\\xa0μs–[Defatted wheat germ (DWG)Forward extraction: AOT concentration—0.06\\xa0g/ml, KCl concentration—0.1\\xa0mol/L, Time—30\\xa0min, T-36 ◦C, pH-8, W0 25Y-2.92%[Sunflower2\\xa0M NaCl (Mild acidic extraction) at pH 6 for 60\\xa0min, room temperature23–26% protein recovery with light colored[Sunflower mealPower density-220 W/L, temperature—45 ◦C, time-15\\xa0min, Sample: solvent ratio-0.5/10 (w/v), pH-8Y-54.26%, PC—934.92\\xa0g/kg[FlaxseedEnzymatic solvent extraction, pH-5, enzyme concentration—2%, temperature—37 ◦C, time—4\\xa0hPC-51.05%[Quinoa protein isolates (QPI)5% w/w QPI suspension, Temperature—33 ◦C, 5 passes, pH-7, 0–50\\xa0MPa–[Mungbean0.1 N KOH, pH 9.1, 40\\xa0°C77.32% protein yield with better functional properties[Pea flourIncreasing pH to 9 (1\\xa0M NaOH) Temp 22◦C (room temperature) Centrifuged at 8000\\xa0rpm for 15\\xa0min Isoelectric Precipitation at pH 4.5 (1\\xa0M HCl) Centrifuged at 8000\\xa0rpm for 15\\xa0min at 4◦C, Neutralization by adding 1\\xa0M NaOH88.83%[Chickpea (Desi)Neutralization at pH 7 (2 N NaOH) Chickpea (Desi) Dehulled Ground Defatted Suspension in water 1:10 (76.5%[Lentil (Red)Suspension in water 1:15 (78.8%[Schematic diagram of enzyme-assisted protein extraction and protein water extractionCereal protein includes various types of protein obtained from rice, wheat, oats, barley, etc. Cereal grain has more protein than legumes but less than soy protein. Among all the cereal proteins, wheat gluten is extensively used due to its low cost and excellent viscoelastic properties which makes it suitable to bind flavour, color, and other ingredients that result in the making of excellent meat analogues [Besides all the above-discussed proteins, several other types of proteins are there such as—corn zein protein, peanuts, potato proteins, pumpkin, etc. can be used in the development of PBMA. Several research studies have already performed such as peanut flour being used in replace of soya flour, potato protein, and corn zein are blended to develop meat mimics the gel-like structure, but no clear results have been obtained till now [The bottom-up design of proteins needed to develop meat analoguesLipids have important functions in terms of providing the meat with juiciness, flavour release, and tenderness in the PBMA. Generally, meat analogues are developed from defatted protein sources that result in lesser fat content in the meat analogues. Therefore to increase the fat content minimally fractionated soy that contains higher fat is used in the manufacturing of fibrous structures like meat analogues [In meat analogues, different flavour generation components and their critical interaction during processing have a crucial role in mimicking specific meat-like tastes and flavors. Meat analogue's taste and flavour predominate its acceptance as a meat alternative to the consumer. Uses of different spices, seasonings, herbs, sugars, salts, and savoury aromas, and their binding capacity to the plant proteins through the extrusion process are directly responsible for meat-like flavour generation [In the consumer's opinion, color is the most important parameter to create a visual appeal for meat analogues in their mind. Each meat has some specific color that changes through different processes such as cooking and smoking. Similarly, meat analogues should have meat mimic color and color change characteristics during processing. Several heat colorings agents such as malt or annatto, turmin, leghemoglobin, erythrosine, cumin, caramel colors, carotene, canthaxanthin, and lycopene have been used to incorporate the meat color and color change characteristics in the meat analogues [Meat analogues are made by combining a variety of ingredients through different texturizing techniques. For optimum binding of all the necessary ingredients (flavor, color, stabilizers, emulsifier, thickeners) several binding and texturing agents such as different natural gums (xanthan gum, guar gum, locust bean gum), carrageenan, hydrocolloids (methylcellulose, hydroxypropyl methylcellulose), wheat gluten, soy protein concentrate, casein are used [In meat analogues, water is a multi-functional ingredient, primarily from providing a hydration effect to the critical conformational change in protein water plays a crucial part in the designing of PBMA. In the extrusion process, high moisture content promotes greater hydrophobic interaction and the creation of disulfide bonds, and H-bonds [Nowadays PBMA is gaining attention worldwide. Several studies reported different formulation compositions (Table\\xa0Different types of plant-based meat analogues formulation composition and their key findingsFormulation compositionsKey findingsReferencesSPC: WG (with ratio 89:0, 79:10, 69:20)\\u2009+\\u20095% vegetable oil\\u2009+\\u20093% pumpkin Powder\\u2009+\\u20092.7% wheat starch\\u2009+\\u20090.3% salt Protein concentrate\\u2009=\\u200959.30%30% Wheat gluten showed optimum hardness, chewiness, and fibrous texture formation of the meat analogues[SPI: WG (3.3:1)\\u2009+\\u20091% NaCl Protein concentrate\\u2009=\\u200930%30\\xa0mm thick highly fibrous structure meat analogues formed[Pectin: SPI (Ratio of varied in 1.3%–4.0%)\\u2009+\\u20091%NaCl Protein concentrate\\u2009=\\u200944%Fibrous elongated filament-like texture formed[SPI: WG (80:20\\u2009−\\u200920:80)\\u2009+\\u20091%NaCl Protein concentration\\u2009=\\u200925%–40%More water absorption makes it suitable for sausage-like meat analogues[WG: SPI blend (40:60, 60:40, 80:20, and100:0)\\u2009+\\u2009soybean oil (2%)\\u2009+\\u2009wheat starch (1%)\\u2009+\\u2009seasoning (1%) Protein concentration\\u2009=\\u200940%A mechanical elongation technique was used to mechanically compress ultrathin filaments into a striated structure[SPC\\u2009+\\u20090.75%, 1.5%, 2.25% and 3% iota—carrageenanThe addition of carrageenan shows promising improvement in the texture of meat analogues[FBPC Protein concentration\\u2009=\\u200963.5% proteinMeat analogues with good firmness, elasticity, and fibrousness were produced[Aqueous fractionated soy protein fractions Protein concentration\\u2009=\\u200968 and 75%Fibrous structure meat analogues are formed with an increase in water-holding capacity and viscoelastic characteristics[PPI and WGCombinations of pea protein and gluten have the potential to produce structured plant protein-based meat analogues[The key steps of formulating and processing plant-based meat analogues using different processing techniques\"},\n",
       " {'section': 'Potential ingredients for meat analogues',\n",
       "  'body': \"Figures\\xa0Graphical representation of different ingredients used in PBMA preparationDifferent ingredients and their functions used in PBMA-formulationProteins are made up of amino acids that are critical for human health and are mostly used in food processing to create a variety of nutritious diets [Classification of different types of protein used in the preparation of plant-based meat analoguesSoybeans are rich in protein and contain water-soluble and insoluble proteins. Based on the dry weight of mature raw seeds, soybeans have\\u2009~\\u20098.5–13% moisture,\\u2009~\\u200933–40% protein,\\u2009~\\u20093–4% ash,\\u2009~\\u200918–20% fats, and\\u2009~\\u20099–12% fibers [Amount of protein and essential amino acids in various plant and animal protein sources (g/100\\xa0g)Protein/ Essential amino acidsRDAEgg (Dried) BeefMilk (Dried)Soy isolateSoy concentrateDefatted soy flourWheat flourPea seedsLupine seedsSunflower seed kernelsProtein–48.0521.9126.3283.363.6337.09.6123.1236.1720.78Histidine7001.2020.6990.7142.3031.5781.2681.40.5861.030.632Isoleucine14002.4340.9971.5924.2532.9422.2812.00.9831.6151.139Leucine27304.151.7432.5786.7834.9173.8285.01.682.7431.659Lysine2.1003.3391.8522.0875.3273.9293.1291.11.7711.9330.937Methionine1050 *1.4950.5710.661.130.8140.6340.70.1950.2550.494Phenylalanine1750 *2.530.8651.2714.5933.2782.4533.71.1511.4351.169Tryptophan2800.7750.1440.3711.1160.8350.683NM0.1590.2890.348Threonine10502.1290.8751.1883.1372.4742.0421.80.8131.3310.928Valine18202.9911.0871.7624.0983.0642.3462.31.0351.511.315References[[[[[[[[[[[An overview of the functional quality as well as the application potential of different soy ingredientsProtein ingredientsComposition (%w/w)FunctionalityApplication in meat analoguesSoy isolate (alkaline/acid precipitation treatment)\\u2009~\\u200990% proteinGood solubility, gelling, and emulsificationStructuring process: Extrusion, shear cell, spinning, freeze structuring Role: Protein source, texture, binder, the base for fat substitutes, emulsifier Products: Burger patties, minced meat, sausagesSoy isolate (additional heat treatment/ toasted isolate)\\u2009~\\u200990% protein, denatured due to heat treatmentDecreased solubility, increased water holding capacity, good gellingStructuring process: Extrusion, shear cell Role: Protein source, texture, binder, the base for fat substitutes Products: Burger patties, minced meat, sausagesSoy concentrate\\u2009~\\u200970% proteinGood texturization propertiesProcess: Extrusion, Shear cell Role: Protein source, texture, binder Products: Burger patties, minced meat, sausages, muscle-type productsSoy milk (spray-dried powder)\\u2009>\\u200945% protein,\\u2009~\\u200930% fatHigh solubility, good emulsification propertiesProcess: Freeze structuring Role: Emulsifier, texture Products: Tofu and yuba productionSoy flour/meal (defatted)\\u2009~\\u200943–56% protein,\\u2009~\\u20090.5–9% fat,\\u2009~\\u20093–7% crude fiber,\\u2009>\\u200930% total carbohydrateWater binding capacity and fat retention, native proteinProcess: Extrusion Role: Texture, Binder Products: Burger patties, minced meat, sausages, muscle-type productsWheat Gluten isolate75–80% protein, 15–17% carbohydrates, 5–8% fatBinding, Dough forming/ Cross-linking capacity via S–S bridges, low solubilityStructuring process: Extrusion, shear cell Role: Adhesion, texture Products: Burger patties, muscle-type productsPea isolate\\u2009~\\u200985% proteinWater and fat binding, emulsification, and firm texture after thermal processingProcess: Extrusion, shear cell, spinning Role: Emulsifier, texture, Binder Products: Burger patties, minced meat, sausages, muscle-type productsWheat gluten is a significant component of many analogues. Because it is a by-product of the creation of colossal wheat starch, its price is appealing to the industry. In contrast to soy, the insoluble protein is left behind after the soluble and dispersible components of wheat are only removed by washing them with water [Gliadin (prolamin) is soluble in alcohol, whereas glutenin (glutelin) is soluble in diluted acid [Globally, 27% of the beans and pulses in the Additionally, the proteins of lupine, lentils, faba beans, mung beans, and chickpeas are capable of foam and emulsion stabilization [Oilseeds like rapeseed, canola, or sunflower recently have become cynosure along with soy and legumes. However, most seed isolates and concentrates are still not profitably accessible. These impart capabilities for substituting for soy in formulations of plant-based foods. The proteins extracted from by-products of the oil industry make their economic valorization very appealing. The existence of anti-nutritional parameters or polyphenols, which have the potential to interact with proteins and prevent their use in human nutrition, has led to limitations are currently dealt with extraction protocols and fermentation processes [Pseudo-cereals like quinoa seeds have gained popularity as a source of protein as well. Whole seeds and flour, which are less refined quinoa ingredients, were utilized as meat extenders in nuggets in meat products, gelling in mortadella, and fat replacers in burgers [The chia and pumpkin seed proteins are still being studied, so the emphasis is on protein purification (via alkaline pretreatment and dry separation) and the functionality that outcomes [Protein extraction from various plant sourcesProtein sourceExtraction methodProtein content recovered (PC)/Yield (Y) from the conventional methodReferencesSoybean meal (SBM) rapeseed meal (RSM), microalgae meal (MAM)Endoprotease enzyme (Protex 40XL, Protex P, Protex 5L and Protex 26L, Protex 50FE), Incubation—24\\xa0h at 40 ◦C, pH-12, protein concentration-5%SBM-Y-80% RSM and MAM-Y-15–30%[SoybeanAOT concentration-0.06\\xa0g/ ml, KCL concentration-0.05\\xa0g/ml, pH-8.5, time-30\\xa0min, temperature—40 ◦C11S globulin-PC-83.75%[Soybean MilkMW power-675 W, temperature—80 ◦C, stirring-160\\xa0rpmY-3.86\\xa0kg soybean milk/kg of soybean, PC-13.11%[Soybean protein isolatesPEF strength 30\\xa0kV/cm, treatment time 288\\xa0μs–[Defatted wheat germ (DWG)Forward extraction: AOT concentration—0.06\\xa0g/ml, KCl concentration—0.1\\xa0mol/L, Time—30\\xa0min, T-36 ◦C, pH-8, W0 25Y-2.92%[Sunflower2\\xa0M NaCl (Mild acidic extraction) at pH 6 for 60\\xa0min, room temperature23–26% protein recovery with light colored[Sunflower mealPower density-220 W/L, temperature—45 ◦C, time-15\\xa0min, Sample: solvent ratio-0.5/10 (w/v), pH-8Y-54.26%, PC—934.92\\xa0g/kg[FlaxseedEnzymatic solvent extraction, pH-5, enzyme concentration—2%, temperature—37 ◦C, time—4\\xa0hPC-51.05%[Quinoa protein isolates (QPI)5% w/w QPI suspension, Temperature—33 ◦C, 5 passes, pH-7, 0–50\\xa0MPa–[Mungbean0.1 N KOH, pH 9.1, 40\\xa0°C77.32% protein yield with better functional properties[Pea flourIncreasing pH to 9 (1\\xa0M NaOH) Temp 22◦C (room temperature) Centrifuged at 8000\\xa0rpm for 15\\xa0min Isoelectric Precipitation at pH 4.5 (1\\xa0M HCl) Centrifuged at 8000\\xa0rpm for 15\\xa0min at 4◦C, Neutralization by adding 1\\xa0M NaOH88.83%[Chickpea (Desi)Neutralization at pH 7 (2 N NaOH) Chickpea (Desi) Dehulled Ground Defatted Suspension in water 1:10 (76.5%[Lentil (Red)Suspension in water 1:15 (78.8%[Schematic diagram of enzyme-assisted protein extraction and protein water extractionCereal protein includes various types of protein obtained from rice, wheat, oats, barley, etc. Cereal grain has more protein than legumes but less than soy protein. Among all the cereal proteins, wheat gluten is extensively used due to its low cost and excellent viscoelastic properties which makes it suitable to bind flavour, color, and other ingredients that result in the making of excellent meat analogues [Besides all the above-discussed proteins, several other types of proteins are there such as—corn zein protein, peanuts, potato proteins, pumpkin, etc. can be used in the development of PBMA. Several research studies have already performed such as peanut flour being used in replace of soya flour, potato protein, and corn zein are blended to develop meat mimics the gel-like structure, but no clear results have been obtained till now [The bottom-up design of proteins needed to develop meat analoguesLipids have important functions in terms of providing the meat with juiciness, flavour release, and tenderness in the PBMA. Generally, meat analogues are developed from defatted protein sources that result in lesser fat content in the meat analogues. Therefore to increase the fat content minimally fractionated soy that contains higher fat is used in the manufacturing of fibrous structures like meat analogues [In meat analogues, different flavour generation components and their critical interaction during processing have a crucial role in mimicking specific meat-like tastes and flavors. Meat analogue's taste and flavour predominate its acceptance as a meat alternative to the consumer. Uses of different spices, seasonings, herbs, sugars, salts, and savoury aromas, and their binding capacity to the plant proteins through the extrusion process are directly responsible for meat-like flavour generation [In the consumer's opinion, color is the most important parameter to create a visual appeal for meat analogues in their mind. Each meat has some specific color that changes through different processes such as cooking and smoking. Similarly, meat analogues should have meat mimic color and color change characteristics during processing. Several heat colorings agents such as malt or annatto, turmin, leghemoglobin, erythrosine, cumin, caramel colors, carotene, canthaxanthin, and lycopene have been used to incorporate the meat color and color change characteristics in the meat analogues [Meat analogues are made by combining a variety of ingredients through different texturizing techniques. For optimum binding of all the necessary ingredients (flavor, color, stabilizers, emulsifier, thickeners) several binding and texturing agents such as different natural gums (xanthan gum, guar gum, locust bean gum), carrageenan, hydrocolloids (methylcellulose, hydroxypropyl methylcellulose), wheat gluten, soy protein concentrate, casein are used [In meat analogues, water is a multi-functional ingredient, primarily from providing a hydration effect to the critical conformational change in protein water plays a crucial part in the designing of PBMA. In the extrusion process, high moisture content promotes greater hydrophobic interaction and the creation of disulfide bonds, and H-bonds [\"},\n",
       " {'section': 'Plant proteins as promising ingredients',\n",
       "  'body': 'Proteins are made up of amino acids that are critical for human health and are mostly used in food processing to create a variety of nutritious diets [Classification of different types of protein used in the preparation of plant-based meat analoguesSoybeans are rich in protein and contain water-soluble and insoluble proteins. Based on the dry weight of mature raw seeds, soybeans have\\u2009~\\u20098.5–13% moisture,\\u2009~\\u200933–40% protein,\\u2009~\\u20093–4% ash,\\u2009~\\u200918–20% fats, and\\u2009~\\u20099–12% fibers [Amount of protein and essential amino acids in various plant and animal protein sources (g/100\\xa0g)Protein/ Essential amino acidsRDAEgg (Dried) BeefMilk (Dried)Soy isolateSoy concentrateDefatted soy flourWheat flourPea seedsLupine seedsSunflower seed kernelsProtein–48.0521.9126.3283.363.6337.09.6123.1236.1720.78Histidine7001.2020.6990.7142.3031.5781.2681.40.5861.030.632Isoleucine14002.4340.9971.5924.2532.9422.2812.00.9831.6151.139Leucine27304.151.7432.5786.7834.9173.8285.01.682.7431.659Lysine2.1003.3391.8522.0875.3273.9293.1291.11.7711.9330.937Methionine1050 *1.4950.5710.661.130.8140.6340.70.1950.2550.494Phenylalanine1750 *2.530.8651.2714.5933.2782.4533.71.1511.4351.169Tryptophan2800.7750.1440.3711.1160.8350.683NM0.1590.2890.348Threonine10502.1290.8751.1883.1372.4742.0421.80.8131.3310.928Valine18202.9911.0871.7624.0983.0642.3462.31.0351.511.315References[[[[[[[[[[[An overview of the functional quality as well as the application potential of different soy ingredientsProtein ingredientsComposition (%w/w)FunctionalityApplication in meat analoguesSoy isolate (alkaline/acid precipitation treatment)\\u2009~\\u200990% proteinGood solubility, gelling, and emulsificationStructuring process: Extrusion, shear cell, spinning, freeze structuring Role: Protein source, texture, binder, the base for fat substitutes, emulsifier Products: Burger patties, minced meat, sausagesSoy isolate (additional heat treatment/ toasted isolate)\\u2009~\\u200990% protein, denatured due to heat treatmentDecreased solubility, increased water holding capacity, good gellingStructuring process: Extrusion, shear cell Role: Protein source, texture, binder, the base for fat substitutes Products: Burger patties, minced meat, sausagesSoy concentrate\\u2009~\\u200970% proteinGood texturization propertiesProcess: Extrusion, Shear cell Role: Protein source, texture, binder Products: Burger patties, minced meat, sausages, muscle-type productsSoy milk (spray-dried powder)\\u2009>\\u200945% protein,\\u2009~\\u200930% fatHigh solubility, good emulsification propertiesProcess: Freeze structuring Role: Emulsifier, texture Products: Tofu and yuba productionSoy flour/meal (defatted)\\u2009~\\u200943–56% protein,\\u2009~\\u20090.5–9% fat,\\u2009~\\u20093–7% crude fiber,\\u2009>\\u200930% total carbohydrateWater binding capacity and fat retention, native proteinProcess: Extrusion Role: Texture, Binder Products: Burger patties, minced meat, sausages, muscle-type productsWheat Gluten isolate75–80% protein, 15–17% carbohydrates, 5–8% fatBinding, Dough forming/ Cross-linking capacity via S–S bridges, low solubilityStructuring process: Extrusion, shear cell Role: Adhesion, texture Products: Burger patties, muscle-type productsPea isolate\\u2009~\\u200985% proteinWater and fat binding, emulsification, and firm texture after thermal processingProcess: Extrusion, shear cell, spinning Role: Emulsifier, texture, Binder Products: Burger patties, minced meat, sausages, muscle-type productsWheat gluten is a significant component of many analogues. Because it is a by-product of the creation of colossal wheat starch, its price is appealing to the industry. In contrast to soy, the insoluble protein is left behind after the soluble and dispersible components of wheat are only removed by washing them with water [Gliadin (prolamin) is soluble in alcohol, whereas glutenin (glutelin) is soluble in diluted acid [Globally, 27% of the beans and pulses in the Additionally, the proteins of lupine, lentils, faba beans, mung beans, and chickpeas are capable of foam and emulsion stabilization [Oilseeds like rapeseed, canola, or sunflower recently have become cynosure along with soy and legumes. However, most seed isolates and concentrates are still not profitably accessible. These impart capabilities for substituting for soy in formulations of plant-based foods. The proteins extracted from by-products of the oil industry make their economic valorization very appealing. The existence of anti-nutritional parameters or polyphenols, which have the potential to interact with proteins and prevent their use in human nutrition, has led to limitations are currently dealt with extraction protocols and fermentation processes [Pseudo-cereals like quinoa seeds have gained popularity as a source of protein as well. Whole seeds and flour, which are less refined quinoa ingredients, were utilized as meat extenders in nuggets in meat products, gelling in mortadella, and fat replacers in burgers [The chia and pumpkin seed proteins are still being studied, so the emphasis is on protein purification (via alkaline pretreatment and dry separation) and the functionality that outcomes [Protein extraction from various plant sourcesProtein sourceExtraction methodProtein content recovered (PC)/Yield (Y) from the conventional methodReferencesSoybean meal (SBM) rapeseed meal (RSM), microalgae meal (MAM)Endoprotease enzyme (Protex 40XL, Protex P, Protex 5L and Protex 26L, Protex 50FE), Incubation—24\\xa0h at 40 ◦C, pH-12, protein concentration-5%SBM-Y-80% RSM and MAM-Y-15–30%[SoybeanAOT concentration-0.06\\xa0g/ ml, KCL concentration-0.05\\xa0g/ml, pH-8.5, time-30\\xa0min, temperature—40 ◦C11S globulin-PC-83.75%[Soybean MilkMW power-675 W, temperature—80 ◦C, stirring-160\\xa0rpmY-3.86\\xa0kg soybean milk/kg of soybean, PC-13.11%[Soybean protein isolatesPEF strength 30\\xa0kV/cm, treatment time 288\\xa0μs–[Defatted wheat germ (DWG)Forward extraction: AOT concentration—0.06\\xa0g/ml, KCl concentration—0.1\\xa0mol/L, Time—30\\xa0min, T-36 ◦C, pH-8, W0 25Y-2.92%[Sunflower2\\xa0M NaCl (Mild acidic extraction) at pH 6 for 60\\xa0min, room temperature23–26% protein recovery with light colored[Sunflower mealPower density-220 W/L, temperature—45 ◦C, time-15\\xa0min, Sample: solvent ratio-0.5/10 (w/v), pH-8Y-54.26%, PC—934.92\\xa0g/kg[FlaxseedEnzymatic solvent extraction, pH-5, enzyme concentration—2%, temperature—37 ◦C, time—4\\xa0hPC-51.05%[Quinoa protein isolates (QPI)5% w/w QPI suspension, Temperature—33 ◦C, 5 passes, pH-7, 0–50\\xa0MPa–[Mungbean0.1 N KOH, pH 9.1, 40\\xa0°C77.32% protein yield with better functional properties[Pea flourIncreasing pH to 9 (1\\xa0M NaOH) Temp 22◦C (room temperature) Centrifuged at 8000\\xa0rpm for 15\\xa0min Isoelectric Precipitation at pH 4.5 (1\\xa0M HCl) Centrifuged at 8000\\xa0rpm for 15\\xa0min at 4◦C, Neutralization by adding 1\\xa0M NaOH88.83%[Chickpea (Desi)Neutralization at pH 7 (2 N NaOH) Chickpea (Desi) Dehulled Ground Defatted Suspension in water 1:10 (76.5%[Lentil (Red)Suspension in water 1:15 (78.8%[Schematic diagram of enzyme-assisted protein extraction and protein water extractionCereal protein includes various types of protein obtained from rice, wheat, oats, barley, etc. Cereal grain has more protein than legumes but less than soy protein. Among all the cereal proteins, wheat gluten is extensively used due to its low cost and excellent viscoelastic properties which makes it suitable to bind flavour, color, and other ingredients that result in the making of excellent meat analogues [Besides all the above-discussed proteins, several other types of proteins are there such as—corn zein protein, peanuts, potato proteins, pumpkin, etc. can be used in the development of PBMA. Several research studies have already performed such as peanut flour being used in replace of soya flour, potato protein, and corn zein are blended to develop meat mimics the gel-like structure, but no clear results have been obtained till now [The bottom-up design of proteins needed to develop meat analogues'},\n",
       " {'section': 'Usage of soy protein for meat analogues',\n",
       "  'body': 'Soybeans are rich in protein and contain water-soluble and insoluble proteins. Based on the dry weight of mature raw seeds, soybeans have\\u2009~\\u20098.5–13% moisture,\\u2009~\\u200933–40% protein,\\u2009~\\u20093–4% ash,\\u2009~\\u200918–20% fats, and\\u2009~\\u20099–12% fibers [Amount of protein and essential amino acids in various plant and animal protein sources (g/100\\xa0g)Protein/ Essential amino acidsRDAEgg (Dried) BeefMilk (Dried)Soy isolateSoy concentrateDefatted soy flourWheat flourPea seedsLupine seedsSunflower seed kernelsProtein–48.0521.9126.3283.363.6337.09.6123.1236.1720.78Histidine7001.2020.6990.7142.3031.5781.2681.40.5861.030.632Isoleucine14002.4340.9971.5924.2532.9422.2812.00.9831.6151.139Leucine27304.151.7432.5786.7834.9173.8285.01.682.7431.659Lysine2.1003.3391.8522.0875.3273.9293.1291.11.7711.9330.937Methionine1050 *1.4950.5710.661.130.8140.6340.70.1950.2550.494Phenylalanine1750 *2.530.8651.2714.5933.2782.4533.71.1511.4351.169Tryptophan2800.7750.1440.3711.1160.8350.683NM0.1590.2890.348Threonine10502.1290.8751.1883.1372.4742.0421.80.8131.3310.928Valine18202.9911.0871.7624.0983.0642.3462.31.0351.511.315References[[[[[[[[[[[An overview of the functional quality as well as the application potential of different soy ingredientsProtein ingredientsComposition (%w/w)FunctionalityApplication in meat analoguesSoy isolate (alkaline/acid precipitation treatment)\\u2009~\\u200990% proteinGood solubility, gelling, and emulsificationStructuring process: Extrusion, shear cell, spinning, freeze structuring Role: Protein source, texture, binder, the base for fat substitutes, emulsifier Products: Burger patties, minced meat, sausagesSoy isolate (additional heat treatment/ toasted isolate)\\u2009~\\u200990% protein, denatured due to heat treatmentDecreased solubility, increased water holding capacity, good gellingStructuring process: Extrusion, shear cell Role: Protein source, texture, binder, the base for fat substitutes Products: Burger patties, minced meat, sausagesSoy concentrate\\u2009~\\u200970% proteinGood texturization propertiesProcess: Extrusion, Shear cell Role: Protein source, texture, binder Products: Burger patties, minced meat, sausages, muscle-type productsSoy milk (spray-dried powder)\\u2009>\\u200945% protein,\\u2009~\\u200930% fatHigh solubility, good emulsification propertiesProcess: Freeze structuring Role: Emulsifier, texture Products: Tofu and yuba productionSoy flour/meal (defatted)\\u2009~\\u200943–56% protein,\\u2009~\\u20090.5–9% fat,\\u2009~\\u20093–7% crude fiber,\\u2009>\\u200930% total carbohydrateWater binding capacity and fat retention, native proteinProcess: Extrusion Role: Texture, Binder Products: Burger patties, minced meat, sausages, muscle-type productsWheat Gluten isolate75–80% protein, 15–17% carbohydrates, 5–8% fatBinding, Dough forming/ Cross-linking capacity via S–S bridges, low solubilityStructuring process: Extrusion, shear cell Role: Adhesion, texture Products: Burger patties, muscle-type productsPea isolate\\u2009~\\u200985% proteinWater and fat binding, emulsification, and firm texture after thermal processingProcess: Extrusion, shear cell, spinning Role: Emulsifier, texture, Binder Products: Burger patties, minced meat, sausages, muscle-type products'}]"
      ]
     },
     "execution_count": 11,
     "metadata": {},
     "output_type": "execute_result"
    }
   ],
   "source": [
    "sample_text[0:5]"
   ]
  },
  {
   "cell_type": "markdown",
   "metadata": {},
   "source": [
    "Put the section in the meta data and give each text section the full meta data. This is so we get all info when we get one of these texts in a similarity search later on."
   ]
  },
  {
   "cell_type": "code",
   "execution_count": 12,
   "metadata": {
    "vscode": {
     "languageId": "shellscript"
    }
   },
   "outputs": [],
   "source": [
    "updated_sample_data = []\n",
    "\n",
    "for text_section in sample_text:\n",
    "    meta_data = sample_meta_data.copy()\n",
    "    \n",
    "    meta_data['section'] = text_section['section']\n",
    "    \n",
    "    body = text_section['body']\n",
    "    \n",
    "    updated_sample_data.append({'meta_data': meta_data, 'body': body})"
   ]
  },
  {
   "cell_type": "markdown",
   "metadata": {},
   "source": [
    "Take a look at a couple of examples below to make sure it works."
   ]
  },
  {
   "cell_type": "code",
   "execution_count": 13,
   "metadata": {
    "vscode": {
     "languageId": "shellscript"
    }
   },
   "outputs": [
    {
     "data": {
      "text/plain": [
       "{'meta_data': {'content_type': 'Article',\n",
       "  'url': [{'format': '',\n",
       "    'platform': '',\n",
       "    'value': 'http://dx.doi.org/10.1007/s00217-024-04565-1'}],\n",
       "  'title': 'Valorization of plant proteins for meat analogues design—a comprehensive review',\n",
       "  'publication_name': 'European Food Research and Technology',\n",
       "  'doi': '10.1007/s00217-024-04565-1',\n",
       "  'publication_date': '2024-10-01',\n",
       "  'starting_page': '2479',\n",
       "  'ending_page': '2513',\n",
       "  'open_access': 'true',\n",
       "  'abstract': {'h1': 'Abstract',\n",
       "   'p': 'Animal proteins from meat and its stuffs have recently been one of main concerns in the drive for sustainable food production. This viewpoint suggests that there are exciting prospects to reformulate meat products that are produced more sustainably and may also have health benefits by substituting high-protein nonmeat ingredients for some of the meat. Considering these pre-existing conditions, this review critically reviews recent data on extenders from several sources, including pulses, plant-based components, plant byproducts, and unconventional sources. We used the related keywords from Scopus-database without limiting the publishing date. With an emphasis on how these findings may impact the sustainability of meat products, it sees them as a great chance to enhance the functional quality and technological profile of meat. Therefore, to promote sustainability, meat alternatives such as plant-based meat equivalents are being made available. To boost consumer acceptability of these goods, further initiatives should also be developed to enhance the functioning of these innovative food items and increase public knowledge of plant-based meat analogues.'},\n",
       "  'section': 'Introduction'},\n",
       " 'body': \"Meat is recognized as a very popular food item worldwide and it is well known as an excellent quality protein source with other nutritional characteristics along with its appealing taste. With the growing rate of the planet's population, the need for food security is rising as well, and to feed this growing population a greater amount of good quality food having proper protein, fat, and other nutrition is required. Meanwhile, increased environmental footprint awareness plays a significant role in meat analogues supply for the sustainable and transparent food security of the planet. Animal is the solitary bioresource of meat protein and with rapid population growth, the need for meat protein is also increasing. Various data show that the demand will be magnified near to twice by 2050 [Changes in the different meat prices as per FAO meat price index. (Data Source: OECD-FAO Agricultural Outlook 2022–2031)Meat Greenhouse gas emissions intensity per regionThis paper collects and synthetizes the available research on plant-based meat analogues. The Scopus database was used to retrieve the data. The Scopus database was searched for data in January 2023 using the following keywords: (plant proteins) AND (meat analogues OR meat alternatives OR meat formulation OR ingredients OR functionalities). The PRISMA guidelines (The bibliometric analysis of plant protein-based meat analogues\"}"
      ]
     },
     "execution_count": 13,
     "metadata": {},
     "output_type": "execute_result"
    }
   ],
   "source": [
    "updated_sample_data[0]"
   ]
  },
  {
   "cell_type": "code",
   "execution_count": 14,
   "metadata": {
    "vscode": {
     "languageId": "shellscript"
    }
   },
   "outputs": [
    {
     "data": {
      "text/plain": [
       "{'meta_data': {'content_type': 'Article',\n",
       "  'url': [{'format': '',\n",
       "    'platform': '',\n",
       "    'value': 'http://dx.doi.org/10.1007/s00217-024-04565-1'}],\n",
       "  'title': 'Valorization of plant proteins for meat analogues design—a comprehensive review',\n",
       "  'publication_name': 'European Food Research and Technology',\n",
       "  'doi': '10.1007/s00217-024-04565-1',\n",
       "  'publication_date': '2024-10-01',\n",
       "  'starting_page': '2479',\n",
       "  'ending_page': '2513',\n",
       "  'open_access': 'true',\n",
       "  'abstract': {'h1': 'Abstract',\n",
       "   'p': 'Animal proteins from meat and its stuffs have recently been one of main concerns in the drive for sustainable food production. This viewpoint suggests that there are exciting prospects to reformulate meat products that are produced more sustainably and may also have health benefits by substituting high-protein nonmeat ingredients for some of the meat. Considering these pre-existing conditions, this review critically reviews recent data on extenders from several sources, including pulses, plant-based components, plant byproducts, and unconventional sources. We used the related keywords from Scopus-database without limiting the publishing date. With an emphasis on how these findings may impact the sustainability of meat products, it sees them as a great chance to enhance the functional quality and technological profile of meat. Therefore, to promote sustainability, meat alternatives such as plant-based meat equivalents are being made available. To boost consumer acceptability of these goods, further initiatives should also be developed to enhance the functioning of these innovative food items and increase public knowledge of plant-based meat analogues.'},\n",
       "  'section': 'Plant proteins as promising ingredients'},\n",
       " 'body': 'Proteins are made up of amino acids that are critical for human health and are mostly used in food processing to create a variety of nutritious diets [Classification of different types of protein used in the preparation of plant-based meat analoguesSoybeans are rich in protein and contain water-soluble and insoluble proteins. Based on the dry weight of mature raw seeds, soybeans have\\u2009~\\u20098.5–13% moisture,\\u2009~\\u200933–40% protein,\\u2009~\\u20093–4% ash,\\u2009~\\u200918–20% fats, and\\u2009~\\u20099–12% fibers [Amount of protein and essential amino acids in various plant and animal protein sources (g/100\\xa0g)Protein/ Essential amino acidsRDAEgg (Dried) BeefMilk (Dried)Soy isolateSoy concentrateDefatted soy flourWheat flourPea seedsLupine seedsSunflower seed kernelsProtein–48.0521.9126.3283.363.6337.09.6123.1236.1720.78Histidine7001.2020.6990.7142.3031.5781.2681.40.5861.030.632Isoleucine14002.4340.9971.5924.2532.9422.2812.00.9831.6151.139Leucine27304.151.7432.5786.7834.9173.8285.01.682.7431.659Lysine2.1003.3391.8522.0875.3273.9293.1291.11.7711.9330.937Methionine1050 *1.4950.5710.661.130.8140.6340.70.1950.2550.494Phenylalanine1750 *2.530.8651.2714.5933.2782.4533.71.1511.4351.169Tryptophan2800.7750.1440.3711.1160.8350.683NM0.1590.2890.348Threonine10502.1290.8751.1883.1372.4742.0421.80.8131.3310.928Valine18202.9911.0871.7624.0983.0642.3462.31.0351.511.315References[[[[[[[[[[[An overview of the functional quality as well as the application potential of different soy ingredientsProtein ingredientsComposition (%w/w)FunctionalityApplication in meat analoguesSoy isolate (alkaline/acid precipitation treatment)\\u2009~\\u200990% proteinGood solubility, gelling, and emulsificationStructuring process: Extrusion, shear cell, spinning, freeze structuring Role: Protein source, texture, binder, the base for fat substitutes, emulsifier Products: Burger patties, minced meat, sausagesSoy isolate (additional heat treatment/ toasted isolate)\\u2009~\\u200990% protein, denatured due to heat treatmentDecreased solubility, increased water holding capacity, good gellingStructuring process: Extrusion, shear cell Role: Protein source, texture, binder, the base for fat substitutes Products: Burger patties, minced meat, sausagesSoy concentrate\\u2009~\\u200970% proteinGood texturization propertiesProcess: Extrusion, Shear cell Role: Protein source, texture, binder Products: Burger patties, minced meat, sausages, muscle-type productsSoy milk (spray-dried powder)\\u2009>\\u200945% protein,\\u2009~\\u200930% fatHigh solubility, good emulsification propertiesProcess: Freeze structuring Role: Emulsifier, texture Products: Tofu and yuba productionSoy flour/meal (defatted)\\u2009~\\u200943–56% protein,\\u2009~\\u20090.5–9% fat,\\u2009~\\u20093–7% crude fiber,\\u2009>\\u200930% total carbohydrateWater binding capacity and fat retention, native proteinProcess: Extrusion Role: Texture, Binder Products: Burger patties, minced meat, sausages, muscle-type productsWheat Gluten isolate75–80% protein, 15–17% carbohydrates, 5–8% fatBinding, Dough forming/ Cross-linking capacity via S–S bridges, low solubilityStructuring process: Extrusion, shear cell Role: Adhesion, texture Products: Burger patties, muscle-type productsPea isolate\\u2009~\\u200985% proteinWater and fat binding, emulsification, and firm texture after thermal processingProcess: Extrusion, shear cell, spinning Role: Emulsifier, texture, Binder Products: Burger patties, minced meat, sausages, muscle-type productsWheat gluten is a significant component of many analogues. Because it is a by-product of the creation of colossal wheat starch, its price is appealing to the industry. In contrast to soy, the insoluble protein is left behind after the soluble and dispersible components of wheat are only removed by washing them with water [Gliadin (prolamin) is soluble in alcohol, whereas glutenin (glutelin) is soluble in diluted acid [Globally, 27% of the beans and pulses in the Additionally, the proteins of lupine, lentils, faba beans, mung beans, and chickpeas are capable of foam and emulsion stabilization [Oilseeds like rapeseed, canola, or sunflower recently have become cynosure along with soy and legumes. However, most seed isolates and concentrates are still not profitably accessible. These impart capabilities for substituting for soy in formulations of plant-based foods. The proteins extracted from by-products of the oil industry make their economic valorization very appealing. The existence of anti-nutritional parameters or polyphenols, which have the potential to interact with proteins and prevent their use in human nutrition, has led to limitations are currently dealt with extraction protocols and fermentation processes [Pseudo-cereals like quinoa seeds have gained popularity as a source of protein as well. Whole seeds and flour, which are less refined quinoa ingredients, were utilized as meat extenders in nuggets in meat products, gelling in mortadella, and fat replacers in burgers [The chia and pumpkin seed proteins are still being studied, so the emphasis is on protein purification (via alkaline pretreatment and dry separation) and the functionality that outcomes [Protein extraction from various plant sourcesProtein sourceExtraction methodProtein content recovered (PC)/Yield (Y) from the conventional methodReferencesSoybean meal (SBM) rapeseed meal (RSM), microalgae meal (MAM)Endoprotease enzyme (Protex 40XL, Protex P, Protex 5L and Protex 26L, Protex 50FE), Incubation—24\\xa0h at 40 ◦C, pH-12, protein concentration-5%SBM-Y-80% RSM and MAM-Y-15–30%[SoybeanAOT concentration-0.06\\xa0g/ ml, KCL concentration-0.05\\xa0g/ml, pH-8.5, time-30\\xa0min, temperature—40 ◦C11S globulin-PC-83.75%[Soybean MilkMW power-675 W, temperature—80 ◦C, stirring-160\\xa0rpmY-3.86\\xa0kg soybean milk/kg of soybean, PC-13.11%[Soybean protein isolatesPEF strength 30\\xa0kV/cm, treatment time 288\\xa0μs–[Defatted wheat germ (DWG)Forward extraction: AOT concentration—0.06\\xa0g/ml, KCl concentration—0.1\\xa0mol/L, Time—30\\xa0min, T-36 ◦C, pH-8, W0 25Y-2.92%[Sunflower2\\xa0M NaCl (Mild acidic extraction) at pH 6 for 60\\xa0min, room temperature23–26% protein recovery with light colored[Sunflower mealPower density-220 W/L, temperature—45 ◦C, time-15\\xa0min, Sample: solvent ratio-0.5/10 (w/v), pH-8Y-54.26%, PC—934.92\\xa0g/kg[FlaxseedEnzymatic solvent extraction, pH-5, enzyme concentration—2%, temperature—37 ◦C, time—4\\xa0hPC-51.05%[Quinoa protein isolates (QPI)5% w/w QPI suspension, Temperature—33 ◦C, 5 passes, pH-7, 0–50\\xa0MPa–[Mungbean0.1 N KOH, pH 9.1, 40\\xa0°C77.32% protein yield with better functional properties[Pea flourIncreasing pH to 9 (1\\xa0M NaOH) Temp 22◦C (room temperature) Centrifuged at 8000\\xa0rpm for 15\\xa0min Isoelectric Precipitation at pH 4.5 (1\\xa0M HCl) Centrifuged at 8000\\xa0rpm for 15\\xa0min at 4◦C, Neutralization by adding 1\\xa0M NaOH88.83%[Chickpea (Desi)Neutralization at pH 7 (2 N NaOH) Chickpea (Desi) Dehulled Ground Defatted Suspension in water 1:10 (76.5%[Lentil (Red)Suspension in water 1:15 (78.8%[Schematic diagram of enzyme-assisted protein extraction and protein water extractionCereal protein includes various types of protein obtained from rice, wheat, oats, barley, etc. Cereal grain has more protein than legumes but less than soy protein. Among all the cereal proteins, wheat gluten is extensively used due to its low cost and excellent viscoelastic properties which makes it suitable to bind flavour, color, and other ingredients that result in the making of excellent meat analogues [Besides all the above-discussed proteins, several other types of proteins are there such as—corn zein protein, peanuts, potato proteins, pumpkin, etc. can be used in the development of PBMA. Several research studies have already performed such as peanut flour being used in replace of soya flour, potato protein, and corn zein are blended to develop meat mimics the gel-like structure, but no clear results have been obtained till now [The bottom-up design of proteins needed to develop meat analogues'}"
      ]
     },
     "execution_count": 14,
     "metadata": {},
     "output_type": "execute_result"
    }
   ],
   "source": [
    "updated_sample_data[3]"
   ]
  },
  {
   "cell_type": "markdown",
   "metadata": {},
   "source": [
    "So here we iterate through one pdf file, copy the meta data since it is always the same when dealing with one pdf file, and then add the section to it. This becomes the new meta data and we save it with the text alone."
   ]
  },
  {
   "cell_type": "code",
   "execution_count": 15,
   "metadata": {
    "vscode": {
     "languageId": "shellscript"
    }
   },
   "outputs": [],
   "source": [
    "def transform_paper_data(pdf_content, original_meta_data):\n",
    "    updated_data = []\n",
    "\n",
    "    for text_section in pdf_content:\n",
    "        meta_data = original_meta_data.copy()\n",
    "        \n",
    "        meta_data['section'] = text_section['section']\n",
    "        \n",
    "        body = text_section['body']\n",
    "        \n",
    "        updated_data.append({'body': body, 'meta_data': meta_data})\n",
    "        \n",
    "    return updated_data"
   ]
  },
  {
   "cell_type": "code",
   "execution_count": 16,
   "metadata": {
    "vscode": {
     "languageId": "shellscript"
    }
   },
   "outputs": [
    {
     "data": {
      "text/plain": [
       "{'body': \"Meat is recognized as a very popular food item worldwide and it is well known as an excellent quality protein source with other nutritional characteristics along with its appealing taste. With the growing rate of the planet's population, the need for food security is rising as well, and to feed this growing population a greater amount of good quality food having proper protein, fat, and other nutrition is required. Meanwhile, increased environmental footprint awareness plays a significant role in meat analogues supply for the sustainable and transparent food security of the planet. Animal is the solitary bioresource of meat protein and with rapid population growth, the need for meat protein is also increasing. Various data show that the demand will be magnified near to twice by 2050 [Changes in the different meat prices as per FAO meat price index. (Data Source: OECD-FAO Agricultural Outlook 2022–2031)Meat Greenhouse gas emissions intensity per regionThis paper collects and synthetizes the available research on plant-based meat analogues. The Scopus database was used to retrieve the data. The Scopus database was searched for data in January 2023 using the following keywords: (plant proteins) AND (meat analogues OR meat alternatives OR meat formulation OR ingredients OR functionalities). The PRISMA guidelines (The bibliometric analysis of plant protein-based meat analogues\",\n",
       " 'meta_data': {'content_type': 'Article',\n",
       "  'url': [{'format': '',\n",
       "    'platform': '',\n",
       "    'value': 'http://dx.doi.org/10.1007/s00217-024-04565-1'}],\n",
       "  'title': 'Valorization of plant proteins for meat analogues design—a comprehensive review',\n",
       "  'publication_name': 'European Food Research and Technology',\n",
       "  'doi': '10.1007/s00217-024-04565-1',\n",
       "  'publication_date': '2024-10-01',\n",
       "  'starting_page': '2479',\n",
       "  'ending_page': '2513',\n",
       "  'open_access': 'true',\n",
       "  'abstract': {'h1': 'Abstract',\n",
       "   'p': 'Animal proteins from meat and its stuffs have recently been one of main concerns in the drive for sustainable food production. This viewpoint suggests that there are exciting prospects to reformulate meat products that are produced more sustainably and may also have health benefits by substituting high-protein nonmeat ingredients for some of the meat. Considering these pre-existing conditions, this review critically reviews recent data on extenders from several sources, including pulses, plant-based components, plant byproducts, and unconventional sources. We used the related keywords from Scopus-database without limiting the publishing date. With an emphasis on how these findings may impact the sustainability of meat products, it sees them as a great chance to enhance the functional quality and technological profile of meat. Therefore, to promote sustainability, meat alternatives such as plant-based meat equivalents are being made available. To boost consumer acceptability of these goods, further initiatives should also be developed to enhance the functioning of these innovative food items and increase public knowledge of plant-based meat analogues.'},\n",
       "  'section': 'Introduction'}}"
      ]
     },
     "execution_count": 16,
     "metadata": {},
     "output_type": "execute_result"
    }
   ],
   "source": [
    "sample_transformed_data = transform_paper_data(sample_text, sample_meta_data)\n",
    "sample_transformed_data_section_0 = sample_transformed_data[0]\n",
    "sample_transformed_data[0]"
   ]
  },
  {
   "cell_type": "code",
   "execution_count": 17,
   "metadata": {
    "vscode": {
     "languageId": "shellscript"
    }
   },
   "outputs": [
    {
     "data": {
      "text/plain": [
       "47"
      ]
     },
     "execution_count": 17,
     "metadata": {},
     "output_type": "execute_result"
    }
   ],
   "source": [
    "len(sample_transformed_data)"
   ]
  },
  {
   "cell_type": "markdown",
   "metadata": {},
   "source": [
    "### Full PDF Data\n",
    "\n",
    "Below is just how to collect all pdf data in this transformed way, but we won't use it as we just want to explore one sample for now."
   ]
  },
  {
   "cell_type": "code",
   "execution_count": 18,
   "metadata": {
    "vscode": {
     "languageId": "shellscript"
    }
   },
   "outputs": [],
   "source": [
    "full_pdf_data = []\n",
    "\n",
    "for pdf_data in data:\n",
    "    pdf_content_text, og_meta_data = pdf_data['content'], pdf_data['meta_data']\n",
    "    \n",
    "    full_pdf_data += transform_paper_data(pdf_content_text, og_meta_data)"
   ]
  },
  {
   "cell_type": "code",
   "execution_count": 19,
   "metadata": {
    "vscode": {
     "languageId": "shellscript"
    }
   },
   "outputs": [
    {
     "data": {
      "text/plain": [
       "4825"
      ]
     },
     "execution_count": 19,
     "metadata": {},
     "output_type": "execute_result"
    }
   ],
   "source": [
    "len(full_pdf_data)"
   ]
  },
  {
   "cell_type": "markdown",
   "metadata": {},
   "source": [
    "## Vector Embeddings\n",
    "\n",
    "Now that we have moved the section into the meta data, we just have the text to worry about. We need to embed it, for which we'll use Hugging Face for."
   ]
  },
  {
   "cell_type": "code",
   "execution_count": 20,
   "metadata": {
    "vscode": {
     "languageId": "shellscript"
    }
   },
   "outputs": [
    {
     "name": "stderr",
     "output_type": "stream",
     "text": [
      "c:\\Users\\RaviB\\anaconda3\\envs\\vegan\\lib\\site-packages\\pydantic\\_internal\\_fields.py:161: UserWarning: Field \"model_id\" has conflict with protected namespace \"model_\".\n",
      "\n",
      "You may be able to resolve this warning by setting `model_config['protected_namespaces'] = ()`.\n",
      "  warnings.warn(\n",
      "c:\\Users\\RaviB\\anaconda3\\envs\\vegan\\lib\\site-packages\\pydantic\\_internal\\_fields.py:161: UserWarning: Field \"model_kwargs\" has conflict with protected namespace \"model_\".\n",
      "\n",
      "You may be able to resolve this warning by setting `model_config['protected_namespaces'] = ()`.\n",
      "  warnings.warn(\n"
     ]
    }
   ],
   "source": [
    "from langchain_community.embeddings import BedrockEmbeddings\n",
    "from langchain.llms.bedrock import Bedrock\n",
    "from langchain.text_splitter import RecursiveCharacterTextSplitter\n",
    "from langchain.docstore.document import Document\n",
    "from langchain.prompts import PromptTemplate"
   ]
  },
  {
   "cell_type": "code",
   "execution_count": 29,
   "metadata": {
    "vscode": {
     "languageId": "shellscript"
    }
   },
   "outputs": [],
   "source": [
    "import boto3\n",
    "from langchain_aws import BedrockEmbeddings\n",
    "\n",
    "bedrock=boto3.client(service_name=\"bedrock-runtime\")\n",
    "bedrock_embeddings=BedrockEmbeddings(model_id=\"amazon.titan-embed-text-v1\", client=bedrock)"
   ]
  },
  {
   "cell_type": "code",
   "execution_count": 30,
   "metadata": {
    "vscode": {
     "languageId": "shellscript"
    }
   },
   "outputs": [],
   "source": [
    "embedding_sample = bedrock_embeddings.embed_query(sample_text[0]['body'])\n",
    "#embedding_sample"
   ]
  },
  {
   "cell_type": "markdown",
   "metadata": {},
   "source": [
    "Langchains document object will handle saving the metadata for us, so we just move everything to there now."
   ]
  },
  {
   "cell_type": "code",
   "execution_count": 31,
   "metadata": {
    "vscode": {
     "languageId": "shellscript"
    }
   },
   "outputs": [
    {
     "data": {
      "text/plain": [
       "Document(metadata={'content_type': 'Article', 'url': [{'format': '', 'platform': '', 'value': 'http://dx.doi.org/10.1007/s00217-024-04565-1'}], 'title': 'Valorization of plant proteins for meat analogues design—a comprehensive review', 'publication_name': 'European Food Research and Technology', 'doi': '10.1007/s00217-024-04565-1', 'publication_date': '2024-10-01', 'starting_page': '2479', 'ending_page': '2513', 'open_access': 'true', 'abstract': {'h1': 'Abstract', 'p': 'Animal proteins from meat and its stuffs have recently been one of main concerns in the drive for sustainable food production. This viewpoint suggests that there are exciting prospects to reformulate meat products that are produced more sustainably and may also have health benefits by substituting high-protein nonmeat ingredients for some of the meat. Considering these pre-existing conditions, this review critically reviews recent data on extenders from several sources, including pulses, plant-based components, plant byproducts, and unconventional sources. We used the related keywords from Scopus-database without limiting the publishing date. With an emphasis on how these findings may impact the sustainability of meat products, it sees them as a great chance to enhance the functional quality and technological profile of meat. Therefore, to promote sustainability, meat alternatives such as plant-based meat equivalents are being made available. To boost consumer acceptability of these goods, further initiatives should also be developed to enhance the functioning of these innovative food items and increase public knowledge of plant-based meat analogues.'}, 'section': 'Introduction'}, page_content=\"Meat is recognized as a very popular food item worldwide and it is well known as an excellent quality protein source with other nutritional characteristics along with its appealing taste. With the growing rate of the planet's population, the need for food security is rising as well, and to feed this growing population a greater amount of good quality food having proper protein, fat, and other nutrition is required. Meanwhile, increased environmental footprint awareness plays a significant role in meat analogues supply for the sustainable and transparent food security of the planet. Animal is the solitary bioresource of meat protein and with rapid population growth, the need for meat protein is also increasing. Various data show that the demand will be magnified near to twice by 2050 [Changes in the different meat prices as per FAO meat price index. (Data Source: OECD-FAO Agricultural Outlook 2022–2031)Meat Greenhouse gas emissions intensity per regionThis paper collects and synthetizes the available research on plant-based meat analogues. The Scopus database was used to retrieve the data. The Scopus database was searched for data in January 2023 using the following keywords: (plant proteins) AND (meat analogues OR meat alternatives OR meat formulation OR ingredients OR functionalities). The PRISMA guidelines (The bibliometric analysis of plant protein-based meat analogues\")"
      ]
     },
     "execution_count": 31,
     "metadata": {},
     "output_type": "execute_result"
    }
   ],
   "source": [
    "Document(page_content=sample_transformed_data_section_0['body'], metadata=sample_transformed_data_section_0['meta_data'])"
   ]
  },
  {
   "cell_type": "markdown",
   "metadata": {},
   "source": [
    "Of course we need to iterate over everything in our list of docs, which in this case will make up one pdf file."
   ]
  },
  {
   "cell_type": "code",
   "execution_count": 32,
   "metadata": {
    "vscode": {
     "languageId": "shellscript"
    }
   },
   "outputs": [],
   "source": [
    "def convert_to_doc_format(transformed_data):\n",
    "    documents = []\n",
    "    for content in transformed_data:\n",
    "        doc = Document(page_content=content['body'], metadata=content['meta_data'])\n",
    "        documents.append(doc)\n",
    "    return documents"
   ]
  },
  {
   "cell_type": "code",
   "execution_count": 33,
   "metadata": {
    "vscode": {
     "languageId": "shellscript"
    }
   },
   "outputs": [
    {
     "data": {
      "text/plain": [
       "Document(metadata={'content_type': 'Article', 'url': [{'format': '', 'platform': '', 'value': 'http://dx.doi.org/10.1007/s00217-024-04565-1'}], 'title': 'Valorization of plant proteins for meat analogues design—a comprehensive review', 'publication_name': 'European Food Research and Technology', 'doi': '10.1007/s00217-024-04565-1', 'publication_date': '2024-10-01', 'starting_page': '2479', 'ending_page': '2513', 'open_access': 'true', 'abstract': {'h1': 'Abstract', 'p': 'Animal proteins from meat and its stuffs have recently been one of main concerns in the drive for sustainable food production. This viewpoint suggests that there are exciting prospects to reformulate meat products that are produced more sustainably and may also have health benefits by substituting high-protein nonmeat ingredients for some of the meat. Considering these pre-existing conditions, this review critically reviews recent data on extenders from several sources, including pulses, plant-based components, plant byproducts, and unconventional sources. We used the related keywords from Scopus-database without limiting the publishing date. With an emphasis on how these findings may impact the sustainability of meat products, it sees them as a great chance to enhance the functional quality and technological profile of meat. Therefore, to promote sustainability, meat alternatives such as plant-based meat equivalents are being made available. To boost consumer acceptability of these goods, further initiatives should also be developed to enhance the functioning of these innovative food items and increase public knowledge of plant-based meat analogues.'}, 'section': 'Introduction'}, page_content=\"Meat is recognized as a very popular food item worldwide and it is well known as an excellent quality protein source with other nutritional characteristics along with its appealing taste. With the growing rate of the planet's population, the need for food security is rising as well, and to feed this growing population a greater amount of good quality food having proper protein, fat, and other nutrition is required. Meanwhile, increased environmental footprint awareness plays a significant role in meat analogues supply for the sustainable and transparent food security of the planet. Animal is the solitary bioresource of meat protein and with rapid population growth, the need for meat protein is also increasing. Various data show that the demand will be magnified near to twice by 2050 [Changes in the different meat prices as per FAO meat price index. (Data Source: OECD-FAO Agricultural Outlook 2022–2031)Meat Greenhouse gas emissions intensity per regionThis paper collects and synthetizes the available research on plant-based meat analogues. The Scopus database was used to retrieve the data. The Scopus database was searched for data in January 2023 using the following keywords: (plant proteins) AND (meat analogues OR meat alternatives OR meat formulation OR ingredients OR functionalities). The PRISMA guidelines (The bibliometric analysis of plant protein-based meat analogues\")"
      ]
     },
     "execution_count": 33,
     "metadata": {},
     "output_type": "execute_result"
    }
   ],
   "source": [
    "sample_docs = convert_to_doc_format(sample_transformed_data)\n",
    "sample_docs[0]"
   ]
  },
  {
   "cell_type": "code",
   "execution_count": 34,
   "metadata": {
    "vscode": {
     "languageId": "shellscript"
    }
   },
   "outputs": [
    {
     "data": {
      "text/plain": [
       "47"
      ]
     },
     "execution_count": 34,
     "metadata": {},
     "output_type": "execute_result"
    }
   ],
   "source": [
    "len(sample_docs)"
   ]
  },
  {
   "cell_type": "markdown",
   "metadata": {},
   "source": [
    "We still might want to chunk the text more. If one of the sections is too long, we'll need to split it with langchains text splitter but make sure the results still have the same meta data."
   ]
  },
  {
   "cell_type": "code",
   "execution_count": 35,
   "metadata": {
    "vscode": {
     "languageId": "shellscript"
    }
   },
   "outputs": [],
   "source": [
    "def chunk_text(document, chunk_size=10000, chunk_overlap=1000):\n",
    "    raw_text = document.page_content\n",
    "    meta_data = document.metadata\n",
    "    \n",
    "    text_splitter = RecursiveCharacterTextSplitter(\n",
    "        chunk_size=chunk_size,\n",
    "        chunk_overlap=chunk_overlap\n",
    "    )\n",
    "    \n",
    "    texts = text_splitter.split_text(raw_text)\n",
    "    docs = [Document(page_content=t, metadata=meta_data) for t in texts]\n",
    "    \n",
    "    return docs"
   ]
  },
  {
   "cell_type": "code",
   "execution_count": 36,
   "metadata": {
    "vscode": {
     "languageId": "shellscript"
    }
   },
   "outputs": [
    {
     "data": {
      "text/plain": [
       "[Document(metadata={'content_type': 'Article', 'url': [{'format': '', 'platform': '', 'value': 'http://dx.doi.org/10.1007/s00217-024-04565-1'}], 'title': 'Valorization of plant proteins for meat analogues design—a comprehensive review', 'publication_name': 'European Food Research and Technology', 'doi': '10.1007/s00217-024-04565-1', 'publication_date': '2024-10-01', 'starting_page': '2479', 'ending_page': '2513', 'open_access': 'true', 'abstract': {'h1': 'Abstract', 'p': 'Animal proteins from meat and its stuffs have recently been one of main concerns in the drive for sustainable food production. This viewpoint suggests that there are exciting prospects to reformulate meat products that are produced more sustainably and may also have health benefits by substituting high-protein nonmeat ingredients for some of the meat. Considering these pre-existing conditions, this review critically reviews recent data on extenders from several sources, including pulses, plant-based components, plant byproducts, and unconventional sources. We used the related keywords from Scopus-database without limiting the publishing date. With an emphasis on how these findings may impact the sustainability of meat products, it sees them as a great chance to enhance the functional quality and technological profile of meat. Therefore, to promote sustainability, meat alternatives such as plant-based meat equivalents are being made available. To boost consumer acceptability of these goods, further initiatives should also be developed to enhance the functioning of these innovative food items and increase public knowledge of plant-based meat analogues.'}, 'section': 'Introduction'}, page_content=\"Meat is recognized as a very popular food item worldwide and it is well known as an excellent quality protein source with other nutritional characteristics along with its appealing taste. With the growing rate of the planet's population, the need for food security is rising as well, and to feed this growing population a greater amount of good quality food having proper protein, fat, and other nutrition is required. Meanwhile, increased environmental footprint awareness plays a significant role in meat analogues supply for the sustainable and transparent food security of the planet. Animal is the solitary bioresource of meat protein and with rapid population growth, the need for meat protein is also increasing. Various data show that the demand will be magnified near to twice by 2050 [Changes in the different meat prices as per FAO meat price index. (Data Source: OECD-FAO Agricultural Outlook 2022–2031)Meat Greenhouse gas emissions intensity per regionThis paper collects and synthetizes\"),\n",
       " Document(metadata={'content_type': 'Article', 'url': [{'format': '', 'platform': '', 'value': 'http://dx.doi.org/10.1007/s00217-024-04565-1'}], 'title': 'Valorization of plant proteins for meat analogues design—a comprehensive review', 'publication_name': 'European Food Research and Technology', 'doi': '10.1007/s00217-024-04565-1', 'publication_date': '2024-10-01', 'starting_page': '2479', 'ending_page': '2513', 'open_access': 'true', 'abstract': {'h1': 'Abstract', 'p': 'Animal proteins from meat and its stuffs have recently been one of main concerns in the drive for sustainable food production. This viewpoint suggests that there are exciting prospects to reformulate meat products that are produced more sustainably and may also have health benefits by substituting high-protein nonmeat ingredients for some of the meat. Considering these pre-existing conditions, this review critically reviews recent data on extenders from several sources, including pulses, plant-based components, plant byproducts, and unconventional sources. We used the related keywords from Scopus-database without limiting the publishing date. With an emphasis on how these findings may impact the sustainability of meat products, it sees them as a great chance to enhance the functional quality and technological profile of meat. Therefore, to promote sustainability, meat alternatives such as plant-based meat equivalents are being made available. To boost consumer acceptability of these goods, further initiatives should also be developed to enhance the functioning of these innovative food items and increase public knowledge of plant-based meat analogues.'}, 'section': 'Introduction'}, page_content='will be magnified near to twice by 2050 [Changes in the different meat prices as per FAO meat price index. (Data Source: OECD-FAO Agricultural Outlook 2022–2031)Meat Greenhouse gas emissions intensity per regionThis paper collects and synthetizes the available research on plant-based meat analogues. The Scopus database was used to retrieve the data. The Scopus database was searched for data in January 2023 using the following keywords: (plant proteins) AND (meat analogues OR meat alternatives OR meat formulation OR ingredients OR functionalities). The PRISMA guidelines (The bibliometric analysis of plant protein-based meat analogues')]"
      ]
     },
     "execution_count": 36,
     "metadata": {},
     "output_type": "execute_result"
    }
   ],
   "source": [
    "chunk_text(sample_docs[0], 1000, 250)"
   ]
  },
  {
   "cell_type": "code",
   "execution_count": 37,
   "metadata": {
    "vscode": {
     "languageId": "shellscript"
    }
   },
   "outputs": [],
   "source": [
    "chunked_docs = []\n",
    "\n",
    "for doc in sample_docs:\n",
    "    chunked_docs += chunk_text(doc, 5000, 500)"
   ]
  },
  {
   "cell_type": "code",
   "execution_count": 38,
   "metadata": {
    "vscode": {
     "languageId": "shellscript"
    }
   },
   "outputs": [
    {
     "data": {
      "text/plain": [
       "56"
      ]
     },
     "execution_count": 38,
     "metadata": {},
     "output_type": "execute_result"
    }
   ],
   "source": [
    "len(chunked_docs)"
   ]
  },
  {
   "cell_type": "markdown",
   "metadata": {},
   "source": [
    "Now we can extract just the text and get embeddings for it."
   ]
  },
  {
   "cell_type": "code",
   "execution_count": null,
   "metadata": {
    "vscode": {
     "languageId": "shellscript"
    }
   },
   "outputs": [],
   "source": [
    "texts = [d.page_content for d in chunked_docs]\n",
    "\n",
    "embeddings = bedrock_embeddings.embed_documents(texts)"
   ]
  },
  {
   "cell_type": "code",
   "execution_count": 36,
   "metadata": {
    "vscode": {
     "languageId": "shellscript"
    }
   },
   "outputs": [
    {
     "name": "stdout",
     "output_type": "stream",
     "text": [
      "56\n"
     ]
    }
   ],
   "source": [
    "documents_with_embeddings = []\n",
    "\n",
    "for doc, embedding in zip(chunked_docs, embeddings):\n",
    "    doc_with_embedding = {\n",
    "        \"embedding\": embedding,\n",
    "        \"text\": doc.page_content,\n",
    "        \"metadata\": doc.metadata\n",
    "    }\n",
    "    documents_with_embeddings.append(doc_with_embedding)\n",
    "    \n",
    "print(len(documents_with_embeddings))\n",
    "#print(documents_with_embeddings[0])"
   ]
  },
  {
   "cell_type": "markdown",
   "metadata": {},
   "source": [
    "This function does everything, from getting the embeddings to storing them properly with the metadata."
   ]
  },
  {
   "cell_type": "code",
   "execution_count": 40,
   "metadata": {
    "vscode": {
     "languageId": "shellscript"
    }
   },
   "outputs": [],
   "source": [
    "def generate_embeddings(documents):\n",
    "    texts = [doc.page_content for doc in documents]\n",
    "    \n",
    "    embeddings = bedrock_embeddings.embed_documents(texts)\n",
    "    \n",
    "    documents_with_embeddings = []\n",
    "    \n",
    "    for doc, embedding in zip(documents, embeddings):\n",
    "        doc_with_embedding = {\n",
    "            \"embedding\": embedding,\n",
    "            \"text\": doc.page_content,\n",
    "            \"metadata\": doc.metadata\n",
    "        }\n",
    "        documents_with_embeddings.append(doc_with_embedding)\n",
    "    \n",
    "    return documents_with_embeddings"
   ]
  },
  {
   "cell_type": "markdown",
   "metadata": {},
   "source": [
    "So to put it all together in one place, this is how we get our vector embeddings for one pdf file."
   ]
  },
  {
   "cell_type": "code",
   "execution_count": 118,
   "metadata": {
    "vscode": {
     "languageId": "shellscript"
    }
   },
   "outputs": [
    {
     "name": "stdout",
     "output_type": "stream",
     "text": [
      "56\n",
      "47\n"
     ]
    }
   ],
   "source": [
    "sample_docs = convert_to_doc_format(sample_transformed_data)\n",
    "\n",
    "chunked_docs = []\n",
    "\n",
    "for doc in sample_docs:\n",
    "    chunked_docs += chunk_text(doc, 5000, 500)\n",
    "    \n",
    "documents_with_embeddings = generate_embeddings(chunked_docs)\n",
    "\n",
    "# we can see the length of the documents_with_embeddings and the length of the sample_text, which will give an idea of how many sections were chunked\n",
    "print(len(documents_with_embeddings))\n",
    "print(len(sample_text))"
   ]
  },
  {
   "cell_type": "markdown",
   "metadata": {},
   "source": [
    "### Full Embeddings\n",
    "\n",
    "Let's try this on the full dataset.\n",
    "\n",
    "**NOTE**: There is currently an error where some of the chunked docs have too many input tokens (the current limit is 8000). We need to use a tokenizer from hugging face to check the length of the input ids since we can't use Amazon's titan model to do this (thus it will just be an estimate). \n",
    "\n",
    "There are some import errors with torch and hugging face though, so for now, we are only inputting the first 50 pdf files to avoid this error (currently hardcoded this slicing of the loaded data in the modules/data_processing/src/data_processing.py file).\n",
    "\n",
    "**UPDATE**: I've now switched to using the hugging face tokenizer since you can't count the number of tokens with Bedrocks Titan model. Thus this issue is no longer present, but technically it is not fixed. An immediate improvement if we were to return to titan is to simply add a try and except block around the for loop so we don't try and tokenize something that is too long, or rather we can then just skip it."
   ]
  },
  {
   "cell_type": "code",
   "execution_count": 41,
   "metadata": {
    "vscode": {
     "languageId": "shellscript"
    }
   },
   "outputs": [],
   "source": [
    "full_docs = convert_to_doc_format(full_pdf_data)\n",
    "\n",
    "full_chunked_docs = []\n",
    "\n",
    "for doc in full_docs:\n",
    "    full_chunked_docs += chunk_text(doc, 5000, 500)"
   ]
  },
  {
   "cell_type": "code",
   "execution_count": 63,
   "metadata": {
    "vscode": {
     "languageId": "shellscript"
    }
   },
   "outputs": [],
   "source": [
    "full_texts = [doc.page_content for doc in full_chunked_docs]\n",
    "\n",
    "invalid_texts = []\n",
    "\n",
    "valid_texts = []\n",
    "for text in full_texts:\n",
    "    token_count = len(tokenizer.encode(text))\n",
    "    if token_count <= 8192:\n",
    "        valid_texts.append(text)\n",
    "    else:\n",
    "        invalid_texts.append(text)\n",
    "        # Handle texts that are still too long\n",
    "        print(\"Text exceeds token limit even after chunking.\")"
   ]
  },
  {
   "cell_type": "code",
   "execution_count": null,
   "metadata": {
    "vscode": {
     "languageId": "shellscript"
    }
   },
   "outputs": [],
   "source": [
    "embeddings = bedrock_embeddings.embed_documents(texts)\n",
    "\n",
    "documents_with_embeddings = []\n",
    "\n",
    "for doc, embedding in zip(full_chunked_docs, embeddings):\n",
    "    doc_with_embedding = {\n",
    "        \"embedding\": embedding,\n",
    "        \"text\": doc.page_content,\n",
    "        \"metadata\": doc.metadata\n",
    "    }\n",
    "    documents_with_embeddings.append(doc_with_embedding)"
   ]
  },
  {
   "cell_type": "code",
   "execution_count": null,
   "metadata": {
    "vscode": {
     "languageId": "shellscript"
    }
   },
   "outputs": [],
   "source": [
    "full_documents_with_embeddings = generate_embeddings(full_chunked_docs)"
   ]
  },
  {
   "cell_type": "markdown",
   "metadata": {},
   "source": [
    "## Connecting to Vector Database"
   ]
  },
  {
   "cell_type": "markdown",
   "metadata": {},
   "source": [
    "So first let's see if we can connect to the vector database that we created using terraform."
   ]
  },
  {
   "cell_type": "code",
   "execution_count": 98,
   "metadata": {
    "vscode": {
     "languageId": "shellscript"
    }
   },
   "outputs": [],
   "source": [
    "from opensearchpy import OpenSearch, RequestsHttpConnection\n",
    "from requests_aws4auth import AWS4Auth\n",
    "from dotenv import load_dotenv\n",
    "\n",
    "load_dotenv()\n",
    "\n",
    "opensearch_endpoint = os.environ.get('OPENSEARCH_ENDPOINT')\n",
    "\n",
    "AWS_ACCESS_KEY = os.environ.get('AWS_ACCESS_KEY_ID')\n",
    "AWS_SECRET_KEY = os.environ.get('AWS_SECRET_ACCESS_KEY')\n",
    "AWS_REGION = os.environ.get('AWS_REGION')"
   ]
  },
  {
   "cell_type": "code",
   "execution_count": 135,
   "metadata": {
    "vscode": {
     "languageId": "shellscript"
    }
   },
   "outputs": [
    {
     "name": "stdout",
     "output_type": "stream",
     "text": [
      "{'name': 'b618476fdb5879478fc667c4fb6cd473', 'cluster_name': '590184030535:vegan-pdf-data', 'cluster_uuid': 'D2l3HY8VSk-qIbco5LH9gg', 'version': {'distribution': 'opensearch', 'number': '2.5.0', 'build_type': 'tar', 'build_hash': 'unknown', 'build_date': '2024-05-02T06:25:23.555552Z', 'build_snapshot': False, 'lucene_version': '9.4.2', 'minimum_wire_compatibility_version': '7.10.0', 'minimum_index_compatibility_version': '7.0.0'}, 'tagline': 'The OpenSearch Project: https://opensearch.org/'}\n"
     ]
    }
   ],
   "source": [
    "awsauth = AWS4Auth(AWS_ACCESS_KEY, AWS_SECRET_KEY, AWS_REGION, 'es')\n",
    "\n",
    "# Create the OpenSearch client\n",
    "client = OpenSearch(\n",
    "    hosts=[{'host': opensearch_endpoint, 'port': 443}],\n",
    "    http_auth=awsauth,\n",
    "    use_ssl=True,\n",
    "    verify_certs=True,\n",
    "    connection_class=RequestsHttpConnection\n",
    ")\n",
    "\n",
    "# Test connection\n",
    "info = client.info()\n",
    "print(info)"
   ]
  },
  {
   "cell_type": "markdown",
   "metadata": {},
   "source": [
    "So it worked. Next we need the embedding dimension, which we will use when creating our index body."
   ]
  },
  {
   "cell_type": "code",
   "execution_count": 119,
   "metadata": {
    "vscode": {
     "languageId": "shellscript"
    }
   },
   "outputs": [
    {
     "name": "stdout",
     "output_type": "stream",
     "text": [
      "Embedding dimension: 1536\n"
     ]
    }
   ],
   "source": [
    "embedding_dimension = len(documents_with_embeddings[0]['embedding'])\n",
    "print(f\"Embedding dimension: {embedding_dimension}\")"
   ]
  },
  {
   "cell_type": "markdown",
   "metadata": {},
   "source": [
    "Recall what the meta data looks like. We need to define it in the index body."
   ]
  },
  {
   "cell_type": "code",
   "execution_count": 125,
   "metadata": {
    "vscode": {
     "languageId": "shellscript"
    }
   },
   "outputs": [
    {
     "data": {
      "text/plain": [
       "{'content_type': 'Article',\n",
       " 'url': [{'format': '',\n",
       "   'platform': '',\n",
       "   'value': 'http://dx.doi.org/10.1007/s00217-024-04565-1'}],\n",
       " 'title': 'Valorization of plant proteins for meat analogues design—a comprehensive review',\n",
       " 'publication_name': 'European Food Research and Technology',\n",
       " 'doi': '10.1007/s00217-024-04565-1',\n",
       " 'publication_date': '2024-10-01',\n",
       " 'starting_page': '2479',\n",
       " 'ending_page': '2513',\n",
       " 'open_access': 'true',\n",
       " 'abstract': {'h1': 'Abstract',\n",
       "  'p': 'Animal proteins from meat and its stuffs have recently been one of main concerns in the drive for sustainable food production. This viewpoint suggests that there are exciting prospects to reformulate meat products that are produced more sustainably and may also have health benefits by substituting high-protein nonmeat ingredients for some of the meat. Considering these pre-existing conditions, this review critically reviews recent data on extenders from several sources, including pulses, plant-based components, plant byproducts, and unconventional sources. We used the related keywords from Scopus-database without limiting the publishing date. With an emphasis on how these findings may impact the sustainability of meat products, it sees them as a great chance to enhance the functional quality and technological profile of meat. Therefore, to promote sustainability, meat alternatives such as plant-based meat equivalents are being made available. To boost consumer acceptability of these goods, further initiatives should also be developed to enhance the functioning of these innovative food items and increase public knowledge of plant-based meat analogues.'},\n",
       " 'section': 'Introduction'}"
      ]
     },
     "execution_count": 125,
     "metadata": {},
     "output_type": "execute_result"
    }
   ],
   "source": [
    "documents_with_embeddings[0]['metadata']"
   ]
  },
  {
   "cell_type": "code",
   "execution_count": 126,
   "metadata": {
    "vscode": {
     "languageId": "shellscript"
    }
   },
   "outputs": [
    {
     "name": "stdout",
     "output_type": "stream",
     "text": [
      "Index 'vegan_papers_index' does not exist. Creating a new one.\n",
      "Created index 'vegan_papers_index': {'acknowledged': True, 'shards_acknowledged': True, 'index': 'vegan_papers_index'}\n"
     ]
    }
   ],
   "source": [
    "from opensearchpy import OpenSearch, RequestsHttpConnection\n",
    "from opensearchpy.exceptions import NotFoundError\n",
    "from requests_aws4auth import AWS4Auth\n",
    "import os\n",
    "\n",
    "index_name = 'vegan_papers_index'\n",
    "\n",
    "# Define the index settings and mappings\n",
    "index_body = {\n",
    "    'settings': {\n",
    "        'index': {\n",
    "            'knn': True  # Enable k-NN for vector similarity search\n",
    "        }\n",
    "    },\n",
    "    'mappings': {\n",
    "        'properties': {\n",
    "            'embedding': {\n",
    "                'type': 'knn_vector',\n",
    "                'dimension': embedding_dimension\n",
    "            },\n",
    "            'text': {\n",
    "                'type': 'text'\n",
    "            },\n",
    "            'metadata': {\n",
    "                'properties': {\n",
    "                    'content_type': {'type': 'keyword'},\n",
    "                    'url': {\n",
    "                        'type': 'nested',\n",
    "                        'properties': {\n",
    "                            'format': {'type': 'keyword'},\n",
    "                            'platform': {'type': 'keyword'},\n",
    "                            'value': {'type': 'keyword'}\n",
    "                        }\n",
    "                    },\n",
    "                    'title': {'type': 'text'},\n",
    "                    'publication_name': {'type': 'text'},\n",
    "                    'doi': {'type': 'keyword'},\n",
    "                    'publication_date': {'type': 'date', 'format': 'yyyy-MM-dd'},\n",
    "                    'starting_page': {'type': 'integer'},\n",
    "                    'ending_page': {'type': 'integer'},\n",
    "                    'open_access': {'type': 'boolean'},\n",
    "                    'abstract': {\n",
    "                        'properties': {\n",
    "                            'h1': {'type': 'text'},\n",
    "                            'p': {'type': 'text'}\n",
    "                        }\n",
    "                    },\n",
    "                    'section': {'type': 'text'}\n",
    "                }\n",
    "            }\n",
    "        }\n",
    "    }\n",
    "}\n",
    "\n",
    "# Delete the index if it exists, then create it\n",
    "try:\n",
    "    client.indices.delete(index=index_name)\n",
    "    print(f\"Deleted existing index '{index_name}'.\")\n",
    "except NotFoundError:\n",
    "    print(f\"Index '{index_name}' does not exist. Creating a new one.\")\n",
    "\n",
    "response = client.indices.create(index=index_name, body=index_body)\n",
    "print(f\"Created index '{index_name}': {response}\")\n"
   ]
  },
  {
   "cell_type": "markdown",
   "metadata": {},
   "source": [
    "Now we prepare our data to be stored into the vector database."
   ]
  },
  {
   "cell_type": "code",
   "execution_count": 127,
   "metadata": {
    "vscode": {
     "languageId": "shellscript"
    }
   },
   "outputs": [],
   "source": [
    "actions = []\n",
    "for i, doc in enumerate(documents_with_embeddings):\n",
    "    action = {\n",
    "        '_index': index_name,\n",
    "        '_id': i,\n",
    "        '_source': {\n",
    "            'embedding': doc['embedding'],\n",
    "            'text': doc['text'],\n",
    "            'metadata': doc['metadata']\n",
    "        }\n",
    "    }\n",
    "    actions.append(action)"
   ]
  },
  {
   "cell_type": "code",
   "execution_count": 129,
   "metadata": {
    "vscode": {
     "languageId": "shellscript"
    }
   },
   "outputs": [
    {
     "name": "stdout",
     "output_type": "stream",
     "text": [
      "Indexed 56 documents into index 'vegan_papers_index'.\n"
     ]
    }
   ],
   "source": [
    "from opensearchpy.helpers import bulk\n",
    "\n",
    "success, _ = bulk(client, actions)\n",
    "print(f\"Indexed {success} documents into index '{index_name}'.\")"
   ]
  },
  {
   "cell_type": "markdown",
   "metadata": {},
   "source": [
    "Let's perform a vector search to test out our database. We can query something similar to a selected example, say sample_text[5]."
   ]
  },
  {
   "cell_type": "code",
   "execution_count": 131,
   "metadata": {
    "vscode": {
     "languageId": "shellscript"
    }
   },
   "outputs": [
    {
     "data": {
      "text/plain": [
       "{'section': 'Usage of gluten protein for meat analogues',\n",
       " 'body': 'Wheat gluten is a significant component of many analogues. Because it is a by-product of the creation of colossal wheat starch, its price is appealing to the industry. In contrast to soy, the insoluble protein is left behind after the soluble and dispersible components of wheat are only removed by washing them with water [Gliadin (prolamin) is soluble in alcohol, whereas glutenin (glutelin) is soluble in diluted acid ['}"
      ]
     },
     "execution_count": 131,
     "metadata": {},
     "output_type": "execute_result"
    }
   ],
   "source": [
    "sample_text[5]"
   ]
  },
  {
   "cell_type": "code",
   "execution_count": 136,
   "metadata": {
    "vscode": {
     "languageId": "shellscript"
    }
   },
   "outputs": [],
   "source": [
    "#so make the query similar to the sample above\n",
    "query_text = \"Is wheat gluton a significant component of meat analogues?\"\n",
    "query_embedding = bedrock_embeddings.embed_query(query_text)"
   ]
  },
  {
   "cell_type": "code",
   "execution_count": 137,
   "metadata": {
    "vscode": {
     "languageId": "shellscript"
    }
   },
   "outputs": [],
   "source": [
    "search_body = {\n",
    "    \"size\": 5,\n",
    "    \"query\": {\n",
    "        \"knn\": {\n",
    "            \"embedding\": {\n",
    "                \"vector\": query_embedding,\n",
    "                \"k\": 5\n",
    "            }\n",
    "        }\n",
    "    },\n",
    "    \"_source\": [\"text\", \"metadata\"]\n",
    "}\n",
    "\n",
    "response = client.search(index=index_name, body=search_body)"
   ]
  },
  {
   "cell_type": "code",
   "execution_count": 138,
   "metadata": {
    "vscode": {
     "languageId": "shellscript"
    }
   },
   "outputs": [
    {
     "name": "stdout",
     "output_type": "stream",
     "text": [
      "Score: 0.004691359\n",
      "Title: Valorization of plant proteins for meat analogues design—a comprehensive review\n",
      "Text: Wheat gluten is a significant component of many analogues. Because it is a by-product of the creation of colossal wheat starch, its price is appealing to the industry. In contrast to soy, the insolubl...\n",
      "\n",
      "Score: 0.0043517556\n",
      "Title: Valorization of plant proteins for meat analogues design—a comprehensive review\n",
      "Text: some specific color that changes through different processes such as cooking and smoking. Similarly, meat analogues should have meat mimic color and color change characteristics during processing. Sev...\n",
      "\n",
      "Score: 0.00420129\n",
      "Title: Valorization of plant proteins for meat analogues design—a comprehensive review\n",
      "Text: Meat analogues are made by combining a variety of ingredients through different texturizing techniques. For optimum binding of all the necessary ingredients (flavor, color, stabilizers, emulsifier, th...\n",
      "\n",
      "Score: 0.004073237\n",
      "Title: Valorization of plant proteins for meat analogues design—a comprehensive review\n",
      "Text: characteristics of the meat analogues [Fat retention capacity is a measurement of the ability of non-polar side chains of proteins to bind fat. It plays a potent character in improving the flavor of m...\n",
      "\n",
      "Score: 0.0040187445\n",
      "Title: Valorization of plant proteins for meat analogues design—a comprehensive review\n",
      "Text: In meat analogues, different flavour generation components and their critical interaction during processing have a crucial role in mimicking specific meat-like tastes and flavors. Meat analogue's tast...\n",
      "\n"
     ]
    }
   ],
   "source": [
    "for hit in response['hits']['hits']:\n",
    "    print(f\"Score: {hit['_score']}\")\n",
    "    print(f\"Title: {hit['_source']['metadata']['title']}\")\n",
    "    print(f\"Text: {hit['_source']['text'][:200]}...\")  # Show first 200 chars\n",
    "    print()"
   ]
  },
  {
   "cell_type": "markdown",
   "metadata": {},
   "source": [
    "### Delete Index\n",
    "\n",
    "Now that we confirmed everything worked, let's delete the index since this was just an experimentation notebook. We will implement the full method in the data_processing module."
   ]
  },
  {
   "cell_type": "code",
   "execution_count": 139,
   "metadata": {
    "vscode": {
     "languageId": "shellscript"
    }
   },
   "outputs": [
    {
     "name": "stdout",
     "output_type": "stream",
     "text": [
      "Deleted existing index 'vegan_papers_index'.\n"
     ]
    }
   ],
   "source": [
    "try:\n",
    "    client.indices.delete(index=index_name)\n",
    "    print(f\"Deleted existing index '{index_name}'.\")\n",
    "except NotFoundError:\n",
    "    print(f\"Index '{index_name}' does not exist.\")"
   ]
  },
  {
   "cell_type": "markdown",
   "metadata": {},
   "source": [
    "## Open-Source Embeddings\n",
    "\n",
    "The Titan model is not great for chatbot use cases, so fine-tuning on our data would be better off left with an open source model. We'll use the Falcon 7B-Instruct model. Moreover, the titan embeddings from bedrock won't let us see the tokenized text, which we need as we are getting an error of too many tokens and need to chunk the text based on the limit of tokens, not text. Thus, an open source model would do better here as we have that flexibility.\n",
    "\n",
    "So essentially we are redoing the vector embeddings section above, but this time using the Falcon model."
   ]
  },
  {
   "cell_type": "markdown",
   "metadata": {},
   "source": [
    "We'll still need this function to convert our transformed data into documents."
   ]
  },
  {
   "cell_type": "code",
   "execution_count": 22,
   "metadata": {
    "vscode": {
     "languageId": "shellscript"
    }
   },
   "outputs": [],
   "source": [
    "def convert_to_doc_format(transformed_data):\n",
    "    documents = []\n",
    "    for content in transformed_data:\n",
    "        doc = Document(page_content=content['body'], metadata=content['meta_data'])\n",
    "        documents.append(doc)\n",
    "    return documents\n",
    "\n",
    "full_docs = convert_to_doc_format(full_pdf_data)"
   ]
  },
  {
   "cell_type": "markdown",
   "metadata": {},
   "source": [
    "Now let's load in our embedding model. We can use langchain function to split by tokens still too."
   ]
  },
  {
   "cell_type": "code",
   "execution_count": 59,
   "metadata": {
    "vscode": {
     "languageId": "shellscript"
    }
   },
   "outputs": [],
   "source": [
    "from transformers import AutoTokenizer\n",
    "from langchain.text_splitter import RecursiveCharacterTextSplitter\n",
    "\n",
    "model = \"tiiuae/falcon-7b-instruct\"\n",
    "\n",
    "tokenizer = AutoTokenizer.from_pretrained(model)"
   ]
  },
  {
   "cell_type": "code",
   "execution_count": 64,
   "metadata": {
    "vscode": {
     "languageId": "shellscript"
    }
   },
   "outputs": [],
   "source": [
    "def tiktoken_len(text):\n",
    "    tokens = tokenizer.encode(text, add_special_tokens=False)\n",
    "    return len(tokens)\n",
    "\n",
    "text_splitter = RecursiveCharacterTextSplitter(\n",
    "    chunk_size=2048,\n",
    "    chunk_overlap=50,\n",
    "    length_function=tiktoken_len,\n",
    "    separators=[\"\\n\\n\", \"\\n\", \" \", \"\"]\n",
    ")"
   ]
  },
  {
   "cell_type": "markdown",
   "metadata": {},
   "source": [
    "Find an example text with token length more than 2048."
   ]
  },
  {
   "cell_type": "code",
   "execution_count": 84,
   "metadata": {
    "vscode": {
     "languageId": "shellscript"
    }
   },
   "outputs": [
    {
     "data": {
      "text/plain": [
       "3277"
      ]
     },
     "execution_count": 84,
     "metadata": {},
     "output_type": "execute_result"
    }
   ],
   "source": [
    "tiktoken_len(full_docs[13].page_content)"
   ]
  },
  {
   "cell_type": "code",
   "execution_count": 86,
   "metadata": {
    "vscode": {
     "languageId": "shellscript"
    }
   },
   "outputs": [
    {
     "name": "stdout",
     "output_type": "stream",
     "text": [
      "['Figures\\xa0Graphical representation of different ingredients used in PBMA preparationDifferent ingredients and their functions used in PBMA-formulationProteins are made up of amino acids that are critical for human health and are mostly used in food processing to create a variety of nutritious diets [Classification of different types of protein used in the preparation of plant-based meat analoguesSoybeans are rich in protein and contain water-soluble and insoluble proteins. Based on the dry weight of mature raw seeds, soybeans have\\u2009~\\u20098.5–13% moisture,\\u2009~\\u200933–40% protein,\\u2009~\\u20093–4% ash,\\u2009~\\u200918–20% fats, and\\u2009~\\u20099–12% fibers [Amount of protein and essential amino acids in various plant and animal protein sources (g/100\\xa0g)Protein/ Essential amino acidsRDAEgg (Dried) BeefMilk (Dried)Soy isolateSoy concentrateDefatted soy flourWheat flourPea seedsLupine seedsSunflower seed kernelsProtein–48.0521.9126.3283.363.6337.09.6123.1236.1720.78Histidine7001.2020.6990.7142.3031.5781.2681.40.5861.030.632Isoleucine14002.4340.9971.5924.2532.9422.2812.00.9831.6151.139Leucine27304.151.7432.5786.7834.9173.8285.01.682.7431.659Lysine2.1003.3391.8522.0875.3273.9293.1291.11.7711.9330.937Methionine1050 *1.4950.5710.661.130.8140.6340.70.1950.2550.494Phenylalanine1750 *2.530.8651.2714.5933.2782.4533.71.1511.4351.169Tryptophan2800.7750.1440.3711.1160.8350.683NM0.1590.2890.348Threonine10502.1290.8751.1883.1372.4742.0421.80.8131.3310.928Valine18202.9911.0871.7624.0983.0642.3462.31.0351.511.315References[[[[[[[[[[[An overview of the functional quality as well as the application potential of different soy ingredientsProtein ingredientsComposition (%w/w)FunctionalityApplication in meat analoguesSoy isolate (alkaline/acid precipitation treatment)\\u2009~\\u200990% proteinGood solubility, gelling, and emulsificationStructuring process: Extrusion, shear cell, spinning, freeze structuring Role: Protein source, texture, binder, the base for fat substitutes, emulsifier Products: Burger patties, minced meat, sausagesSoy isolate (additional heat treatment/ toasted isolate)\\u2009~\\u200990% protein, denatured due to heat treatmentDecreased solubility, increased water holding capacity, good gellingStructuring process: Extrusion, shear cell Role: Protein source, texture, binder, the base for fat substitutes Products: Burger patties, minced meat, sausagesSoy concentrate\\u2009~\\u200970% proteinGood texturization propertiesProcess: Extrusion, Shear cell Role: Protein source, texture, binder Products: Burger patties, minced meat, sausages, muscle-type productsSoy milk (spray-dried powder)\\u2009>\\u200945% protein,\\u2009~\\u200930% fatHigh solubility, good emulsification propertiesProcess: Freeze structuring Role: Emulsifier, texture Products: Tofu and yuba productionSoy flour/meal (defatted)\\u2009~\\u200943–56% protein,\\u2009~\\u20090.5–9% fat,\\u2009~\\u20093–7% crude fiber,\\u2009>\\u200930% total carbohydrateWater binding capacity and fat retention, native proteinProcess: Extrusion Role: Texture, Binder Products: Burger patties, minced meat, sausages, muscle-type productsWheat Gluten isolate75–80% protein, 15–17% carbohydrates, 5–8% fatBinding, Dough forming/ Cross-linking capacity via S–S bridges, low solubilityStructuring process: Extrusion, shear cell Role: Adhesion, texture Products: Burger patties, muscle-type productsPea isolate\\u2009~\\u200985% proteinWater and fat binding, emulsification, and firm texture after thermal processingProcess: Extrusion, shear cell, spinning Role: Emulsifier, texture, Binder Products: Burger patties, minced meat, sausages, muscle-type productsWheat gluten is a significant component of many analogues. Because it is a by-product of the creation of colossal wheat starch, its price is appealing to the industry. In contrast to soy, the insoluble protein is left behind after the soluble and dispersible components of wheat are only removed by washing them with water [Gliadin (prolamin) is soluble in alcohol, whereas glutenin (glutelin) is soluble in diluted acid [Globally, 27% of the beans and pulses in the Additionally, the proteins of lupine, lentils, faba beans, mung beans, and chickpeas are capable of foam and emulsion stabilization [Oilseeds like rapeseed, canola, or sunflower recently have become cynosure along with soy and legumes. However, most seed isolates and concentrates are still not profitably accessible. These impart capabilities for substituting for soy in formulations of plant-based foods. The proteins extracted from by-products of the oil industry make their economic valorization very appealing. The existence of anti-nutritional parameters or polyphenols, which have the potential to interact with proteins and prevent their use in human nutrition, has led to limitations are currently dealt with extraction protocols and fermentation processes [Pseudo-cereals like quinoa seeds have gained popularity as a source of protein as well. Whole seeds and flour, which are less refined quinoa ingredients, were utilized as meat extenders in nuggets in meat products, gelling in mortadella, and fat replacers in burgers [The chia and pumpkin seed proteins are still being studied, so the emphasis is on protein purification (via alkaline pretreatment and dry separation) and the functionality that outcomes [Protein extraction from various plant sourcesProtein sourceExtraction methodProtein content recovered (PC)/Yield (Y) from the conventional methodReferencesSoybean meal (SBM) rapeseed meal (RSM), microalgae meal (MAM)Endoprotease enzyme (Protex 40XL, Protex P, Protex 5L and Protex 26L, Protex 50FE), Incubation—24\\xa0h at 40 ◦C, pH-12, protein concentration-5%SBM-Y-80% RSM and MAM-Y-15–30%[SoybeanAOT concentration-0.06\\xa0g/ ml, KCL concentration-0.05\\xa0g/ml, pH-8.5, time-30\\xa0min, temperature—40 ◦C11S globulin-PC-83.75%[Soybean MilkMW power-675 W, temperature—80 ◦C, stirring-160\\xa0rpmY-3.86\\xa0kg soybean milk/kg of soybean, PC-13.11%[Soybean protein isolatesPEF strength 30\\xa0kV/cm, treatment time 288\\xa0μs–[Defatted wheat germ (DWG)Forward extraction: AOT concentration—0.06\\xa0g/ml, KCl concentration—0.1\\xa0mol/L, Time—30\\xa0min, T-36 ◦C, pH-8, W0 25Y-2.92%[Sunflower2\\xa0M NaCl (Mild acidic extraction) at pH 6 for 60\\xa0min, room temperature23–26% protein recovery with light colored[Sunflower mealPower density-220 W/L, temperature—45 ◦C, time-15\\xa0min, Sample: solvent ratio-0.5/10 (w/v), pH-8Y-54.26%, PC—934.92\\xa0g/kg[FlaxseedEnzymatic solvent extraction, pH-5, enzyme concentration—2%, temperature—37 ◦C, time—4\\xa0hPC-51.05%[Quinoa protein isolates (QPI)5% w/w QPI suspension, Temperature—33 ◦C, 5 passes, pH-7, 0–50\\xa0MPa–[Mungbean0.1 N KOH, pH 9.1, 40\\xa0°C77.32% protein yield with better functional properties[Pea flourIncreasing pH to 9 (1\\xa0M NaOH) Temp 22◦C (room temperature) Centrifuged at 8000\\xa0rpm for 15\\xa0min Isoelectric Precipitation at pH 4.5 (1\\xa0M HCl) Centrifuged at 8000\\xa0rpm for 15\\xa0min at 4◦C, Neutralization by adding 1\\xa0M NaOH88.83%[Chickpea (Desi)Neutralization at pH 7', \"at 8000\\xa0rpm for 15\\xa0min at 4◦C, Neutralization by adding 1\\xa0M NaOH88.83%[Chickpea (Desi)Neutralization at pH 7 (2 N NaOH) Chickpea (Desi) Dehulled Ground Defatted Suspension in water 1:10 (76.5%[Lentil (Red)Suspension in water 1:15 (78.8%[Schematic diagram of enzyme-assisted protein extraction and protein water extractionCereal protein includes various types of protein obtained from rice, wheat, oats, barley, etc. Cereal grain has more protein than legumes but less than soy protein. Among all the cereal proteins, wheat gluten is extensively used due to its low cost and excellent viscoelastic properties which makes it suitable to bind flavour, color, and other ingredients that result in the making of excellent meat analogues [Besides all the above-discussed proteins, several other types of proteins are there such as—corn zein protein, peanuts, potato proteins, pumpkin, etc. can be used in the development of PBMA. Several research studies have already performed such as peanut flour being used in replace of soya flour, potato protein, and corn zein are blended to develop meat mimics the gel-like structure, but no clear results have been obtained till now [The bottom-up design of proteins needed to develop meat analoguesLipids have important functions in terms of providing the meat with juiciness, flavour release, and tenderness in the PBMA. Generally, meat analogues are developed from defatted protein sources that result in lesser fat content in the meat analogues. Therefore to increase the fat content minimally fractionated soy that contains higher fat is used in the manufacturing of fibrous structures like meat analogues [In meat analogues, different flavour generation components and their critical interaction during processing have a crucial role in mimicking specific meat-like tastes and flavors. Meat analogue's taste and flavour predominate its acceptance as a meat alternative to the consumer. Uses of different spices, seasonings, herbs, sugars, salts, and savoury aromas, and their binding capacity to the plant proteins through the extrusion process are directly responsible for meat-like flavour generation [In the consumer's opinion, color is the most important parameter to create a visual appeal for meat analogues in their mind. Each meat has some specific color that changes through different processes such as cooking and smoking. Similarly, meat analogues should have meat mimic color and color change characteristics during processing. Several heat colorings agents such as malt or annatto, turmin, leghemoglobin, erythrosine, cumin, caramel colors, carotene, canthaxanthin, and lycopene have been used to incorporate the meat color and color change characteristics in the meat analogues [Meat analogues are made by combining a variety of ingredients through different texturizing techniques. For optimum binding of all the necessary ingredients (flavor, color, stabilizers, emulsifier, thickeners) several binding and texturing agents such as different natural gums (xanthan gum, guar gum, locust bean gum), carrageenan, hydrocolloids (methylcellulose, hydroxypropyl methylcellulose), wheat gluten, soy protein concentrate, casein are used [In meat analogues, water is a multi-functional ingredient, primarily from providing a hydration effect to the critical conformational change in protein water plays a crucial part in the designing of PBMA. In the extrusion process, high moisture content promotes greater hydrophobic interaction and the creation of disulfide bonds, and H-bonds [Nowadays PBMA is gaining attention worldwide. Several studies reported different formulation compositions (Table\\xa0Different types of plant-based meat analogues formulation composition and their key findingsFormulation compositionsKey findingsReferencesSPC: WG (with ratio 89:0, 79:10, 69:20)\\u2009+\\u20095% vegetable oil\\u2009+\\u20093% pumpkin Powder\\u2009+\\u20092.7% wheat starch\\u2009+\\u20090.3% salt Protein concentrate\\u2009=\\u200959.30%30% Wheat gluten showed optimum hardness, chewiness, and fibrous texture formation of the meat analogues[SPI: WG (3.3:1)\\u2009+\\u20091% NaCl Protein concentrate\\u2009=\\u200930%30\\xa0mm thick highly fibrous structure meat analogues formed[Pectin: SPI (Ratio of varied in 1.3%–4.0%)\\u2009+\\u20091%NaCl Protein concentrate\\u2009=\\u200944%Fibrous elongated filament-like texture formed[SPI: WG (80:20\\u2009−\\u200920:80)\\u2009+\\u20091%NaCl Protein concentration\\u2009=\\u200925%–40%More water absorption makes it suitable for sausage-like meat analogues[WG: SPI blend (40:60, 60:40, 80:20, and100:0)\\u2009+\\u2009soybean oil (2%)\\u2009+\\u2009wheat starch (1%)\\u2009+\\u2009seasoning (1%) Protein concentration\\u2009=\\u200940%A mechanical elongation technique was used to mechanically compress ultrathin filaments into a striated structure[SPC\\u2009+\\u20090.75%, 1.5%, 2.25% and 3% iota—carrageenanThe addition of carrageenan shows promising improvement in the texture of meat analogues[FBPC Protein concentration\\u2009=\\u200963.5% proteinMeat analogues with good firmness, elasticity, and fibrousness were produced[Aqueous fractionated soy protein fractions Protein concentration\\u2009=\\u200968 and 75%Fibrous structure meat analogues are formed with an increase in water-holding capacity and viscoelastic characteristics[PPI and WGCombinations of pea protein and gluten have the potential to produce structured plant protein-based meat analogues[The key steps of formulating and processing plant-based meat analogues using different processing techniques\"]\n",
      "2\n"
     ]
    }
   ],
   "source": [
    "# Example usage\n",
    "text = full_docs[13].page_content\n",
    "chunks = text_splitter.split_text(text)\n",
    "print(chunks)\n",
    "print(len(chunks))"
   ]
  },
  {
   "cell_type": "markdown",
   "metadata": {},
   "source": [
    "So it works. We can make sure by iterating over the full list."
   ]
  },
  {
   "cell_type": "code",
   "execution_count": 88,
   "metadata": {
    "vscode": {
     "languageId": "shellscript"
    }
   },
   "outputs": [
    {
     "name": "stdout",
     "output_type": "stream",
     "text": [
      "13\n",
      "3277\n",
      "['Figures\\xa0Graphical representation of different ingredients used in PBMA preparationDifferent ingredients and their functions used in PBMA-formulationProteins are made up of amino acids that are critical for human health and are mostly used in food processing to create a variety of nutritious diets [Classification of different types of protein used in the preparation of plant-based meat analoguesSoybeans are rich in protein and contain water-soluble and insoluble proteins. Based on the dry weight of mature raw seeds, soybeans have\\u2009~\\u20098.5–13% moisture,\\u2009~\\u200933–40% protein,\\u2009~\\u20093–4% ash,\\u2009~\\u200918–20% fats, and\\u2009~\\u20099–12% fibers [Amount of protein and essential amino acids in various plant and animal protein sources (g/100\\xa0g)Protein/ Essential amino acidsRDAEgg (Dried) BeefMilk (Dried)Soy isolateSoy concentrateDefatted soy flourWheat flourPea seedsLupine seedsSunflower seed kernelsProtein–48.0521.9126.3283.363.6337.09.6123.1236.1720.78Histidine7001.2020.6990.7142.3031.5781.2681.40.5861.030.632Isoleucine14002.4340.9971.5924.2532.9422.2812.00.9831.6151.139Leucine27304.151.7432.5786.7834.9173.8285.01.682.7431.659Lysine2.1003.3391.8522.0875.3273.9293.1291.11.7711.9330.937Methionine1050 *1.4950.5710.661.130.8140.6340.70.1950.2550.494Phenylalanine1750 *2.530.8651.2714.5933.2782.4533.71.1511.4351.169Tryptophan2800.7750.1440.3711.1160.8350.683NM0.1590.2890.348Threonine10502.1290.8751.1883.1372.4742.0421.80.8131.3310.928Valine18202.9911.0871.7624.0983.0642.3462.31.0351.511.315References[[[[[[[[[[[An overview of the functional quality as well as the application potential of different soy ingredientsProtein ingredientsComposition (%w/w)FunctionalityApplication in meat analoguesSoy isolate (alkaline/acid precipitation treatment)\\u2009~\\u200990% proteinGood solubility, gelling, and emulsificationStructuring process: Extrusion, shear cell, spinning, freeze structuring Role: Protein source, texture, binder, the base for fat substitutes, emulsifier Products: Burger patties, minced meat, sausagesSoy isolate (additional heat treatment/ toasted isolate)\\u2009~\\u200990% protein, denatured due to heat treatmentDecreased solubility, increased water holding capacity, good gellingStructuring process: Extrusion, shear cell Role: Protein source, texture, binder, the base for fat substitutes Products: Burger patties, minced meat, sausagesSoy concentrate\\u2009~\\u200970% proteinGood texturization propertiesProcess: Extrusion, Shear cell Role: Protein source, texture, binder Products: Burger patties, minced meat, sausages, muscle-type productsSoy milk (spray-dried powder)\\u2009>\\u200945% protein,\\u2009~\\u200930% fatHigh solubility, good emulsification propertiesProcess: Freeze structuring Role: Emulsifier, texture Products: Tofu and yuba productionSoy flour/meal (defatted)\\u2009~\\u200943–56% protein,\\u2009~\\u20090.5–9% fat,\\u2009~\\u20093–7% crude fiber,\\u2009>\\u200930% total carbohydrateWater binding capacity and fat retention, native proteinProcess: Extrusion Role: Texture, Binder Products: Burger patties, minced meat, sausages, muscle-type productsWheat Gluten isolate75–80% protein, 15–17% carbohydrates, 5–8% fatBinding, Dough forming/ Cross-linking capacity via S–S bridges, low solubilityStructuring process: Extrusion, shear cell Role: Adhesion, texture Products: Burger patties, muscle-type productsPea isolate\\u2009~\\u200985% proteinWater and fat binding, emulsification, and firm texture after thermal processingProcess: Extrusion, shear cell, spinning Role: Emulsifier, texture, Binder Products: Burger patties, minced meat, sausages, muscle-type productsWheat gluten is a significant component of many analogues. Because it is a by-product of the creation of colossal wheat starch, its price is appealing to the industry. In contrast to soy, the insoluble protein is left behind after the soluble and dispersible components of wheat are only removed by washing them with water [Gliadin (prolamin) is soluble in alcohol, whereas glutenin (glutelin) is soluble in diluted acid [Globally, 27% of the beans and pulses in the Additionally, the proteins of lupine, lentils, faba beans, mung beans, and chickpeas are capable of foam and emulsion stabilization [Oilseeds like rapeseed, canola, or sunflower recently have become cynosure along with soy and legumes. However, most seed isolates and concentrates are still not profitably accessible. These impart capabilities for substituting for soy in formulations of plant-based foods. The proteins extracted from by-products of the oil industry make their economic valorization very appealing. The existence of anti-nutritional parameters or polyphenols, which have the potential to interact with proteins and prevent their use in human nutrition, has led to limitations are currently dealt with extraction protocols and fermentation processes [Pseudo-cereals like quinoa seeds have gained popularity as a source of protein as well. Whole seeds and flour, which are less refined quinoa ingredients, were utilized as meat extenders in nuggets in meat products, gelling in mortadella, and fat replacers in burgers [The chia and pumpkin seed proteins are still being studied, so the emphasis is on protein purification (via alkaline pretreatment and dry separation) and the functionality that outcomes [Protein extraction from various plant sourcesProtein sourceExtraction methodProtein content recovered (PC)/Yield (Y) from the conventional methodReferencesSoybean meal (SBM) rapeseed meal (RSM), microalgae meal (MAM)Endoprotease enzyme (Protex 40XL, Protex P, Protex 5L and Protex 26L, Protex 50FE), Incubation—24\\xa0h at 40 ◦C, pH-12, protein concentration-5%SBM-Y-80% RSM and MAM-Y-15–30%[SoybeanAOT concentration-0.06\\xa0g/ ml, KCL concentration-0.05\\xa0g/ml, pH-8.5, time-30\\xa0min, temperature—40 ◦C11S globulin-PC-83.75%[Soybean MilkMW power-675 W, temperature—80 ◦C, stirring-160\\xa0rpmY-3.86\\xa0kg soybean milk/kg of soybean, PC-13.11%[Soybean protein isolatesPEF strength 30\\xa0kV/cm, treatment time 288\\xa0μs–[Defatted wheat germ (DWG)Forward extraction: AOT concentration—0.06\\xa0g/ml, KCl concentration—0.1\\xa0mol/L, Time—30\\xa0min, T-36 ◦C, pH-8, W0 25Y-2.92%[Sunflower2\\xa0M NaCl (Mild acidic extraction) at pH 6 for 60\\xa0min, room temperature23–26% protein recovery with light colored[Sunflower mealPower density-220 W/L, temperature—45 ◦C, time-15\\xa0min, Sample: solvent ratio-0.5/10 (w/v), pH-8Y-54.26%, PC—934.92\\xa0g/kg[FlaxseedEnzymatic solvent extraction, pH-5, enzyme concentration—2%, temperature—37 ◦C, time—4\\xa0hPC-51.05%[Quinoa protein isolates (QPI)5% w/w QPI suspension, Temperature—33 ◦C, 5 passes, pH-7, 0–50\\xa0MPa–[Mungbean0.1 N KOH, pH 9.1, 40\\xa0°C77.32% protein yield with better functional properties[Pea flourIncreasing pH to 9 (1\\xa0M NaOH) Temp 22◦C (room temperature) Centrifuged at 8000\\xa0rpm for 15\\xa0min Isoelectric Precipitation at pH 4.5 (1\\xa0M HCl) Centrifuged at 8000\\xa0rpm for 15\\xa0min at 4◦C, Neutralization by adding 1\\xa0M NaOH88.83%[Chickpea (Desi)Neutralization at pH 7', \"at 8000\\xa0rpm for 15\\xa0min at 4◦C, Neutralization by adding 1\\xa0M NaOH88.83%[Chickpea (Desi)Neutralization at pH 7 (2 N NaOH) Chickpea (Desi) Dehulled Ground Defatted Suspension in water 1:10 (76.5%[Lentil (Red)Suspension in water 1:15 (78.8%[Schematic diagram of enzyme-assisted protein extraction and protein water extractionCereal protein includes various types of protein obtained from rice, wheat, oats, barley, etc. Cereal grain has more protein than legumes but less than soy protein. Among all the cereal proteins, wheat gluten is extensively used due to its low cost and excellent viscoelastic properties which makes it suitable to bind flavour, color, and other ingredients that result in the making of excellent meat analogues [Besides all the above-discussed proteins, several other types of proteins are there such as—corn zein protein, peanuts, potato proteins, pumpkin, etc. can be used in the development of PBMA. Several research studies have already performed such as peanut flour being used in replace of soya flour, potato protein, and corn zein are blended to develop meat mimics the gel-like structure, but no clear results have been obtained till now [The bottom-up design of proteins needed to develop meat analoguesLipids have important functions in terms of providing the meat with juiciness, flavour release, and tenderness in the PBMA. Generally, meat analogues are developed from defatted protein sources that result in lesser fat content in the meat analogues. Therefore to increase the fat content minimally fractionated soy that contains higher fat is used in the manufacturing of fibrous structures like meat analogues [In meat analogues, different flavour generation components and their critical interaction during processing have a crucial role in mimicking specific meat-like tastes and flavors. Meat analogue's taste and flavour predominate its acceptance as a meat alternative to the consumer. Uses of different spices, seasonings, herbs, sugars, salts, and savoury aromas, and their binding capacity to the plant proteins through the extrusion process are directly responsible for meat-like flavour generation [In the consumer's opinion, color is the most important parameter to create a visual appeal for meat analogues in their mind. Each meat has some specific color that changes through different processes such as cooking and smoking. Similarly, meat analogues should have meat mimic color and color change characteristics during processing. Several heat colorings agents such as malt or annatto, turmin, leghemoglobin, erythrosine, cumin, caramel colors, carotene, canthaxanthin, and lycopene have been used to incorporate the meat color and color change characteristics in the meat analogues [Meat analogues are made by combining a variety of ingredients through different texturizing techniques. For optimum binding of all the necessary ingredients (flavor, color, stabilizers, emulsifier, thickeners) several binding and texturing agents such as different natural gums (xanthan gum, guar gum, locust bean gum), carrageenan, hydrocolloids (methylcellulose, hydroxypropyl methylcellulose), wheat gluten, soy protein concentrate, casein are used [In meat analogues, water is a multi-functional ingredient, primarily from providing a hydration effect to the critical conformational change in protein water plays a crucial part in the designing of PBMA. In the extrusion process, high moisture content promotes greater hydrophobic interaction and the creation of disulfide bonds, and H-bonds [Nowadays PBMA is gaining attention worldwide. Several studies reported different formulation compositions (Table\\xa0Different types of plant-based meat analogues formulation composition and their key findingsFormulation compositionsKey findingsReferencesSPC: WG (with ratio 89:0, 79:10, 69:20)\\u2009+\\u20095% vegetable oil\\u2009+\\u20093% pumpkin Powder\\u2009+\\u20092.7% wheat starch\\u2009+\\u20090.3% salt Protein concentrate\\u2009=\\u200959.30%30% Wheat gluten showed optimum hardness, chewiness, and fibrous texture formation of the meat analogues[SPI: WG (3.3:1)\\u2009+\\u20091% NaCl Protein concentrate\\u2009=\\u200930%30\\xa0mm thick highly fibrous structure meat analogues formed[Pectin: SPI (Ratio of varied in 1.3%–4.0%)\\u2009+\\u20091%NaCl Protein concentrate\\u2009=\\u200944%Fibrous elongated filament-like texture formed[SPI: WG (80:20\\u2009−\\u200920:80)\\u2009+\\u20091%NaCl Protein concentration\\u2009=\\u200925%–40%More water absorption makes it suitable for sausage-like meat analogues[WG: SPI blend (40:60, 60:40, 80:20, and100:0)\\u2009+\\u2009soybean oil (2%)\\u2009+\\u2009wheat starch (1%)\\u2009+\\u2009seasoning (1%) Protein concentration\\u2009=\\u200940%A mechanical elongation technique was used to mechanically compress ultrathin filaments into a striated structure[SPC\\u2009+\\u20090.75%, 1.5%, 2.25% and 3% iota—carrageenanThe addition of carrageenan shows promising improvement in the texture of meat analogues[FBPC Protein concentration\\u2009=\\u200963.5% proteinMeat analogues with good firmness, elasticity, and fibrousness were produced[Aqueous fractionated soy protein fractions Protein concentration\\u2009=\\u200968 and 75%Fibrous structure meat analogues are formed with an increase in water-holding capacity and viscoelastic characteristics[PPI and WGCombinations of pea protein and gluten have the potential to produce structured plant protein-based meat analogues[The key steps of formulating and processing plant-based meat analogues using different processing techniques\"]\n",
      "2\n",
      "\n",
      "\n",
      "14\n",
      "2774\n",
      "['Figures\\xa0Graphical representation of different ingredients used in PBMA preparationDifferent ingredients and their functions used in PBMA-formulationProteins are made up of amino acids that are critical for human health and are mostly used in food processing to create a variety of nutritious diets [Classification of different types of protein used in the preparation of plant-based meat analoguesSoybeans are rich in protein and contain water-soluble and insoluble proteins. Based on the dry weight of mature raw seeds, soybeans have\\u2009~\\u20098.5–13% moisture,\\u2009~\\u200933–40% protein,\\u2009~\\u20093–4% ash,\\u2009~\\u200918–20% fats, and\\u2009~\\u20099–12% fibers [Amount of protein and essential amino acids in various plant and animal protein sources (g/100\\xa0g)Protein/ Essential amino acidsRDAEgg (Dried) BeefMilk (Dried)Soy isolateSoy concentrateDefatted soy flourWheat flourPea seedsLupine seedsSunflower seed kernelsProtein–48.0521.9126.3283.363.6337.09.6123.1236.1720.78Histidine7001.2020.6990.7142.3031.5781.2681.40.5861.030.632Isoleucine14002.4340.9971.5924.2532.9422.2812.00.9831.6151.139Leucine27304.151.7432.5786.7834.9173.8285.01.682.7431.659Lysine2.1003.3391.8522.0875.3273.9293.1291.11.7711.9330.937Methionine1050 *1.4950.5710.661.130.8140.6340.70.1950.2550.494Phenylalanine1750 *2.530.8651.2714.5933.2782.4533.71.1511.4351.169Tryptophan2800.7750.1440.3711.1160.8350.683NM0.1590.2890.348Threonine10502.1290.8751.1883.1372.4742.0421.80.8131.3310.928Valine18202.9911.0871.7624.0983.0642.3462.31.0351.511.315References[[[[[[[[[[[An overview of the functional quality as well as the application potential of different soy ingredientsProtein ingredientsComposition (%w/w)FunctionalityApplication in meat analoguesSoy isolate (alkaline/acid precipitation treatment)\\u2009~\\u200990% proteinGood solubility, gelling, and emulsificationStructuring process: Extrusion, shear cell, spinning, freeze structuring Role: Protein source, texture, binder, the base for fat substitutes, emulsifier Products: Burger patties, minced meat, sausagesSoy isolate (additional heat treatment/ toasted isolate)\\u2009~\\u200990% protein, denatured due to heat treatmentDecreased solubility, increased water holding capacity, good gellingStructuring process: Extrusion, shear cell Role: Protein source, texture, binder, the base for fat substitutes Products: Burger patties, minced meat, sausagesSoy concentrate\\u2009~\\u200970% proteinGood texturization propertiesProcess: Extrusion, Shear cell Role: Protein source, texture, binder Products: Burger patties, minced meat, sausages, muscle-type productsSoy milk (spray-dried powder)\\u2009>\\u200945% protein,\\u2009~\\u200930% fatHigh solubility, good emulsification propertiesProcess: Freeze structuring Role: Emulsifier, texture Products: Tofu and yuba productionSoy flour/meal (defatted)\\u2009~\\u200943–56% protein,\\u2009~\\u20090.5–9% fat,\\u2009~\\u20093–7% crude fiber,\\u2009>\\u200930% total carbohydrateWater binding capacity and fat retention, native proteinProcess: Extrusion Role: Texture, Binder Products: Burger patties, minced meat, sausages, muscle-type productsWheat Gluten isolate75–80% protein, 15–17% carbohydrates, 5–8% fatBinding, Dough forming/ Cross-linking capacity via S–S bridges, low solubilityStructuring process: Extrusion, shear cell Role: Adhesion, texture Products: Burger patties, muscle-type productsPea isolate\\u2009~\\u200985% proteinWater and fat binding, emulsification, and firm texture after thermal processingProcess: Extrusion, shear cell, spinning Role: Emulsifier, texture, Binder Products: Burger patties, minced meat, sausages, muscle-type productsWheat gluten is a significant component of many analogues. Because it is a by-product of the creation of colossal wheat starch, its price is appealing to the industry. In contrast to soy, the insoluble protein is left behind after the soluble and dispersible components of wheat are only removed by washing them with water [Gliadin (prolamin) is soluble in alcohol, whereas glutenin (glutelin) is soluble in diluted acid [Globally, 27% of the beans and pulses in the Additionally, the proteins of lupine, lentils, faba beans, mung beans, and chickpeas are capable of foam and emulsion stabilization [Oilseeds like rapeseed, canola, or sunflower recently have become cynosure along with soy and legumes. However, most seed isolates and concentrates are still not profitably accessible. These impart capabilities for substituting for soy in formulations of plant-based foods. The proteins extracted from by-products of the oil industry make their economic valorization very appealing. The existence of anti-nutritional parameters or polyphenols, which have the potential to interact with proteins and prevent their use in human nutrition, has led to limitations are currently dealt with extraction protocols and fermentation processes [Pseudo-cereals like quinoa seeds have gained popularity as a source of protein as well. Whole seeds and flour, which are less refined quinoa ingredients, were utilized as meat extenders in nuggets in meat products, gelling in mortadella, and fat replacers in burgers [The chia and pumpkin seed proteins are still being studied, so the emphasis is on protein purification (via alkaline pretreatment and dry separation) and the functionality that outcomes [Protein extraction from various plant sourcesProtein sourceExtraction methodProtein content recovered (PC)/Yield (Y) from the conventional methodReferencesSoybean meal (SBM) rapeseed meal (RSM), microalgae meal (MAM)Endoprotease enzyme (Protex 40XL, Protex P, Protex 5L and Protex 26L, Protex 50FE), Incubation—24\\xa0h at 40 ◦C, pH-12, protein concentration-5%SBM-Y-80% RSM and MAM-Y-15–30%[SoybeanAOT concentration-0.06\\xa0g/ ml, KCL concentration-0.05\\xa0g/ml, pH-8.5, time-30\\xa0min, temperature—40 ◦C11S globulin-PC-83.75%[Soybean MilkMW power-675 W, temperature—80 ◦C, stirring-160\\xa0rpmY-3.86\\xa0kg soybean milk/kg of soybean, PC-13.11%[Soybean protein isolatesPEF strength 30\\xa0kV/cm, treatment time 288\\xa0μs–[Defatted wheat germ (DWG)Forward extraction: AOT concentration—0.06\\xa0g/ml, KCl concentration—0.1\\xa0mol/L, Time—30\\xa0min, T-36 ◦C, pH-8, W0 25Y-2.92%[Sunflower2\\xa0M NaCl (Mild acidic extraction) at pH 6 for 60\\xa0min, room temperature23–26% protein recovery with light colored[Sunflower mealPower density-220 W/L, temperature—45 ◦C, time-15\\xa0min, Sample: solvent ratio-0.5/10 (w/v), pH-8Y-54.26%, PC—934.92\\xa0g/kg[FlaxseedEnzymatic solvent extraction, pH-5, enzyme concentration—2%, temperature—37 ◦C, time—4\\xa0hPC-51.05%[Quinoa protein isolates (QPI)5% w/w QPI suspension, Temperature—33 ◦C, 5 passes, pH-7, 0–50\\xa0MPa–[Mungbean0.1 N KOH, pH 9.1, 40\\xa0°C77.32% protein yield with better functional properties[Pea flourIncreasing pH to 9 (1\\xa0M NaOH) Temp 22◦C (room temperature) Centrifuged at 8000\\xa0rpm for 15\\xa0min Isoelectric Precipitation at pH 4.5 (1\\xa0M HCl) Centrifuged at 8000\\xa0rpm for 15\\xa0min at 4◦C, Neutralization by adding 1\\xa0M NaOH88.83%[Chickpea (Desi)Neutralization at pH 7', \"at 8000\\xa0rpm for 15\\xa0min at 4◦C, Neutralization by adding 1\\xa0M NaOH88.83%[Chickpea (Desi)Neutralization at pH 7 (2 N NaOH) Chickpea (Desi) Dehulled Ground Defatted Suspension in water 1:10 (76.5%[Lentil (Red)Suspension in water 1:15 (78.8%[Schematic diagram of enzyme-assisted protein extraction and protein water extractionCereal protein includes various types of protein obtained from rice, wheat, oats, barley, etc. Cereal grain has more protein than legumes but less than soy protein. Among all the cereal proteins, wheat gluten is extensively used due to its low cost and excellent viscoelastic properties which makes it suitable to bind flavour, color, and other ingredients that result in the making of excellent meat analogues [Besides all the above-discussed proteins, several other types of proteins are there such as—corn zein protein, peanuts, potato proteins, pumpkin, etc. can be used in the development of PBMA. Several research studies have already performed such as peanut flour being used in replace of soya flour, potato protein, and corn zein are blended to develop meat mimics the gel-like structure, but no clear results have been obtained till now [The bottom-up design of proteins needed to develop meat analoguesLipids have important functions in terms of providing the meat with juiciness, flavour release, and tenderness in the PBMA. Generally, meat analogues are developed from defatted protein sources that result in lesser fat content in the meat analogues. Therefore to increase the fat content minimally fractionated soy that contains higher fat is used in the manufacturing of fibrous structures like meat analogues [In meat analogues, different flavour generation components and their critical interaction during processing have a crucial role in mimicking specific meat-like tastes and flavors. Meat analogue's taste and flavour predominate its acceptance as a meat alternative to the consumer. Uses of different spices, seasonings, herbs, sugars, salts, and savoury aromas, and their binding capacity to the plant proteins through the extrusion process are directly responsible for meat-like flavour generation [In the consumer's opinion, color is the most important parameter to create a visual appeal for meat analogues in their mind. Each meat has some specific color that changes through different processes such as cooking and smoking. Similarly, meat analogues should have meat mimic color and color change characteristics during processing. Several heat colorings agents such as malt or annatto, turmin, leghemoglobin, erythrosine, cumin, caramel colors, carotene, canthaxanthin, and lycopene have been used to incorporate the meat color and color change characteristics in the meat analogues [Meat analogues are made by combining a variety of ingredients through different texturizing techniques. For optimum binding of all the necessary ingredients (flavor, color, stabilizers, emulsifier, thickeners) several binding and texturing agents such as different natural gums (xanthan gum, guar gum, locust bean gum), carrageenan, hydrocolloids (methylcellulose, hydroxypropyl methylcellulose), wheat gluten, soy protein concentrate, casein are used [In meat analogues, water is a multi-functional ingredient, primarily from providing a hydration effect to the critical conformational change in protein water plays a crucial part in the designing of PBMA. In the extrusion process, high moisture content promotes greater hydrophobic interaction and the creation of disulfide bonds, and H-bonds [\"]\n",
      "2\n",
      "\n",
      "\n",
      "15\n",
      "2280\n",
      "['Proteins are made up of amino acids that are critical for human health and are mostly used in food processing to create a variety of nutritious diets [Classification of different types of protein used in the preparation of plant-based meat analoguesSoybeans are rich in protein and contain water-soluble and insoluble proteins. Based on the dry weight of mature raw seeds, soybeans have\\u2009~\\u20098.5–13% moisture,\\u2009~\\u200933–40% protein,\\u2009~\\u20093–4% ash,\\u2009~\\u200918–20% fats, and\\u2009~\\u20099–12% fibers [Amount of protein and essential amino acids in various plant and animal protein sources (g/100\\xa0g)Protein/ Essential amino acidsRDAEgg (Dried) BeefMilk (Dried)Soy isolateSoy concentrateDefatted soy flourWheat flourPea seedsLupine seedsSunflower seed kernelsProtein–48.0521.9126.3283.363.6337.09.6123.1236.1720.78Histidine7001.2020.6990.7142.3031.5781.2681.40.5861.030.632Isoleucine14002.4340.9971.5924.2532.9422.2812.00.9831.6151.139Leucine27304.151.7432.5786.7834.9173.8285.01.682.7431.659Lysine2.1003.3391.8522.0875.3273.9293.1291.11.7711.9330.937Methionine1050 *1.4950.5710.661.130.8140.6340.70.1950.2550.494Phenylalanine1750 *2.530.8651.2714.5933.2782.4533.71.1511.4351.169Tryptophan2800.7750.1440.3711.1160.8350.683NM0.1590.2890.348Threonine10502.1290.8751.1883.1372.4742.0421.80.8131.3310.928Valine18202.9911.0871.7624.0983.0642.3462.31.0351.511.315References[[[[[[[[[[[An overview of the functional quality as well as the application potential of different soy ingredientsProtein ingredientsComposition (%w/w)FunctionalityApplication in meat analoguesSoy isolate (alkaline/acid precipitation treatment)\\u2009~\\u200990% proteinGood solubility, gelling, and emulsificationStructuring process: Extrusion, shear cell, spinning, freeze structuring Role: Protein source, texture, binder, the base for fat substitutes, emulsifier Products: Burger patties, minced meat, sausagesSoy isolate (additional heat treatment/ toasted isolate)\\u2009~\\u200990% protein, denatured due to heat treatmentDecreased solubility, increased water holding capacity, good gellingStructuring process: Extrusion, shear cell Role: Protein source, texture, binder, the base for fat substitutes Products: Burger patties, minced meat, sausagesSoy concentrate\\u2009~\\u200970% proteinGood texturization propertiesProcess: Extrusion, Shear cell Role: Protein source, texture, binder Products: Burger patties, minced meat, sausages, muscle-type productsSoy milk (spray-dried powder)\\u2009>\\u200945% protein,\\u2009~\\u200930% fatHigh solubility, good emulsification propertiesProcess: Freeze structuring Role: Emulsifier, texture Products: Tofu and yuba productionSoy flour/meal (defatted)\\u2009~\\u200943–56% protein,\\u2009~\\u20090.5–9% fat,\\u2009~\\u20093–7% crude fiber,\\u2009>\\u200930% total carbohydrateWater binding capacity and fat retention, native proteinProcess: Extrusion Role: Texture, Binder Products: Burger patties, minced meat, sausages, muscle-type productsWheat Gluten isolate75–80% protein, 15–17% carbohydrates, 5–8% fatBinding, Dough forming/ Cross-linking capacity via S–S bridges, low solubilityStructuring process: Extrusion, shear cell Role: Adhesion, texture Products: Burger patties, muscle-type productsPea isolate\\u2009~\\u200985% proteinWater and fat binding, emulsification, and firm texture after thermal processingProcess: Extrusion, shear cell, spinning Role: Emulsifier, texture, Binder Products: Burger patties, minced meat, sausages, muscle-type productsWheat gluten is a significant component of many analogues. Because it is a by-product of the creation of colossal wheat starch, its price is appealing to the industry. In contrast to soy, the insoluble protein is left behind after the soluble and dispersible components of wheat are only removed by washing them with water [Gliadin (prolamin) is soluble in alcohol, whereas glutenin (glutelin) is soluble in diluted acid [Globally, 27% of the beans and pulses in the Additionally, the proteins of lupine, lentils, faba beans, mung beans, and chickpeas are capable of foam and emulsion stabilization [Oilseeds like rapeseed, canola, or sunflower recently have become cynosure along with soy and legumes. However, most seed isolates and concentrates are still not profitably accessible. These impart capabilities for substituting for soy in formulations of plant-based foods. The proteins extracted from by-products of the oil industry make their economic valorization very appealing. The existence of anti-nutritional parameters or polyphenols, which have the potential to interact with proteins and prevent their use in human nutrition, has led to limitations are currently dealt with extraction protocols and fermentation processes [Pseudo-cereals like quinoa seeds have gained popularity as a source of protein as well. Whole seeds and flour, which are less refined quinoa ingredients, were utilized as meat extenders in nuggets in meat products, gelling in mortadella, and fat replacers in burgers [The chia and pumpkin seed proteins are still being studied, so the emphasis is on protein purification (via alkaline pretreatment and dry separation) and the functionality that outcomes [Protein extraction from various plant sourcesProtein sourceExtraction methodProtein content recovered (PC)/Yield (Y) from the conventional methodReferencesSoybean meal (SBM) rapeseed meal (RSM), microalgae meal (MAM)Endoprotease enzyme (Protex 40XL, Protex P, Protex 5L and Protex 26L, Protex 50FE), Incubation—24\\xa0h at 40 ◦C, pH-12, protein concentration-5%SBM-Y-80% RSM and MAM-Y-15–30%[SoybeanAOT concentration-0.06\\xa0g/ ml, KCL concentration-0.05\\xa0g/ml, pH-8.5, time-30\\xa0min, temperature—40 ◦C11S globulin-PC-83.75%[Soybean MilkMW power-675 W, temperature—80 ◦C, stirring-160\\xa0rpmY-3.86\\xa0kg soybean milk/kg of soybean, PC-13.11%[Soybean protein isolatesPEF strength 30\\xa0kV/cm, treatment time 288\\xa0μs–[Defatted wheat germ (DWG)Forward extraction: AOT concentration—0.06\\xa0g/ml, KCl concentration—0.1\\xa0mol/L, Time—30\\xa0min, T-36 ◦C, pH-8, W0 25Y-2.92%[Sunflower2\\xa0M NaCl (Mild acidic extraction) at pH 6 for 60\\xa0min, room temperature23–26% protein recovery with light colored[Sunflower mealPower density-220 W/L, temperature—45 ◦C, time-15\\xa0min, Sample: solvent ratio-0.5/10 (w/v), pH-8Y-54.26%, PC—934.92\\xa0g/kg[FlaxseedEnzymatic solvent extraction, pH-5, enzyme concentration—2%, temperature—37 ◦C, time—4\\xa0hPC-51.05%[Quinoa protein isolates (QPI)5% w/w QPI suspension, Temperature—33 ◦C, 5 passes, pH-7, 0–50\\xa0MPa–[Mungbean0.1 N KOH, pH 9.1, 40\\xa0°C77.32% protein yield with better functional properties[Pea flourIncreasing pH to 9 (1\\xa0M NaOH) Temp 22◦C (room temperature) Centrifuged at 8000\\xa0rpm for 15\\xa0min Isoelectric Precipitation at pH 4.5 (1\\xa0M HCl) Centrifuged at 8000\\xa0rpm for 15\\xa0min at 4◦C, Neutralization by adding 1\\xa0M NaOH88.83%[Chickpea (Desi)Neutralization at pH 7 (2 N NaOH) Chickpea (Desi) Dehulled Ground Defatted Suspension in water 1:10', '(Desi)Neutralization at pH 7 (2 N NaOH) Chickpea (Desi) Dehulled Ground Defatted Suspension in water 1:10 (76.5%[Lentil (Red)Suspension in water 1:15 (78.8%[Schematic diagram of enzyme-assisted protein extraction and protein water extractionCereal protein includes various types of protein obtained from rice, wheat, oats, barley, etc. Cereal grain has more protein than legumes but less than soy protein. Among all the cereal proteins, wheat gluten is extensively used due to its low cost and excellent viscoelastic properties which makes it suitable to bind flavour, color, and other ingredients that result in the making of excellent meat analogues [Besides all the above-discussed proteins, several other types of proteins are there such as—corn zein protein, peanuts, potato proteins, pumpkin, etc. can be used in the development of PBMA. Several research studies have already performed such as peanut flour being used in replace of soya flour, potato protein, and corn zein are blended to develop meat mimics the gel-like structure, but no clear results have been obtained till now [The bottom-up design of proteins needed to develop meat analogues']\n",
      "2\n",
      "\n",
      "\n",
      "33\n",
      "3642\n",
      "['The behavior of plant proteins involved in the designing of meat analogues is highly related to their functional properties [Functional properties of plant proteins that can be used for the formulation of meat analoguesFunctional propertiesPlant material or sourceValuesRemarksReferencesBulk density (g cmRegular flours0.34–0.63High protein content contributed to lower powder bulk density[Protein-rich pseudocereal flours0.24–0.47Amygdalus pedunculata pall seed (0.107It had a good dispersivity[Sesame bran protein (0.13–0.32The spray-dried powder had a larger bulk density than the freeze-dried one[Soy press cakes (1.10The bulk density of soy press cakes significantly reduced after fermentation or hydrolysis[Solubility (Isoelectric point, pH)Red lentils seed (5.0The solubility pattern of the samples from different origins was similar[Avocado oil processing by-product (4.5It was closely related to the zeta potential[Amygdalus pedunculata Pall seed (4.0The solubility reached 94.2% at pH 6.0, and there was no obvious change when the pH continued to increase[Bell pepper seed (4.0It was significantly higher at alkaline pH than at acidic pH[Mung bean seed (5.0It could be appropriate for use in alkaline formulation foods[Pea flour (4.5The solubility could be controlled by pH and ionic strength[Drumstick tree leaf (4.0–5.0Maximum solubility was obtained at pH 9.0 (92.72%)[Water retention capacity (g gAvocado oil processing by-product (6.60It was higher than those of soy protein[Bell pepper seed (2.78It might be appropriate for food products that require high water retention capacity[Red lentils (3.1–3.5The samples examined in this study had good abilities to retain water[Hyacinth bean seed (1.28–2.54Disruption of the protein structure resulted in a low water retention capacity[Fat retention capacity (g gAvocado oil processing by-product (5.53It was higher than those of soy protein[Amygdalus pedunculata pall seed (3.54It was higher than that of soybean (2.43) and walnut (2.81), but lower than tree peony (6.93)[Bell pepper seed (4.57It could be utilized in the food industry, such as in meat substitutes and extenders[Red lentils (5.8–7.3It showed significant differences between samples of different origins[Hyacinth bean seed (2.37–2.99The higher values reflected the higher ratio of non-polar to polar amino acids[Emulsification property (ECI, mQuinoa seed (1.24–3.38/30.37–46.34The emulsification property was significantly increased with increasing protein concentration[Red lentils (9.6–25.1/9.1–25.9High solubility was essential for the good emulsifying ability[Mung bean (50.02–117.05/2.31 −39.62Protein molecules aggregation at the isoelectric point decreased the emulsification property[Tigernut sedge nut (40.73/−The smaller the particle size was, the better the emulsion stability was[Hyacinth bean seed (88.89–100/20.15–37.00The emulsification property was positively related to solubility[Foaming property (FCI, %/FSI, %)Bell pepper seed (152.67–354.33/113.33 to 119.00It exhibited better foaming capacity than proteins from other plant sources under low-salt conditions[Quinoa seed (58.37–78.62/54.54–83.55Foaming capacity was significantly increased with the increase in protein concentration[Mung bean (62.50/95.20It had a wide application in food processing such as ice creams, cakes, and meringues in neutral and alkaline environments[Hyacinth bean seed (30.33–123.33/27.32–84.44It may be used in food formulations such as ice cream, marshmallows, cake, and desserts[Gel forming ability (LGC, %/GS, g.cm)Mung bean (13%/−It had better gel properties than northern bean albumin, pea protein isolates, and pinto bean protein[Hyacinth bean seed (16%/−The water retention capability is related to the gelation properties[Soybean seed (–/113.12Soybean proteins formed good gel by coagulating with citric acid[Soy protein isolate (15%/−Rice protein required a much higher concentration to form a firm gel[Rice protein isolate (35%/−Film forming property (WVP, 10Quinoa seeds (1.98–4.76/1.88–4.28This increased solubility resulted in the improvement of film-forming property[Sesame seeds (10.87–13.57/8.29The higher purity of protein and higher crystallinity of the obtained films were reasons for the difference in film-forming property[Mung bean seed (10.76/3.33Film forming property was related to free volume, molecular mobility, and flexibility of the mung bean protein chains[Binding property (BC, 10Soybean seed (0.03–97.43/0.77–1.65The binding affinities of quercetin/rutin toward 7S/11S were structure-dependent[Coconut skim milk (40.1–122.2/0.81–1.48The binding of vanillin to coconut protein was enthalpy driven[Soybean β-conglycinin and glycinin0.23–143.88 /0.98–1.75The binding interactions of these flavonoids to 7S and 11S were structure dependent[Extrudability (SME, kJ/TD, kg/)Soy protein concentrate (1029.03/1.03Gums promoted the fiber formation[Pea protein isolate (985.07/1.30Fatty acids protected the initial protein structure and improved its flexibility and flowability[Peanut protein powder (660.56–1135.67/0.88–1.33SME is determined by the moisture content and the energy input intensity[“–” indicates not availableIn industrialized meat analog processing, plant protein materials generally exist in the form of powder. The bulk density is a critical parameter for powdered materials as it affects package size and method, the fluidity from one container to another through pipes, and solubility in the formulating process [Alonso-Miravalles et al. [Solubility is the first functional property usually determined during the development and testing of new protein ingredients, which is because it is a pre-requisite for other functionalities including the emulsification property, foaming property, and gel-forming ability, etc. [Effects of processing operations on functional properties of plant proteinsPhysical operationsOperation parametersPlant material or sourceFunctional propertiesReferencesHigh pressure homogenization40—140\\xa0MPaTigernut sedge nut (ECI↑↓, ESI↑↓[10—50\\xa0MPaQuinoa protein isolates (SB↑, EAI↑, ESI↑, FCI↑[High hydrostatic pressure0.1—300\\xa0MPaSoybean protein isolate (SB↑↓[600\\xa0MPa, 5\\xa0°C, 4\\xa0min Lentil protein concentrate (SB↓, EAI↓, ESI↑, FCI↑, FSI↑[Pea protein concentrate (SB↓, EAI↓, ESI↑, FCI↑, FSI↑Faba bean protein concentrate (SB↓, ESI↑, FSI↑200—600\\xa0MPaCowpea protein isolate (SB↓, LGC↓[Micro-fluidization6—12\\xa0k psiPotato protein isolate (SB↑↓, EAI↑, ESI↑, FCI↑↓, FSI↑↓[200\\xa0MPa, 2—10 cyclesSoy protein isolate (TS↑, WVP↑[Sonication350 W, 14\\xa0minBell pepper seed (SB↓, FRC↑, WRC↓, FCI↓, FSI↓[20\\xa0kHz, 500 W, 25\\xa0minQuinoa seeds (WVP↓, TS↑[20 kHz, 562.5—712.5 W, 120–600 sSoy protein isolate (FRC↑, FCI↑[Rice protein isolate (LGC↑, FRC↑, WRC↑Pea protein concentrate (FRC↑, ESI↓20\\xa0kHz, 100—400 WPea protein isolates (SB↑[24 kHz, amplitudes (25, 50 and 75%)Grass pea', '(FRC↑, ESI↓20\\xa0kHz, 100—400 WPea protein isolates (SB↑[24 kHz, amplitudes (25, 50 and 75%)Grass pea protein isolate (SB↑, EAI↑, ESI↑, LGC↓, GS↑[24 kHz, 5, 10 and 20 minGrass pea protein isolate (SB↑↓, EAI↑, ESI↑, LGC↓, GS↑200\\xa0W, 20\\xa0minWheat protein (TD↑[Water bath incubation90 °C, 5—30 minCowpea protein isolate (SB↓, LGC↑[80—100 Soy protein isolate (BC (HxAc and HpAc) ↓↑, BS↑ (HxAc and HpAc); BC (LiFo, LiAc, geraniol, and linalool) ↑, BS↑ (LiFo, LiAc, geraniol, and linalool) ↓[Autoclaving121 Soy protein isolate (TD↓[Ohmic heating17–37\\xa0V/cm and 50\\xa0HzSoybean milk (SB↓, FCI↓↑, FSI↑, EAI↓↑, ESI↑↓[Microwave4 min at 180 WPea protein concentrate (SB↑[Extrusion140—200\\xa0°C, 100—200\\xa0rpm Baijiu vinasse proteinsSB↑, FCI↓, FSI↑, EAI↓, ESI↑[Atmospheric cold plasma3500\\xa0Hz, the duty cycle of 70%, the pulse width of 10\\xa0μsPea protein concentrate (LGC↓, GS↑[100 W, 10\\xa0minPea protein isolate (FCI↑, FSI↑[Ultraviolet radiation20 W, 6\\xa0h Sesame protein isolate (WVP↓, TS↑[Ball milling0—40\\xa0min, 400\\xa0rpmWheat gluten protein (EAI↑, ESI↑, FCI↑, FSI↑[Freeze drying5\\xa0Pa and −50 ◦C Soy protein\\xa0isolate (BD↓, WRC↑, FRC↑, LGC↓[Spry drying165—195\\xa0°CPea protein isolate (SB↑↓[pH 5.0—9.0Pea protein isolate (SB↑Chemical operations\\xa0pH-shiftingpH: 7\\u2009→\\u20092\\u2009→\\u20097 Soy protein isolate (SB↓, EAI↑, ESI↑[pH: 12\\u2009→\\u20097 Wheat gluten protein (SB↑, EAI↑, ESI↑[\\xa0Glycation1:2—4:1Rice protein (SB↑↓, ECI↑, ESI↑, FCI↑, FSI↑[70—95\\xa0°CRice protein (SB↑↓\\xa0PhosphorylationpH 12.5, 95\\xa0°C Peanut protein isolate (EAI↑[pH 12.5, 35\\xa0°C Soybean protein isolateWRC↑, FRC↑, FAI↓, EAI↑\\xa0Acylation0.3—0.6:1Pea protein isolate (SB↑, WRC↑, FRC↑, ECI↑, ESI↑, LGC↓[\\xa0Deamidation65—75\\xa0°CCoconut protein (SB↑, ECI↑, ESI↓, FCI↑, FSI↑↓[pH 3—6SB↑\\xa0Cationization70\\xa0°C, pH 10.0 Soybean protein isolate (SB↑[Biological operations\\xa0Enzymatic reactionpH 7.0, 40\\xa0°CWalnut cake protein (SB↑, WRC↑, FRC↑, FAI↑[45\\xa0°CCoconut protein (WVP↓, TS↑[40\\xa0°C, 0.5 UOat protein concentrate (TD↑[\\xa0Fermentation30\\xa0°CSoy protein isolate (EC↓, WRC↑, FRC↑, FAI↑[“–” indicates not available. The superscript letter “a” indicates the value is compared between the sample with and without processing operationWater retention/holding capacity represents the ability to hold water without protein dissolving, which influences food texture, shelf-life, and quality characteristics of the meat analogues [Fat retention capacity is a measurement of the ability of non-polar side chains of proteins to bind fat. It plays a potent character in improving the flavor of meat analogues and reducing the rate of fat oxidization [The emulsion property of proteins is commonly measured by the emulsification capability index (EAI) and emulsification stability index (ESI). EAI evaluates the capacity of a protein to adsorb at the water–oil interface and reduce interfacial tension, whereas ESI is a measure of the ability of an emulsion to maintain its structure stable over a defined period [Foaming property is evaluated by the foaming capability index (FCI) and foaming stability index (FSI). FCI means the capacity of a protein to make a foam under certain conditions (such as temperature, concentration, pH, whipping, etc.) due to air incorporation, whilst FSI is how effective a protein is in maintaining a foam during a fixed time [Gel-forming ability is the aggregation of unfolded proteins to form a 3D microstructure network through intermolecular interactions [Water vapour permeability (WVP) and tensile strength (TS) are the two critical parameters of film. The WVP of the film made from quinoa seeds, sesame seeds, and mung bean seeds were reported to be 1.98–4.76, 10.87–13.57, and 10.76 10In meat analogues processing, adding flavor (such as vanillin) and nutrients (such as flavonoids) is easy to achieve. Protein contains a variety of functional groups, which can interact with flavonoids, vanillin, quercetin, rutin, and other compounds through covalent (Schiff bases) and non-covalent (hydrogen bond, hydrophobic interaction, electrostatic force, etc.). Therefore, on one side, proteins can bond flavonoids and anthocyanins reversibly and irreversibly to form complexes and improve their stability. Jia et al. [Extrusion is the most widely used technology to process plant proteins to meat analogues with rich fibrous structures and good springiness like real animal meat. Specific mechanical energy (SME) and fibrous degree (FD) are the most important indicators of extruded meat analogues. SME refers to the mechanical energy absorbed per unit mass of extrudates, which translates into the extent of molecular collapse or disintegration of materials during extrusion. The FD was computed by dividing the crosswise shear force lengthways, which can be used for characterizing the anisotropic structure in the extrudate. Soy protein concentrate, pea protein isolate, and peanut protein powder have been used for extruding into meat analogues [']\n",
      "2\n",
      "\n",
      "\n",
      "60\n",
      "2355\n",
      "[\"Starch-rich plant sources are integral to diets worldwide, providing essential carbohydrates and energy to millions of people. These plants serve as staples in various cuisines, contributing to both nutrition and culinary diversity (Boahemaa et al. Percentage of total starch, amylose, amylopectin, relative crystallinity, and native resistant starch in plant-based starch (dry weight)*Commercial sources of starchStarch content (%)Amylose content (%)Amylopectin content (%)Relative crystallinity (%)Native resistant starch (%)ReferencesMaize or corn (65–75\\u2009<\\u200925–4055–5922–240.50–3.5Chen et al. (Wheat (60–75\\u2009<\\u200925–3572–7520–400.50–2.5Baranzelli et al. (Rice (60–83\\u2009<\\u20097–3440–6520–400.33–4.5Krishnan et al. (Barley (51–77\\u2009<\\u200910–2650–9012–440.4–5.6Park et al. (Sorghum (63–73\\u2009<\\u200920–3070–8020–330.30–6.5Gerrano et al. (Potato (60–8011–3663\\u2009−\\u20098914–3229–56Das and Banerjee (Sweet potato(61–6816–2675\\u2009−\\u2009849–2575–87Bodjrenou et al. (Yam (75–845–3070\\u2009−\\u20099510–5235–46Jiang et al. (Cassava(80–9110–2770–8516–370.19–2.3Akonor et al. (Taro (70–855.5–19.280–9028–330.15–2.2Boahemaa et al. (Banana (81–9220–3070–8023–2749–66Marta et al. (The table presents detailed data on various plant-based starches, categorized under cereal seeds, tubers, roots, and green fruits. This extensive coverage provides a broad spectrum of starch characteristics, revealing differences in composition that depend on the plant variety or cultivar. The data in this table serve as a resource for understanding the starch characteristics of different plant-based foods*These value ranges are based on plant varieties and cultivars, such as normal or waxyMaize, also known as corn, is one of the most widely cultivated cereal crops globally. It is a staple food in many countries, particularly in regions including North and South America, Africa, and Asia. The quantity of starch in maize (corn) seeds can vary depending on factors such as the variety of maize, growing conditions, and maturity at harvest. However, maize seeds typically contain a significant amount of starch, as starch serves as the primary energy storage molecule in seeds. On average, maize seeds can contain around 60–75% starch by dry weight. This high starch content makes maize an important crop not only for human consumption but also for various industrial purposes, such as the production of cornstarch, corn syrup, and ethanol. The starch content in maize seeds makes it a valuable source of carbohydrates in human and animal diets, and it is used in a wide range of food products, including cornmeal, cornflakes, and tortillas, among others. Additionally, maize starch is utilized in non-food applications such as in the production of biodegradable plastics, adhesives, and textiles (Chen et al. Rice is another staple cereal crop consumed by a significant portion of the world's population, particularly in Asia. It is rich in starch, providing a readily available source of energy. The quantity of starch in rice seeds also varies depending on factors, including the rice variety, growing conditions, and maturity at harvest. Rice, like maize, serves as a major source of carbohydrates in many diets worldwide. Different varieties of rice, such as long grain, medium grain, and short grain, are used in diverse culinary preparations, including rice-based dishes, bread, noodles, yogurt, and desserts (Tiozon et al. Wheat is one of the oldest cultivated grains and a staple food in many parts of the world. It contains a substantial amount of starch, making it an important source of carbohydrates. On average, wheat grains can contain around 60–75% starch by dry weight. This high starch content makes wheat a valuable staple crop for human consumption and a key ingredient in various food products worldwide. Wheat starch is utilized in a wide range of food applications, including baking, pasta production, and the manufacturing of breakfast cereals, snacks, and confectionery items. Additionally, wheat starch is used in non-food industries such as papermaking, textiles, and pharmaceuticals (Baranzelli et al. Furthermore, sorghum grains contain a significant amount of starch, like other cereal grains, where it contains around 60–75% starch by dry weight, and this starch content makes sorghum an important staple crop for human consumption and a valuable feedstock for various industrial applications. Sorghum starch has several uses, including food and non-food applications. In food, sorghum starch is used in products such as sorghum flour, breakfast cereals, baked goods, and beverages. Sorghum is also a key ingredient in gluten-free products, providing an alternative for individuals with gluten intolerance or celiac disease. In non-food applications, sorghum starch finds use in industries such as papermaking, textiles, adhesives, and biofuel production. The versatility of sorghum starch makes it a valuable commodity in both agricultural and industrial sectors (Cruz et al. Cassava, a key crop in tropical regions, is renowned for its high starch content, serving as a crucial carbohydrate source globally. Cassava roots typically contain 60% to 80% starch by dry weight, ranking it among the richest starch sources in root crops. Predominantly composed of amylopectin, a branched polysaccharide, cassava starch contributes to its distinct culinary and industrial qualities. Its abundant starch makes cassava indispensable in various food items such as flour, starch, and tapioca pearls. Despite its low protein content, cassava provides essential nutrients such as fiber, vitamins, and minerals, making it significant in local diets. Furthermore, cassava starch finds applications in industries, including biofuel, adhesive, and biodegradable plastic production, as well as in food processing as a thickener, stabilizer, and texturizer. However, cassava contains toxic compounds, including cyanogenic glycosides, necessitating proper processing to eliminate cyanide. Failure to do so poses health risks, underscoring the importance of adhering to safe preparation methods (Akonor et al. Additionally, the starch content in potato tubers can vary depending on factors such as the potato variety, growing conditions, and storage conditions. Potatoes are known for their relatively high starch content compared to other tubers, which contain around 15–20% starch by fresh weight. However, this can vary significantly depending on the specific variety of potato and its stage of maturity. Starch content tends to increase as potatoes mature and reach full size. Starch serves as the primary carbohydrate reserve in potato tubers, providing energy for the plant during growth and serving as a storage compound for nutrients. Starch also contributes to the texture and culinary properties of potatoes, influencing characteristics such as texture, taste, and cooking behavior. Potatoes are a versatile crop with numerous culinary applications, and their starch content plays a significant role in their uses. Potatoes can be boiled, mashed, fried, roasted, or baked, and their starch content affects the final texture and consistency of the prepared dish (Juarez-Arellano et al. Sweet potatoes are known for their distinct flavor and nutritional benefits, and their starch content contributes to these characteristics. They are particularly popular in cuisines across Asia, Africa, and the Americas. On average, sweet potatoes have around 10–20% starch by fresh weight; however, the starch content in sweet potatoes can fluctuate depending on factors such as the specific variety and growing conditions. Generally, younger sweet potatoes tend to have a lower starch content, while more mature sweet potatoes may have higher levels of starch. Despite their name, sweet potatoes are not as high in starch as other starchy vegetables like regular potatoes. Instead, sweet potatoes are known for their high content of complex carbohydrates, fiber, vitamins, and minerals. The starch in sweet potatoes contributes to their texture and can affect cooking methods and outcomes. Due to their versatility and nutritional value, sweet potatoes are used in a variety of culinary applications, including roasting, baking, boiling, and mashing. The starch content of sweet potatoes influences their texture and sweetness, making them suitable for both savory and sweet dishes (Aina et al. Taro is a tropical root vegetable with a starchy corm that is widely consumed in Asia, Africa, the Pacific Islands, and the Caribbean. Taro possesses variable starch levels influenced by factors like variety, growth conditions, and maturity. Besides, taro boasts a substantial starch content that ranges from 60 to 90% by dry weight, where this significant concentration of starch enhances its nutritional profile and adaptability in cooking. Despite its starch richness, taro also offers a spectrum of essential nutrients such as dietary fiber, vitamins, and minerals, augmenting its value in balanced diets. Culinary-wise, taro's starch content accommodates diverse cooking techniques such as boiling, steaming, frying, or mashing, facilitating its integration into a wide array of global cuisines due to its creamy consistency and thickening properties for sauces and soups. Furthermore, beyond its culinary utility, taro's abundant starch finds application in industries like the production of biodegradable packaging, adhesives, and textiles, owing to\", \"array of global cuisines due to its creamy consistency and thickening properties for sauces and soups. Furthermore, beyond its culinary utility, taro's abundant starch finds application in industries like the production of biodegradable packaging, adhesives, and textiles, owing to its adhesive nature and eco-friendliness. Despite its nutritional and functional merits, individuals with specific dietary concerns, particularly those managing carbohydrate intake, should be cautious about taro's high starch content (Shanmathy et al. Plantains, a starchy fruit closely related to bananas, contain varying amounts of starch depending on factors such as ripeness and variety. When unripe, plantains have a higher starch content, typically ranging from 70 to 80% by dry weight, making them more suitable for cooking methods such as frying, boiling, or baking. As plantains ripen, their starch content decreases, and their sugar content increases, leading to sweeter flavors and softer textures. Ripe plantains contain less starch, usually around 20% to 30%, with a higher sugar content. This change in composition affects the culinary applications of plantains, with ripe plantains commonly used in sweet dishes, including desserts or fried as a snack. However, both ripe and unripe plantains offer nutritional benefits, including dietary fiber, vitamins, and minerals, making them a valuable addition to diets in many cultures (Marta et al. To summarize, these starch-rich plant sources play crucial roles in global food security, providing sustenance and nourishment to diverse populations. They are valued not only for their nutritional content but also for their cultural significance and culinary versatility. Incorporating these plant-based staples into diets helps ensure contribute intake of essential nutrients and contributes to the promotion of sustainable and healthy eating habits.\"]\n",
      "2\n",
      "\n",
      "\n"
     ]
    }
   ],
   "source": [
    "for i in range(len(full_docs)):\n",
    "    doc = full_docs[i].page_content\n",
    "\n",
    "    token_length = tiktoken_len(doc)\n",
    "    chunks = text_splitter.split_text(doc)\n",
    "    chunks_length = len(chunks)\n",
    "    if token_length > 2048:\n",
    "        print(i)\n",
    "        print(token_length)\n",
    "        print(chunks)\n",
    "        print(chunks_length)\n",
    "        print('\\n')\n",
    "\n",
    "        #check just a small batch\n",
    "        if i > 50:\n",
    "            break\n"
   ]
  },
  {
   "cell_type": "markdown",
   "metadata": {},
   "source": [
    "To maintain the meta data, we can split the documents instead of first extracting the text. Note this function from langchain requires a list of documents though, not just one element."
   ]
  },
  {
   "cell_type": "code",
   "execution_count": 78,
   "metadata": {
    "vscode": {
     "languageId": "shellscript"
    }
   },
   "outputs": [],
   "source": [
    "chunked_full_docs = text_splitter.split_documents(full_docs)"
   ]
  },
  {
   "cell_type": "markdown",
   "metadata": {},
   "source": [
    "We know from earlier that the 13th document has a token length more than 2048, so it should get split into two chunks and thus the 14th element should have the same meta data. Let's check this:"
   ]
  },
  {
   "cell_type": "code",
   "execution_count": 89,
   "metadata": {
    "vscode": {
     "languageId": "shellscript"
    }
   },
   "outputs": [
    {
     "data": {
      "text/plain": [
       "True"
      ]
     },
     "execution_count": 89,
     "metadata": {},
     "output_type": "execute_result"
    }
   ],
   "source": [
    "chunked_full_docs[13].metadata == chunked_full_docs[14].metadata"
   ]
  },
  {
   "cell_type": "markdown",
   "metadata": {},
   "source": [
    "Now that this works let's wrap it into a function."
   ]
  },
  {
   "cell_type": "code",
   "execution_count": 141,
   "metadata": {
    "vscode": {
     "languageId": "shellscript"
    }
   },
   "outputs": [],
   "source": [
    "# note for some reason when running functions like these it gets stuck endlessly running \n",
    "# something to do with passing tiktoken_len as a function, especially with more than 1 input variable\n",
    "\n",
    "def tokenizer(model=\"tiiuae/falcon-7b-instruct\"):\n",
    "    tokenizer = AutoTokenizer.from_pretrained(model)\n",
    "    return tokenizer\n",
    "\n",
    "def tiktoken_len(text):\n",
    "    tokens = tokenizer.encode(text, add_special_tokens=False)\n",
    "    return len(tokens)\n",
    "\n",
    "def chunk_documents_by_tokens(documents, tiktoken_len, chunk_size=2048, chunk_overlap=200):\n",
    "    text_splitter = RecursiveCharacterTextSplitter(\n",
    "        chunk_size=chunk_size,\n",
    "        chunk_overlap=chunk_overlap,\n",
    "        length_function=tiktoken_len,\n",
    "        separators=[\"\\n\\n\", \"\\n\", \" \", \"\"]\n",
    "    )\n",
    "\n",
    "    return text_splitter.split_documents(documents)"
   ]
  },
  {
   "cell_type": "code",
   "execution_count": 143,
   "metadata": {
    "vscode": {
     "languageId": "shellscript"
    }
   },
   "outputs": [],
   "source": [
    "# this function works, using it for now\n",
    "\n",
    "def chunk_documents_by_tokens(documents, model=\"tiiuae/falcon-7b-instruct\", chunk_size=2048, chunk_overlap=200):\n",
    "    tokenizer = AutoTokenizer.from_pretrained(model)\n",
    "\n",
    "    def tiktoken_len(text):\n",
    "        tokens = tokenizer.encode(text, add_special_tokens=False)\n",
    "        return len(tokens)\n",
    "\n",
    "    text_splitter = RecursiveCharacterTextSplitter(\n",
    "        chunk_size=2048,\n",
    "        chunk_overlap=50,\n",
    "        length_function=tiktoken_len,\n",
    "        separators=[\"\\n\\n\", \"\\n\", \" \", \"\"]\n",
    "    )\n",
    "    return text_splitter.split_documents(documents)"
   ]
  },
  {
   "cell_type": "code",
   "execution_count": 144,
   "metadata": {
    "vscode": {
     "languageId": "shellscript"
    }
   },
   "outputs": [
    {
     "data": {
      "text/plain": [
       "True"
      ]
     },
     "execution_count": 144,
     "metadata": {},
     "output_type": "execute_result"
    }
   ],
   "source": [
    "chunk_documents_by_tokens_sample = chunk_documents_by_tokens(full_docs[0:50])\n",
    "\n",
    "chunk_documents_by_tokens_sample[13].metadata == chunk_documents_by_tokens_sample[14].metadata"
   ]
  },
  {
   "cell_type": "markdown",
   "metadata": {},
   "source": [
    "So this works, let's get the embeddings now.\n",
    "\n",
    "### Hugging Face Embeddings"
   ]
  },
  {
   "cell_type": "code",
   "execution_count": 105,
   "metadata": {
    "vscode": {
     "languageId": "shellscript"
    }
   },
   "outputs": [],
   "source": [
    "from sentence_transformers import SentenceTransformer"
   ]
  },
  {
   "cell_type": "code",
   "execution_count": 106,
   "metadata": {
    "vscode": {
     "languageId": "shellscript"
    }
   },
   "outputs": [],
   "source": [
    "EMBEDDING_MODEL_ID = \"sentence-transformers/all-MiniLM-L6-v2\""
   ]
  },
  {
   "cell_type": "code",
   "execution_count": 108,
   "metadata": {
    "vscode": {
     "languageId": "shellscript"
    }
   },
   "outputs": [
    {
     "data": {
      "application/vnd.jupyter.widget-view+json": {
       "model_id": "65ac8f85185f454abc21fec896f48a41",
       "version_major": 2,
       "version_minor": 0
      },
      "text/plain": [
       "modules.json:   0%|          | 0.00/349 [00:00<?, ?B/s]"
      ]
     },
     "metadata": {},
     "output_type": "display_data"
    },
    {
     "name": "stderr",
     "output_type": "stream",
     "text": [
      "c:\\Users\\RaviB\\anaconda3\\envs\\vegan\\lib\\site-packages\\huggingface_hub-0.25.0-py3.8.egg\\huggingface_hub\\file_download.py:147: UserWarning: `huggingface_hub` cache-system uses symlinks by default to efficiently store duplicated files but your machine does not support them in C:\\Users\\RaviB\\.cache\\huggingface\\hub\\models--sentence-transformers--all-MiniLM-L6-v2. Caching files will still work but in a degraded version that might require more space on your disk. This warning can be disabled by setting the `HF_HUB_DISABLE_SYMLINKS_WARNING` environment variable. For more details, see https://huggingface.co/docs/huggingface_hub/how-to-cache#limitations.\n",
      "To support symlinks on Windows, you either need to activate Developer Mode or to run Python as an administrator. In order to activate developer mode, see this article: https://docs.microsoft.com/en-us/windows/apps/get-started/enable-your-device-for-development\n"
     ]
    },
    {
     "data": {
      "application/vnd.jupyter.widget-view+json": {
       "model_id": "58fe80c357984b32a814bc94f7fb5523",
       "version_major": 2,
       "version_minor": 0
      },
      "text/plain": [
       "config_sentence_transformers.json:   0%|          | 0.00/116 [00:00<?, ?B/s]"
      ]
     },
     "metadata": {},
     "output_type": "display_data"
    },
    {
     "data": {
      "application/vnd.jupyter.widget-view+json": {
       "model_id": "db57e1583bfa41ca84f141522669e9d5",
       "version_major": 2,
       "version_minor": 0
      },
      "text/plain": [
       "README.md:   0%|          | 0.00/10.7k [00:00<?, ?B/s]"
      ]
     },
     "metadata": {},
     "output_type": "display_data"
    },
    {
     "data": {
      "application/vnd.jupyter.widget-view+json": {
       "model_id": "6c48c9dd3f02422daf7cecb0ebe74646",
       "version_major": 2,
       "version_minor": 0
      },
      "text/plain": [
       "sentence_bert_config.json:   0%|          | 0.00/53.0 [00:00<?, ?B/s]"
      ]
     },
     "metadata": {},
     "output_type": "display_data"
    },
    {
     "data": {
      "application/vnd.jupyter.widget-view+json": {
       "model_id": "ab58932a410d472ca02c06d7bbe7a64c",
       "version_major": 2,
       "version_minor": 0
      },
      "text/plain": [
       "config.json:   0%|          | 0.00/612 [00:00<?, ?B/s]"
      ]
     },
     "metadata": {},
     "output_type": "display_data"
    },
    {
     "data": {
      "application/vnd.jupyter.widget-view+json": {
       "model_id": "7dab3be71ed1458892acbd6f77d2ede3",
       "version_major": 2,
       "version_minor": 0
      },
      "text/plain": [
       "model.safetensors:   0%|          | 0.00/90.9M [00:00<?, ?B/s]"
      ]
     },
     "metadata": {},
     "output_type": "display_data"
    },
    {
     "data": {
      "application/vnd.jupyter.widget-view+json": {
       "model_id": "1adcc435854c41b189fa8e7b0e8ed325",
       "version_major": 2,
       "version_minor": 0
      },
      "text/plain": [
       "tokenizer_config.json:   0%|          | 0.00/350 [00:00<?, ?B/s]"
      ]
     },
     "metadata": {},
     "output_type": "display_data"
    },
    {
     "data": {
      "application/vnd.jupyter.widget-view+json": {
       "model_id": "2672061e7687458fb0ffd63b45f3fcad",
       "version_major": 2,
       "version_minor": 0
      },
      "text/plain": [
       "vocab.txt:   0%|          | 0.00/232k [00:00<?, ?B/s]"
      ]
     },
     "metadata": {},
     "output_type": "display_data"
    },
    {
     "data": {
      "application/vnd.jupyter.widget-view+json": {
       "model_id": "a932133f1e7441f3b1a57d0d2974f2ad",
       "version_major": 2,
       "version_minor": 0
      },
      "text/plain": [
       "tokenizer.json:   0%|          | 0.00/466k [00:00<?, ?B/s]"
      ]
     },
     "metadata": {},
     "output_type": "display_data"
    },
    {
     "data": {
      "application/vnd.jupyter.widget-view+json": {
       "model_id": "d30aea4b43664529a6113c097e6c2fcc",
       "version_major": 2,
       "version_minor": 0
      },
      "text/plain": [
       "special_tokens_map.json:   0%|          | 0.00/112 [00:00<?, ?B/s]"
      ]
     },
     "metadata": {},
     "output_type": "display_data"
    },
    {
     "name": "stderr",
     "output_type": "stream",
     "text": [
      "c:\\Users\\RaviB\\anaconda3\\envs\\vegan\\lib\\site-packages\\transformers\\tokenization_utils_base.py:1601: FutureWarning: `clean_up_tokenization_spaces` was not set. It will be set to `True` by default. This behavior will be depracted in transformers v4.45, and will be then set to `False` by default. For more details check this issue: https://github.com/huggingface/transformers/issues/31884\n",
      "  warnings.warn(\n"
     ]
    },
    {
     "data": {
      "application/vnd.jupyter.widget-view+json": {
       "model_id": "e39be8a0b5b74600ad6fb2f84947d1c1",
       "version_major": 2,
       "version_minor": 0
      },
      "text/plain": [
       "1_Pooling/config.json:   0%|          | 0.00/190 [00:00<?, ?B/s]"
      ]
     },
     "metadata": {},
     "output_type": "display_data"
    }
   ],
   "source": [
    "hf_embeddings = SentenceTransformer(EMBEDDING_MODEL_ID)\n"
   ]
  },
  {
   "cell_type": "code",
   "execution_count": 111,
   "metadata": {
    "vscode": {
     "languageId": "shellscript"
    }
   },
   "outputs": [
    {
     "data": {
      "text/plain": [
       "'Accelerating relative sea-level rise (RSLR) threatens coastal wetlands globally, and their survival depends on the ability of wetlands to build soil vertically and maintain their elevation in the tidal frame. Studies using the Surface Elevation Table–Marker Horizon (SET-MH) method are advancing our understanding of the processes contributing to the sustainability of coastal wetland elevation in the face of rising sea levels, and their management implications, resulting in an approach that allows for comprehensive and systematic monitoring of wetland elevation change over a wide range of coastal environments globally. Collectively, the 27 articles in this special issue present an examination of current advances at quantifying and understanding subsurface process influences on wetland elevation change and wetland responses to sea-level rise, drawing on research presentations from two special sessions at the Coastal and Estuarine Research Federation (CERF) 2021 conference plus additional recent research describing scientific insights gained from the SET-MH method. These insights include information from research on the five thematic topics presented below. This special issue should be of great value to everyone interested in the latest advances in coastal wetland elevation dynamics using the SET-MH technique.A 30-year retrospective on the scientific insights gained on the surface and shallow subsurface processes influencing wetland elevation dynamics using the SET-MH method, including fundamental revelations about tidal wetland elevation dynamics.The development and evolution of the SET-MH technique has led to the recognition that coastal wetland soil elevation dynamics are driven by complex interactions among surface and subsurface processes (Cahoon Investigations of the subsurface soil process influences on wetland elevation\\xa0(e.g., Maher and Starke Essential plant nutrients like nitrogen (N) and phosphorus (P) are often in limited supply in tidal wetlands, thereby restricting plant growth and soil organic matter accumulation influences on elevation gain. Nutrient enrichment in oligotrophic wetlands from sediment addition, nutrient pollution, or fertilization can lead to increased plant growth, soil organic matter accumulation, and wetland elevation gain (see\\xa0Table\\xa03 in Cahoon How the scientific community applies the SET–MH method to quantify and understand wetland responses to RSLR and other environmental drivers such as altered hydrology and sediment supply, changes in plant production, and management and restoration actions through statistical analyses of changes in surface elevation, and how the information gained can be used to inform management decisions.Wetland elevation trend responses to RSLR are shown to vary by lateral position within the estuary for salt marshes (e.g., riverine, bayside, and barrier island settings; Steinmuller et al. How SET-MH data are used in long-term monitoring networks at different geographic scales where the distance among network sites ranges from local (i.e., 10\\xa0s of kilometers) to regional (i.e., 100\\xa0s of kilometers) to national (i.e., 1000\\xa0s of kilometers), and what complementary datasets will enhance comparisons to environmental drivers such as RSLR.Local networks are used to assess environmental gradients in a coastal sound or bay, such as distance from a sediment source (e.g., ocean inlet (Roman et al. Multidecadal datasets from regional networks in the USA covering multiple sounds and bays in California (Thorne et al. A national network of 289 SET-MH stations spanning a range of tidal wetland types across mainland Australian coastal states and territories (Saintilan et al. Pairing the SET-MH method with survey techniques to increase lateral coverage of wetland elevation trends and with geodetic techniques to increase vertical coverage of vertical land motion, including both shallow and deep subsidence, thereby improving our understanding of coastal wetland elevation dynamics and responses to RSLR.An individual rod SET station measures elevation across an approximate 1.5 mWhen comparing a SET wetland elevation trend to a nearby tide gauge RSLR trend, the underlying assumption is that deep subsidence rates are the same beneath both the wetland and the tide station (Cahoon '"
      ]
     },
     "execution_count": 111,
     "metadata": {},
     "output_type": "execute_result"
    }
   ],
   "source": [
    "all_texts = [doc.page_content for doc in full_docs]\n",
    "all_texts[0]"
   ]
  },
  {
   "cell_type": "code",
   "execution_count": 114,
   "metadata": {
    "vscode": {
     "languageId": "shellscript"
    }
   },
   "outputs": [
    {
     "data": {
      "text/plain": [
       "50"
      ]
     },
     "execution_count": 114,
     "metadata": {},
     "output_type": "execute_result"
    }
   ],
   "source": [
    "sample_embeddings = hf_embeddings.encode(all_texts[0:50])\n",
    "len(sample_embeddings)"
   ]
  },
  {
   "cell_type": "markdown",
   "metadata": {},
   "source": [
    "We can copy the same structure for the previous embedding function for the titan model we used before."
   ]
  },
  {
   "cell_type": "code",
   "execution_count": 117,
   "metadata": {
    "vscode": {
     "languageId": "shellscript"
    }
   },
   "outputs": [],
   "source": [
    "def generate_embeddings(documents, model_name=\"sentence-transformers/all-MiniLM-L6-v2\"):\n",
    "    embedding_model = SentenceTransformer(model_name)\n",
    "    \n",
    "    documents_with_embeddings = []\n",
    "    texts = [doc.page_content for doc in documents]\n",
    "\n",
    "    embeddings = embedding_model.encode(texts)\n",
    "    \n",
    "    for doc, embedding in zip(documents, embeddings):\n",
    "        doc_with_embedding = {\n",
    "            \"embedding\": embedding,\n",
    "            \"text\": doc.page_content,\n",
    "            \"metadata\": doc.metadata\n",
    "        }\n",
    "        documents_with_embeddings.append(doc_with_embedding)\n",
    "    \n",
    "    return documents_with_embeddings"
   ]
  },
  {
   "cell_type": "code",
   "execution_count": 118,
   "metadata": {
    "vscode": {
     "languageId": "shellscript"
    }
   },
   "outputs": [],
   "source": [
    "embedding_sample = generate_embeddings(chunk_documents_by_tokens_sample)"
   ]
  },
  {
   "cell_type": "code",
   "execution_count": 123,
   "metadata": {
    "vscode": {
     "languageId": "shellscript"
    }
   },
   "outputs": [
    {
     "data": {
      "text/plain": [
       "{'embedding': array([-2.02107895e-02,  1.02008285e-03,  1.17956758e-01, -1.06894895e-01,\n",
       "         2.05253158e-02, -3.26751508e-02, -7.82768577e-02,  1.07263187e-02,\n",
       "         9.94511414e-03,  6.53930614e-03, -6.07358068e-02, -7.64815062e-02,\n",
       "         5.86977378e-02,  5.35348095e-02,  2.34534331e-02,  7.03678131e-02,\n",
       "        -6.45644739e-02,  3.92554067e-02,  1.18224192e-02,  8.30039456e-02,\n",
       "         1.05668446e-02,  4.95532826e-02, -3.26254703e-02,  1.33948019e-02,\n",
       "        -1.27965286e-02, -8.83423835e-02, -5.13126478e-02,  9.69627989e-04,\n",
       "        -1.11308480e-02,  5.24750166e-02, -5.95626310e-02,  8.21135193e-02,\n",
       "        -4.93853865e-03, -3.30788344e-02,  2.86793504e-02, -1.50886849e-02,\n",
       "        -3.58345844e-02,  2.21361630e-02, -8.49759877e-02,  2.72594690e-02,\n",
       "        -1.06603697e-01, -9.69268382e-02, -7.30981119e-03, -1.45121559e-03,\n",
       "         4.16275747e-02,  2.32289769e-02,  4.28112894e-02,  1.11020962e-02,\n",
       "        -6.30476102e-02, -9.47836507e-03,  1.93628091e-02, -1.33831045e-02,\n",
       "        -1.01013623e-01,  1.87664293e-02, -6.09583929e-02,  1.07378177e-01,\n",
       "        -3.98302115e-02,  3.37775238e-02, -7.19507132e-03, -3.74587215e-02,\n",
       "        -6.76990747e-02,  1.07628396e-02, -7.37746730e-02, -5.66711873e-02,\n",
       "         3.69940586e-02,  3.73343974e-02, -6.15635328e-02, -1.58405304e-02,\n",
       "        -1.67986136e-02,  1.72688849e-02, -4.17096987e-02, -1.89647265e-02,\n",
       "         3.16599905e-02, -8.82334560e-02,  2.83649266e-02, -9.84308347e-02,\n",
       "        -1.67403221e-02,  8.96866769e-02,  4.66822684e-02, -1.13068044e-01,\n",
       "         3.90354209e-02,  3.45867835e-02,  4.84766960e-02, -3.25363949e-02,\n",
       "        -6.04256475e-03, -3.94553952e-02,  5.25382385e-02,  2.23751720e-02,\n",
       "         6.80874437e-02,  4.50361073e-02,  5.25786169e-02, -3.13004963e-02,\n",
       "        -1.19723149e-01,  1.46216843e-02, -8.24735966e-03,  3.68328169e-02,\n",
       "        -9.51881986e-04, -6.38645068e-02,  8.97969604e-02, -7.40902312e-03,\n",
       "        -2.41424926e-02,  2.97360029e-02, -6.29734099e-02, -3.90082300e-02,\n",
       "         5.98391555e-02, -1.39367776e-02,  5.65039702e-02, -2.70084627e-02,\n",
       "        -4.92394343e-02,  2.24397425e-02,  2.31102984e-02, -5.18667549e-02,\n",
       "         7.55491341e-03,  1.15012731e-02,  7.59735424e-03,  6.57748654e-02,\n",
       "         3.39408405e-02, -5.78832440e-02, -8.79578441e-02, -1.34743378e-01,\n",
       "         1.09098833e-02, -5.65664731e-02,  5.89425787e-02,  8.04836769e-03,\n",
       "        -1.02366339e-02,  1.19743153e-01, -1.14076780e-02,  1.00931710e-34,\n",
       "         8.09617415e-02, -1.71443783e-02,  4.94199665e-03,  5.16034989e-03,\n",
       "         2.09426880e-02, -1.71552766e-02, -3.34897414e-02, -3.88293192e-02,\n",
       "        -7.02918470e-02,  7.47265145e-02, -7.45237470e-02,  1.67347211e-02,\n",
       "        -5.07173315e-02,  3.77734229e-02,  5.99810807e-03, -3.52372862e-02,\n",
       "        -7.60619296e-04, -4.42070002e-03, -4.29897793e-02, -3.28674316e-02,\n",
       "        -2.93712914e-02,  1.29793333e-02, -2.50696037e-02, -6.82778731e-02,\n",
       "        -1.70864947e-02, -4.35641259e-02, -1.90321039e-02,  2.79587768e-02,\n",
       "        -1.05084173e-01,  4.12740409e-02,  5.51569276e-02, -5.80333956e-02,\n",
       "        -5.54133393e-02, -7.15818331e-02,  1.53447986e-02,  3.08608729e-02,\n",
       "         4.98349667e-02, -1.45570477e-02,  2.11101361e-02,  3.56305502e-02,\n",
       "        -1.56556144e-02,  6.56635268e-03,  1.42846396e-02, -3.13336365e-02,\n",
       "        -3.47435325e-02, -5.32517284e-02,  2.22685244e-02,  2.99377423e-02,\n",
       "         1.13137364e-02,  5.78977801e-02,  3.75252999e-02,  1.39224455e-02,\n",
       "        -3.38036567e-02, -3.89549546e-02, -5.15939109e-02,  7.10267723e-02,\n",
       "        -8.41692649e-03, -5.72700091e-02, -5.48229814e-02,  2.68099457e-02,\n",
       "        -9.42208245e-02, -4.49283831e-02, -1.71426451e-04, -1.91911105e-02,\n",
       "         4.53612395e-02,  5.34857102e-02,  4.39537354e-02,  1.06885195e-01,\n",
       "        -4.69425283e-02, -1.98531393e-02,  2.56257337e-02, -4.35401835e-02,\n",
       "         5.59859052e-02, -1.55177005e-02, -8.20663422e-02,  3.80712971e-02,\n",
       "         1.06722005e-01,  7.89901838e-02,  8.90560299e-02,  4.03735302e-02,\n",
       "        -1.14556961e-02,  1.46915302e-01, -2.29146816e-02, -1.11846395e-01,\n",
       "        -2.22057812e-02, -1.11952405e-02,  9.49313957e-03, -1.87792052e-02,\n",
       "         3.09790503e-02, -4.64705117e-02,  2.11937004e-03,  1.23428237e-02,\n",
       "         1.02632299e-01, -7.17401206e-02, -2.79785413e-02, -2.44186580e-33,\n",
       "         3.53077576e-02, -1.86063331e-02, -8.34009722e-02, -4.26968224e-02,\n",
       "        -2.84455214e-02, -6.93464577e-02,  6.83451518e-02,  2.42774114e-02,\n",
       "         2.31418423e-02, -4.29130569e-02, -1.01614907e-01,  1.03033438e-01,\n",
       "        -2.13342160e-02,  1.44898193e-02,  1.21625196e-02, -6.81720600e-02,\n",
       "        -5.77390492e-02, -2.78660394e-02, -9.31968819e-03, -2.63382308e-02,\n",
       "         1.74963530e-02, -6.75682537e-03,  2.49683429e-02,  5.73323928e-02,\n",
       "        -2.25321073e-02,  9.81493271e-04,  4.52535897e-02,  7.59167522e-02,\n",
       "         4.38693389e-02, -4.52486984e-02, -4.66298498e-02, -5.21425232e-02,\n",
       "         4.11137752e-02, -2.27064379e-02, -5.04995957e-02, -7.66798249e-03,\n",
       "         4.11859080e-02, -9.76039246e-02, -7.88655579e-02,  3.02422959e-02,\n",
       "         6.55899867e-02, -3.26959379e-02,  4.84651066e-02, -1.16619281e-01,\n",
       "         4.35337164e-02,  2.26302985e-02, -1.03017706e-02,  7.18377531e-02,\n",
       "         2.39230879e-02, -6.04214855e-02, -9.82923713e-03, -5.39582931e-02,\n",
       "         7.77238235e-02,  6.29349649e-02,  1.45722423e-02, -6.76387874e-03,\n",
       "         1.40652368e-02,  5.24144545e-02, -3.84096839e-02,  1.65780131e-02,\n",
       "         5.98138385e-02,  2.59411614e-02, -8.43259022e-02,  4.99707423e-02,\n",
       "         3.24974880e-02,  5.64576872e-02, -5.65141719e-03, -5.46639785e-02,\n",
       "        -6.93944395e-02,  3.04129114e-03, -9.34587866e-02, -4.32456620e-02,\n",
       "         4.46701050e-02, -4.16739322e-02,  1.35365250e-02, -9.20107439e-02,\n",
       "        -4.60798629e-02, -2.92480960e-02,  1.52662415e-02, -2.51267534e-02,\n",
       "         8.65053013e-03,  1.68054271e-02, -3.78113356e-03, -8.55937600e-04,\n",
       "        -6.06568605e-02, -2.81634629e-02, -3.63249779e-02, -2.82533132e-02,\n",
       "         1.00100599e-01, -4.35193963e-02, -5.00539178e-03, -5.55089004e-02,\n",
       "        -1.42008439e-01,  5.90468049e-02, -8.88060778e-03, -4.54198457e-08,\n",
       "         6.54151663e-02, -1.92096259e-03,  4.80497777e-02,  2.62321532e-02,\n",
       "         8.17274116e-03,  1.15970159e-02,  8.87897834e-02,  3.11797075e-02,\n",
       "         2.88393479e-02, -6.42946064e-02, -4.80084913e-03, -8.26494116e-03,\n",
       "         5.67976832e-02, -3.32344770e-02,  6.50683045e-02, -2.13255584e-02,\n",
       "         1.16587125e-01, -1.27474554e-02, -8.89511630e-02, -3.15605961e-02,\n",
       "        -2.59763617e-02,  1.04311891e-01,  1.61127921e-03, -3.59293334e-02,\n",
       "         5.38060926e-02,  2.25583048e-04, -4.05428186e-02,  1.33186996e-01,\n",
       "        -4.79903594e-02, -7.36645088e-02,  5.25735803e-02,  4.59866785e-02,\n",
       "         2.95039304e-02, -4.99919103e-03,  7.33527634e-03,  1.20121874e-02,\n",
       "        -2.65272949e-02,  4.00423668e-02,  2.12598573e-02,  3.32303979e-02,\n",
       "        -3.75183858e-02,  2.20388416e-02,  2.29234919e-02,  2.37709805e-02,\n",
       "         9.32850596e-03,  1.01860836e-01, -9.81462467e-03,  9.39894021e-02,\n",
       "         3.46660726e-02,  3.58866677e-02,  1.82220861e-02,  6.67685866e-02,\n",
       "         5.59487939e-02,  5.53042218e-02,  3.27646770e-02,  7.87288472e-02,\n",
       "        -4.02134992e-02,  1.15441007e-03,  1.17518408e-02,  4.26387265e-02,\n",
       "         4.79105003e-02, -1.50856497e-02,  1.81167908e-02,  2.42619272e-02],\n",
       "       dtype=float32),\n",
       " 'text': 'Accelerating relative sea-level rise (RSLR) threatens coastal wetlands globally, and their survival depends on the ability of wetlands to build soil vertically and maintain their elevation in the tidal frame. Studies using the Surface Elevation Table–Marker Horizon (SET-MH) method are advancing our understanding of the processes contributing to the sustainability of coastal wetland elevation in the face of rising sea levels, and their management implications, resulting in an approach that allows for comprehensive and systematic monitoring of wetland elevation change over a wide range of coastal environments globally. Collectively, the 27 articles in this special issue present an examination of current advances at quantifying and understanding subsurface process influences on wetland elevation change and wetland responses to sea-level rise, drawing on research presentations from two special sessions at the Coastal and Estuarine Research Federation (CERF) 2021 conference plus additional recent research describing scientific insights gained from the SET-MH method. These insights include information from research on the five thematic topics presented below. This special issue should be of great value to everyone interested in the latest advances in coastal wetland elevation dynamics using the SET-MH technique.A 30-year retrospective on the scientific insights gained on the surface and shallow subsurface processes influencing wetland elevation dynamics using the SET-MH method, including fundamental revelations about tidal wetland elevation dynamics.The development and evolution of the SET-MH technique has led to the recognition that coastal wetland soil elevation dynamics are driven by complex interactions among surface and subsurface processes (Cahoon Investigations of the subsurface soil process influences on wetland elevation\\xa0(e.g., Maher and Starke Essential plant nutrients like nitrogen (N) and phosphorus (P) are often in limited supply in tidal wetlands, thereby restricting plant growth and soil organic matter accumulation influences on elevation gain. Nutrient enrichment in oligotrophic wetlands from sediment addition, nutrient pollution, or fertilization can lead to increased plant growth, soil organic matter accumulation, and wetland elevation gain (see\\xa0Table\\xa03 in Cahoon How the scientific community applies the SET–MH method to quantify and understand wetland responses to RSLR and other environmental drivers such as altered hydrology and sediment supply, changes in plant production, and management and restoration actions through statistical analyses of changes in surface elevation, and how the information gained can be used to inform management decisions.Wetland elevation trend responses to RSLR are shown to vary by lateral position within the estuary for salt marshes (e.g., riverine, bayside, and barrier island settings; Steinmuller et al. How SET-MH data are used in long-term monitoring networks at different geographic scales where the distance among network sites ranges from local (i.e., 10\\xa0s of kilometers) to regional (i.e., 100\\xa0s of kilometers) to national (i.e., 1000\\xa0s of kilometers), and what complementary datasets will enhance comparisons to environmental drivers such as RSLR.Local networks are used to assess environmental gradients in a coastal sound or bay, such as distance from a sediment source (e.g., ocean inlet (Roman et al. Multidecadal datasets from regional networks in the USA covering multiple sounds and bays in California (Thorne et al. A national network of 289 SET-MH stations spanning a range of tidal wetland types across mainland Australian coastal states and territories (Saintilan et al. Pairing the SET-MH method with survey techniques to increase lateral coverage of wetland elevation trends and with geodetic techniques to increase vertical coverage of vertical land motion, including both shallow and deep subsidence, thereby improving our understanding of coastal wetland elevation dynamics and responses to RSLR.An individual rod SET station measures elevation across an approximate 1.5 mWhen comparing a SET wetland elevation trend to a nearby tide gauge RSLR trend, the underlying assumption is that deep subsidence rates are the same beneath both the wetland and the tide station (Cahoon',\n",
       " 'metadata': {'content_type': 'Article',\n",
       "  'url': [{'format': '',\n",
       "    'platform': '',\n",
       "    'value': 'http://dx.doi.org/10.1007/s12237-023-01313-8'}],\n",
       "  'title': 'Responses of Coastal Wetlands to Rising Sea-Level Revisited: The Importance of Organic Production',\n",
       "  'publication_name': 'Estuaries and Coasts',\n",
       "  'doi': '10.1007/s12237-023-01313-8',\n",
       "  'publication_date': '2024-11-01',\n",
       "  'starting_page': '1735',\n",
       "  'ending_page': '1749',\n",
       "  'open_access': 'true',\n",
       "  'abstract': {'h1': 'Abstract',\n",
       "   'p': 'A network of 15 Surface Elevation Tables (SETs) at North Inlet estuary, South Carolina, has been monitored on annual or monthly time scales beginning from 1990 to 1996 and continuing through 2022. Of 73 time series in control plots, 12 had elevation gains equal to or exceeding the local rate of sea-level rise (SLR, 0.34\\xa0cm/year). Rising marsh elevation in North Inlet is dominated by organic production and, we hypothesize, is proportional to net ecosystem production. The rate of elevation gain was 0.47\\xa0cm/year in plots experimentally fertilized for 10\\xa0years with N&P compared to nearby control plots that have gained 0.1\\xa0cm/year in 26\\xa0years. The excess gains and losses of elevation in fertilized plots were accounted for by changes in belowground biomass and turnover. This is supported by bioassay experiments in marsh organs where at age 2 the belowground biomass of fertilized S. alterniflora plants was increasing by 1,994\\xa0g\\xa0m^−2\\xa0year^−1, which added a growth premium of 2.4\\xa0cm/year to elevation gain. This was contrasted with the net belowground growth of 746\\xa0g\\xa0m^−2\\xa0year^−1 in controls, which can add 0.89\\xa0cm/year to elevation. Root biomass density was greater in the fertilized bioassay treatments than in controls, plateauing at about 1,374\\xa0g\\xa0m^−2 and 472\\xa0g\\xa0m^−2, respectively. Growth of belowground biomass was dominated by rhizomes, which grew to 3,648\\xa0g\\xa0m^−2 in the fertilized treatments after 3\\xa0years and 1,439\\xa0g\\xa0m^−2 in the control treatments after 5\\xa0years. Depositional wetlands are limited by an exogenous supply of mineral sediment, whereas marshes like North Inlet could be classified as autonomous because they depend on in situ organic production to maintain elevation. Autonomous wetlands are more vulnerable to SLR because their elevation gains are constrained ultimately by photosynthetic efficiency.'},\n",
       "  'section': 'Introduction'}}"
      ]
     },
     "execution_count": 123,
     "metadata": {},
     "output_type": "execute_result"
    }
   ],
   "source": [
    "embedding_sample[0]"
   ]
  },
  {
   "cell_type": "markdown",
   "metadata": {},
   "source": [
    "So it works as intended in the same way as the titan model. Now we can update our scripts in the modules/data_processing folder."
   ]
  }
 ],
 "metadata": {
  "kernelspec": {
   "display_name": "Python 3 (ipykernel)",
   "language": "python",
   "name": "python3"
  },
  "language_info": {
   "codemirror_mode": {
    "name": "ipython",
    "version": 3
   },
   "file_extension": ".py",
   "mimetype": "text/x-python",
   "name": "python",
   "nbconvert_exporter": "python",
   "pygments_lexer": "ipython3",
   "version": "3.10.14"
  }
 },
 "nbformat": 4,
 "nbformat_minor": 2
}
