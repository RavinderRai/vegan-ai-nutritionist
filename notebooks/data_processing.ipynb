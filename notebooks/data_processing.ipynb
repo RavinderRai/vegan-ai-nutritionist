{
 "cells": [
  {
   "cell_type": "markdown",
   "metadata": {},
   "source": [
    "# Data Processing\n",
    "\n",
    "This notebook is about exploring how we can take the data we ingested and stored into an S3 bucket, and storing it into a vector database.\n",
    "\n",
    "See the Full Embeddings section for an important note about an error to be fixed later."
   ]
  },
  {
   "cell_type": "code",
   "execution_count": 6,
   "metadata": {
    "vscode": {
     "languageId": "shellscript"
    }
   },
   "outputs": [
    {
     "data": {
      "text/plain": [
       "'c:\\\\Users\\\\RaviB\\\\GitHub\\\\vegan-ai-nutritionist'"
      ]
     },
     "execution_count": 6,
     "metadata": {},
     "output_type": "execute_result"
    }
   ],
   "source": [
    "pwd"
   ]
  },
  {
   "cell_type": "markdown",
   "metadata": {},
   "source": [
    "## Managing Dependencies"
   ]
  },
  {
   "cell_type": "code",
   "execution_count": 5,
   "metadata": {
    "vscode": {
     "languageId": "shellscript"
    }
   },
   "outputs": [],
   "source": [
    "import os\n",
    "os.chdir(\"..\")"
   ]
  },
  {
   "cell_type": "code",
   "execution_count": 69,
   "metadata": {
    "vscode": {
     "languageId": "shellscript"
    }
   },
   "outputs": [
    {
     "name": "stdout",
     "output_type": "stream",
     "text": [
      "\u001b[34mUpdating dependencies\u001b[39m\n",
      "\u001b[2K\u001b[34mResolving dependencies...\u001b[39m \u001b[39;2m(35.3s)\u001b[39;22m[34mResolving dependencies...\u001b[39m \u001b[39;2m(4.2s)\u001b[39;22m\u001b[34mResolving dependencies...\u001b[39m \u001b[39;2m(18.0s)\u001b[39;22m\u001b[34mResolving dependencies...\u001b[39m \u001b[39;2m(19.0s)\u001b[39;22m\u001b[34mResolving dependencies...\u001b[39m \u001b[39;2m(19.1s)\u001b[39;22m\u001b[34mResolving dependencies...\u001b[39m \u001b[39;2m(26.9s)\u001b[39;22m\n",
      "\n",
      "\u001b[39;1mPackage operations\u001b[39;22m: \u001b[34m0\u001b[39m installs, \u001b[34m5\u001b[39m updates, \u001b[34m0\u001b[39m removals\n",
      "\n",
      "  \u001b[34;1m-\u001b[39;22m \u001b[39mUpdating \u001b[39m\u001b[36mplatformdirs\u001b[39m\u001b[39m (\u001b[39m\u001b[39;1m4.3.2\u001b[39;22m\u001b[39m -> \u001b[39m\u001b[39;1m4.3.3\u001b[39;22m\u001b[39m)\u001b[39m: \u001b[34mPending...\u001b[39m\n",
      "\u001b[1A\u001b[0J  \u001b[34;1m-\u001b[39;22m \u001b[39mUpdating \u001b[39m\u001b[36mplatformdirs\u001b[39m\u001b[39m (\u001b[39m\u001b[39;1m4.3.2\u001b[39;22m\u001b[39m -> \u001b[39m\u001b[39;1m4.3.3\u001b[39;22m\u001b[39m)\u001b[39m: \u001b[34mDownloading...\u001b[39m \u001b[39;1m0%\u001b[39;22m\n",
      "\u001b[1A\u001b[0J  \u001b[34;1m-\u001b[39;22m \u001b[39mUpdating \u001b[39m\u001b[36mplatformdirs\u001b[39m\u001b[39m (\u001b[39m\u001b[39;1m4.3.2\u001b[39;22m\u001b[39m -> \u001b[39m\u001b[39;1m4.3.3\u001b[39;22m\u001b[39m)\u001b[39m: \u001b[34mDownloading...\u001b[39m \u001b[39;1m100%\u001b[39;22m\n",
      "\u001b[1A\u001b[0J  \u001b[34;1m-\u001b[39;22m \u001b[39mUpdating \u001b[39m\u001b[36mplatformdirs\u001b[39m\u001b[39m (\u001b[39m\u001b[39;1m4.3.2\u001b[39;22m\u001b[39m -> \u001b[39m\u001b[39;1m4.3.3\u001b[39;22m\u001b[39m)\u001b[39m: \u001b[34mInstalling...\u001b[39m\n",
      "\u001b[1A\u001b[0J  \u001b[32;1m-\u001b[39;22m \u001b[39mUpdating \u001b[39m\u001b[36mplatformdirs\u001b[39m\u001b[39m (\u001b[39m\u001b[39;1m4.3.2\u001b[39;22m\u001b[39m -> \u001b[39m\u001b[32m4.3.3\u001b[39m\u001b[39m)\u001b[39m\n",
      "  \u001b[34;1m-\u001b[39;22m \u001b[39mUpdating \u001b[39m\u001b[36midna\u001b[39m\u001b[39m (\u001b[39m\u001b[39;1m3.8\u001b[39;22m\u001b[39m -> \u001b[39m\u001b[39;1m3.9\u001b[39;22m\u001b[39m)\u001b[39m: \u001b[34mPending...\u001b[39m\n",
      "\u001b[1A\u001b[0J  \u001b[34;1m-\u001b[39;22m \u001b[39mUpdating \u001b[39m\u001b[36midna\u001b[39m\u001b[39m (\u001b[39m\u001b[39;1m3.8\u001b[39;22m\u001b[39m -> \u001b[39m\u001b[39;1m3.9\u001b[39;22m\u001b[39m)\u001b[39m: \u001b[34mDownloading...\u001b[39m \u001b[39;1m0%\u001b[39;22m\n",
      "\u001b[1A\u001b[0J  \u001b[34;1m-\u001b[39;22m \u001b[39mUpdating \u001b[39m\u001b[36midna\u001b[39m\u001b[39m (\u001b[39m\u001b[39;1m3.8\u001b[39;22m\u001b[39m -> \u001b[39m\u001b[39;1m3.9\u001b[39;22m\u001b[39m)\u001b[39m: \u001b[34mDownloading...\u001b[39m \u001b[39;1m100%\u001b[39;22m\n",
      "\u001b[1A\u001b[0J  \u001b[34;1m-\u001b[39;22m \u001b[39mUpdating \u001b[39m\u001b[36midna\u001b[39m\u001b[39m (\u001b[39m\u001b[39;1m3.8\u001b[39;22m\u001b[39m -> \u001b[39m\u001b[39;1m3.9\u001b[39;22m\u001b[39m)\u001b[39m: \u001b[34mInstalling...\u001b[39m\n",
      "\u001b[1A\u001b[0J  \u001b[32;1m-\u001b[39;22m \u001b[39mUpdating \u001b[39m\u001b[36midna\u001b[39m\u001b[39m (\u001b[39m\u001b[39;1m3.8\u001b[39;22m\u001b[39m -> \u001b[39m\u001b[32m3.9\u001b[39m\u001b[39m)\u001b[39m\n",
      "  \u001b[34;1m-\u001b[39;22m \u001b[39mUpdating \u001b[39m\u001b[36murllib3\u001b[39m\u001b[39m (\u001b[39m\u001b[39;1m2.2.2\u001b[39;22m\u001b[39m -> \u001b[39m\u001b[39;1m2.2.3\u001b[39;22m\u001b[39m)\u001b[39m: \u001b[34mPending...\u001b[39m\n",
      "\u001b[1A\u001b[0J  \u001b[34;1m-\u001b[39;22m \u001b[39mUpdating \u001b[39m\u001b[36murllib3\u001b[39m\u001b[39m (\u001b[39m\u001b[39;1m2.2.2\u001b[39;22m\u001b[39m -> \u001b[39m\u001b[39;1m2.2.3\u001b[39;22m\u001b[39m)\u001b[39m: \u001b[34mDownloading...\u001b[39m \u001b[39;1m0%\u001b[39;22m\n",
      "\u001b[1A\u001b[0J  \u001b[34;1m-\u001b[39;22m \u001b[39mUpdating \u001b[39m\u001b[36murllib3\u001b[39m\u001b[39m (\u001b[39m\u001b[39;1m2.2.2\u001b[39;22m\u001b[39m -> \u001b[39m\u001b[39;1m2.2.3\u001b[39;22m\u001b[39m)\u001b[39m: \u001b[34mDownloading...\u001b[39m \u001b[39;1m100%\u001b[39;22m\n",
      "\u001b[1A\u001b[0J  \u001b[34;1m-\u001b[39;22m \u001b[39mUpdating \u001b[39m\u001b[36murllib3\u001b[39m\u001b[39m (\u001b[39m\u001b[39;1m2.2.2\u001b[39;22m\u001b[39m -> \u001b[39m\u001b[39;1m2.2.3\u001b[39;22m\u001b[39m)\u001b[39m: \u001b[34mInstalling...\u001b[39m\n",
      "\u001b[1A\u001b[0J  \u001b[32;1m-\u001b[39;22m \u001b[39mUpdating \u001b[39m\u001b[36murllib3\u001b[39m\u001b[39m (\u001b[39m\u001b[39;1m2.2.2\u001b[39;22m\u001b[39m -> \u001b[39m\u001b[32m2.2.3\u001b[39m\u001b[39m)\u001b[39m\n",
      "  \u001b[34;1m-\u001b[39;22m \u001b[39mUpdating \u001b[39m\u001b[36mlangchain-core\u001b[39m\u001b[39m (\u001b[39m\u001b[39;1m0.2.39\u001b[39;22m\u001b[39m -> \u001b[39m\u001b[39;1m0.2.40\u001b[39;22m\u001b[39m)\u001b[39m: \u001b[34mPending...\u001b[39m\n",
      "\u001b[1A\u001b[0J  \u001b[34;1m-\u001b[39;22m \u001b[39mUpdating \u001b[39m\u001b[36mlangchain-core\u001b[39m\u001b[39m (\u001b[39m\u001b[39;1m0.2.39\u001b[39;22m\u001b[39m -> \u001b[39m\u001b[39;1m0.2.40\u001b[39;22m\u001b[39m)\u001b[39m: \u001b[34mDownloading...\u001b[39m \u001b[39;1m0%\u001b[39;22m\n",
      "\u001b[1A\u001b[0J  \u001b[34;1m-\u001b[39;22m \u001b[39mUpdating \u001b[39m\u001b[36mlangchain-core\u001b[39m\u001b[39m (\u001b[39m\u001b[39;1m0.2.39\u001b[39;22m\u001b[39m -> \u001b[39m\u001b[39;1m0.2.40\u001b[39;22m\u001b[39m)\u001b[39m: \u001b[34mDownloading...\u001b[39m \u001b[39;1m100%\u001b[39;22m\n",
      "\u001b[1A\u001b[0J  \u001b[34;1m-\u001b[39;22m \u001b[39mUpdating \u001b[39m\u001b[36mlangchain-core\u001b[39m\u001b[39m (\u001b[39m\u001b[39;1m0.2.39\u001b[39;22m\u001b[39m -> \u001b[39m\u001b[39;1m0.2.40\u001b[39;22m\u001b[39m)\u001b[39m: \u001b[34mInstalling...\u001b[39m\n",
      "\u001b[1A\u001b[0J  \u001b[32;1m-\u001b[39;22m \u001b[39mUpdating \u001b[39m\u001b[36mlangchain-core\u001b[39m\u001b[39m (\u001b[39m\u001b[39;1m0.2.39\u001b[39;22m\u001b[39m -> \u001b[39m\u001b[32m0.2.40\u001b[39m\u001b[39m)\u001b[39m\n",
      "  \u001b[34;1m-\u001b[39;22m \u001b[39mUpdating \u001b[39m\u001b[36mlangchain-community\u001b[39m\u001b[39m (\u001b[39m\u001b[39;1m0.2.16\u001b[39;22m\u001b[39m -> \u001b[39m\u001b[39;1m0.2.17\u001b[39;22m\u001b[39m)\u001b[39m: \u001b[34mPending...\u001b[39m\n",
      "\u001b[1A\u001b[0J  \u001b[34;1m-\u001b[39;22m \u001b[39mUpdating \u001b[39m\u001b[36mlangchain-community\u001b[39m\u001b[39m (\u001b[39m\u001b[39;1m0.2.16\u001b[39;22m\u001b[39m -> \u001b[39m\u001b[39;1m0.2.17\u001b[39;22m\u001b[39m)\u001b[39m: \u001b[34mDownloading...\u001b[39m \u001b[39;1m0%\u001b[39;22m\n",
      "\u001b[1A\u001b[0J  \u001b[34;1m-\u001b[39;22m \u001b[39mUpdating \u001b[39m\u001b[36mlangchain-community\u001b[39m\u001b[39m (\u001b[39m\u001b[39;1m0.2.16\u001b[39;22m\u001b[39m -> \u001b[39m\u001b[39;1m0.2.17\u001b[39;22m\u001b[39m)\u001b[39m: \u001b[34mDownloading...\u001b[39m \u001b[39;1m30%\u001b[39;22m\n",
      "\u001b[1A\u001b[0J  \u001b[34;1m-\u001b[39;22m \u001b[39mUpdating \u001b[39m\u001b[36mlangchain-community\u001b[39m\u001b[39m (\u001b[39m\u001b[39;1m0.2.16\u001b[39;22m\u001b[39m -> \u001b[39m\u001b[39;1m0.2.17\u001b[39;22m\u001b[39m)\u001b[39m: \u001b[34mDownloading...\u001b[39m \u001b[39;1m90%\u001b[39;22m\n",
      "\u001b[1A\u001b[0J  \u001b[34;1m-\u001b[39;22m \u001b[39mUpdating \u001b[39m\u001b[36mlangchain-community\u001b[39m\u001b[39m (\u001b[39m\u001b[39;1m0.2.16\u001b[39;22m\u001b[39m -> \u001b[39m\u001b[39;1m0.2.17\u001b[39;22m\u001b[39m)\u001b[39m: \u001b[34mDownloading...\u001b[39m \u001b[39;1m100%\u001b[39;22m\n",
      "\u001b[1A\u001b[0J  \u001b[34;1m-\u001b[39;22m \u001b[39mUpdating \u001b[39m\u001b[36mlangchain-community\u001b[39m\u001b[39m (\u001b[39m\u001b[39;1m0.2.16\u001b[39;22m\u001b[39m -> \u001b[39m\u001b[39;1m0.2.17\u001b[39;22m\u001b[39m)\u001b[39m: \u001b[34mInstalling...\u001b[39m\n",
      "\u001b[1A\u001b[0J  \u001b[32;1m-\u001b[39;22m \u001b[39mUpdating \u001b[39m\u001b[36mlangchain-community\u001b[39m\u001b[39m (\u001b[39m\u001b[39;1m0.2.16\u001b[39;22m\u001b[39m -> \u001b[39m\u001b[32m0.2.17\u001b[39m\u001b[39m)\u001b[39m\n",
      "\n",
      "\u001b[34mWriting lock file\u001b[39m\n"
     ]
    }
   ],
   "source": [
    "# Switch to the directory containing the pyproject.toml file\n",
    "os.chdir(\"modules/data_processing\")\n",
    "\n",
    "# Install libraries using poetry, uncomment and change library names as needed\n",
    "!poetry update\n",
    "\n",
    "\n",
    "#switch back to the root directory\n",
    "os.chdir(\"../..\")"
   ]
  },
  {
   "cell_type": "code",
   "execution_count": 11,
   "metadata": {
    "vscode": {
     "languageId": "shellscript"
    }
   },
   "outputs": [
    {
     "data": {
      "text/plain": [
       "True"
      ]
     },
     "execution_count": 11,
     "metadata": {},
     "output_type": "execute_result"
    }
   ],
   "source": [
    "import os\n",
    "import pandas as pd\n",
    "import boto3\n",
    "import json\n",
    "from dotenv import load_dotenv\n",
    "\n",
    "load_dotenv()"
   ]
  },
  {
   "cell_type": "markdown",
   "metadata": {},
   "source": [
    "## Loading Raw Data\n",
    "\n",
    "We need to transform it a bit. We want to save the section as meta data and then store it with the embeddings."
   ]
  },
  {
   "cell_type": "code",
   "execution_count": 12,
   "metadata": {
    "vscode": {
     "languageId": "shellscript"
    }
   },
   "outputs": [
    {
     "data": {
      "text/plain": [
       "200"
      ]
     },
     "execution_count": 12,
     "metadata": {},
     "output_type": "execute_result"
    }
   ],
   "source": [
    "s3 = boto3.client('s3')\n",
    "\n",
    "bucket_name = os.environ.get('AWS_BUCKET_NAME')\n",
    "\n",
    "response = s3.list_objects_v2(Bucket=bucket_name)\n",
    "response[\"ResponseMetadata\"][\"HTTPStatusCode\"]"
   ]
  },
  {
   "cell_type": "code",
   "execution_count": 13,
   "metadata": {
    "vscode": {
     "languageId": "shellscript"
    }
   },
   "outputs": [],
   "source": [
    "file_name = 'vegan_research_papers.json'\n",
    "\n",
    "# Get the file contents from S3\n",
    "response = s3.get_object(Bucket=bucket_name, Key=file_name)"
   ]
  },
  {
   "cell_type": "code",
   "execution_count": 14,
   "metadata": {
    "vscode": {
     "languageId": "shellscript"
    }
   },
   "outputs": [],
   "source": [
    "# Load the JSON data from the file contents\n",
    "data = json.loads(response['Body'].read())"
   ]
  },
  {
   "cell_type": "code",
   "execution_count": 15,
   "metadata": {
    "vscode": {
     "languageId": "shellscript"
    }
   },
   "outputs": [
    {
     "data": {
      "text/plain": [
       "{'meta_data': {'content_type': 'Article',\n",
       "  'url': [{'format': '',\n",
       "    'platform': '',\n",
       "    'value': 'http://dx.doi.org/10.1007/s12237-023-01313-8'}],\n",
       "  'title': 'Responses of Coastal Wetlands to Rising Sea-Level Revisited: The Importance of Organic Production',\n",
       "  'publication_name': 'Estuaries and Coasts',\n",
       "  'doi': '10.1007/s12237-023-01313-8',\n",
       "  'publication_date': '2024-11-01',\n",
       "  'starting_page': '1735',\n",
       "  'ending_page': '1749',\n",
       "  'open_access': 'true',\n",
       "  'abstract': {'h1': 'Abstract',\n",
       "   'p': 'A network of 15 Surface Elevation Tables (SETs) at North Inlet estuary, South Carolina, has been monitored on annual or monthly time scales beginning from 1990 to 1996 and continuing through 2022. Of 73 time series in control plots, 12 had elevation gains equal to or exceeding the local rate of sea-level rise (SLR, 0.34\\xa0cm/year). Rising marsh elevation in North Inlet is dominated by organic production and, we hypothesize, is proportional to net ecosystem production. The rate of elevation gain was 0.47\\xa0cm/year in plots experimentally fertilized for 10\\xa0years with N&P compared to nearby control plots that have gained 0.1\\xa0cm/year in 26\\xa0years. The excess gains and losses of elevation in fertilized plots were accounted for by changes in belowground biomass and turnover. This is supported by bioassay experiments in marsh organs where at age 2 the belowground biomass of fertilized S. alterniflora plants was increasing by 1,994\\xa0g\\xa0m^−2\\xa0year^−1, which added a growth premium of 2.4\\xa0cm/year to elevation gain. This was contrasted with the net belowground growth of 746\\xa0g\\xa0m^−2\\xa0year^−1 in controls, which can add 0.89\\xa0cm/year to elevation. Root biomass density was greater in the fertilized bioassay treatments than in controls, plateauing at about 1,374\\xa0g\\xa0m^−2 and 472\\xa0g\\xa0m^−2, respectively. Growth of belowground biomass was dominated by rhizomes, which grew to 3,648\\xa0g\\xa0m^−2 in the fertilized treatments after 3\\xa0years and 1,439\\xa0g\\xa0m^−2 in the control treatments after 5\\xa0years. Depositional wetlands are limited by an exogenous supply of mineral sediment, whereas marshes like North Inlet could be classified as autonomous because they depend on in situ organic production to maintain elevation. Autonomous wetlands are more vulnerable to SLR because their elevation gains are constrained ultimately by photosynthetic efficiency.'}},\n",
       " 'content': [{'section': 'Introduction',\n",
       "   'body': 'Accelerating relative sea-level rise (RSLR) threatens coastal wetlands globally, and their survival depends on the ability of wetlands to build soil vertically and maintain their elevation in the tidal frame. Studies using the Surface Elevation Table–Marker Horizon (SET-MH) method are advancing our understanding of the processes contributing to the sustainability of coastal wetland elevation in the face of rising sea levels, and their management implications, resulting in an approach that allows for comprehensive and systematic monitoring of wetland elevation change over a wide range of coastal environments globally. Collectively, the 27 articles in this special issue present an examination of current advances at quantifying and understanding subsurface process influences on wetland elevation change and wetland responses to sea-level rise, drawing on research presentations from two special sessions at the Coastal and Estuarine Research Federation (CERF) 2021 conference plus additional recent research describing scientific insights gained from the SET-MH method. These insights include information from research on the five thematic topics presented below. This special issue should be of great value to everyone interested in the latest advances in coastal wetland elevation dynamics using the SET-MH technique.A 30-year retrospective on the scientific insights gained on the surface and shallow subsurface processes influencing wetland elevation dynamics using the SET-MH method, including fundamental revelations about tidal wetland elevation dynamics.The development and evolution of the SET-MH technique has led to the recognition that coastal wetland soil elevation dynamics are driven by complex interactions among surface and subsurface processes (Cahoon Investigations of the subsurface soil process influences on wetland elevation\\xa0(e.g., Maher and Starke Essential plant nutrients like nitrogen (N) and phosphorus (P) are often in limited supply in tidal wetlands, thereby restricting plant growth and soil organic matter accumulation influences on elevation gain. Nutrient enrichment in oligotrophic wetlands from sediment addition, nutrient pollution, or fertilization can lead to increased plant growth, soil organic matter accumulation, and wetland elevation gain (see\\xa0Table\\xa03 in Cahoon How the scientific community applies the SET–MH method to quantify and understand wetland responses to RSLR and other environmental drivers such as altered hydrology and sediment supply, changes in plant production, and management and restoration actions through statistical analyses of changes in surface elevation, and how the information gained can be used to inform management decisions.Wetland elevation trend responses to RSLR are shown to vary by lateral position within the estuary for salt marshes (e.g., riverine, bayside, and barrier island settings; Steinmuller et al. How SET-MH data are used in long-term monitoring networks at different geographic scales where the distance among network sites ranges from local (i.e., 10\\xa0s of kilometers) to regional (i.e., 100\\xa0s of kilometers) to national (i.e., 1000\\xa0s of kilometers), and what complementary datasets will enhance comparisons to environmental drivers such as RSLR.Local networks are used to assess environmental gradients in a coastal sound or bay, such as distance from a sediment source (e.g., ocean inlet (Roman et al. Multidecadal datasets from regional networks in the USA covering multiple sounds and bays in California (Thorne et al. A national network of 289 SET-MH stations spanning a range of tidal wetland types across mainland Australian coastal states and territories (Saintilan et al. Pairing the SET-MH method with survey techniques to increase lateral coverage of wetland elevation trends and with geodetic techniques to increase vertical coverage of vertical land motion, including both shallow and deep subsidence, thereby improving our understanding of coastal wetland elevation dynamics and responses to RSLR.An individual rod SET station measures elevation across an approximate 1.5 mWhen comparing a SET wetland elevation trend to a nearby tide gauge RSLR trend, the underlying assumption is that deep subsidence rates are the same beneath both the wetland and the tide station (Cahoon '},\n",
       "  {'section': 'Topic 1',\n",
       "   'body': 'A 30-year retrospective on the scientific insights gained on the surface and shallow subsurface processes influencing wetland elevation dynamics using the SET-MH method, including fundamental revelations about tidal wetland elevation dynamics.The development and evolution of the SET-MH technique has led to the recognition that coastal wetland soil elevation dynamics are driven by complex interactions among surface and subsurface processes (Cahoon '},\n",
       "  {'section': 'Topic 2',\n",
       "   'body': 'Investigations of the subsurface soil process influences on wetland elevation\\xa0(e.g., Maher and Starke Essential plant nutrients like nitrogen (N) and phosphorus (P) are often in limited supply in tidal wetlands, thereby restricting plant growth and soil organic matter accumulation influences on elevation gain. Nutrient enrichment in oligotrophic wetlands from sediment addition, nutrient pollution, or fertilization can lead to increased plant growth, soil organic matter accumulation, and wetland elevation gain (see\\xa0Table\\xa03 in Cahoon '},\n",
       "  {'section': 'Topic 3',\n",
       "   'body': 'How the scientific community applies the SET–MH method to quantify and understand wetland responses to RSLR and other environmental drivers such as altered hydrology and sediment supply, changes in plant production, and management and restoration actions through statistical analyses of changes in surface elevation, and how the information gained can be used to inform management decisions.Wetland elevation trend responses to RSLR are shown to vary by lateral position within the estuary for salt marshes (e.g., riverine, bayside, and barrier island settings; Steinmuller et al. '},\n",
       "  {'section': 'Topic 4',\n",
       "   'body': 'How SET-MH data are used in long-term monitoring networks at different geographic scales where the distance among network sites ranges from local (i.e., 10\\xa0s of kilometers) to regional (i.e., 100\\xa0s of kilometers) to national (i.e., 1000\\xa0s of kilometers), and what complementary datasets will enhance comparisons to environmental drivers such as RSLR.Local networks are used to assess environmental gradients in a coastal sound or bay, such as distance from a sediment source (e.g., ocean inlet (Roman et al. Multidecadal datasets from regional networks in the USA covering multiple sounds and bays in California (Thorne et al. A national network of 289 SET-MH stations spanning a range of tidal wetland types across mainland Australian coastal states and territories (Saintilan et al. '},\n",
       "  {'section': 'Local',\n",
       "   'body': 'Local networks are used to assess environmental gradients in a coastal sound or bay, such as distance from a sediment source (e.g., ocean inlet (Roman et al. '},\n",
       "  {'section': 'Regional',\n",
       "   'body': 'Multidecadal datasets from regional networks in the USA covering multiple sounds and bays in California (Thorne et al. '},\n",
       "  {'section': 'National',\n",
       "   'body': 'A national network of 289 SET-MH stations spanning a range of tidal wetland types across mainland Australian coastal states and territories (Saintilan et al. '},\n",
       "  {'section': 'Topic 5',\n",
       "   'body': 'Pairing the SET-MH method with survey techniques to increase lateral coverage of wetland elevation trends and with geodetic techniques to increase vertical coverage of vertical land motion, including both shallow and deep subsidence, thereby improving our understanding of coastal wetland elevation dynamics and responses to RSLR.An individual rod SET station measures elevation across an approximate 1.5 mWhen comparing a SET wetland elevation trend to a nearby tide gauge RSLR trend, the underlying assumption is that deep subsidence rates are the same beneath both the wetland and the tide station (Cahoon '},\n",
       "  {'section': 'Lateral Coverage',\n",
       "   'body': 'An individual rod SET station measures elevation across an approximate 1.5 m'},\n",
       "  {'section': 'Vertical Coverage',\n",
       "   'body': 'When comparing a SET wetland elevation trend to a nearby tide gauge RSLR trend, the underlying assumption is that deep subsidence rates are the same beneath both the wetland and the tide station (Cahoon '},\n",
       "  {'section': 'Disclaimer',\n",
       "   'body': 'Any use of trade, firm, or product names is for descriptive purposes only and does not imply endorsement by the U.S. Government.\\n'}]}"
      ]
     },
     "execution_count": 15,
     "metadata": {},
     "output_type": "execute_result"
    }
   ],
   "source": [
    "data[0]"
   ]
  },
  {
   "cell_type": "markdown",
   "metadata": {},
   "source": [
    "Let's explore a sample."
   ]
  },
  {
   "cell_type": "code",
   "execution_count": 16,
   "metadata": {
    "vscode": {
     "languageId": "shellscript"
    }
   },
   "outputs": [],
   "source": [
    "sample_pdf = data[1]\n",
    "sample_text = sample_pdf['content']\n",
    "sample_meta_data = sample_pdf['meta_data']"
   ]
  },
  {
   "cell_type": "code",
   "execution_count": 17,
   "metadata": {
    "vscode": {
     "languageId": "shellscript"
    }
   },
   "outputs": [
    {
     "data": {
      "text/plain": [
       "{'content_type': 'Article',\n",
       " 'url': [{'format': '',\n",
       "   'platform': '',\n",
       "   'value': 'http://dx.doi.org/10.1007/s00217-024-04565-1'}],\n",
       " 'title': 'Valorization of plant proteins for meat analogues design—a comprehensive review',\n",
       " 'publication_name': 'European Food Research and Technology',\n",
       " 'doi': '10.1007/s00217-024-04565-1',\n",
       " 'publication_date': '2024-10-01',\n",
       " 'starting_page': '2479',\n",
       " 'ending_page': '2513',\n",
       " 'open_access': 'true',\n",
       " 'abstract': {'h1': 'Abstract',\n",
       "  'p': 'Animal proteins from meat and its stuffs have recently been one of main concerns in the drive for sustainable food production. This viewpoint suggests that there are exciting prospects to reformulate meat products that are produced more sustainably and may also have health benefits by substituting high-protein nonmeat ingredients for some of the meat. Considering these pre-existing conditions, this review critically reviews recent data on extenders from several sources, including pulses, plant-based components, plant byproducts, and unconventional sources. We used the related keywords from Scopus-database without limiting the publishing date. With an emphasis on how these findings may impact the sustainability of meat products, it sees them as a great chance to enhance the functional quality and technological profile of meat. Therefore, to promote sustainability, meat alternatives such as plant-based meat equivalents are being made available. To boost consumer acceptability of these goods, further initiatives should also be developed to enhance the functioning of these innovative food items and increase public knowledge of plant-based meat analogues.'}}"
      ]
     },
     "execution_count": 17,
     "metadata": {},
     "output_type": "execute_result"
    }
   ],
   "source": [
    "sample_meta_data"
   ]
  },
  {
   "cell_type": "code",
   "execution_count": 18,
   "metadata": {
    "vscode": {
     "languageId": "shellscript"
    }
   },
   "outputs": [
    {
     "data": {
      "text/plain": [
       "[{'section': 'Introduction',\n",
       "  'body': \"Meat is recognized as a very popular food item worldwide and it is well known as an excellent quality protein source with other nutritional characteristics along with its appealing taste. With the growing rate of the planet's population, the need for food security is rising as well, and to feed this growing population a greater amount of good quality food having proper protein, fat, and other nutrition is required. Meanwhile, increased environmental footprint awareness plays a significant role in meat analogues supply for the sustainable and transparent food security of the planet. Animal is the solitary bioresource of meat protein and with rapid population growth, the need for meat protein is also increasing. Various data show that the demand will be magnified near to twice by 2050 [Changes in the different meat prices as per FAO meat price index. (Data Source: OECD-FAO Agricultural Outlook 2022–2031)Meat Greenhouse gas emissions intensity per regionThis paper collects and synthetizes the available research on plant-based meat analogues. The Scopus database was used to retrieve the data. The Scopus database was searched for data in January 2023 using the following keywords: (plant proteins) AND (meat analogues OR meat alternatives OR meat formulation OR ingredients OR functionalities). The PRISMA guidelines (The bibliometric analysis of plant protein-based meat analogues\"},\n",
       " {'section': 'Meat analogues',\n",
       "  'body': \"Figures\\xa0Graphical representation of different ingredients used in PBMA preparationDifferent ingredients and their functions used in PBMA-formulationProteins are made up of amino acids that are critical for human health and are mostly used in food processing to create a variety of nutritious diets [Classification of different types of protein used in the preparation of plant-based meat analoguesSoybeans are rich in protein and contain water-soluble and insoluble proteins. Based on the dry weight of mature raw seeds, soybeans have\\u2009~\\u20098.5–13% moisture,\\u2009~\\u200933–40% protein,\\u2009~\\u20093–4% ash,\\u2009~\\u200918–20% fats, and\\u2009~\\u20099–12% fibers [Amount of protein and essential amino acids in various plant and animal protein sources (g/100\\xa0g)Protein/ Essential amino acidsRDAEgg (Dried) BeefMilk (Dried)Soy isolateSoy concentrateDefatted soy flourWheat flourPea seedsLupine seedsSunflower seed kernelsProtein–48.0521.9126.3283.363.6337.09.6123.1236.1720.78Histidine7001.2020.6990.7142.3031.5781.2681.40.5861.030.632Isoleucine14002.4340.9971.5924.2532.9422.2812.00.9831.6151.139Leucine27304.151.7432.5786.7834.9173.8285.01.682.7431.659Lysine2.1003.3391.8522.0875.3273.9293.1291.11.7711.9330.937Methionine1050 *1.4950.5710.661.130.8140.6340.70.1950.2550.494Phenylalanine1750 *2.530.8651.2714.5933.2782.4533.71.1511.4351.169Tryptophan2800.7750.1440.3711.1160.8350.683NM0.1590.2890.348Threonine10502.1290.8751.1883.1372.4742.0421.80.8131.3310.928Valine18202.9911.0871.7624.0983.0642.3462.31.0351.511.315References[[[[[[[[[[[An overview of the functional quality as well as the application potential of different soy ingredientsProtein ingredientsComposition (%w/w)FunctionalityApplication in meat analoguesSoy isolate (alkaline/acid precipitation treatment)\\u2009~\\u200990% proteinGood solubility, gelling, and emulsificationStructuring process: Extrusion, shear cell, spinning, freeze structuring Role: Protein source, texture, binder, the base for fat substitutes, emulsifier Products: Burger patties, minced meat, sausagesSoy isolate (additional heat treatment/ toasted isolate)\\u2009~\\u200990% protein, denatured due to heat treatmentDecreased solubility, increased water holding capacity, good gellingStructuring process: Extrusion, shear cell Role: Protein source, texture, binder, the base for fat substitutes Products: Burger patties, minced meat, sausagesSoy concentrate\\u2009~\\u200970% proteinGood texturization propertiesProcess: Extrusion, Shear cell Role: Protein source, texture, binder Products: Burger patties, minced meat, sausages, muscle-type productsSoy milk (spray-dried powder)\\u2009>\\u200945% protein,\\u2009~\\u200930% fatHigh solubility, good emulsification propertiesProcess: Freeze structuring Role: Emulsifier, texture Products: Tofu and yuba productionSoy flour/meal (defatted)\\u2009~\\u200943–56% protein,\\u2009~\\u20090.5–9% fat,\\u2009~\\u20093–7% crude fiber,\\u2009>\\u200930% total carbohydrateWater binding capacity and fat retention, native proteinProcess: Extrusion Role: Texture, Binder Products: Burger patties, minced meat, sausages, muscle-type productsWheat Gluten isolate75–80% protein, 15–17% carbohydrates, 5–8% fatBinding, Dough forming/ Cross-linking capacity via S–S bridges, low solubilityStructuring process: Extrusion, shear cell Role: Adhesion, texture Products: Burger patties, muscle-type productsPea isolate\\u2009~\\u200985% proteinWater and fat binding, emulsification, and firm texture after thermal processingProcess: Extrusion, shear cell, spinning Role: Emulsifier, texture, Binder Products: Burger patties, minced meat, sausages, muscle-type productsWheat gluten is a significant component of many analogues. Because it is a by-product of the creation of colossal wheat starch, its price is appealing to the industry. In contrast to soy, the insoluble protein is left behind after the soluble and dispersible components of wheat are only removed by washing them with water [Gliadin (prolamin) is soluble in alcohol, whereas glutenin (glutelin) is soluble in diluted acid [Globally, 27% of the beans and pulses in the Additionally, the proteins of lupine, lentils, faba beans, mung beans, and chickpeas are capable of foam and emulsion stabilization [Oilseeds like rapeseed, canola, or sunflower recently have become cynosure along with soy and legumes. However, most seed isolates and concentrates are still not profitably accessible. These impart capabilities for substituting for soy in formulations of plant-based foods. The proteins extracted from by-products of the oil industry make their economic valorization very appealing. The existence of anti-nutritional parameters or polyphenols, which have the potential to interact with proteins and prevent their use in human nutrition, has led to limitations are currently dealt with extraction protocols and fermentation processes [Pseudo-cereals like quinoa seeds have gained popularity as a source of protein as well. Whole seeds and flour, which are less refined quinoa ingredients, were utilized as meat extenders in nuggets in meat products, gelling in mortadella, and fat replacers in burgers [The chia and pumpkin seed proteins are still being studied, so the emphasis is on protein purification (via alkaline pretreatment and dry separation) and the functionality that outcomes [Protein extraction from various plant sourcesProtein sourceExtraction methodProtein content recovered (PC)/Yield (Y) from the conventional methodReferencesSoybean meal (SBM) rapeseed meal (RSM), microalgae meal (MAM)Endoprotease enzyme (Protex 40XL, Protex P, Protex 5L and Protex 26L, Protex 50FE), Incubation—24\\xa0h at 40 ◦C, pH-12, protein concentration-5%SBM-Y-80% RSM and MAM-Y-15–30%[SoybeanAOT concentration-0.06\\xa0g/ ml, KCL concentration-0.05\\xa0g/ml, pH-8.5, time-30\\xa0min, temperature—40 ◦C11S globulin-PC-83.75%[Soybean MilkMW power-675 W, temperature—80 ◦C, stirring-160\\xa0rpmY-3.86\\xa0kg soybean milk/kg of soybean, PC-13.11%[Soybean protein isolatesPEF strength 30\\xa0kV/cm, treatment time 288\\xa0μs–[Defatted wheat germ (DWG)Forward extraction: AOT concentration—0.06\\xa0g/ml, KCl concentration—0.1\\xa0mol/L, Time—30\\xa0min, T-36 ◦C, pH-8, W0 25Y-2.92%[Sunflower2\\xa0M NaCl (Mild acidic extraction) at pH 6 for 60\\xa0min, room temperature23–26% protein recovery with light colored[Sunflower mealPower density-220 W/L, temperature—45 ◦C, time-15\\xa0min, Sample: solvent ratio-0.5/10 (w/v), pH-8Y-54.26%, PC—934.92\\xa0g/kg[FlaxseedEnzymatic solvent extraction, pH-5, enzyme concentration—2%, temperature—37 ◦C, time—4\\xa0hPC-51.05%[Quinoa protein isolates (QPI)5% w/w QPI suspension, Temperature—33 ◦C, 5 passes, pH-7, 0–50\\xa0MPa–[Mungbean0.1 N KOH, pH 9.1, 40\\xa0°C77.32% protein yield with better functional properties[Pea flourIncreasing pH to 9 (1\\xa0M NaOH) Temp 22◦C (room temperature) Centrifuged at 8000\\xa0rpm for 15\\xa0min Isoelectric Precipitation at pH 4.5 (1\\xa0M HCl) Centrifuged at 8000\\xa0rpm for 15\\xa0min at 4◦C, Neutralization by adding 1\\xa0M NaOH88.83%[Chickpea (Desi)Neutralization at pH 7 (2 N NaOH) Chickpea (Desi) Dehulled Ground Defatted Suspension in water 1:10 (76.5%[Lentil (Red)Suspension in water 1:15 (78.8%[Schematic diagram of enzyme-assisted protein extraction and protein water extractionCereal protein includes various types of protein obtained from rice, wheat, oats, barley, etc. Cereal grain has more protein than legumes but less than soy protein. Among all the cereal proteins, wheat gluten is extensively used due to its low cost and excellent viscoelastic properties which makes it suitable to bind flavour, color, and other ingredients that result in the making of excellent meat analogues [Besides all the above-discussed proteins, several other types of proteins are there such as—corn zein protein, peanuts, potato proteins, pumpkin, etc. can be used in the development of PBMA. Several research studies have already performed such as peanut flour being used in replace of soya flour, potato protein, and corn zein are blended to develop meat mimics the gel-like structure, but no clear results have been obtained till now [The bottom-up design of proteins needed to develop meat analoguesLipids have important functions in terms of providing the meat with juiciness, flavour release, and tenderness in the PBMA. Generally, meat analogues are developed from defatted protein sources that result in lesser fat content in the meat analogues. Therefore to increase the fat content minimally fractionated soy that contains higher fat is used in the manufacturing of fibrous structures like meat analogues [In meat analogues, different flavour generation components and their critical interaction during processing have a crucial role in mimicking specific meat-like tastes and flavors. Meat analogue's taste and flavour predominate its acceptance as a meat alternative to the consumer. Uses of different spices, seasonings, herbs, sugars, salts, and savoury aromas, and their binding capacity to the plant proteins through the extrusion process are directly responsible for meat-like flavour generation [In the consumer's opinion, color is the most important parameter to create a visual appeal for meat analogues in their mind. Each meat has some specific color that changes through different processes such as cooking and smoking. Similarly, meat analogues should have meat mimic color and color change characteristics during processing. Several heat colorings agents such as malt or annatto, turmin, leghemoglobin, erythrosine, cumin, caramel colors, carotene, canthaxanthin, and lycopene have been used to incorporate the meat color and color change characteristics in the meat analogues [Meat analogues are made by combining a variety of ingredients through different texturizing techniques. For optimum binding of all the necessary ingredients (flavor, color, stabilizers, emulsifier, thickeners) several binding and texturing agents such as different natural gums (xanthan gum, guar gum, locust bean gum), carrageenan, hydrocolloids (methylcellulose, hydroxypropyl methylcellulose), wheat gluten, soy protein concentrate, casein are used [In meat analogues, water is a multi-functional ingredient, primarily from providing a hydration effect to the critical conformational change in protein water plays a crucial part in the designing of PBMA. In the extrusion process, high moisture content promotes greater hydrophobic interaction and the creation of disulfide bonds, and H-bonds [Nowadays PBMA is gaining attention worldwide. Several studies reported different formulation compositions (Table\\xa0Different types of plant-based meat analogues formulation composition and their key findingsFormulation compositionsKey findingsReferencesSPC: WG (with ratio 89:0, 79:10, 69:20)\\u2009+\\u20095% vegetable oil\\u2009+\\u20093% pumpkin Powder\\u2009+\\u20092.7% wheat starch\\u2009+\\u20090.3% salt Protein concentrate\\u2009=\\u200959.30%30% Wheat gluten showed optimum hardness, chewiness, and fibrous texture formation of the meat analogues[SPI: WG (3.3:1)\\u2009+\\u20091% NaCl Protein concentrate\\u2009=\\u200930%30\\xa0mm thick highly fibrous structure meat analogues formed[Pectin: SPI (Ratio of varied in 1.3%–4.0%)\\u2009+\\u20091%NaCl Protein concentrate\\u2009=\\u200944%Fibrous elongated filament-like texture formed[SPI: WG (80:20\\u2009−\\u200920:80)\\u2009+\\u20091%NaCl Protein concentration\\u2009=\\u200925%–40%More water absorption makes it suitable for sausage-like meat analogues[WG: SPI blend (40:60, 60:40, 80:20, and100:0)\\u2009+\\u2009soybean oil (2%)\\u2009+\\u2009wheat starch (1%)\\u2009+\\u2009seasoning (1%) Protein concentration\\u2009=\\u200940%A mechanical elongation technique was used to mechanically compress ultrathin filaments into a striated structure[SPC\\u2009+\\u20090.75%, 1.5%, 2.25% and 3% iota—carrageenanThe addition of carrageenan shows promising improvement in the texture of meat analogues[FBPC Protein concentration\\u2009=\\u200963.5% proteinMeat analogues with good firmness, elasticity, and fibrousness were produced[Aqueous fractionated soy protein fractions Protein concentration\\u2009=\\u200968 and 75%Fibrous structure meat analogues are formed with an increase in water-holding capacity and viscoelastic characteristics[PPI and WGCombinations of pea protein and gluten have the potential to produce structured plant protein-based meat analogues[The key steps of formulating and processing plant-based meat analogues using different processing techniques\"},\n",
       " {'section': 'Potential ingredients for meat analogues',\n",
       "  'body': \"Figures\\xa0Graphical representation of different ingredients used in PBMA preparationDifferent ingredients and their functions used in PBMA-formulationProteins are made up of amino acids that are critical for human health and are mostly used in food processing to create a variety of nutritious diets [Classification of different types of protein used in the preparation of plant-based meat analoguesSoybeans are rich in protein and contain water-soluble and insoluble proteins. Based on the dry weight of mature raw seeds, soybeans have\\u2009~\\u20098.5–13% moisture,\\u2009~\\u200933–40% protein,\\u2009~\\u20093–4% ash,\\u2009~\\u200918–20% fats, and\\u2009~\\u20099–12% fibers [Amount of protein and essential amino acids in various plant and animal protein sources (g/100\\xa0g)Protein/ Essential amino acidsRDAEgg (Dried) BeefMilk (Dried)Soy isolateSoy concentrateDefatted soy flourWheat flourPea seedsLupine seedsSunflower seed kernelsProtein–48.0521.9126.3283.363.6337.09.6123.1236.1720.78Histidine7001.2020.6990.7142.3031.5781.2681.40.5861.030.632Isoleucine14002.4340.9971.5924.2532.9422.2812.00.9831.6151.139Leucine27304.151.7432.5786.7834.9173.8285.01.682.7431.659Lysine2.1003.3391.8522.0875.3273.9293.1291.11.7711.9330.937Methionine1050 *1.4950.5710.661.130.8140.6340.70.1950.2550.494Phenylalanine1750 *2.530.8651.2714.5933.2782.4533.71.1511.4351.169Tryptophan2800.7750.1440.3711.1160.8350.683NM0.1590.2890.348Threonine10502.1290.8751.1883.1372.4742.0421.80.8131.3310.928Valine18202.9911.0871.7624.0983.0642.3462.31.0351.511.315References[[[[[[[[[[[An overview of the functional quality as well as the application potential of different soy ingredientsProtein ingredientsComposition (%w/w)FunctionalityApplication in meat analoguesSoy isolate (alkaline/acid precipitation treatment)\\u2009~\\u200990% proteinGood solubility, gelling, and emulsificationStructuring process: Extrusion, shear cell, spinning, freeze structuring Role: Protein source, texture, binder, the base for fat substitutes, emulsifier Products: Burger patties, minced meat, sausagesSoy isolate (additional heat treatment/ toasted isolate)\\u2009~\\u200990% protein, denatured due to heat treatmentDecreased solubility, increased water holding capacity, good gellingStructuring process: Extrusion, shear cell Role: Protein source, texture, binder, the base for fat substitutes Products: Burger patties, minced meat, sausagesSoy concentrate\\u2009~\\u200970% proteinGood texturization propertiesProcess: Extrusion, Shear cell Role: Protein source, texture, binder Products: Burger patties, minced meat, sausages, muscle-type productsSoy milk (spray-dried powder)\\u2009>\\u200945% protein,\\u2009~\\u200930% fatHigh solubility, good emulsification propertiesProcess: Freeze structuring Role: Emulsifier, texture Products: Tofu and yuba productionSoy flour/meal (defatted)\\u2009~\\u200943–56% protein,\\u2009~\\u20090.5–9% fat,\\u2009~\\u20093–7% crude fiber,\\u2009>\\u200930% total carbohydrateWater binding capacity and fat retention, native proteinProcess: Extrusion Role: Texture, Binder Products: Burger patties, minced meat, sausages, muscle-type productsWheat Gluten isolate75–80% protein, 15–17% carbohydrates, 5–8% fatBinding, Dough forming/ Cross-linking capacity via S–S bridges, low solubilityStructuring process: Extrusion, shear cell Role: Adhesion, texture Products: Burger patties, muscle-type productsPea isolate\\u2009~\\u200985% proteinWater and fat binding, emulsification, and firm texture after thermal processingProcess: Extrusion, shear cell, spinning Role: Emulsifier, texture, Binder Products: Burger patties, minced meat, sausages, muscle-type productsWheat gluten is a significant component of many analogues. Because it is a by-product of the creation of colossal wheat starch, its price is appealing to the industry. In contrast to soy, the insoluble protein is left behind after the soluble and dispersible components of wheat are only removed by washing them with water [Gliadin (prolamin) is soluble in alcohol, whereas glutenin (glutelin) is soluble in diluted acid [Globally, 27% of the beans and pulses in the Additionally, the proteins of lupine, lentils, faba beans, mung beans, and chickpeas are capable of foam and emulsion stabilization [Oilseeds like rapeseed, canola, or sunflower recently have become cynosure along with soy and legumes. However, most seed isolates and concentrates are still not profitably accessible. These impart capabilities for substituting for soy in formulations of plant-based foods. The proteins extracted from by-products of the oil industry make their economic valorization very appealing. The existence of anti-nutritional parameters or polyphenols, which have the potential to interact with proteins and prevent their use in human nutrition, has led to limitations are currently dealt with extraction protocols and fermentation processes [Pseudo-cereals like quinoa seeds have gained popularity as a source of protein as well. Whole seeds and flour, which are less refined quinoa ingredients, were utilized as meat extenders in nuggets in meat products, gelling in mortadella, and fat replacers in burgers [The chia and pumpkin seed proteins are still being studied, so the emphasis is on protein purification (via alkaline pretreatment and dry separation) and the functionality that outcomes [Protein extraction from various plant sourcesProtein sourceExtraction methodProtein content recovered (PC)/Yield (Y) from the conventional methodReferencesSoybean meal (SBM) rapeseed meal (RSM), microalgae meal (MAM)Endoprotease enzyme (Protex 40XL, Protex P, Protex 5L and Protex 26L, Protex 50FE), Incubation—24\\xa0h at 40 ◦C, pH-12, protein concentration-5%SBM-Y-80% RSM and MAM-Y-15–30%[SoybeanAOT concentration-0.06\\xa0g/ ml, KCL concentration-0.05\\xa0g/ml, pH-8.5, time-30\\xa0min, temperature—40 ◦C11S globulin-PC-83.75%[Soybean MilkMW power-675 W, temperature—80 ◦C, stirring-160\\xa0rpmY-3.86\\xa0kg soybean milk/kg of soybean, PC-13.11%[Soybean protein isolatesPEF strength 30\\xa0kV/cm, treatment time 288\\xa0μs–[Defatted wheat germ (DWG)Forward extraction: AOT concentration—0.06\\xa0g/ml, KCl concentration—0.1\\xa0mol/L, Time—30\\xa0min, T-36 ◦C, pH-8, W0 25Y-2.92%[Sunflower2\\xa0M NaCl (Mild acidic extraction) at pH 6 for 60\\xa0min, room temperature23–26% protein recovery with light colored[Sunflower mealPower density-220 W/L, temperature—45 ◦C, time-15\\xa0min, Sample: solvent ratio-0.5/10 (w/v), pH-8Y-54.26%, PC—934.92\\xa0g/kg[FlaxseedEnzymatic solvent extraction, pH-5, enzyme concentration—2%, temperature—37 ◦C, time—4\\xa0hPC-51.05%[Quinoa protein isolates (QPI)5% w/w QPI suspension, Temperature—33 ◦C, 5 passes, pH-7, 0–50\\xa0MPa–[Mungbean0.1 N KOH, pH 9.1, 40\\xa0°C77.32% protein yield with better functional properties[Pea flourIncreasing pH to 9 (1\\xa0M NaOH) Temp 22◦C (room temperature) Centrifuged at 8000\\xa0rpm for 15\\xa0min Isoelectric Precipitation at pH 4.5 (1\\xa0M HCl) Centrifuged at 8000\\xa0rpm for 15\\xa0min at 4◦C, Neutralization by adding 1\\xa0M NaOH88.83%[Chickpea (Desi)Neutralization at pH 7 (2 N NaOH) Chickpea (Desi) Dehulled Ground Defatted Suspension in water 1:10 (76.5%[Lentil (Red)Suspension in water 1:15 (78.8%[Schematic diagram of enzyme-assisted protein extraction and protein water extractionCereal protein includes various types of protein obtained from rice, wheat, oats, barley, etc. Cereal grain has more protein than legumes but less than soy protein. Among all the cereal proteins, wheat gluten is extensively used due to its low cost and excellent viscoelastic properties which makes it suitable to bind flavour, color, and other ingredients that result in the making of excellent meat analogues [Besides all the above-discussed proteins, several other types of proteins are there such as—corn zein protein, peanuts, potato proteins, pumpkin, etc. can be used in the development of PBMA. Several research studies have already performed such as peanut flour being used in replace of soya flour, potato protein, and corn zein are blended to develop meat mimics the gel-like structure, but no clear results have been obtained till now [The bottom-up design of proteins needed to develop meat analoguesLipids have important functions in terms of providing the meat with juiciness, flavour release, and tenderness in the PBMA. Generally, meat analogues are developed from defatted protein sources that result in lesser fat content in the meat analogues. Therefore to increase the fat content minimally fractionated soy that contains higher fat is used in the manufacturing of fibrous structures like meat analogues [In meat analogues, different flavour generation components and their critical interaction during processing have a crucial role in mimicking specific meat-like tastes and flavors. Meat analogue's taste and flavour predominate its acceptance as a meat alternative to the consumer. Uses of different spices, seasonings, herbs, sugars, salts, and savoury aromas, and their binding capacity to the plant proteins through the extrusion process are directly responsible for meat-like flavour generation [In the consumer's opinion, color is the most important parameter to create a visual appeal for meat analogues in their mind. Each meat has some specific color that changes through different processes such as cooking and smoking. Similarly, meat analogues should have meat mimic color and color change characteristics during processing. Several heat colorings agents such as malt or annatto, turmin, leghemoglobin, erythrosine, cumin, caramel colors, carotene, canthaxanthin, and lycopene have been used to incorporate the meat color and color change characteristics in the meat analogues [Meat analogues are made by combining a variety of ingredients through different texturizing techniques. For optimum binding of all the necessary ingredients (flavor, color, stabilizers, emulsifier, thickeners) several binding and texturing agents such as different natural gums (xanthan gum, guar gum, locust bean gum), carrageenan, hydrocolloids (methylcellulose, hydroxypropyl methylcellulose), wheat gluten, soy protein concentrate, casein are used [In meat analogues, water is a multi-functional ingredient, primarily from providing a hydration effect to the critical conformational change in protein water plays a crucial part in the designing of PBMA. In the extrusion process, high moisture content promotes greater hydrophobic interaction and the creation of disulfide bonds, and H-bonds [\"},\n",
       " {'section': 'Plant proteins as promising ingredients',\n",
       "  'body': 'Proteins are made up of amino acids that are critical for human health and are mostly used in food processing to create a variety of nutritious diets [Classification of different types of protein used in the preparation of plant-based meat analoguesSoybeans are rich in protein and contain water-soluble and insoluble proteins. Based on the dry weight of mature raw seeds, soybeans have\\u2009~\\u20098.5–13% moisture,\\u2009~\\u200933–40% protein,\\u2009~\\u20093–4% ash,\\u2009~\\u200918–20% fats, and\\u2009~\\u20099–12% fibers [Amount of protein and essential amino acids in various plant and animal protein sources (g/100\\xa0g)Protein/ Essential amino acidsRDAEgg (Dried) BeefMilk (Dried)Soy isolateSoy concentrateDefatted soy flourWheat flourPea seedsLupine seedsSunflower seed kernelsProtein–48.0521.9126.3283.363.6337.09.6123.1236.1720.78Histidine7001.2020.6990.7142.3031.5781.2681.40.5861.030.632Isoleucine14002.4340.9971.5924.2532.9422.2812.00.9831.6151.139Leucine27304.151.7432.5786.7834.9173.8285.01.682.7431.659Lysine2.1003.3391.8522.0875.3273.9293.1291.11.7711.9330.937Methionine1050 *1.4950.5710.661.130.8140.6340.70.1950.2550.494Phenylalanine1750 *2.530.8651.2714.5933.2782.4533.71.1511.4351.169Tryptophan2800.7750.1440.3711.1160.8350.683NM0.1590.2890.348Threonine10502.1290.8751.1883.1372.4742.0421.80.8131.3310.928Valine18202.9911.0871.7624.0983.0642.3462.31.0351.511.315References[[[[[[[[[[[An overview of the functional quality as well as the application potential of different soy ingredientsProtein ingredientsComposition (%w/w)FunctionalityApplication in meat analoguesSoy isolate (alkaline/acid precipitation treatment)\\u2009~\\u200990% proteinGood solubility, gelling, and emulsificationStructuring process: Extrusion, shear cell, spinning, freeze structuring Role: Protein source, texture, binder, the base for fat substitutes, emulsifier Products: Burger patties, minced meat, sausagesSoy isolate (additional heat treatment/ toasted isolate)\\u2009~\\u200990% protein, denatured due to heat treatmentDecreased solubility, increased water holding capacity, good gellingStructuring process: Extrusion, shear cell Role: Protein source, texture, binder, the base for fat substitutes Products: Burger patties, minced meat, sausagesSoy concentrate\\u2009~\\u200970% proteinGood texturization propertiesProcess: Extrusion, Shear cell Role: Protein source, texture, binder Products: Burger patties, minced meat, sausages, muscle-type productsSoy milk (spray-dried powder)\\u2009>\\u200945% protein,\\u2009~\\u200930% fatHigh solubility, good emulsification propertiesProcess: Freeze structuring Role: Emulsifier, texture Products: Tofu and yuba productionSoy flour/meal (defatted)\\u2009~\\u200943–56% protein,\\u2009~\\u20090.5–9% fat,\\u2009~\\u20093–7% crude fiber,\\u2009>\\u200930% total carbohydrateWater binding capacity and fat retention, native proteinProcess: Extrusion Role: Texture, Binder Products: Burger patties, minced meat, sausages, muscle-type productsWheat Gluten isolate75–80% protein, 15–17% carbohydrates, 5–8% fatBinding, Dough forming/ Cross-linking capacity via S–S bridges, low solubilityStructuring process: Extrusion, shear cell Role: Adhesion, texture Products: Burger patties, muscle-type productsPea isolate\\u2009~\\u200985% proteinWater and fat binding, emulsification, and firm texture after thermal processingProcess: Extrusion, shear cell, spinning Role: Emulsifier, texture, Binder Products: Burger patties, minced meat, sausages, muscle-type productsWheat gluten is a significant component of many analogues. Because it is a by-product of the creation of colossal wheat starch, its price is appealing to the industry. In contrast to soy, the insoluble protein is left behind after the soluble and dispersible components of wheat are only removed by washing them with water [Gliadin (prolamin) is soluble in alcohol, whereas glutenin (glutelin) is soluble in diluted acid [Globally, 27% of the beans and pulses in the Additionally, the proteins of lupine, lentils, faba beans, mung beans, and chickpeas are capable of foam and emulsion stabilization [Oilseeds like rapeseed, canola, or sunflower recently have become cynosure along with soy and legumes. However, most seed isolates and concentrates are still not profitably accessible. These impart capabilities for substituting for soy in formulations of plant-based foods. The proteins extracted from by-products of the oil industry make their economic valorization very appealing. The existence of anti-nutritional parameters or polyphenols, which have the potential to interact with proteins and prevent their use in human nutrition, has led to limitations are currently dealt with extraction protocols and fermentation processes [Pseudo-cereals like quinoa seeds have gained popularity as a source of protein as well. Whole seeds and flour, which are less refined quinoa ingredients, were utilized as meat extenders in nuggets in meat products, gelling in mortadella, and fat replacers in burgers [The chia and pumpkin seed proteins are still being studied, so the emphasis is on protein purification (via alkaline pretreatment and dry separation) and the functionality that outcomes [Protein extraction from various plant sourcesProtein sourceExtraction methodProtein content recovered (PC)/Yield (Y) from the conventional methodReferencesSoybean meal (SBM) rapeseed meal (RSM), microalgae meal (MAM)Endoprotease enzyme (Protex 40XL, Protex P, Protex 5L and Protex 26L, Protex 50FE), Incubation—24\\xa0h at 40 ◦C, pH-12, protein concentration-5%SBM-Y-80% RSM and MAM-Y-15–30%[SoybeanAOT concentration-0.06\\xa0g/ ml, KCL concentration-0.05\\xa0g/ml, pH-8.5, time-30\\xa0min, temperature—40 ◦C11S globulin-PC-83.75%[Soybean MilkMW power-675 W, temperature—80 ◦C, stirring-160\\xa0rpmY-3.86\\xa0kg soybean milk/kg of soybean, PC-13.11%[Soybean protein isolatesPEF strength 30\\xa0kV/cm, treatment time 288\\xa0μs–[Defatted wheat germ (DWG)Forward extraction: AOT concentration—0.06\\xa0g/ml, KCl concentration—0.1\\xa0mol/L, Time—30\\xa0min, T-36 ◦C, pH-8, W0 25Y-2.92%[Sunflower2\\xa0M NaCl (Mild acidic extraction) at pH 6 for 60\\xa0min, room temperature23–26% protein recovery with light colored[Sunflower mealPower density-220 W/L, temperature—45 ◦C, time-15\\xa0min, Sample: solvent ratio-0.5/10 (w/v), pH-8Y-54.26%, PC—934.92\\xa0g/kg[FlaxseedEnzymatic solvent extraction, pH-5, enzyme concentration—2%, temperature—37 ◦C, time—4\\xa0hPC-51.05%[Quinoa protein isolates (QPI)5% w/w QPI suspension, Temperature—33 ◦C, 5 passes, pH-7, 0–50\\xa0MPa–[Mungbean0.1 N KOH, pH 9.1, 40\\xa0°C77.32% protein yield with better functional properties[Pea flourIncreasing pH to 9 (1\\xa0M NaOH) Temp 22◦C (room temperature) Centrifuged at 8000\\xa0rpm for 15\\xa0min Isoelectric Precipitation at pH 4.5 (1\\xa0M HCl) Centrifuged at 8000\\xa0rpm for 15\\xa0min at 4◦C, Neutralization by adding 1\\xa0M NaOH88.83%[Chickpea (Desi)Neutralization at pH 7 (2 N NaOH) Chickpea (Desi) Dehulled Ground Defatted Suspension in water 1:10 (76.5%[Lentil (Red)Suspension in water 1:15 (78.8%[Schematic diagram of enzyme-assisted protein extraction and protein water extractionCereal protein includes various types of protein obtained from rice, wheat, oats, barley, etc. Cereal grain has more protein than legumes but less than soy protein. Among all the cereal proteins, wheat gluten is extensively used due to its low cost and excellent viscoelastic properties which makes it suitable to bind flavour, color, and other ingredients that result in the making of excellent meat analogues [Besides all the above-discussed proteins, several other types of proteins are there such as—corn zein protein, peanuts, potato proteins, pumpkin, etc. can be used in the development of PBMA. Several research studies have already performed such as peanut flour being used in replace of soya flour, potato protein, and corn zein are blended to develop meat mimics the gel-like structure, but no clear results have been obtained till now [The bottom-up design of proteins needed to develop meat analogues'},\n",
       " {'section': 'Usage of soy protein for meat analogues',\n",
       "  'body': 'Soybeans are rich in protein and contain water-soluble and insoluble proteins. Based on the dry weight of mature raw seeds, soybeans have\\u2009~\\u20098.5–13% moisture,\\u2009~\\u200933–40% protein,\\u2009~\\u20093–4% ash,\\u2009~\\u200918–20% fats, and\\u2009~\\u20099–12% fibers [Amount of protein and essential amino acids in various plant and animal protein sources (g/100\\xa0g)Protein/ Essential amino acidsRDAEgg (Dried) BeefMilk (Dried)Soy isolateSoy concentrateDefatted soy flourWheat flourPea seedsLupine seedsSunflower seed kernelsProtein–48.0521.9126.3283.363.6337.09.6123.1236.1720.78Histidine7001.2020.6990.7142.3031.5781.2681.40.5861.030.632Isoleucine14002.4340.9971.5924.2532.9422.2812.00.9831.6151.139Leucine27304.151.7432.5786.7834.9173.8285.01.682.7431.659Lysine2.1003.3391.8522.0875.3273.9293.1291.11.7711.9330.937Methionine1050 *1.4950.5710.661.130.8140.6340.70.1950.2550.494Phenylalanine1750 *2.530.8651.2714.5933.2782.4533.71.1511.4351.169Tryptophan2800.7750.1440.3711.1160.8350.683NM0.1590.2890.348Threonine10502.1290.8751.1883.1372.4742.0421.80.8131.3310.928Valine18202.9911.0871.7624.0983.0642.3462.31.0351.511.315References[[[[[[[[[[[An overview of the functional quality as well as the application potential of different soy ingredientsProtein ingredientsComposition (%w/w)FunctionalityApplication in meat analoguesSoy isolate (alkaline/acid precipitation treatment)\\u2009~\\u200990% proteinGood solubility, gelling, and emulsificationStructuring process: Extrusion, shear cell, spinning, freeze structuring Role: Protein source, texture, binder, the base for fat substitutes, emulsifier Products: Burger patties, minced meat, sausagesSoy isolate (additional heat treatment/ toasted isolate)\\u2009~\\u200990% protein, denatured due to heat treatmentDecreased solubility, increased water holding capacity, good gellingStructuring process: Extrusion, shear cell Role: Protein source, texture, binder, the base for fat substitutes Products: Burger patties, minced meat, sausagesSoy concentrate\\u2009~\\u200970% proteinGood texturization propertiesProcess: Extrusion, Shear cell Role: Protein source, texture, binder Products: Burger patties, minced meat, sausages, muscle-type productsSoy milk (spray-dried powder)\\u2009>\\u200945% protein,\\u2009~\\u200930% fatHigh solubility, good emulsification propertiesProcess: Freeze structuring Role: Emulsifier, texture Products: Tofu and yuba productionSoy flour/meal (defatted)\\u2009~\\u200943–56% protein,\\u2009~\\u20090.5–9% fat,\\u2009~\\u20093–7% crude fiber,\\u2009>\\u200930% total carbohydrateWater binding capacity and fat retention, native proteinProcess: Extrusion Role: Texture, Binder Products: Burger patties, minced meat, sausages, muscle-type productsWheat Gluten isolate75–80% protein, 15–17% carbohydrates, 5–8% fatBinding, Dough forming/ Cross-linking capacity via S–S bridges, low solubilityStructuring process: Extrusion, shear cell Role: Adhesion, texture Products: Burger patties, muscle-type productsPea isolate\\u2009~\\u200985% proteinWater and fat binding, emulsification, and firm texture after thermal processingProcess: Extrusion, shear cell, spinning Role: Emulsifier, texture, Binder Products: Burger patties, minced meat, sausages, muscle-type products'}]"
      ]
     },
     "execution_count": 18,
     "metadata": {},
     "output_type": "execute_result"
    }
   ],
   "source": [
    "sample_text[0:5]"
   ]
  },
  {
   "cell_type": "markdown",
   "metadata": {},
   "source": [
    "Put the section in the meta data and give each text section the full meta data. This is so we get all info when we get one of these texts in a similarity search later on."
   ]
  },
  {
   "cell_type": "code",
   "execution_count": 19,
   "metadata": {
    "vscode": {
     "languageId": "shellscript"
    }
   },
   "outputs": [],
   "source": [
    "updated_sample_data = []\n",
    "\n",
    "for text_section in sample_text:\n",
    "    meta_data = sample_meta_data.copy()\n",
    "    \n",
    "    meta_data['section'] = text_section['section']\n",
    "    \n",
    "    body = text_section['body']\n",
    "    \n",
    "    updated_sample_data.append({'meta_data': meta_data, 'body': body})"
   ]
  },
  {
   "cell_type": "markdown",
   "metadata": {},
   "source": [
    "Take a look at a couple of examples below to make sure it works."
   ]
  },
  {
   "cell_type": "code",
   "execution_count": 20,
   "metadata": {
    "vscode": {
     "languageId": "shellscript"
    }
   },
   "outputs": [
    {
     "data": {
      "text/plain": [
       "{'meta_data': {'content_type': 'Article',\n",
       "  'url': [{'format': '',\n",
       "    'platform': '',\n",
       "    'value': 'http://dx.doi.org/10.1007/s00217-024-04565-1'}],\n",
       "  'title': 'Valorization of plant proteins for meat analogues design—a comprehensive review',\n",
       "  'publication_name': 'European Food Research and Technology',\n",
       "  'doi': '10.1007/s00217-024-04565-1',\n",
       "  'publication_date': '2024-10-01',\n",
       "  'starting_page': '2479',\n",
       "  'ending_page': '2513',\n",
       "  'open_access': 'true',\n",
       "  'abstract': {'h1': 'Abstract',\n",
       "   'p': 'Animal proteins from meat and its stuffs have recently been one of main concerns in the drive for sustainable food production. This viewpoint suggests that there are exciting prospects to reformulate meat products that are produced more sustainably and may also have health benefits by substituting high-protein nonmeat ingredients for some of the meat. Considering these pre-existing conditions, this review critically reviews recent data on extenders from several sources, including pulses, plant-based components, plant byproducts, and unconventional sources. We used the related keywords from Scopus-database without limiting the publishing date. With an emphasis on how these findings may impact the sustainability of meat products, it sees them as a great chance to enhance the functional quality and technological profile of meat. Therefore, to promote sustainability, meat alternatives such as plant-based meat equivalents are being made available. To boost consumer acceptability of these goods, further initiatives should also be developed to enhance the functioning of these innovative food items and increase public knowledge of plant-based meat analogues.'},\n",
       "  'section': 'Introduction'},\n",
       " 'body': \"Meat is recognized as a very popular food item worldwide and it is well known as an excellent quality protein source with other nutritional characteristics along with its appealing taste. With the growing rate of the planet's population, the need for food security is rising as well, and to feed this growing population a greater amount of good quality food having proper protein, fat, and other nutrition is required. Meanwhile, increased environmental footprint awareness plays a significant role in meat analogues supply for the sustainable and transparent food security of the planet. Animal is the solitary bioresource of meat protein and with rapid population growth, the need for meat protein is also increasing. Various data show that the demand will be magnified near to twice by 2050 [Changes in the different meat prices as per FAO meat price index. (Data Source: OECD-FAO Agricultural Outlook 2022–2031)Meat Greenhouse gas emissions intensity per regionThis paper collects and synthetizes the available research on plant-based meat analogues. The Scopus database was used to retrieve the data. The Scopus database was searched for data in January 2023 using the following keywords: (plant proteins) AND (meat analogues OR meat alternatives OR meat formulation OR ingredients OR functionalities). The PRISMA guidelines (The bibliometric analysis of plant protein-based meat analogues\"}"
      ]
     },
     "execution_count": 20,
     "metadata": {},
     "output_type": "execute_result"
    }
   ],
   "source": [
    "updated_sample_data[0]"
   ]
  },
  {
   "cell_type": "code",
   "execution_count": 21,
   "metadata": {
    "vscode": {
     "languageId": "shellscript"
    }
   },
   "outputs": [
    {
     "data": {
      "text/plain": [
       "{'meta_data': {'content_type': 'Article',\n",
       "  'url': [{'format': '',\n",
       "    'platform': '',\n",
       "    'value': 'http://dx.doi.org/10.1007/s00217-024-04565-1'}],\n",
       "  'title': 'Valorization of plant proteins for meat analogues design—a comprehensive review',\n",
       "  'publication_name': 'European Food Research and Technology',\n",
       "  'doi': '10.1007/s00217-024-04565-1',\n",
       "  'publication_date': '2024-10-01',\n",
       "  'starting_page': '2479',\n",
       "  'ending_page': '2513',\n",
       "  'open_access': 'true',\n",
       "  'abstract': {'h1': 'Abstract',\n",
       "   'p': 'Animal proteins from meat and its stuffs have recently been one of main concerns in the drive for sustainable food production. This viewpoint suggests that there are exciting prospects to reformulate meat products that are produced more sustainably and may also have health benefits by substituting high-protein nonmeat ingredients for some of the meat. Considering these pre-existing conditions, this review critically reviews recent data on extenders from several sources, including pulses, plant-based components, plant byproducts, and unconventional sources. We used the related keywords from Scopus-database without limiting the publishing date. With an emphasis on how these findings may impact the sustainability of meat products, it sees them as a great chance to enhance the functional quality and technological profile of meat. Therefore, to promote sustainability, meat alternatives such as plant-based meat equivalents are being made available. To boost consumer acceptability of these goods, further initiatives should also be developed to enhance the functioning of these innovative food items and increase public knowledge of plant-based meat analogues.'},\n",
       "  'section': 'Plant proteins as promising ingredients'},\n",
       " 'body': 'Proteins are made up of amino acids that are critical for human health and are mostly used in food processing to create a variety of nutritious diets [Classification of different types of protein used in the preparation of plant-based meat analoguesSoybeans are rich in protein and contain water-soluble and insoluble proteins. Based on the dry weight of mature raw seeds, soybeans have\\u2009~\\u20098.5–13% moisture,\\u2009~\\u200933–40% protein,\\u2009~\\u20093–4% ash,\\u2009~\\u200918–20% fats, and\\u2009~\\u20099–12% fibers [Amount of protein and essential amino acids in various plant and animal protein sources (g/100\\xa0g)Protein/ Essential amino acidsRDAEgg (Dried) BeefMilk (Dried)Soy isolateSoy concentrateDefatted soy flourWheat flourPea seedsLupine seedsSunflower seed kernelsProtein–48.0521.9126.3283.363.6337.09.6123.1236.1720.78Histidine7001.2020.6990.7142.3031.5781.2681.40.5861.030.632Isoleucine14002.4340.9971.5924.2532.9422.2812.00.9831.6151.139Leucine27304.151.7432.5786.7834.9173.8285.01.682.7431.659Lysine2.1003.3391.8522.0875.3273.9293.1291.11.7711.9330.937Methionine1050 *1.4950.5710.661.130.8140.6340.70.1950.2550.494Phenylalanine1750 *2.530.8651.2714.5933.2782.4533.71.1511.4351.169Tryptophan2800.7750.1440.3711.1160.8350.683NM0.1590.2890.348Threonine10502.1290.8751.1883.1372.4742.0421.80.8131.3310.928Valine18202.9911.0871.7624.0983.0642.3462.31.0351.511.315References[[[[[[[[[[[An overview of the functional quality as well as the application potential of different soy ingredientsProtein ingredientsComposition (%w/w)FunctionalityApplication in meat analoguesSoy isolate (alkaline/acid precipitation treatment)\\u2009~\\u200990% proteinGood solubility, gelling, and emulsificationStructuring process: Extrusion, shear cell, spinning, freeze structuring Role: Protein source, texture, binder, the base for fat substitutes, emulsifier Products: Burger patties, minced meat, sausagesSoy isolate (additional heat treatment/ toasted isolate)\\u2009~\\u200990% protein, denatured due to heat treatmentDecreased solubility, increased water holding capacity, good gellingStructuring process: Extrusion, shear cell Role: Protein source, texture, binder, the base for fat substitutes Products: Burger patties, minced meat, sausagesSoy concentrate\\u2009~\\u200970% proteinGood texturization propertiesProcess: Extrusion, Shear cell Role: Protein source, texture, binder Products: Burger patties, minced meat, sausages, muscle-type productsSoy milk (spray-dried powder)\\u2009>\\u200945% protein,\\u2009~\\u200930% fatHigh solubility, good emulsification propertiesProcess: Freeze structuring Role: Emulsifier, texture Products: Tofu and yuba productionSoy flour/meal (defatted)\\u2009~\\u200943–56% protein,\\u2009~\\u20090.5–9% fat,\\u2009~\\u20093–7% crude fiber,\\u2009>\\u200930% total carbohydrateWater binding capacity and fat retention, native proteinProcess: Extrusion Role: Texture, Binder Products: Burger patties, minced meat, sausages, muscle-type productsWheat Gluten isolate75–80% protein, 15–17% carbohydrates, 5–8% fatBinding, Dough forming/ Cross-linking capacity via S–S bridges, low solubilityStructuring process: Extrusion, shear cell Role: Adhesion, texture Products: Burger patties, muscle-type productsPea isolate\\u2009~\\u200985% proteinWater and fat binding, emulsification, and firm texture after thermal processingProcess: Extrusion, shear cell, spinning Role: Emulsifier, texture, Binder Products: Burger patties, minced meat, sausages, muscle-type productsWheat gluten is a significant component of many analogues. Because it is a by-product of the creation of colossal wheat starch, its price is appealing to the industry. In contrast to soy, the insoluble protein is left behind after the soluble and dispersible components of wheat are only removed by washing them with water [Gliadin (prolamin) is soluble in alcohol, whereas glutenin (glutelin) is soluble in diluted acid [Globally, 27% of the beans and pulses in the Additionally, the proteins of lupine, lentils, faba beans, mung beans, and chickpeas are capable of foam and emulsion stabilization [Oilseeds like rapeseed, canola, or sunflower recently have become cynosure along with soy and legumes. However, most seed isolates and concentrates are still not profitably accessible. These impart capabilities for substituting for soy in formulations of plant-based foods. The proteins extracted from by-products of the oil industry make their economic valorization very appealing. The existence of anti-nutritional parameters or polyphenols, which have the potential to interact with proteins and prevent their use in human nutrition, has led to limitations are currently dealt with extraction protocols and fermentation processes [Pseudo-cereals like quinoa seeds have gained popularity as a source of protein as well. Whole seeds and flour, which are less refined quinoa ingredients, were utilized as meat extenders in nuggets in meat products, gelling in mortadella, and fat replacers in burgers [The chia and pumpkin seed proteins are still being studied, so the emphasis is on protein purification (via alkaline pretreatment and dry separation) and the functionality that outcomes [Protein extraction from various plant sourcesProtein sourceExtraction methodProtein content recovered (PC)/Yield (Y) from the conventional methodReferencesSoybean meal (SBM) rapeseed meal (RSM), microalgae meal (MAM)Endoprotease enzyme (Protex 40XL, Protex P, Protex 5L and Protex 26L, Protex 50FE), Incubation—24\\xa0h at 40 ◦C, pH-12, protein concentration-5%SBM-Y-80% RSM and MAM-Y-15–30%[SoybeanAOT concentration-0.06\\xa0g/ ml, KCL concentration-0.05\\xa0g/ml, pH-8.5, time-30\\xa0min, temperature—40 ◦C11S globulin-PC-83.75%[Soybean MilkMW power-675 W, temperature—80 ◦C, stirring-160\\xa0rpmY-3.86\\xa0kg soybean milk/kg of soybean, PC-13.11%[Soybean protein isolatesPEF strength 30\\xa0kV/cm, treatment time 288\\xa0μs–[Defatted wheat germ (DWG)Forward extraction: AOT concentration—0.06\\xa0g/ml, KCl concentration—0.1\\xa0mol/L, Time—30\\xa0min, T-36 ◦C, pH-8, W0 25Y-2.92%[Sunflower2\\xa0M NaCl (Mild acidic extraction) at pH 6 for 60\\xa0min, room temperature23–26% protein recovery with light colored[Sunflower mealPower density-220 W/L, temperature—45 ◦C, time-15\\xa0min, Sample: solvent ratio-0.5/10 (w/v), pH-8Y-54.26%, PC—934.92\\xa0g/kg[FlaxseedEnzymatic solvent extraction, pH-5, enzyme concentration—2%, temperature—37 ◦C, time—4\\xa0hPC-51.05%[Quinoa protein isolates (QPI)5% w/w QPI suspension, Temperature—33 ◦C, 5 passes, pH-7, 0–50\\xa0MPa–[Mungbean0.1 N KOH, pH 9.1, 40\\xa0°C77.32% protein yield with better functional properties[Pea flourIncreasing pH to 9 (1\\xa0M NaOH) Temp 22◦C (room temperature) Centrifuged at 8000\\xa0rpm for 15\\xa0min Isoelectric Precipitation at pH 4.5 (1\\xa0M HCl) Centrifuged at 8000\\xa0rpm for 15\\xa0min at 4◦C, Neutralization by adding 1\\xa0M NaOH88.83%[Chickpea (Desi)Neutralization at pH 7 (2 N NaOH) Chickpea (Desi) Dehulled Ground Defatted Suspension in water 1:10 (76.5%[Lentil (Red)Suspension in water 1:15 (78.8%[Schematic diagram of enzyme-assisted protein extraction and protein water extractionCereal protein includes various types of protein obtained from rice, wheat, oats, barley, etc. Cereal grain has more protein than legumes but less than soy protein. Among all the cereal proteins, wheat gluten is extensively used due to its low cost and excellent viscoelastic properties which makes it suitable to bind flavour, color, and other ingredients that result in the making of excellent meat analogues [Besides all the above-discussed proteins, several other types of proteins are there such as—corn zein protein, peanuts, potato proteins, pumpkin, etc. can be used in the development of PBMA. Several research studies have already performed such as peanut flour being used in replace of soya flour, potato protein, and corn zein are blended to develop meat mimics the gel-like structure, but no clear results have been obtained till now [The bottom-up design of proteins needed to develop meat analogues'}"
      ]
     },
     "execution_count": 21,
     "metadata": {},
     "output_type": "execute_result"
    }
   ],
   "source": [
    "updated_sample_data[3]"
   ]
  },
  {
   "cell_type": "markdown",
   "metadata": {},
   "source": [
    "So here we iterate through one pdf file, copy the meta data since it is always the same when dealing with one pdf file, and then add the section to it. This becomes the new meta data and we save it with the text alone."
   ]
  },
  {
   "cell_type": "code",
   "execution_count": 22,
   "metadata": {
    "vscode": {
     "languageId": "shellscript"
    }
   },
   "outputs": [],
   "source": [
    "def transform_paper_data(pdf_content, original_meta_data):\n",
    "    updated_data = []\n",
    "\n",
    "    for text_section in pdf_content:\n",
    "        meta_data = original_meta_data.copy()\n",
    "        \n",
    "        meta_data['section'] = text_section['section']\n",
    "        \n",
    "        body = text_section['body']\n",
    "        \n",
    "        updated_data.append({'body': body, 'meta_data': meta_data})\n",
    "        \n",
    "    return updated_data"
   ]
  },
  {
   "cell_type": "code",
   "execution_count": 23,
   "metadata": {
    "vscode": {
     "languageId": "shellscript"
    }
   },
   "outputs": [
    {
     "data": {
      "text/plain": [
       "{'body': \"Meat is recognized as a very popular food item worldwide and it is well known as an excellent quality protein source with other nutritional characteristics along with its appealing taste. With the growing rate of the planet's population, the need for food security is rising as well, and to feed this growing population a greater amount of good quality food having proper protein, fat, and other nutrition is required. Meanwhile, increased environmental footprint awareness plays a significant role in meat analogues supply for the sustainable and transparent food security of the planet. Animal is the solitary bioresource of meat protein and with rapid population growth, the need for meat protein is also increasing. Various data show that the demand will be magnified near to twice by 2050 [Changes in the different meat prices as per FAO meat price index. (Data Source: OECD-FAO Agricultural Outlook 2022–2031)Meat Greenhouse gas emissions intensity per regionThis paper collects and synthetizes the available research on plant-based meat analogues. The Scopus database was used to retrieve the data. The Scopus database was searched for data in January 2023 using the following keywords: (plant proteins) AND (meat analogues OR meat alternatives OR meat formulation OR ingredients OR functionalities). The PRISMA guidelines (The bibliometric analysis of plant protein-based meat analogues\",\n",
       " 'meta_data': {'content_type': 'Article',\n",
       "  'url': [{'format': '',\n",
       "    'platform': '',\n",
       "    'value': 'http://dx.doi.org/10.1007/s00217-024-04565-1'}],\n",
       "  'title': 'Valorization of plant proteins for meat analogues design—a comprehensive review',\n",
       "  'publication_name': 'European Food Research and Technology',\n",
       "  'doi': '10.1007/s00217-024-04565-1',\n",
       "  'publication_date': '2024-10-01',\n",
       "  'starting_page': '2479',\n",
       "  'ending_page': '2513',\n",
       "  'open_access': 'true',\n",
       "  'abstract': {'h1': 'Abstract',\n",
       "   'p': 'Animal proteins from meat and its stuffs have recently been one of main concerns in the drive for sustainable food production. This viewpoint suggests that there are exciting prospects to reformulate meat products that are produced more sustainably and may also have health benefits by substituting high-protein nonmeat ingredients for some of the meat. Considering these pre-existing conditions, this review critically reviews recent data on extenders from several sources, including pulses, plant-based components, plant byproducts, and unconventional sources. We used the related keywords from Scopus-database without limiting the publishing date. With an emphasis on how these findings may impact the sustainability of meat products, it sees them as a great chance to enhance the functional quality and technological profile of meat. Therefore, to promote sustainability, meat alternatives such as plant-based meat equivalents are being made available. To boost consumer acceptability of these goods, further initiatives should also be developed to enhance the functioning of these innovative food items and increase public knowledge of plant-based meat analogues.'},\n",
       "  'section': 'Introduction'}}"
      ]
     },
     "execution_count": 23,
     "metadata": {},
     "output_type": "execute_result"
    }
   ],
   "source": [
    "sample_transformed_data = transform_paper_data(sample_text, sample_meta_data)\n",
    "sample_transformed_data_section_0 = sample_transformed_data[0]\n",
    "sample_transformed_data[0]"
   ]
  },
  {
   "cell_type": "code",
   "execution_count": 24,
   "metadata": {
    "vscode": {
     "languageId": "shellscript"
    }
   },
   "outputs": [
    {
     "data": {
      "text/plain": [
       "47"
      ]
     },
     "execution_count": 24,
     "metadata": {},
     "output_type": "execute_result"
    }
   ],
   "source": [
    "len(sample_transformed_data)"
   ]
  },
  {
   "cell_type": "markdown",
   "metadata": {},
   "source": [
    "### Full PDF Data\n",
    "\n",
    "Below is just how to collect all pdf data in this transformed way, but we won't use it as we just want to explore one sample for now."
   ]
  },
  {
   "cell_type": "code",
   "execution_count": 25,
   "metadata": {
    "vscode": {
     "languageId": "shellscript"
    }
   },
   "outputs": [],
   "source": [
    "full_pdf_data = []\n",
    "\n",
    "for pdf_data in data:\n",
    "    pdf_content_text, og_meta_data = pdf_data['content'], pdf_data['meta_data']\n",
    "    \n",
    "    full_pdf_data += transform_paper_data(pdf_content_text, og_meta_data)"
   ]
  },
  {
   "cell_type": "code",
   "execution_count": 26,
   "metadata": {
    "vscode": {
     "languageId": "shellscript"
    }
   },
   "outputs": [
    {
     "data": {
      "text/plain": [
       "4825"
      ]
     },
     "execution_count": 26,
     "metadata": {},
     "output_type": "execute_result"
    }
   ],
   "source": [
    "len(full_pdf_data)"
   ]
  },
  {
   "cell_type": "markdown",
   "metadata": {},
   "source": [
    "## Vector Embeddings\n",
    "\n",
    "Now that we have moved the section into the meta data, we just have the text to worry about. We need to embed it, for which we'll use Hugging Face for."
   ]
  },
  {
   "cell_type": "code",
   "execution_count": 27,
   "metadata": {
    "vscode": {
     "languageId": "shellscript"
    }
   },
   "outputs": [
    {
     "name": "stderr",
     "output_type": "stream",
     "text": [
      "c:\\Users\\RaviB\\anaconda3\\envs\\vegan\\lib\\site-packages\\pydantic\\_internal\\_fields.py:161: UserWarning: Field \"model_id\" has conflict with protected namespace \"model_\".\n",
      "\n",
      "You may be able to resolve this warning by setting `model_config['protected_namespaces'] = ()`.\n",
      "  warnings.warn(\n",
      "c:\\Users\\RaviB\\anaconda3\\envs\\vegan\\lib\\site-packages\\pydantic\\_internal\\_fields.py:161: UserWarning: Field \"model_kwargs\" has conflict with protected namespace \"model_\".\n",
      "\n",
      "You may be able to resolve this warning by setting `model_config['protected_namespaces'] = ()`.\n",
      "  warnings.warn(\n"
     ]
    }
   ],
   "source": [
    "from langchain_community.embeddings import BedrockEmbeddings\n",
    "from langchain.llms.bedrock import Bedrock\n",
    "from langchain.text_splitter import RecursiveCharacterTextSplitter\n",
    "from langchain.docstore.document import Document\n",
    "from langchain.prompts import PromptTemplate"
   ]
  },
  {
   "cell_type": "code",
   "execution_count": 29,
   "metadata": {
    "vscode": {
     "languageId": "shellscript"
    }
   },
   "outputs": [],
   "source": [
    "import boto3\n",
    "from langchain_aws import BedrockEmbeddings\n",
    "\n",
    "bedrock=boto3.client(service_name=\"bedrock-runtime\")\n",
    "bedrock_embeddings=BedrockEmbeddings(model_id=\"amazon.titan-embed-text-v1\", client=bedrock)"
   ]
  },
  {
   "cell_type": "code",
   "execution_count": 30,
   "metadata": {
    "vscode": {
     "languageId": "shellscript"
    }
   },
   "outputs": [],
   "source": [
    "embedding_sample = bedrock_embeddings.embed_query(sample_text[0]['body'])\n",
    "#embedding_sample"
   ]
  },
  {
   "cell_type": "markdown",
   "metadata": {},
   "source": [
    "Langchains document object will handle saving the metadata for us, so we just move everything to there now."
   ]
  },
  {
   "cell_type": "code",
   "execution_count": 31,
   "metadata": {
    "vscode": {
     "languageId": "shellscript"
    }
   },
   "outputs": [
    {
     "data": {
      "text/plain": [
       "Document(metadata={'content_type': 'Article', 'url': [{'format': '', 'platform': '', 'value': 'http://dx.doi.org/10.1007/s00217-024-04565-1'}], 'title': 'Valorization of plant proteins for meat analogues design—a comprehensive review', 'publication_name': 'European Food Research and Technology', 'doi': '10.1007/s00217-024-04565-1', 'publication_date': '2024-10-01', 'starting_page': '2479', 'ending_page': '2513', 'open_access': 'true', 'abstract': {'h1': 'Abstract', 'p': 'Animal proteins from meat and its stuffs have recently been one of main concerns in the drive for sustainable food production. This viewpoint suggests that there are exciting prospects to reformulate meat products that are produced more sustainably and may also have health benefits by substituting high-protein nonmeat ingredients for some of the meat. Considering these pre-existing conditions, this review critically reviews recent data on extenders from several sources, including pulses, plant-based components, plant byproducts, and unconventional sources. We used the related keywords from Scopus-database without limiting the publishing date. With an emphasis on how these findings may impact the sustainability of meat products, it sees them as a great chance to enhance the functional quality and technological profile of meat. Therefore, to promote sustainability, meat alternatives such as plant-based meat equivalents are being made available. To boost consumer acceptability of these goods, further initiatives should also be developed to enhance the functioning of these innovative food items and increase public knowledge of plant-based meat analogues.'}, 'section': 'Introduction'}, page_content=\"Meat is recognized as a very popular food item worldwide and it is well known as an excellent quality protein source with other nutritional characteristics along with its appealing taste. With the growing rate of the planet's population, the need for food security is rising as well, and to feed this growing population a greater amount of good quality food having proper protein, fat, and other nutrition is required. Meanwhile, increased environmental footprint awareness plays a significant role in meat analogues supply for the sustainable and transparent food security of the planet. Animal is the solitary bioresource of meat protein and with rapid population growth, the need for meat protein is also increasing. Various data show that the demand will be magnified near to twice by 2050 [Changes in the different meat prices as per FAO meat price index. (Data Source: OECD-FAO Agricultural Outlook 2022–2031)Meat Greenhouse gas emissions intensity per regionThis paper collects and synthetizes the available research on plant-based meat analogues. The Scopus database was used to retrieve the data. The Scopus database was searched for data in January 2023 using the following keywords: (plant proteins) AND (meat analogues OR meat alternatives OR meat formulation OR ingredients OR functionalities). The PRISMA guidelines (The bibliometric analysis of plant protein-based meat analogues\")"
      ]
     },
     "execution_count": 31,
     "metadata": {},
     "output_type": "execute_result"
    }
   ],
   "source": [
    "Document(page_content=sample_transformed_data_section_0['body'], metadata=sample_transformed_data_section_0['meta_data'])"
   ]
  },
  {
   "cell_type": "markdown",
   "metadata": {},
   "source": [
    "Of course we need to iterate over everything in our list of docs, which in this case will make up one pdf file."
   ]
  },
  {
   "cell_type": "code",
   "execution_count": 32,
   "metadata": {
    "vscode": {
     "languageId": "shellscript"
    }
   },
   "outputs": [],
   "source": [
    "def convert_to_doc_format(transformed_data):\n",
    "    documents = []\n",
    "    for content in transformed_data:\n",
    "        doc = Document(page_content=content['body'], metadata=content['meta_data'])\n",
    "        documents.append(doc)\n",
    "    return documents"
   ]
  },
  {
   "cell_type": "code",
   "execution_count": 33,
   "metadata": {
    "vscode": {
     "languageId": "shellscript"
    }
   },
   "outputs": [
    {
     "data": {
      "text/plain": [
       "Document(metadata={'content_type': 'Article', 'url': [{'format': '', 'platform': '', 'value': 'http://dx.doi.org/10.1007/s00217-024-04565-1'}], 'title': 'Valorization of plant proteins for meat analogues design—a comprehensive review', 'publication_name': 'European Food Research and Technology', 'doi': '10.1007/s00217-024-04565-1', 'publication_date': '2024-10-01', 'starting_page': '2479', 'ending_page': '2513', 'open_access': 'true', 'abstract': {'h1': 'Abstract', 'p': 'Animal proteins from meat and its stuffs have recently been one of main concerns in the drive for sustainable food production. This viewpoint suggests that there are exciting prospects to reformulate meat products that are produced more sustainably and may also have health benefits by substituting high-protein nonmeat ingredients for some of the meat. Considering these pre-existing conditions, this review critically reviews recent data on extenders from several sources, including pulses, plant-based components, plant byproducts, and unconventional sources. We used the related keywords from Scopus-database without limiting the publishing date. With an emphasis on how these findings may impact the sustainability of meat products, it sees them as a great chance to enhance the functional quality and technological profile of meat. Therefore, to promote sustainability, meat alternatives such as plant-based meat equivalents are being made available. To boost consumer acceptability of these goods, further initiatives should also be developed to enhance the functioning of these innovative food items and increase public knowledge of plant-based meat analogues.'}, 'section': 'Introduction'}, page_content=\"Meat is recognized as a very popular food item worldwide and it is well known as an excellent quality protein source with other nutritional characteristics along with its appealing taste. With the growing rate of the planet's population, the need for food security is rising as well, and to feed this growing population a greater amount of good quality food having proper protein, fat, and other nutrition is required. Meanwhile, increased environmental footprint awareness plays a significant role in meat analogues supply for the sustainable and transparent food security of the planet. Animal is the solitary bioresource of meat protein and with rapid population growth, the need for meat protein is also increasing. Various data show that the demand will be magnified near to twice by 2050 [Changes in the different meat prices as per FAO meat price index. (Data Source: OECD-FAO Agricultural Outlook 2022–2031)Meat Greenhouse gas emissions intensity per regionThis paper collects and synthetizes the available research on plant-based meat analogues. The Scopus database was used to retrieve the data. The Scopus database was searched for data in January 2023 using the following keywords: (plant proteins) AND (meat analogues OR meat alternatives OR meat formulation OR ingredients OR functionalities). The PRISMA guidelines (The bibliometric analysis of plant protein-based meat analogues\")"
      ]
     },
     "execution_count": 33,
     "metadata": {},
     "output_type": "execute_result"
    }
   ],
   "source": [
    "sample_docs = convert_to_doc_format(sample_transformed_data)\n",
    "sample_docs[0]"
   ]
  },
  {
   "cell_type": "code",
   "execution_count": 34,
   "metadata": {
    "vscode": {
     "languageId": "shellscript"
    }
   },
   "outputs": [
    {
     "data": {
      "text/plain": [
       "47"
      ]
     },
     "execution_count": 34,
     "metadata": {},
     "output_type": "execute_result"
    }
   ],
   "source": [
    "len(sample_docs)"
   ]
  },
  {
   "cell_type": "markdown",
   "metadata": {},
   "source": [
    "We still might want to chunk the text more. If one of the sections is too long, we'll need to split it with langchains text splitter but make sure the results still have the same meta data."
   ]
  },
  {
   "cell_type": "code",
   "execution_count": 35,
   "metadata": {
    "vscode": {
     "languageId": "shellscript"
    }
   },
   "outputs": [],
   "source": [
    "def chunk_text(document, chunk_size=10000, chunk_overlap=1000):\n",
    "    raw_text = document.page_content\n",
    "    meta_data = document.metadata\n",
    "    \n",
    "    text_splitter = RecursiveCharacterTextSplitter(\n",
    "        chunk_size=chunk_size,\n",
    "        chunk_overlap=chunk_overlap\n",
    "    )\n",
    "    \n",
    "    texts = text_splitter.split_text(raw_text)\n",
    "    docs = [Document(page_content=t, metadata=meta_data) for t in texts]\n",
    "    \n",
    "    return docs"
   ]
  },
  {
   "cell_type": "code",
   "execution_count": 36,
   "metadata": {
    "vscode": {
     "languageId": "shellscript"
    }
   },
   "outputs": [
    {
     "data": {
      "text/plain": [
       "[Document(metadata={'content_type': 'Article', 'url': [{'format': '', 'platform': '', 'value': 'http://dx.doi.org/10.1007/s00217-024-04565-1'}], 'title': 'Valorization of plant proteins for meat analogues design—a comprehensive review', 'publication_name': 'European Food Research and Technology', 'doi': '10.1007/s00217-024-04565-1', 'publication_date': '2024-10-01', 'starting_page': '2479', 'ending_page': '2513', 'open_access': 'true', 'abstract': {'h1': 'Abstract', 'p': 'Animal proteins from meat and its stuffs have recently been one of main concerns in the drive for sustainable food production. This viewpoint suggests that there are exciting prospects to reformulate meat products that are produced more sustainably and may also have health benefits by substituting high-protein nonmeat ingredients for some of the meat. Considering these pre-existing conditions, this review critically reviews recent data on extenders from several sources, including pulses, plant-based components, plant byproducts, and unconventional sources. We used the related keywords from Scopus-database without limiting the publishing date. With an emphasis on how these findings may impact the sustainability of meat products, it sees them as a great chance to enhance the functional quality and technological profile of meat. Therefore, to promote sustainability, meat alternatives such as plant-based meat equivalents are being made available. To boost consumer acceptability of these goods, further initiatives should also be developed to enhance the functioning of these innovative food items and increase public knowledge of plant-based meat analogues.'}, 'section': 'Introduction'}, page_content=\"Meat is recognized as a very popular food item worldwide and it is well known as an excellent quality protein source with other nutritional characteristics along with its appealing taste. With the growing rate of the planet's population, the need for food security is rising as well, and to feed this growing population a greater amount of good quality food having proper protein, fat, and other nutrition is required. Meanwhile, increased environmental footprint awareness plays a significant role in meat analogues supply for the sustainable and transparent food security of the planet. Animal is the solitary bioresource of meat protein and with rapid population growth, the need for meat protein is also increasing. Various data show that the demand will be magnified near to twice by 2050 [Changes in the different meat prices as per FAO meat price index. (Data Source: OECD-FAO Agricultural Outlook 2022–2031)Meat Greenhouse gas emissions intensity per regionThis paper collects and synthetizes\"),\n",
       " Document(metadata={'content_type': 'Article', 'url': [{'format': '', 'platform': '', 'value': 'http://dx.doi.org/10.1007/s00217-024-04565-1'}], 'title': 'Valorization of plant proteins for meat analogues design—a comprehensive review', 'publication_name': 'European Food Research and Technology', 'doi': '10.1007/s00217-024-04565-1', 'publication_date': '2024-10-01', 'starting_page': '2479', 'ending_page': '2513', 'open_access': 'true', 'abstract': {'h1': 'Abstract', 'p': 'Animal proteins from meat and its stuffs have recently been one of main concerns in the drive for sustainable food production. This viewpoint suggests that there are exciting prospects to reformulate meat products that are produced more sustainably and may also have health benefits by substituting high-protein nonmeat ingredients for some of the meat. Considering these pre-existing conditions, this review critically reviews recent data on extenders from several sources, including pulses, plant-based components, plant byproducts, and unconventional sources. We used the related keywords from Scopus-database without limiting the publishing date. With an emphasis on how these findings may impact the sustainability of meat products, it sees them as a great chance to enhance the functional quality and technological profile of meat. Therefore, to promote sustainability, meat alternatives such as plant-based meat equivalents are being made available. To boost consumer acceptability of these goods, further initiatives should also be developed to enhance the functioning of these innovative food items and increase public knowledge of plant-based meat analogues.'}, 'section': 'Introduction'}, page_content='will be magnified near to twice by 2050 [Changes in the different meat prices as per FAO meat price index. (Data Source: OECD-FAO Agricultural Outlook 2022–2031)Meat Greenhouse gas emissions intensity per regionThis paper collects and synthetizes the available research on plant-based meat analogues. The Scopus database was used to retrieve the data. The Scopus database was searched for data in January 2023 using the following keywords: (plant proteins) AND (meat analogues OR meat alternatives OR meat formulation OR ingredients OR functionalities). The PRISMA guidelines (The bibliometric analysis of plant protein-based meat analogues')]"
      ]
     },
     "execution_count": 36,
     "metadata": {},
     "output_type": "execute_result"
    }
   ],
   "source": [
    "chunk_text(sample_docs[0], 1000, 250)"
   ]
  },
  {
   "cell_type": "code",
   "execution_count": 37,
   "metadata": {
    "vscode": {
     "languageId": "shellscript"
    }
   },
   "outputs": [],
   "source": [
    "chunked_docs = []\n",
    "\n",
    "for doc in sample_docs:\n",
    "    chunked_docs += chunk_text(doc, 5000, 500)"
   ]
  },
  {
   "cell_type": "code",
   "execution_count": 38,
   "metadata": {
    "vscode": {
     "languageId": "shellscript"
    }
   },
   "outputs": [
    {
     "data": {
      "text/plain": [
       "56"
      ]
     },
     "execution_count": 38,
     "metadata": {},
     "output_type": "execute_result"
    }
   ],
   "source": [
    "len(chunked_docs)"
   ]
  },
  {
   "cell_type": "markdown",
   "metadata": {},
   "source": [
    "Now we can extract just the text and get embeddings for it."
   ]
  },
  {
   "cell_type": "code",
   "execution_count": null,
   "metadata": {
    "vscode": {
     "languageId": "shellscript"
    }
   },
   "outputs": [],
   "source": [
    "texts = [d.page_content for d in chunked_docs]\n",
    "\n",
    "embeddings = bedrock_embeddings.embed_documents(texts)"
   ]
  },
  {
   "cell_type": "code",
   "execution_count": 36,
   "metadata": {
    "vscode": {
     "languageId": "shellscript"
    }
   },
   "outputs": [
    {
     "name": "stdout",
     "output_type": "stream",
     "text": [
      "56\n"
     ]
    }
   ],
   "source": [
    "documents_with_embeddings = []\n",
    "\n",
    "for doc, embedding in zip(chunked_docs, embeddings):\n",
    "    doc_with_embedding = {\n",
    "        \"embedding\": embedding,\n",
    "        \"text\": doc.page_content,\n",
    "        \"metadata\": doc.metadata\n",
    "    }\n",
    "    documents_with_embeddings.append(doc_with_embedding)\n",
    "    \n",
    "print(len(documents_with_embeddings))\n",
    "#print(documents_with_embeddings[0])"
   ]
  },
  {
   "cell_type": "markdown",
   "metadata": {},
   "source": [
    "This function does everything, from getting the embeddings to storing them properly with the metadata."
   ]
  },
  {
   "cell_type": "code",
   "execution_count": 40,
   "metadata": {
    "vscode": {
     "languageId": "shellscript"
    }
   },
   "outputs": [],
   "source": [
    "def generate_embeddings(documents):\n",
    "    texts = [doc.page_content for doc in documents]\n",
    "    \n",
    "    embeddings = bedrock_embeddings.embed_documents(texts)\n",
    "    \n",
    "    documents_with_embeddings = []\n",
    "    \n",
    "    for doc, embedding in zip(documents, embeddings):\n",
    "        doc_with_embedding = {\n",
    "            \"embedding\": embedding,\n",
    "            \"text\": doc.page_content,\n",
    "            \"metadata\": doc.metadata\n",
    "        }\n",
    "        documents_with_embeddings.append(doc_with_embedding)\n",
    "    \n",
    "    return documents_with_embeddings"
   ]
  },
  {
   "cell_type": "markdown",
   "metadata": {},
   "source": [
    "So to put it all together in one place, this is how we get our vector embeddings for one pdf file."
   ]
  },
  {
   "cell_type": "code",
   "execution_count": 118,
   "metadata": {
    "vscode": {
     "languageId": "shellscript"
    }
   },
   "outputs": [
    {
     "name": "stdout",
     "output_type": "stream",
     "text": [
      "56\n",
      "47\n"
     ]
    }
   ],
   "source": [
    "sample_docs = convert_to_doc_format(sample_transformed_data)\n",
    "\n",
    "chunked_docs = []\n",
    "\n",
    "for doc in sample_docs:\n",
    "    chunked_docs += chunk_text(doc, 5000, 500)\n",
    "    \n",
    "documents_with_embeddings = generate_embeddings(chunked_docs)\n",
    "\n",
    "# we can see the length of the documents_with_embeddings and the length of the sample_text, which will give an idea of how many sections were chunked\n",
    "print(len(documents_with_embeddings))\n",
    "print(len(sample_text))"
   ]
  },
  {
   "cell_type": "markdown",
   "metadata": {},
   "source": [
    "### Full Embeddings\n",
    "\n",
    "Let's try this on the full dataset.\n",
    "\n",
    "NOTE: There is currently an error where some of the chunked docs have too many input tokens (the current limit is 8000). We need to use a tokenizer from hugging face to check the length of the input ids since we can't use Amazon's titan model to do this (thus it will just be an estimate). \n",
    "\n",
    "There are some import errors with torch and hugging face though, so for now, we are only inputting the first 50 pdf files to avoid this error (currently hardcoded this slicing of the loaded data in the modules/data_processing/src/data_processing.py file)."
   ]
  },
  {
   "cell_type": "code",
   "execution_count": 41,
   "metadata": {
    "vscode": {
     "languageId": "shellscript"
    }
   },
   "outputs": [],
   "source": [
    "full_docs = convert_to_doc_format(full_pdf_data)\n",
    "\n",
    "full_chunked_docs = []\n",
    "\n",
    "for doc in full_docs:\n",
    "    full_chunked_docs += chunk_text(doc, 5000, 500)"
   ]
  },
  {
   "cell_type": "code",
   "execution_count": 63,
   "metadata": {
    "vscode": {
     "languageId": "shellscript"
    }
   },
   "outputs": [],
   "source": [
    "full_texts = [doc.page_content for doc in full_chunked_docs]\n",
    "\n",
    "invalid_texts = []\n",
    "\n",
    "valid_texts = []\n",
    "for text in full_texts:\n",
    "    token_count = len(tokenizer.encode(text))\n",
    "    if token_count <= 8192:\n",
    "        valid_texts.append(text)\n",
    "    else:\n",
    "        invalid_texts.append(text)\n",
    "        # Handle texts that are still too long\n",
    "        print(\"Text exceeds token limit even after chunking.\")"
   ]
  },
  {
   "cell_type": "code",
   "execution_count": null,
   "metadata": {
    "vscode": {
     "languageId": "shellscript"
    }
   },
   "outputs": [],
   "source": [
    "embeddings = bedrock_embeddings.embed_documents(texts)\n",
    "\n",
    "documents_with_embeddings = []\n",
    "\n",
    "for doc, embedding in zip(full_chunked_docs, embeddings):\n",
    "    doc_with_embedding = {\n",
    "        \"embedding\": embedding,\n",
    "        \"text\": doc.page_content,\n",
    "        \"metadata\": doc.metadata\n",
    "    }\n",
    "    documents_with_embeddings.append(doc_with_embedding)"
   ]
  },
  {
   "cell_type": "code",
   "execution_count": null,
   "metadata": {
    "vscode": {
     "languageId": "shellscript"
    }
   },
   "outputs": [],
   "source": [
    "full_documents_with_embeddings = generate_embeddings(full_chunked_docs)"
   ]
  },
  {
   "cell_type": "markdown",
   "metadata": {},
   "source": [
    "## Connecting to Vector Database"
   ]
  },
  {
   "cell_type": "markdown",
   "metadata": {},
   "source": [
    "So first let's see if we can connect to the vector database that we created using terraform."
   ]
  },
  {
   "cell_type": "code",
   "execution_count": 98,
   "metadata": {
    "vscode": {
     "languageId": "shellscript"
    }
   },
   "outputs": [],
   "source": [
    "from opensearchpy import OpenSearch, RequestsHttpConnection\n",
    "from requests_aws4auth import AWS4Auth\n",
    "from dotenv import load_dotenv\n",
    "\n",
    "load_dotenv()\n",
    "\n",
    "opensearch_endpoint = os.environ.get('OPENSEARCH_ENDPOINT')\n",
    "\n",
    "AWS_ACCESS_KEY = os.environ.get('AWS_ACCESS_KEY_ID')\n",
    "AWS_SECRET_KEY = os.environ.get('AWS_SECRET_ACCESS_KEY')\n",
    "AWS_REGION = os.environ.get('AWS_REGION')"
   ]
  },
  {
   "cell_type": "code",
   "execution_count": 135,
   "metadata": {
    "vscode": {
     "languageId": "shellscript"
    }
   },
   "outputs": [
    {
     "name": "stdout",
     "output_type": "stream",
     "text": [
      "{'name': 'b618476fdb5879478fc667c4fb6cd473', 'cluster_name': '590184030535:vegan-pdf-data', 'cluster_uuid': 'D2l3HY8VSk-qIbco5LH9gg', 'version': {'distribution': 'opensearch', 'number': '2.5.0', 'build_type': 'tar', 'build_hash': 'unknown', 'build_date': '2024-05-02T06:25:23.555552Z', 'build_snapshot': False, 'lucene_version': '9.4.2', 'minimum_wire_compatibility_version': '7.10.0', 'minimum_index_compatibility_version': '7.0.0'}, 'tagline': 'The OpenSearch Project: https://opensearch.org/'}\n"
     ]
    }
   ],
   "source": [
    "awsauth = AWS4Auth(AWS_ACCESS_KEY, AWS_SECRET_KEY, AWS_REGION, 'es')\n",
    "\n",
    "# Create the OpenSearch client\n",
    "client = OpenSearch(\n",
    "    hosts=[{'host': opensearch_endpoint, 'port': 443}],\n",
    "    http_auth=awsauth,\n",
    "    use_ssl=True,\n",
    "    verify_certs=True,\n",
    "    connection_class=RequestsHttpConnection\n",
    ")\n",
    "\n",
    "# Test connection\n",
    "info = client.info()\n",
    "print(info)"
   ]
  },
  {
   "cell_type": "markdown",
   "metadata": {},
   "source": [
    "So it worked. Next we need the embedding dimension, which we will use when creating our index body."
   ]
  },
  {
   "cell_type": "code",
   "execution_count": 119,
   "metadata": {
    "vscode": {
     "languageId": "shellscript"
    }
   },
   "outputs": [
    {
     "name": "stdout",
     "output_type": "stream",
     "text": [
      "Embedding dimension: 1536\n"
     ]
    }
   ],
   "source": [
    "embedding_dimension = len(documents_with_embeddings[0]['embedding'])\n",
    "print(f\"Embedding dimension: {embedding_dimension}\")"
   ]
  },
  {
   "cell_type": "markdown",
   "metadata": {},
   "source": [
    "Recall what the meta data looks like. We need to define it in the index body."
   ]
  },
  {
   "cell_type": "code",
   "execution_count": 125,
   "metadata": {
    "vscode": {
     "languageId": "shellscript"
    }
   },
   "outputs": [
    {
     "data": {
      "text/plain": [
       "{'content_type': 'Article',\n",
       " 'url': [{'format': '',\n",
       "   'platform': '',\n",
       "   'value': 'http://dx.doi.org/10.1007/s00217-024-04565-1'}],\n",
       " 'title': 'Valorization of plant proteins for meat analogues design—a comprehensive review',\n",
       " 'publication_name': 'European Food Research and Technology',\n",
       " 'doi': '10.1007/s00217-024-04565-1',\n",
       " 'publication_date': '2024-10-01',\n",
       " 'starting_page': '2479',\n",
       " 'ending_page': '2513',\n",
       " 'open_access': 'true',\n",
       " 'abstract': {'h1': 'Abstract',\n",
       "  'p': 'Animal proteins from meat and its stuffs have recently been one of main concerns in the drive for sustainable food production. This viewpoint suggests that there are exciting prospects to reformulate meat products that are produced more sustainably and may also have health benefits by substituting high-protein nonmeat ingredients for some of the meat. Considering these pre-existing conditions, this review critically reviews recent data on extenders from several sources, including pulses, plant-based components, plant byproducts, and unconventional sources. We used the related keywords from Scopus-database without limiting the publishing date. With an emphasis on how these findings may impact the sustainability of meat products, it sees them as a great chance to enhance the functional quality and technological profile of meat. Therefore, to promote sustainability, meat alternatives such as plant-based meat equivalents are being made available. To boost consumer acceptability of these goods, further initiatives should also be developed to enhance the functioning of these innovative food items and increase public knowledge of plant-based meat analogues.'},\n",
       " 'section': 'Introduction'}"
      ]
     },
     "execution_count": 125,
     "metadata": {},
     "output_type": "execute_result"
    }
   ],
   "source": [
    "documents_with_embeddings[0]['metadata']"
   ]
  },
  {
   "cell_type": "code",
   "execution_count": 126,
   "metadata": {
    "vscode": {
     "languageId": "shellscript"
    }
   },
   "outputs": [
    {
     "name": "stdout",
     "output_type": "stream",
     "text": [
      "Index 'vegan_papers_index' does not exist. Creating a new one.\n",
      "Created index 'vegan_papers_index': {'acknowledged': True, 'shards_acknowledged': True, 'index': 'vegan_papers_index'}\n"
     ]
    }
   ],
   "source": [
    "from opensearchpy import OpenSearch, RequestsHttpConnection\n",
    "from opensearchpy.exceptions import NotFoundError\n",
    "from requests_aws4auth import AWS4Auth\n",
    "import os\n",
    "\n",
    "index_name = 'vegan_papers_index'\n",
    "\n",
    "# Define the index settings and mappings\n",
    "index_body = {\n",
    "    'settings': {\n",
    "        'index': {\n",
    "            'knn': True  # Enable k-NN for vector similarity search\n",
    "        }\n",
    "    },\n",
    "    'mappings': {\n",
    "        'properties': {\n",
    "            'embedding': {\n",
    "                'type': 'knn_vector',\n",
    "                'dimension': embedding_dimension\n",
    "            },\n",
    "            'text': {\n",
    "                'type': 'text'\n",
    "            },\n",
    "            'metadata': {\n",
    "                'properties': {\n",
    "                    'content_type': {'type': 'keyword'},\n",
    "                    'url': {\n",
    "                        'type': 'nested',\n",
    "                        'properties': {\n",
    "                            'format': {'type': 'keyword'},\n",
    "                            'platform': {'type': 'keyword'},\n",
    "                            'value': {'type': 'keyword'}\n",
    "                        }\n",
    "                    },\n",
    "                    'title': {'type': 'text'},\n",
    "                    'publication_name': {'type': 'text'},\n",
    "                    'doi': {'type': 'keyword'},\n",
    "                    'publication_date': {'type': 'date', 'format': 'yyyy-MM-dd'},\n",
    "                    'starting_page': {'type': 'integer'},\n",
    "                    'ending_page': {'type': 'integer'},\n",
    "                    'open_access': {'type': 'boolean'},\n",
    "                    'abstract': {\n",
    "                        'properties': {\n",
    "                            'h1': {'type': 'text'},\n",
    "                            'p': {'type': 'text'}\n",
    "                        }\n",
    "                    },\n",
    "                    'section': {'type': 'text'}\n",
    "                }\n",
    "            }\n",
    "        }\n",
    "    }\n",
    "}\n",
    "\n",
    "# Delete the index if it exists, then create it\n",
    "try:\n",
    "    client.indices.delete(index=index_name)\n",
    "    print(f\"Deleted existing index '{index_name}'.\")\n",
    "except NotFoundError:\n",
    "    print(f\"Index '{index_name}' does not exist. Creating a new one.\")\n",
    "\n",
    "response = client.indices.create(index=index_name, body=index_body)\n",
    "print(f\"Created index '{index_name}': {response}\")\n"
   ]
  },
  {
   "cell_type": "markdown",
   "metadata": {},
   "source": [
    "Now we prepare our data to be stored into the vector database."
   ]
  },
  {
   "cell_type": "code",
   "execution_count": 127,
   "metadata": {
    "vscode": {
     "languageId": "shellscript"
    }
   },
   "outputs": [],
   "source": [
    "actions = []\n",
    "for i, doc in enumerate(documents_with_embeddings):\n",
    "    action = {\n",
    "        '_index': index_name,\n",
    "        '_id': i,\n",
    "        '_source': {\n",
    "            'embedding': doc['embedding'],\n",
    "            'text': doc['text'],\n",
    "            'metadata': doc['metadata']\n",
    "        }\n",
    "    }\n",
    "    actions.append(action)"
   ]
  },
  {
   "cell_type": "code",
   "execution_count": 129,
   "metadata": {
    "vscode": {
     "languageId": "shellscript"
    }
   },
   "outputs": [
    {
     "name": "stdout",
     "output_type": "stream",
     "text": [
      "Indexed 56 documents into index 'vegan_papers_index'.\n"
     ]
    }
   ],
   "source": [
    "from opensearchpy.helpers import bulk\n",
    "\n",
    "success, _ = bulk(client, actions)\n",
    "print(f\"Indexed {success} documents into index '{index_name}'.\")"
   ]
  },
  {
   "cell_type": "markdown",
   "metadata": {},
   "source": [
    "Let's perform a vector search to test out our database. We can query something similar to a selected example, say sample_text[5]."
   ]
  },
  {
   "cell_type": "code",
   "execution_count": 131,
   "metadata": {
    "vscode": {
     "languageId": "shellscript"
    }
   },
   "outputs": [
    {
     "data": {
      "text/plain": [
       "{'section': 'Usage of gluten protein for meat analogues',\n",
       " 'body': 'Wheat gluten is a significant component of many analogues. Because it is a by-product of the creation of colossal wheat starch, its price is appealing to the industry. In contrast to soy, the insoluble protein is left behind after the soluble and dispersible components of wheat are only removed by washing them with water [Gliadin (prolamin) is soluble in alcohol, whereas glutenin (glutelin) is soluble in diluted acid ['}"
      ]
     },
     "execution_count": 131,
     "metadata": {},
     "output_type": "execute_result"
    }
   ],
   "source": [
    "sample_text[5]"
   ]
  },
  {
   "cell_type": "code",
   "execution_count": 136,
   "metadata": {
    "vscode": {
     "languageId": "shellscript"
    }
   },
   "outputs": [],
   "source": [
    "#so make the query similar to the sample above\n",
    "query_text = \"Is wheat gluton a significant component of meat analogues?\"\n",
    "query_embedding = bedrock_embeddings.embed_query(query_text)"
   ]
  },
  {
   "cell_type": "code",
   "execution_count": 137,
   "metadata": {
    "vscode": {
     "languageId": "shellscript"
    }
   },
   "outputs": [],
   "source": [
    "search_body = {\n",
    "    \"size\": 5,\n",
    "    \"query\": {\n",
    "        \"knn\": {\n",
    "            \"embedding\": {\n",
    "                \"vector\": query_embedding,\n",
    "                \"k\": 5\n",
    "            }\n",
    "        }\n",
    "    },\n",
    "    \"_source\": [\"text\", \"metadata\"]\n",
    "}\n",
    "\n",
    "response = client.search(index=index_name, body=search_body)"
   ]
  },
  {
   "cell_type": "code",
   "execution_count": 138,
   "metadata": {
    "vscode": {
     "languageId": "shellscript"
    }
   },
   "outputs": [
    {
     "name": "stdout",
     "output_type": "stream",
     "text": [
      "Score: 0.004691359\n",
      "Title: Valorization of plant proteins for meat analogues design—a comprehensive review\n",
      "Text: Wheat gluten is a significant component of many analogues. Because it is a by-product of the creation of colossal wheat starch, its price is appealing to the industry. In contrast to soy, the insolubl...\n",
      "\n",
      "Score: 0.0043517556\n",
      "Title: Valorization of plant proteins for meat analogues design—a comprehensive review\n",
      "Text: some specific color that changes through different processes such as cooking and smoking. Similarly, meat analogues should have meat mimic color and color change characteristics during processing. Sev...\n",
      "\n",
      "Score: 0.00420129\n",
      "Title: Valorization of plant proteins for meat analogues design—a comprehensive review\n",
      "Text: Meat analogues are made by combining a variety of ingredients through different texturizing techniques. For optimum binding of all the necessary ingredients (flavor, color, stabilizers, emulsifier, th...\n",
      "\n",
      "Score: 0.004073237\n",
      "Title: Valorization of plant proteins for meat analogues design—a comprehensive review\n",
      "Text: characteristics of the meat analogues [Fat retention capacity is a measurement of the ability of non-polar side chains of proteins to bind fat. It plays a potent character in improving the flavor of m...\n",
      "\n",
      "Score: 0.0040187445\n",
      "Title: Valorization of plant proteins for meat analogues design—a comprehensive review\n",
      "Text: In meat analogues, different flavour generation components and their critical interaction during processing have a crucial role in mimicking specific meat-like tastes and flavors. Meat analogue's tast...\n",
      "\n"
     ]
    }
   ],
   "source": [
    "for hit in response['hits']['hits']:\n",
    "    print(f\"Score: {hit['_score']}\")\n",
    "    print(f\"Title: {hit['_source']['metadata']['title']}\")\n",
    "    print(f\"Text: {hit['_source']['text'][:200]}...\")  # Show first 200 chars\n",
    "    print()"
   ]
  },
  {
   "cell_type": "markdown",
   "metadata": {},
   "source": [
    "### Delete Index\n",
    "\n",
    "Now that we confirmed everything worked, let's delete the index since this was just an experimentation notebook. We will implement the full method in the data_processing module."
   ]
  },
  {
   "cell_type": "code",
   "execution_count": 139,
   "metadata": {
    "vscode": {
     "languageId": "shellscript"
    }
   },
   "outputs": [
    {
     "name": "stdout",
     "output_type": "stream",
     "text": [
      "Deleted existing index 'vegan_papers_index'.\n"
     ]
    }
   ],
   "source": [
    "try:\n",
    "    client.indices.delete(index=index_name)\n",
    "    print(f\"Deleted existing index '{index_name}'.\")\n",
    "except NotFoundError:\n",
    "    print(f\"Index '{index_name}' does not exist.\")"
   ]
  },
  {
   "cell_type": "markdown",
   "metadata": {},
   "source": [
    "## Open-Source Embeddings\n",
    "\n",
    "The Titan model is not great for chatbot use cases, so fine-tuning on our data would be better off left with an open source model. We'll use the Falcon 7B-Instruct model. Moreover, the titan embeddings from bedrock won't let us see the tokenized text, which we need as we are getting an error of too many tokens and need to chunk the text based on the limit of tokens, not text. Thus, an open source model would do better here as we have that flexibility.\n",
    "\n",
    "So essentially we are redoing the vector embeddings section above, but this time using the Falcon model."
   ]
  },
  {
   "cell_type": "code",
   "execution_count": null,
   "metadata": {
    "vscode": {
     "languageId": "shellscript"
    }
   },
   "outputs": [],
   "source": [
    "from transformers import AutoTokenizer\n",
    "\n",
    "model = \"tiiuae/falcon-7b-instruct\"\n",
    "\n",
    "tokenizer = AutoTokenizer.from_pretrained(model)"
   ]
  },
  {
   "cell_type": "markdown",
   "metadata": {},
   "source": [
    "We'll still need this function to convert our transformed data into documents."
   ]
  },
  {
   "cell_type": "code",
   "execution_count": 66,
   "metadata": {
    "vscode": {
     "languageId": "shellscript"
    }
   },
   "outputs": [],
   "source": [
    "def convert_to_doc_format(transformed_data):\n",
    "    documents = []\n",
    "    for content in transformed_data:\n",
    "        doc = Document(page_content=content['body'], metadata=content['meta_data'])\n",
    "        documents.append(doc)\n",
    "    return documents"
   ]
  },
  {
   "cell_type": "code",
   "execution_count": 68,
   "metadata": {
    "vscode": {
     "languageId": "shellscript"
    }
   },
   "outputs": [],
   "source": [
    "full_docs = convert_to_doc_format(full_pdf_data)"
   ]
  },
  {
   "cell_type": "code",
   "execution_count": 74,
   "metadata": {
    "vscode": {
     "languageId": "shellscript"
    }
   },
   "outputs": [
    {
     "data": {
      "text/plain": [
       "'Accelerating relative sea-level rise (RSLR) threatens coastal wetlands globally, and their survival depends on the ability of wetlands to build soil vertically and maintain their elevation in the tidal frame. Studies using the Surface Elevation Table–Marker Horizon (SET-MH) method are advancing our understanding of the processes contributing to the sustainability of coastal wetland elevation in the face of rising sea levels, and their management implications, resulting in an approach that allows for comprehensive and systematic monitoring of wetland elevation change over a wide range of coastal environments globally. Collectively, the 27 articles in this special issue present an examination of current advances at quantifying and understanding subsurface process influences on wetland elevation change and wetland responses to sea-level rise, drawing on research presentations from two special sessions at the Coastal and Estuarine Research Federation (CERF) 2021 conference plus additional recent research describing scientific insights gained from the SET-MH method. These insights include information from research on the five thematic topics presented below. This special issue should be of great value to everyone interested in the latest advances in coastal wetland elevation dynamics using the SET-MH technique.A 30-year retrospective on the scientific insights gained on the surface and shallow subsurface processes influencing wetland elevation dynamics using the SET-MH method, including fundamental revelations about tidal wetland elevation dynamics.The development and evolution of the SET-MH technique has led to the recognition that coastal wetland soil elevation dynamics are driven by complex interactions among surface and subsurface processes (Cahoon Investigations of the subsurface soil process influences on wetland elevation\\xa0(e.g., Maher and Starke Essential plant nutrients like nitrogen (N) and phosphorus (P) are often in limited supply in tidal wetlands, thereby restricting plant growth and soil organic matter accumulation influences on elevation gain. Nutrient enrichment in oligotrophic wetlands from sediment addition, nutrient pollution, or fertilization can lead to increased plant growth, soil organic matter accumulation, and wetland elevation gain (see\\xa0Table\\xa03 in Cahoon How the scientific community applies the SET–MH method to quantify and understand wetland responses to RSLR and other environmental drivers such as altered hydrology and sediment supply, changes in plant production, and management and restoration actions through statistical analyses of changes in surface elevation, and how the information gained can be used to inform management decisions.Wetland elevation trend responses to RSLR are shown to vary by lateral position within the estuary for salt marshes (e.g., riverine, bayside, and barrier island settings; Steinmuller et al. How SET-MH data are used in long-term monitoring networks at different geographic scales where the distance among network sites ranges from local (i.e., 10\\xa0s of kilometers) to regional (i.e., 100\\xa0s of kilometers) to national (i.e., 1000\\xa0s of kilometers), and what complementary datasets will enhance comparisons to environmental drivers such as RSLR.Local networks are used to assess environmental gradients in a coastal sound or bay, such as distance from a sediment source (e.g., ocean inlet (Roman et al. Multidecadal datasets from regional networks in the USA covering multiple sounds and bays in California (Thorne et al. A national network of 289 SET-MH stations spanning a range of tidal wetland types across mainland Australian coastal states and territories (Saintilan et al. Pairing the SET-MH method with survey techniques to increase lateral coverage of wetland elevation trends and with geodetic techniques to increase vertical coverage of vertical land motion, including both shallow and deep subsidence, thereby improving our understanding of coastal wetland elevation dynamics and responses to RSLR.An individual rod SET station measures elevation across an approximate 1.5 mWhen comparing a SET wetland elevation trend to a nearby tide gauge RSLR trend, the underlying assumption is that deep subsidence rates are the same beneath both the wetland and the tide station (Cahoon '"
      ]
     },
     "execution_count": 74,
     "metadata": {},
     "output_type": "execute_result"
    }
   ],
   "source": [
    "full_docs[0].page_content"
   ]
  },
  {
   "cell_type": "code",
   "execution_count": 75,
   "metadata": {
    "vscode": {
     "languageId": "shellscript"
    }
   },
   "outputs": [
    {
     "data": {
      "text/plain": [
       "837"
      ]
     },
     "execution_count": 75,
     "metadata": {},
     "output_type": "execute_result"
    }
   ],
   "source": [
    "len(tokenizer.encode(full_docs[0].page_content))"
   ]
  },
  {
   "cell_type": "code",
   "execution_count": 77,
   "metadata": {
    "vscode": {
     "languageId": "shellscript"
    }
   },
   "outputs": [],
   "source": [
    "invalid_texts = []\n",
    "\n",
    "for doc in full_docs:\n",
    "    if len(tokenizer.encode(doc.page_content)) > 2048:\n",
    "        invalid_texts.append(doc.page_content)"
   ]
  },
  {
   "cell_type": "code",
   "execution_count": 79,
   "metadata": {
    "vscode": {
     "languageId": "shellscript"
    }
   },
   "outputs": [
    {
     "data": {
      "text/plain": [
       "126"
      ]
     },
     "execution_count": 79,
     "metadata": {},
     "output_type": "execute_result"
    }
   ],
   "source": [
    "len(invalid_texts)"
   ]
  },
  {
   "cell_type": "code",
   "execution_count": null,
   "metadata": {
    "vscode": {
     "languageId": "shellscript"
    }
   },
   "outputs": [],
   "source": [
    "def chunk_tokens(doc, chunk_size, max_tokens=2048):"
   ]
  }
 ],
 "metadata": {
  "kernelspec": {
   "display_name": "Python 3 (ipykernel)",
   "language": "python",
   "name": "python3"
  },
  "language_info": {
   "codemirror_mode": {
    "name": "ipython",
    "version": 3
   },
   "file_extension": ".py",
   "mimetype": "text/x-python",
   "name": "python",
   "nbconvert_exporter": "python",
   "pygments_lexer": "ipython3",
   "version": "3.10.14"
  }
 },
 "nbformat": 4,
 "nbformat_minor": 2
}
