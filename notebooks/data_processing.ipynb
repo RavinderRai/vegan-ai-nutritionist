{
 "cells": [
  {
   "cell_type": "markdown",
   "metadata": {},
   "source": [
    "# Data Processing\n",
    "\n",
    "This notebook is about exploring how we can take the data we ingested and stored into an S3 bucket, and storing it into a vector database."
   ]
  },
  {
   "cell_type": "code",
   "execution_count": 1,
   "metadata": {},
   "outputs": [
    {
     "data": {
      "text/plain": [
       "'/mnt/c/Users/RaviB/GitHub/vegan-ai-nutritionist/modules/data_processing'"
      ]
     },
     "execution_count": 1,
     "metadata": {},
     "output_type": "execute_result"
    }
   ],
   "source": [
    "pwd"
   ]
  },
  {
   "cell_type": "code",
   "execution_count": 17,
   "metadata": {},
   "outputs": [
    {
     "data": {
      "text/plain": [
       "True"
      ]
     },
     "execution_count": 17,
     "metadata": {},
     "output_type": "execute_result"
    }
   ],
   "source": [
    "import os\n",
    "import pandas as pd\n",
    "import boto3\n",
    "import json\n",
    "from dotenv import load_dotenv\n",
    "\n",
    "load_dotenv()"
   ]
  },
  {
   "cell_type": "code",
   "execution_count": 16,
   "metadata": {},
   "outputs": [
    {
     "data": {
      "text/plain": [
       "200"
      ]
     },
     "execution_count": 16,
     "metadata": {},
     "output_type": "execute_result"
    }
   ],
   "source": [
    "s3 = boto3.client('s3')\n",
    "\n",
    "bucket_name = os.environ.get('AWS_BUCKET_NAME')\n",
    "\n",
    "response = s3.list_objects_v2(Bucket=bucket_name)\n",
    "response[\"ResponseMetadata\"][\"HTTPStatusCode\"]"
   ]
  },
  {
   "cell_type": "code",
   "execution_count": 19,
   "metadata": {},
   "outputs": [],
   "source": [
    "file_name = 'vegan_research_papers.json'\n",
    "\n",
    "# Get the file contents from S3\n",
    "response = s3.get_object(Bucket=bucket_name, Key=file_name)"
   ]
  },
  {
   "cell_type": "code",
   "execution_count": 20,
   "metadata": {},
   "outputs": [],
   "source": [
    "# Load the JSON data from the file contents\n",
    "data = json.loads(response['Body'].read())"
   ]
  },
  {
   "cell_type": "code",
   "execution_count": 21,
   "metadata": {},
   "outputs": [
    {
     "data": {
      "text/plain": [
       "list"
      ]
     },
     "execution_count": 21,
     "metadata": {},
     "output_type": "execute_result"
    }
   ],
   "source": [
    "type(data)"
   ]
  },
  {
   "cell_type": "code",
   "execution_count": 22,
   "metadata": {},
   "outputs": [
    {
     "data": {
      "text/plain": [
       "{'meta_data': {'content_type': 'Article',\n",
       "  'url': [{'format': '',\n",
       "    'platform': '',\n",
       "    'value': 'http://dx.doi.org/10.1007/s12237-023-01313-8'}],\n",
       "  'title': 'Responses of Coastal Wetlands to Rising Sea-Level Revisited: The Importance of Organic Production',\n",
       "  'publication_name': 'Estuaries and Coasts',\n",
       "  'doi': '10.1007/s12237-023-01313-8',\n",
       "  'publication_date': '2024-11-01',\n",
       "  'starting_page': '1735',\n",
       "  'ending_page': '1749',\n",
       "  'open_access': 'true',\n",
       "  'abstract': {'h1': 'Abstract',\n",
       "   'p': 'A network of 15 Surface Elevation Tables (SETs) at North Inlet estuary, South Carolina, has been monitored on annual or monthly time scales beginning from 1990 to 1996 and continuing through 2022. Of 73 time series in control plots, 12 had elevation gains equal to or exceeding the local rate of sea-level rise (SLR, 0.34\\xa0cm/year). Rising marsh elevation in North Inlet is dominated by organic production and, we hypothesize, is proportional to net ecosystem production. The rate of elevation gain was 0.47\\xa0cm/year in plots experimentally fertilized for 10\\xa0years with N&P compared to nearby control plots that have gained 0.1\\xa0cm/year in 26\\xa0years. The excess gains and losses of elevation in fertilized plots were accounted for by changes in belowground biomass and turnover. This is supported by bioassay experiments in marsh organs where at age 2 the belowground biomass of fertilized S. alterniflora plants was increasing by 1,994\\xa0g\\xa0m^−2\\xa0year^−1, which added a growth premium of 2.4\\xa0cm/year to elevation gain. This was contrasted with the net belowground growth of 746\\xa0g\\xa0m^−2\\xa0year^−1 in controls, which can add 0.89\\xa0cm/year to elevation. Root biomass density was greater in the fertilized bioassay treatments than in controls, plateauing at about 1,374\\xa0g\\xa0m^−2 and 472\\xa0g\\xa0m^−2, respectively. Growth of belowground biomass was dominated by rhizomes, which grew to 3,648\\xa0g\\xa0m^−2 in the fertilized treatments after 3\\xa0years and 1,439\\xa0g\\xa0m^−2 in the control treatments after 5\\xa0years. Depositional wetlands are limited by an exogenous supply of mineral sediment, whereas marshes like North Inlet could be classified as autonomous because they depend on in situ organic production to maintain elevation. Autonomous wetlands are more vulnerable to SLR because their elevation gains are constrained ultimately by photosynthetic efficiency.'}},\n",
       " 'content': [{'section': 'Introduction',\n",
       "   'body': 'Accelerating relative sea-level rise (RSLR) threatens coastal wetlands globally, and their survival depends on the ability of wetlands to build soil vertically and maintain their elevation in the tidal frame. Studies using the Surface Elevation Table–Marker Horizon (SET-MH) method are advancing our understanding of the processes contributing to the sustainability of coastal wetland elevation in the face of rising sea levels, and their management implications, resulting in an approach that allows for comprehensive and systematic monitoring of wetland elevation change over a wide range of coastal environments globally. Collectively, the 27 articles in this special issue present an examination of current advances at quantifying and understanding subsurface process influences on wetland elevation change and wetland responses to sea-level rise, drawing on research presentations from two special sessions at the Coastal and Estuarine Research Federation (CERF) 2021 conference plus additional recent research describing scientific insights gained from the SET-MH method. These insights include information from research on the five thematic topics presented below. This special issue should be of great value to everyone interested in the latest advances in coastal wetland elevation dynamics using the SET-MH technique.A 30-year retrospective on the scientific insights gained on the surface and shallow subsurface processes influencing wetland elevation dynamics using the SET-MH method, including fundamental revelations about tidal wetland elevation dynamics.The development and evolution of the SET-MH technique has led to the recognition that coastal wetland soil elevation dynamics are driven by complex interactions among surface and subsurface processes (Cahoon Investigations of the subsurface soil process influences on wetland elevation\\xa0(e.g., Maher and Starke Essential plant nutrients like nitrogen (N) and phosphorus (P) are often in limited supply in tidal wetlands, thereby restricting plant growth and soil organic matter accumulation influences on elevation gain. Nutrient enrichment in oligotrophic wetlands from sediment addition, nutrient pollution, or fertilization can lead to increased plant growth, soil organic matter accumulation, and wetland elevation gain (see\\xa0Table\\xa03 in Cahoon How the scientific community applies the SET–MH method to quantify and understand wetland responses to RSLR and other environmental drivers such as altered hydrology and sediment supply, changes in plant production, and management and restoration actions through statistical analyses of changes in surface elevation, and how the information gained can be used to inform management decisions.Wetland elevation trend responses to RSLR are shown to vary by lateral position within the estuary for salt marshes (e.g., riverine, bayside, and barrier island settings; Steinmuller et al. How SET-MH data are used in long-term monitoring networks at different geographic scales where the distance among network sites ranges from local (i.e., 10\\xa0s of kilometers) to regional (i.e., 100\\xa0s of kilometers) to national (i.e., 1000\\xa0s of kilometers), and what complementary datasets will enhance comparisons to environmental drivers such as RSLR.Local networks are used to assess environmental gradients in a coastal sound or bay, such as distance from a sediment source (e.g., ocean inlet (Roman et al. Multidecadal datasets from regional networks in the USA covering multiple sounds and bays in California (Thorne et al. A national network of 289 SET-MH stations spanning a range of tidal wetland types across mainland Australian coastal states and territories (Saintilan et al. Pairing the SET-MH method with survey techniques to increase lateral coverage of wetland elevation trends and with geodetic techniques to increase vertical coverage of vertical land motion, including both shallow and deep subsidence, thereby improving our understanding of coastal wetland elevation dynamics and responses to RSLR.An individual rod SET station measures elevation across an approximate 1.5 mWhen comparing a SET wetland elevation trend to a nearby tide gauge RSLR trend, the underlying assumption is that deep subsidence rates are the same beneath both the wetland and the tide station (Cahoon '},\n",
       "  {'section': 'Topic 1',\n",
       "   'body': 'A 30-year retrospective on the scientific insights gained on the surface and shallow subsurface processes influencing wetland elevation dynamics using the SET-MH method, including fundamental revelations about tidal wetland elevation dynamics.The development and evolution of the SET-MH technique has led to the recognition that coastal wetland soil elevation dynamics are driven by complex interactions among surface and subsurface processes (Cahoon '},\n",
       "  {'section': 'Topic 2',\n",
       "   'body': 'Investigations of the subsurface soil process influences on wetland elevation\\xa0(e.g., Maher and Starke Essential plant nutrients like nitrogen (N) and phosphorus (P) are often in limited supply in tidal wetlands, thereby restricting plant growth and soil organic matter accumulation influences on elevation gain. Nutrient enrichment in oligotrophic wetlands from sediment addition, nutrient pollution, or fertilization can lead to increased plant growth, soil organic matter accumulation, and wetland elevation gain (see\\xa0Table\\xa03 in Cahoon '},\n",
       "  {'section': 'Topic 3',\n",
       "   'body': 'How the scientific community applies the SET–MH method to quantify and understand wetland responses to RSLR and other environmental drivers such as altered hydrology and sediment supply, changes in plant production, and management and restoration actions through statistical analyses of changes in surface elevation, and how the information gained can be used to inform management decisions.Wetland elevation trend responses to RSLR are shown to vary by lateral position within the estuary for salt marshes (e.g., riverine, bayside, and barrier island settings; Steinmuller et al. '},\n",
       "  {'section': 'Topic 4',\n",
       "   'body': 'How SET-MH data are used in long-term monitoring networks at different geographic scales where the distance among network sites ranges from local (i.e., 10\\xa0s of kilometers) to regional (i.e., 100\\xa0s of kilometers) to national (i.e., 1000\\xa0s of kilometers), and what complementary datasets will enhance comparisons to environmental drivers such as RSLR.Local networks are used to assess environmental gradients in a coastal sound or bay, such as distance from a sediment source (e.g., ocean inlet (Roman et al. Multidecadal datasets from regional networks in the USA covering multiple sounds and bays in California (Thorne et al. A national network of 289 SET-MH stations spanning a range of tidal wetland types across mainland Australian coastal states and territories (Saintilan et al. '},\n",
       "  {'section': 'Local',\n",
       "   'body': 'Local networks are used to assess environmental gradients in a coastal sound or bay, such as distance from a sediment source (e.g., ocean inlet (Roman et al. '},\n",
       "  {'section': 'Regional',\n",
       "   'body': 'Multidecadal datasets from regional networks in the USA covering multiple sounds and bays in California (Thorne et al. '},\n",
       "  {'section': 'National',\n",
       "   'body': 'A national network of 289 SET-MH stations spanning a range of tidal wetland types across mainland Australian coastal states and territories (Saintilan et al. '},\n",
       "  {'section': 'Topic 5',\n",
       "   'body': 'Pairing the SET-MH method with survey techniques to increase lateral coverage of wetland elevation trends and with geodetic techniques to increase vertical coverage of vertical land motion, including both shallow and deep subsidence, thereby improving our understanding of coastal wetland elevation dynamics and responses to RSLR.An individual rod SET station measures elevation across an approximate 1.5 mWhen comparing a SET wetland elevation trend to a nearby tide gauge RSLR trend, the underlying assumption is that deep subsidence rates are the same beneath both the wetland and the tide station (Cahoon '},\n",
       "  {'section': 'Lateral Coverage',\n",
       "   'body': 'An individual rod SET station measures elevation across an approximate 1.5 m'},\n",
       "  {'section': 'Vertical Coverage',\n",
       "   'body': 'When comparing a SET wetland elevation trend to a nearby tide gauge RSLR trend, the underlying assumption is that deep subsidence rates are the same beneath both the wetland and the tide station (Cahoon '},\n",
       "  {'section': 'Disclaimer',\n",
       "   'body': 'Any use of trade, firm, or product names is for descriptive purposes only and does not imply endorsement by the U.S. Government.\\n'}]}"
      ]
     },
     "execution_count": 22,
     "metadata": {},
     "output_type": "execute_result"
    }
   ],
   "source": [
    "data[0]"
   ]
  },
  {
   "cell_type": "code",
   "execution_count": null,
   "metadata": {},
   "outputs": [],
   "source": []
  }
 ],
 "metadata": {
  "kernelspec": {
   "display_name": "data_processing_env",
   "language": "python",
   "name": "poetry-env"
  },
  "language_info": {
   "codemirror_mode": {
    "name": "ipython",
    "version": 3
   },
   "file_extension": ".py",
   "mimetype": "text/x-python",
   "name": "python",
   "nbconvert_exporter": "python",
   "pygments_lexer": "ipython3",
   "version": "3.10.12"
  }
 },
 "nbformat": 4,
 "nbformat_minor": 2
}
