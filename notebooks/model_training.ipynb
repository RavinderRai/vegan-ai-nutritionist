{
 "cells": [
  {
   "cell_type": "markdown",
   "metadata": {},
   "source": [
    "# Fine-Tuning with Distillation\n",
    "\n",
    "In this notebook, we will fine-tune a smaller language model, Falcon-7B Instruct, by following a distillation process using synthetic data generated from a larger model. The purpose of distillation is to transfer the knowledge of the larger model to the smaller one, making it more efficient while retaining high-quality performance for a specific task: responding as a vegan nutritionist.\n",
    "\n",
    "**Key Steps:**\n",
    "- **Generating Synthetic Data:** The larger model will act as a \"teacher\" by generating responses for a given set of prompts, simulating the role of a vegan nutritionist. These responses will form the synthetic dataset that the smaller model will learn from, covering a range of nutritional topics related to vegan diets.\n",
    "\n",
    "- **Fine-Tuning the Smaller Model:** With the synthetic dataset prepared, we will fine-tune the smaller Falcon-7B Instruct model using the teacher model’s outputs as the target responses. This process enables the smaller model to learn from the larger model’s behavior, making it capable of producing relevant responses efficiently.\n",
    "\n",
    "- **Experiment Tracking:** Throughout the fine-tuning process, an experiment tracking system will be used to log hyperparameters, model performance, and training metrics. This will help in tracking progress and identifying the optimal model configuration.\n",
    "\n",
    "- **Next Steps:** Once the fine-tuning process is complete, we will proceed with building a separate inference pipeline and web application to handle real-time interactions. These components will be detailed in future steps of the project."
   ]
  },
  {
   "cell_type": "markdown",
   "metadata": {},
   "source": [
    "## Generating Synthetic Data\n",
    "\n",
    "We need to do few shot learning to genearate synthetic data (at least 100 samples). So we will load in some pdf files for example papers and manually create Q&A pairs from them.\n",
    "\n",
    "Steps are as follows:\n",
    "\n",
    "- Load pdf files from s3\n",
    "- Create user_context and question pairs from pdf files (3 examples)\n",
    "- Use OpenAI to generate synthetic data (at least 100 samples) using these examples for few-shot learning\n",
    "- Then we will again use OpenAI to generate outputs for the generated data, but we will also use Rag to get relevant context"
   ]
  },
  {
   "cell_type": "code",
   "execution_count": 10,
   "metadata": {},
   "outputs": [
    {
     "data": {
      "text/plain": [
       "True"
      ]
     },
     "execution_count": 10,
     "metadata": {},
     "output_type": "execute_result"
    }
   ],
   "source": [
    "import os\n",
    "import json\n",
    "import boto3\n",
    "import openai\n",
    "from dotenv import load_dotenv, find_dotenv\n",
    "\n",
    "# move to root directory\n",
    "os.chdir('..')\n",
    "\n",
    "load_dotenv(find_dotenv())"
   ]
  },
  {
   "cell_type": "code",
   "execution_count": 5,
   "metadata": {},
   "outputs": [],
   "source": [
    "open_api_key = os.environ.get('OPENAI_API_KEY')"
   ]
  },
  {
   "cell_type": "markdown",
   "metadata": {},
   "source": [
    "### Loading Raw PDF Files"
   ]
  },
  {
   "cell_type": "code",
   "execution_count": 6,
   "metadata": {},
   "outputs": [
    {
     "data": {
      "text/plain": [
       "200"
      ]
     },
     "execution_count": 6,
     "metadata": {},
     "output_type": "execute_result"
    }
   ],
   "source": [
    "s3 = boto3.client('s3')\n",
    "\n",
    "bucket_name = os.environ.get('AWS_BUCKET_NAME')\n",
    "\n",
    "response = s3.list_objects_v2(Bucket=bucket_name)\n",
    "response[\"ResponseMetadata\"][\"HTTPStatusCode\"]"
   ]
  },
  {
   "cell_type": "code",
   "execution_count": 7,
   "metadata": {},
   "outputs": [],
   "source": [
    "file_name = 'vegan_research_papers.json'\n",
    "\n",
    "# Get the file contents from S3\n",
    "response = s3.get_object(Bucket=bucket_name, Key=file_name)"
   ]
  },
  {
   "cell_type": "code",
   "execution_count": 9,
   "metadata": {},
   "outputs": [],
   "source": [
    "data = json.loads(response['Body'].read())"
   ]
  },
  {
   "cell_type": "markdown",
   "metadata": {},
   "source": [
    "Let's take a look at a bunch of abstracts and decide where to pull examples from based on interesting examples."
   ]
  },
  {
   "cell_type": "code",
   "execution_count": 35,
   "metadata": {},
   "outputs": [
    {
     "data": {
      "text/markdown": [
       "**0. Abstract**\n",
       "\n",
       "Controlled sediment flushing operations (CSFOs) allow to recover reservoirs storage loss while rebalancing the sediment flux interrupted by dams but, at the same time, may cause unacceptable ecological impact. In this study, we investigated the responses of the food web of an upland stream to a CSFO, focusing on the effects of fine sediment deposition detected in three different mesohabitats, i.e., a pool, a riffle, and a step-pool. The field campaign lasted two years and included repeated measurements of fine sediment deposits, and sampling of periphyton, benthic macroinvertebrates and fishes. A moderate and patchy deposition occurred due to the CSFO with short and medium-term ecological impact on the lower trophic levels of the food web, which may affect the whole ecosystem functioning. The monitoring of all available mesohabitats in the investigated stream allowed to detect variations in the ecological response to CSFO, providing a more adequate assessment of the impact. As expected, sedimentation was larger in the pool but, in contrast to our hypotheses, the impact was lower and the recovery was longer for the benthic organisms inhabiting the riffle. In the case of fishes, no lethal impact of both brown trout and bullhead was recorded in the short term but the occurrence of longer lasting effects could not be excluded. To date, this is one of the few studies dealing with a detailed integrative assessment of the downstream impact of sediment management from reservoir on both abiotic and biotic components of stream ecosystem."
      ],
      "text/plain": [
       "<IPython.core.display.Markdown object>"
      ]
     },
     "metadata": {},
     "output_type": "display_data"
    },
    {
     "data": {
      "text/markdown": [
       "**1. Abstract**\n",
       "\n",
       "['Background', 'Antibiotic resistance is a critical global concern, posing significant challenges to human health and medical treatments. Studying antibiotic resistance genes (ARGs) is essential not only in clinical settings but also in diverse environmental contexts. However, ARGs in unique environments such as anchialine caves, which connect both fresh and marine water, remain largely unexplored despite their intriguing ecological characteristics.', 'Results', 'We present the first study that comprehensively explores the occurrence and distribution of ARGs and mobile genetic elements (MGEs) within an anchialine cave. Utilizing metagenomic sequencing we uncovered a wide array of ARGs with the bacitracin resistance gene, bac A and multidrug resistance genes, being the most dominant. The cave’s microbial community and associated resistome were significantly influenced by the salinity gradient. The discovery of novel β-lactamase variants revealed the cave’s potential as a reservoir for previously undetected resistance genes. ARGs in the cave demonstrated horizontal transfer potential via plasmids, unveiling ecological implications.', 'Conclusions', 'These findings highlight the need for further exploration of the resistome in unique environments like anchialine caves. The interconnected dynamics of ARGs and MGEs within anchialine caves offer valuable insights into potential reservoirs and mechanisms of antibiotic resistance in natural ecosystems. This study not only advances our fundamental understanding but also highlights the need for a comprehensive approach to address antibiotic resistance in diverse ecological settings.']"
      ],
      "text/plain": [
       "<IPython.core.display.Markdown object>"
      ]
     },
     "metadata": {},
     "output_type": "display_data"
    },
    {
     "data": {
      "text/markdown": [
       "**2. Abstract**\n",
       "\n",
       "['Background', 'Inulin and inulin-derived fructooligosaccharides (FOS) are well-known prebiotics for use in companion animals and livestock. The mechanisms by which FOS contribute to health has not been fully established. Further, the fine chemistry of fructan structures from diverse sources, such as graminan-type fructans found in cereal crops, has not been fully elucidated. New methods to study fructan structure and microbial responses to these complex carbohydrates will be key for evaluating the prebiotic potency of cereal fructans found in cattle feeds. As the rumen microbiome composition is closely associated with their metabolic traits, such as feed utilization and waste production, prebiotics and probiotics represent promising additives to shift the microbial community toward a more productive state.', 'Results', 'Within this study, inulin, levan, and graminan-type fructans from winter wheat, spring wheat, and barley were used to assess the capacity of rumen-derived Bifidobacterium boum , Bifidobacterium merycicum , and Lactobacillus vitulinus to metabolize diverse fructans. Graminan-type fructans were purified and structurally characterized from the stems and kernels of each plant. All three bacterial species grew on FOS, inulin, and cereal crop fructans in pure cultures. L. vitulinus was the only species that could metabolize levan, albeit its growth was delayed. Fluorescently labelled polysaccharides (FLAPS) were used to demonstrate interactions with Gram-positive bacteria and confirm fructan metabolism at the single-cell level; these results were in agreement with the individual growth profiles of each species. The prebiotic potential of inulin was further investigated within naïve rumen microbial communities, where increased relative abundance of Bifidobacterium and Lactobacillus species occurred in a dose-dependent and temporal-related manner. This was supported by in situ analysis of rumen microbiota from cattle fed inulin. FLAPS probe derived from inulin and fluorescent in situ hybridization using taxon-specific probes confirmed that inulin interacts with Bifidobacteria and Lactobacilli at the single-cell level.', 'Conclusion', 'This research revealed that rumen-derived Bifidobacteria and Lactobacilli vary in their metabolism of structurally diverse fructans, and that inulin has limited prebiotic potential in the rumen. This knowledge establishes new methods for evaluating the prebiotic potential of fructans from diverse plant sources as prebiotic candidates for use in ruminants and other animals.']"
      ],
      "text/plain": [
       "<IPython.core.display.Markdown object>"
      ]
     },
     "metadata": {},
     "output_type": "display_data"
    }
   ],
   "source": [
    "from IPython.display import display, Markdown\n",
    "\n",
    "# change the slicing to find relevant abstracts by trial and error\n",
    "for i, pdf in enumerate(data[60:63]):\n",
    "    abstract = pdf['meta_data']['abstract']['p']\n",
    "    display(Markdown(f\"**{i}. Abstract**\\n\\n{abstract}\"))"
   ]
  },
  {
   "cell_type": "markdown",
   "metadata": {},
   "source": [
    "The following abstracts seem to be good:"
   ]
  },
  {
   "cell_type": "code",
   "execution_count": 46,
   "metadata": {},
   "outputs": [
    {
     "data": {
      "text/markdown": [
       "**78. Abstract**\n",
       "\n",
       "Purpose Disproportional fat-free mass loss often occurs post-bariatric surgery, partly due to insufficient protein intake during the post-surgery recovery phase. We compared five protein-enhancing strategies (PES) on patient tolerability, satisfaction and protein intake. Materials and Methods Ninety-four participants, scheduled for bariatric surgery, were enrolled and allocated to either of the following: (1) whey powder, (2) hydrolysed collagen powder, (3) plant-based powder, (4) protein-rich products, (5) protein gel, or control. PES groups were instructed to add 30 g of powder or 2 gels or protein products to their diet. Patient satisfaction and tolerability were evaluated with questionnaires. Dietary intake was assessed prior to and during PES use. Results Seven patients dropped out (i.e. loss of contact, personal reasons or post-surgery complications) yielding an analytical cohort of 87 participants. The majority of patients (61%) did not experience dietary complaints from PES and could use PES ≥ 5 days of the week. PES non-usage was mainly related to taste dislike (58%). Hydrolysed collagen scored highest on tolerability and satisfaction: 86% of the participants could use HC ≥ 5 days and 71% were satisfied with the product. PES increased protein intake from 54.7 ± 21.5 g/day to 64.7 ± 23.4 g/day during the intervention ( p  = 0.002), which differed from the control group (+ 10.1 ± 24.5 g/day vs. − 6.3 ± 23.8 g/day for controls, p  = 0.019). Whey showed the highest increase, namely + 18.3 ± 16.3 g/day ( p  = 0.009). Conclusion PES were tolerated by the majority of participants, and an improved protein intake with PES use was seen. However, the taste of the products could be improved to further enhance satisfaction and tolerability. Graphical Abstract "
      ],
      "text/plain": [
       "<IPython.core.display.Markdown object>"
      ]
     },
     "metadata": {},
     "output_type": "display_data"
    },
    {
     "name": "stdout",
     "output_type": "stream",
     "text": [
      "URL: http://dx.doi.org/10.1007/s11695-024-07462-4\n"
     ]
    },
    {
     "data": {
      "text/markdown": [
       "**102. Abstract**\n",
       "\n",
       "Objectives Epidemiology showed that the falling incidences increased with advanced age, and recent findings found link between nutritional intake and risk of falls. Nevertheless, the relationship between different plant-based diets and the risk of falls in older adults remains unclear. Our investigation aimed to evaluate the correlation between various plant-based diet indices and the occurrence of falls. Design This study is a cross-sectional and post-hoc analysis from a national cohort study. Setting and participants We included individuals over 65 years from the Chinese Longitudinal Healthy Longevity Survey (CLHLS) recruited in 2018 with information on falls and dietary assessments, finally 11,044 participants were eligible. Measurements Using food frequency questionnaire (FFQ), we calculated plant-based index scores categorized as unhealthy plant-based index (uPDI) and healthy plant-based index (hPDI). The primary outcome was falls obtained from questionnaire. Statistical analysis was performed utilizing logistic regression model to investigate the relationship between the plant-based diet indices and falls. We also used the subgroup analysis to investigate the interaction of falls and plant-based diet index (PDI) among different status and used the restricted cubic spline (RCS) curves to investigate the connection between the PDI scores and falls risk. Results Among 11,044 participants included in our study, a total of 2493 fall cases were observed. The logistic regression analysis revealed that the plant-based index related to falls. In the adjusted model, per 10-unit increment of hPDI has a significant decreased risk of falls (odd ratio [OR]: 0.85, 95% confidence interval [CI]: 0.79–0.91, P for trend < 0.001) and per 10-unit increment in uPDI increased the risk of falls (OR: 1.21, 95% CI: 1.13–1.30, P for trend < 0.001). We also revealed an interaction between smoking status and falls among the uPDI group ( P _interaction = 0.012). Finally, we found that with plant-based index scores increased, the odds of falls among hPDI decreased (P for overall < 0.001, P nonlinear = 0.0239), and the odds of falls among uPDI increased (P for overall < 0.001, P nonlinear = 0.0332). Conclusion and implications We found significant association between the Plant-based diet index and the risk of falls, highlighting the key role of the consumption of nutritious plant-based foods on the risk of falls, which needed take into account in developing intervention and prevention strategies to decrease falls among older Chinese adults."
      ],
      "text/plain": [
       "<IPython.core.display.Markdown object>"
      ]
     },
     "metadata": {},
     "output_type": "display_data"
    },
    {
     "name": "stdout",
     "output_type": "stream",
     "text": [
      "URL: http://dx.doi.org/10.1007/s40520-024-02838-z\n"
     ]
    }
   ],
   "source": [
    "for i in [78, 102]:\n",
    "    if type(data[i]['meta_data']['abstract']['p']) == list:\n",
    "        single_string_abstract = \" \".join(data[i]['meta_data']['abstract']['p'])\n",
    "        display(Markdown(f\"**{i}. Abstract**\\n\\n{single_string_abstract}\"))\n",
    "    else:\n",
    "        display(Markdown(f\"**{i}. Abstract**\\n\\n{data[i]['meta_data']['abstract']['p']}\"))\n",
    "        \n",
    "    # we'll visit the paper ourselves and find some good facts or results to create questions around\n",
    "    print(\"URL:\", data[i]['meta_data']['url'][0]['value'])"
   ]
  },
  {
   "cell_type": "markdown",
   "metadata": {},
   "source": [
    "Now looking at these papers manually we can get some good user context and questions that are relevant to these papers."
   ]
  },
  {
   "cell_type": "code",
   "execution_count": 6,
   "metadata": {},
   "outputs": [],
   "source": [
    "about_me_1 = \"I am obese and just got the weight loss surgery done. I need to increase my protein intake bu can't tolerate dairy well.\"\n",
    "question_1 = \"What is the most tolerable protein enhancing strategy for someone like me?\"\n",
    "\n",
    "about_me_2 = \"I am obese am considering getting the weight loss surgery.\"\n",
    "question_2 = \"Is there any major concerns dietary wise?\"\n",
    "\n",
    "about_me_3 = \"I am an old Chinese adult and am at risk of falling often.\"\n",
    "question_3 = \"Is there a specific type of diet that might help in preventing me fall?\""
   ]
  },
  {
   "cell_type": "code",
   "execution_count": 7,
   "metadata": {},
   "outputs": [],
   "source": [
    "PROMPT_TEMPLATE = \"\"\"\n",
    "Here are 3 user contexts and questions about science-based research on plant-based health and nutrition. \n",
    "Generate 100 more samples like them:\n",
    "\n",
    "# about_me_1\n",
    "{about_me_1}\n",
    "\n",
    "# question_1\n",
    "{question_1}\n",
    "\n",
    "# about_me_2\n",
    "{about_me_2}\n",
    "\n",
    "# question_2\n",
    "{question_2}\n",
    "\n",
    "# about_me_3\n",
    "{about_me_3}\n",
    "\n",
    "# question_3\n",
    "{question_3}\n",
    "\n",
    "And put them in a JSON format with the keys: about_me and question.\n",
    "\"\"\""
   ]
  },
  {
   "cell_type": "code",
   "execution_count": 8,
   "metadata": {},
   "outputs": [
    {
     "name": "stdout",
     "output_type": "stream",
     "text": [
      "\n",
      "Here are 3 user contexts and questions about science-based research on plant-based health and nutrition. \n",
      "Generate 100 more samples like them:\n",
      "\n",
      "# about_me_1\n",
      "I am obese and just got the weight loss surgery done. I need to increase my protein intake bu can't tolerate dairy well.\n",
      "\n",
      "# question_1\n",
      "What is the most tolerable protein enhancing strategy for someone like me?\n",
      "\n",
      "# about_me_2\n",
      "I am obese am considering getting the weight loss surgery.\n",
      "\n",
      "# question_2\n",
      "Is there any major concerns dietary wise?\n",
      "\n",
      "# about_me_3\n",
      "I am an old Chinese adult and am at risk of falling often.\n",
      "\n",
      "# question_3\n",
      "Is there a specific type of diet that might help in preventing me fall?\n",
      "\n",
      "And put them in a JSON format with the keys: about_me and question.\n",
      "\n"
     ]
    }
   ],
   "source": [
    "prompt = PROMPT_TEMPLATE.format(\n",
    "    about_me_1=about_me_1,\n",
    "    question_1=question_1,\n",
    "    about_me_2=about_me_2,\n",
    "    question_2=question_2,\n",
    "    about_me_3=about_me_3,\n",
    "    question_3=question_3\n",
    ")\n",
    "\n",
    "print(prompt)"
   ]
  },
  {
   "cell_type": "code",
   "execution_count": 85,
   "metadata": {},
   "outputs": [],
   "source": [
    "from openai import OpenAI\n",
    "\n",
    "client = OpenAI(\n",
    "    api_key=open_api_key,\n",
    ")"
   ]
  },
  {
   "cell_type": "code",
   "execution_count": 86,
   "metadata": {},
   "outputs": [],
   "source": [
    "chat_completion = client.chat.completions.create(\n",
    "    messages=[\n",
    "        {\"role\": \"user\", \"content\": prompt}\n",
    "    ],\n",
    "    model=\"gpt-3.5-turbo\",\n",
    ")"
   ]
  },
  {
   "cell_type": "code",
   "execution_count": 88,
   "metadata": {},
   "outputs": [
    {
     "name": "stdout",
     "output_type": "stream",
     "text": [
      "{\n",
      "  \"data\": [\n",
      "    {\n",
      "      \"about_me\": \"I am obese and just got the weight loss surgery done. I need to increase my protein intake but can't tolerate dairy well.\",\n",
      "      \"question\": \"What is the most tolerable protein enhancing strategy for someone like me?\"\n",
      "    },\n",
      "    {\n",
      "      \"about_me\": \"I am obese and am considering getting weight loss surgery.\",\n",
      "      \"question\": \"Is there any major concerns dietary wise?\"\n",
      "    },\n",
      "    {\n",
      "      \"about_me\": \"I am an old Chinese adult and am at risk of falling often.\",\n",
      "      \"question\": \"Is there a specific type of diet that might help prevent me from falling?\"\n",
      "    },\n",
      "    {\n",
      "      \"about_me\": \"I am a vegan athlete looking to optimize my performance.\",\n",
      "      \"question\": \"What plant-based foods can help improve athletic performance?\"\n",
      "    },\n",
      "    {\n",
      "      \"about_me\": \"I have a family history of heart disease and want to improve my heart health.\",\n",
      "      \"question\": \"What plant-based diet is recommended for improving heart health?\"\n",
      "    },\n",
      "    {\n",
      "      \"about_me\": \"I am pregnant and following a plant-based diet.\",\n",
      "      \"question\": \"How can I ensure I am getting all the necessary nutrients for a healthy pregnancy?\"\n",
      "    },\n",
      "    {\n",
      "      \"about_me\": \"I am a student looking to improve my concentration and focus through diet.\",\n",
      "      \"question\": \"What plant-based foods are known to enhance cognitive function?\"\n",
      "    },\n",
      "    {\n",
      "      \"about_me\": \"I have irritable bowel syndrome (IBS) and am looking for a plant-based diet that can help manage my symptoms.\",\n",
      "      \"question\": \"Are there specific plant-based foods that can ease IBS symptoms?\"\n",
      "    },\n",
      "    {\n",
      "      \"about_me\": \"I am a competitive runner interested in plant-based nutrition to enhance my training.\",\n",
      "      \"question\": \"What dietary strategies can help improve my running performance on a plant-based diet?\"\n",
      "    },\n",
      "    {\n",
      "      \"about_me\": \"I am a parent looking to transition my family to a more plant-based diet.\",\n",
      "      \"question\": \"How can I ensure my family is getting all the nutrients they need on a plant-based diet?\"\n",
      "    },\n",
      "    {\n",
      "      \"about_me\": \"I have diabetes and am interested in plant-based meal options to help manage my blood sugar levels.\",\n",
      "      \"question\": \"What plant-based meals are recommended for individuals with diabetes?\"\n",
      "    },\n",
      "    {\n",
      "      \"about_me\": \"I am a cancer survivor looking to optimize my diet for overall health and wellness.\",\n",
      "      \"question\": \"What plant-based foods are known for their anti-inflammatory properties that may benefit cancer survivors?\"\n",
      "    },\n",
      "    {\n",
      "      \"about_me\": \"I am a new vegan and am concerned about getting enough protein in my diet.\",\n",
      "      \"question\": \"What plant-based sources of protein should I incorporate into my meals?\"\n",
      "    },\n",
      "    {\n",
      "      \"about_me\": \"I have high cholesterol and am interested in plant-based dietary options to help lower it.\",\n",
      "      \"question\": \"What plant-based foods can help lower cholesterol levels?\"\n",
      "    },\n",
      "    {\n",
      "      \"about_me\": \"I am a vegetarian looking to switch to a fully plant-based diet for ethical reasons.\",\n",
      "      \"question\": \"How can I ensure I am meeting all my nutrient needs on a plant-based diet?\"\n",
      "    },\n",
      "    {\n",
      "      \"about_me\": \"I am lactose intolerant and want to explore plant-based milk alternatives.\",\n",
      "      \"question\": \"What are some plant-based milk options that are lactose-free?\"\n",
      "    },\n",
      "    {\n",
      "      \"about_me\": \"I am a chef interested in incorporating more plant-based dishes into my menu.\",\n",
      "      \"question\": \"What are some creative plant-based recipes that appeal to a wide range of palates?\"\n",
      "    },\n",
      "    {\n",
      "      \"about_me\": \"I am a bodybuilder looking to build muscle on a plant-based diet.\",\n",
      "      \"question\": \"What plant-based protein sources are best for muscle building?\"\n",
      "    },\n",
      "    {\n",
      "      \"about_me\": \"I am a child with food allergies and am looking for plant-based alternatives.\",\n",
      "      \"question\": \"What plant-based foods can be good substitutes for common allergens like dairy and nuts?\"\n",
      "    },\n",
      "    {\n",
      "      \"about_me\": \"I have arthritis and am interested in plant-based foods that may help reduce inflammation.\",\n",
      "      \"question\": \"Are there specific plant-based foods that are known to have anti-inflammatory properties for arthritis sufferers?\"\n",
      "    },\n",
      "    {\n",
      "      \"about_me\": \"I am an athlete recovering from an injury and want to optimize my diet for healing.\",\n",
      "      \"question\": \"What plant-based foods can aid in the recovery process from sports injuries?\"\n",
      "    },\n",
      "    {\n",
      "      \"about_me\": \"I am a student looking to improve my skin health through diet.\",\n",
      "      \"question\": \"What plant-based foods are beneficial for promoting healthy skin?\"\n",
      "    },\n",
      "    {\n",
      "      \"about_me\": \"I am a new mother considering a plant-based diet for my baby.\",\n",
      "      \"question\": \"Is a plant-based diet safe and nutritious for infants?\"\n",
      "    },\n",
      "    {\n",
      "      \"about_me\": \"I am a senior citizen looking to improve my gut health.\",\n",
      "      \"question\": \"Are there plant-based foods that can promote gut health in older adults?\"\n",
      "    },\n",
      "    {\n",
      "      \"about_me\": \"I am a healthcare professional interested in the benefits of plant-based nutrition for patients.\",\n",
      "      \"question\": \"What scientific evidence supports the use of plant-based diets for improving health outcomes?\"\n",
      "    },\n",
      "    {\n",
      "      \"about_me\": \"I am a college student with a busy schedule and am looking for plant-based meal prep ideas.\",\n",
      "      \"question\": \"What are some quick and easy plant-based meals that can be prepped ahead of time?\"\n",
      "    },\n",
      "    {\n",
      "      \"about_me\": \"I am training for a marathon and want to ensure I am fueling my body with the right plant-based foods.\",\n",
      "      \"question\": \"What plant-based foods can help with endurance and recovery during marathon training?\"\n",
      "    },\n",
      "    {\n",
      "      \"about_me\": \"I have celiac disease and am interested in plant-based gluten-free options.\",\n",
      "      \"question\": \"What plant-based foods are naturally gluten-free and safe for individuals with celiac disease?\"\n",
      "    },\n",
      "    {\n",
      "      \"about_me\": \"I am a chef specializing in plant-based cuisine and am looking for unique ingredients to work with.\",\n",
      "      \"question\": \"What are some lesser-known plant-based ingredients that can add flavor and variety to dishes?\"\n",
      "    },\n",
      "    {\n",
      "      \"about_me\": \"I am a teacher planning a nutrition lesson for my students and want to focus on plant-based eating.\",\n",
      "      \"question\": \"What are the key nutrients to highlight when teaching about plant-based nutrition to students?\"\n",
      "    },\n",
      "    {\n",
      "      \"about_me\": \"I have a gluten intolerance and am seeking plant-based options for a balanced diet.\",\n",
      "      \"question\": \"What plant-based foods are naturally gluten-free and can provide essential nutrients for those with gluten intolerance?\"\n",
      "    },\n",
      "    {\n",
      "      \"about_me\": \"I am an athlete looking to improve my recovery time after workouts with plant-based foods.\",\n",
      "      \"question\": \"What plant-based foods can aid in faster muscle recovery post-exercise?\"\n",
      "    },\n",
      "    {\n",
      "      \"about_me\": \"I am a nutritionist specializing in plant-based diets and am interested in the latest research on their health benefits.\",\n",
      "      \"question\": \"What recent studies have been published on the health advantages of plant-based nutrition?\"\n",
      "    },\n",
      "    {\n",
      "      \"about_me\": \"I am a parent of a picky eater and am looking for creative ways to incorporate more plant-based foods into their diet.\",\n",
      "      \"question\": \"What are some fun and engaging plant-based recipes that might appeal to picky eaters?\"\n",
      "    },\n",
      "    {\n",
      "      \"about_me\": \"I am a healthcare provider working with patients with chronic conditions and am considering recommending a plant-based diet.\",\n",
      "      \"question\": \"What are the potential benefits of plant-based eating for individuals with chronic illnesses?\"\n",
      "    },\n",
      "    {\n",
      "      \"about_me\": \"I am a yoga instructor interested in how plant-based nutrition can complement a healthy lifestyle.\",\n",
      "      \"question\": \"How can plant-based foods support overall wellness and enhance yoga practice?\"\n",
      "    },\n",
      "    {\n",
      "      \"about_me\": \"I am a personal trainer advising clients on weight loss and am considering incorporating plant-based meal plans.\",\n",
      "      \"question\": \"What plant-based meal options can be effective for weight loss and muscle building?\"\n",
      "    },\n",
      "    {\n",
      "      \"about_me\": \"I am a nutrition student researching the effects of plant-based diets on mental health.\",\n",
      "      \"question\": \"What is the connection between plant-based nutrition and mental well-being?\"\n",
      "    },\n",
      "    {\n",
      "      \"about_me\": \"I have a family history of diabetes and am interested in preventing the disease through plant-based nutrition.\",\n",
      "      \"question\": \"How can plant-based eating help reduce the risk of developing diabetes?\"\n",
      "    },\n",
      "    {\n",
      "      \"about_me\": \"I am a chef creating a plant-based menu for a special event and want to showcase a variety of flavors and textures.\",\n",
      "      \"question\": \"What plant-based dishes can I prepare to offer guests a diverse and satisfying culinary experience?\"\n",
      "    },\n",
      "    {\n",
      "      \"about_me\": \"I am a fitness enthusiast looking to incorporate more plant-based foods to support my workout routine.\",\n",
      "      \"question\": \"How can plant-based nutrition optimize performance and recovery for exercise enthusiasts?\"\n",
      "    },\n",
      "    {\n",
      "      \"about_me\": \"I am a nature lover interested in sustainable eating practices and am considering a plant-based diet.\",\n",
      "      \"question\": \"How does plant-based nutrition contribute to environmental sustainability and conservation efforts?\"\n",
      "    },\n",
      "    {\n",
      "      \"about_me\": \"I am a traveler exploring different cultures and cuisines and am curious about plant-based options around the world.\",\n",
      "      \"question\": \"What are some traditional plant-based dishes from various countries that I can experience while traveling?\"\n",
      "    },\n",
      "    {\n",
      "      \"about_me\": \"I am a food blogger looking to create plant-based recipes that are both visually appealing and nutritious.\",\n",
      "      \"question\": \"What are some visually stunning plant-based dishes that are also packed with essential nutrients?\"\n",
      "    },\n",
      "    {\n",
      "      \"about_me\": \"I am a mental health professional interested in the role of nutrition in mood disorders and am considering plant-based options for my clients.\",\n",
      "      \"question\": \"How can plant-based eating influence mood and emotional well-being in individuals with mental health concerns?\"\n",
      "    },\n",
      "    {\n",
      "      \"about_me\": \"I am a chef specializing in plant-based cuisine and am looking for innovative ways to incorporate more protein into my dishes.\",\n",
      "      \"question\": \"What plant-based protein sources can I use to create high-protein meals for my customers?\"\n",
      "    },\n",
      "    {\n",
      "      \"about_me\": \"I am a fitness coach working with clients to improve their overall health and am considering plant-based meal plans as part of their regimen.\",\n",
      "      \"question\": \"How can plant-based nutrition support weight management and cardiovascular health in my clients?\"\n",
      "    },\n",
      "    {\n",
      "      \"about_me\": \"I am a food scientist researching plant-based alternatives to common allergens.\",\n",
      "      \"question\": \"What plant-based ingredients can be used as substitutes for common food allergens like dairy, eggs, and nuts?\"\n",
      "    },\n",
      "    {\n",
      "      \"about_me\": \"I am an athlete recovering from a sports-related injury and am looking for plant-based foods to aid in the healing process.\",\n",
      "      \"question\": \"What plant-based foods can help speed up recovery from sports injuries and improve overall healing?\"\n",
      "    },\n",
      "    {\n",
      "      \"about_me\": \"I am a physician interested in incorporating more plant-based recommendations into my practice for preventive care.\",\n",
      "      \"question\": \"What evidence supports the use of plant-based diets for preventing chronic diseases in patients?\"\n",
      "    },\n",
      "    {\n",
      "      \"about_me\": \"I have a busy lifestyle and am looking for plant-based meal prep tips to save time during the week.\",\n",
      "      \"question\": \"How can I streamline meal preparation with plant-based ingredients for quick and easy meals?\"\n",
      "    },\n",
      "    {\n",
      "      \"about_me\": \"I am a nutritionist working with clients who have digestive issues and am considering plant-based solutions to improve gut health.\",\n",
      "      \"question\": \"What plant-based foods are beneficial for promoting a healthy digestive system and gut microbiome?\"\n",
      "    },\n",
      "    {\n",
      "      \"about_me\": \"I am a professional athlete looking to optimize my performance through plant-based nutrition.\",\n",
      "      \"question\": \"What plant-based meal plans can help me achieve peak athletic performance and recovery?\"\n",
      "    },\n",
      "    {\n",
      "      \"about_me\": \"I am a culinary student exploring plant-based cuisine and am interested in traditional plant-based dishes from different cultures.\",\n",
      "      \"question\": \"What are some classic plant-based recipes from around the world that I can study and recreate?\"\n",
      "    },\n",
      "    {\n",
      "      \"about_me\": \"I am a wellness coach specializing in plant-based nutrition and am looking for resources to educate my clients on its benefits.\",\n",
      "      \"question\": \"What are some reputable sources of information on plant-based eating for educating clients about its advantages?\"\n",
      "    },\n",
      "    {\n",
      "      \"about_me\": \"I am a gardener interested in growing my own plant-based ingredients and am looking for advice on sustainable gardening practices.\",\n",
      "      \"question\": \"How can I cultivate a garden that produces a variety of plant-based foods year-round and supports a sustainable lifestyle?\"\n",
      "    },\n",
      "    {\n",
      "      \"about_me\": \"I am a food entrepreneur developing a plant-based product line and am seeking guidance on ingredient selection.\",\n",
      "      \"question\": \"What plant-based ingredients are trending in the food industry and can enhance the appeal of my product line?\"\n",
      "    },\n",
      "    {\n",
      "      \"about_me\": \"I have osteoporosis and am considering plant-based dietary options to promote bone health.\",\n",
      "      \"question\": \"Are there specific plant-based foods that can help improve bone density and reduce the risk of fractures in individuals with osteoporosis?\"\n",
      "    },\n",
      "    {\n",
      "      \"about_me\": \"I am a chef looking to create plant-based meals that are high in fiber and promote digestive health.\",\n",
      "      \"question\": \"What high-fiber plant-based ingredients can I use to develop recipes that support gut health and regular digestion?\"\n",
      "    },\n",
      "    {\n",
      "      \"about_me\": \"I have high blood pressure and am interested in plant-based meal options to help lower it.\",\n",
      "      \"question\": \"What plant-based foods can be effective in reducing blood pressure and promoting heart health?\"\n",
      "    },\n",
      "    {\n",
      "      \"about_me\": \"I am a nutrition educator conducting workshops on plant-based eating and am seeking engaging activities for participants.\",\n",
      "      \"question\": \"What interactive exercises and demonstrations can I include in my workshops to educate individuals on the benefits of plant-based nutrition?\"\n",
      "    },\n",
      "    {\n",
      "      \"about_me\": \"I am a parent of a teenage athlete and am looking for plant-based meal ideas to support their training and performance.\",\n",
      "      \"question\": \"What nutrient-dense plant-based meals can I prepare for my teenage athlete to optimize their energy and recovery?\"\n",
      "    },\n",
      "    {\n",
      "      \"about_me\": \"I am a restaurant owner interested in adding more plant-based options to my menu and am looking for guidance on creating plant-based dishes that appeal to a diverse clientele.\",\n",
      "      \"question\": \"How can I develop plant-based recipes that cater to different dietary preferences and taste preferences of customers?\"\n",
      "    },\n",
      "    {\n",
      "      \"about_me\": \"I am a sustainability advocate passionate about reducing food waste and am seeking plant-based solutions to minimize environmental impact.\",\n",
      "      \"question\": \"What are some creative ways to use plant-based ingredients to create zero-waste dishes and contribute to sustainable food practices?\"\n",
      "    },\n",
      "    {\n",
      "      \"about_me\": \"I am a corporate wellness coordinator planning a plant-based challenge for employees and am looking for resources to support their participation.\",\n",
      "      \"question\": \"What educational materials and meal plans can I provide to employees to make a plant-based challenge successful and engaging?\"\n",
      "    },\n",
      "    {\n",
      "      \"about_me\": \"I am a dietitian working with clients interested in transitioning to a plant-based lifestyle and am seeking evidence-based recommendations to guide them through the process.\",\n",
      "      \"question\": \"What are the key steps and considerations for individuals looking to adopt a plant-based diet for improved health and well-being?\"\n",
      "    },\n",
      "    {\n",
      "      \"about_me\": \"I am a baker experimenting with plant-based desserts and am looking for innovative ways to substitute traditional ingredients.\",\n",
      "      \"question\": \"What plant-based alternatives can I use to create decadent and flavorful desserts without dairy or eggs?\"\n",
      "    },\n",
      "    {\n",
      "      \"about_me\": \"I am a fitness blogger interested in the connection between plant-based nutrition and physical performance and recovery.\",\n",
      "      \"question\": \"How does plant-based eating impact exercise performance, muscle repair, and recovery for athletes and active individuals?\"\n",
      "    },\n",
      "    {\n",
      "      \"about_me\": \"I am a restaurant chef interested in developing a plant-based menu that caters to customers with various dietary restrictions.\",\n",
      "      \"question\": \"How can I create a diverse and inclusive plant-based menu that accommodates patrons with allergies, intolerances, and special dietary needs?\"\n",
      "    },\n",
      "    {\n",
      "      \"about_me\": \"I am a culinary instructor teaching plant-based cooking classes and am looking for theme night ideas to engage students in different cuisines.\",\n",
      "      \"question\": \"What are some creative themes for plant-based cooking classes that can introduce students to global flavors and culinary traditions?\"\n",
      "    },\n",
      "    {\n",
      "      \"about_me\": \"I am a nutrition researcher studying the health benefits of plant-based diets and am interested in the long-term effects on chronic disease prevention.\",\n",
      "      \"question\": \"What long-term studies have been conducted on the impact of plant-based nutrition on reducing the risk of chronic diseases such as heart disease, diabetes, and cancer?\"\n",
      "    },\n",
      "    {\n",
      "      \"about_me\": \"I am a wellness retreat organizer planning a plant-based retreat and am seeking guidance on creating a balanced and nourishing menu for participants.\",\n",
      "      \"question\": \"What plant-based meal options can I offer at the retreat that are not only delicious but also provide essential nutrients for overall well-being?\"\n",
      "    },\n",
      "    {\n",
      "      \"about_me\": \"I am a food writer researching plant-based trends and am looking for insights on emerging ingredients and flavors in plant-based cuisine.\",\n",
      "      \"question\": \"What new plant-based ingredients and flavor profiles are gaining popularity in the culinary world and shaping the future of plant-based eating?\"\n",
      "    },\n",
      "    {\n",
      "      \"about_me\": \"I am a cooking show host interested in featuring more plant-based recipes and am looking for culinary experts to share their plant-based cooking tips and techniques.\",\n",
      "      \"question\": \"How can I showcase diverse plant-based recipes and cooking methods through guest chefs on my show to inspire viewers to try plant-based dishes at home?\"\n",
      "    },\n",
      "    {\n",
      "      \"about_me\": \"I am a food blogger exploring the versatility of plant-based ingredients in global cuisines and am seeking inspiration for new plant-based recipes.\",\n",
      "      \"question\": \"What are some traditional plant-based dishes from different countries that I can adapt and reimagine with a modern twist for my readers?\"\n",
      "    }\n",
      "  ]\n",
      "}\n"
     ]
    }
   ],
   "source": [
    "synthetic_data = chat_completion.choices[0].message.content\n",
    "print(synthetic_data)"
   ]
  },
  {
   "cell_type": "code",
   "execution_count": 92,
   "metadata": {},
   "outputs": [],
   "source": [
    "synthetic_data = json.loads(synthetic_data)"
   ]
  },
  {
   "cell_type": "markdown",
   "metadata": {},
   "source": [
    "Now that we have this data, let's save it into a config file so we can load it whenever we need it. We will just copy and paste it since it is a small dataset."
   ]
  },
  {
   "cell_type": "code",
   "execution_count": 94,
   "metadata": {},
   "outputs": [
    {
     "data": {
      "text/plain": [
       "[{'about_me': \"I am obese and just got the weight loss surgery done. I need to increase my protein intake but can't tolerate dairy well.\",\n",
       "  'question': 'What is the most tolerable protein enhancing strategy for someone like me?'},\n",
       " {'about_me': 'I am obese and am considering getting weight loss surgery.',\n",
       "  'question': 'Is there any major concerns dietary wise?'},\n",
       " {'about_me': 'I am an old Chinese adult and am at risk of falling often.',\n",
       "  'question': 'Is there a specific type of diet that might help prevent me from falling?'},\n",
       " {'about_me': 'I am a vegan athlete looking to optimize my performance.',\n",
       "  'question': 'What plant-based foods can help improve athletic performance?'},\n",
       " {'about_me': 'I have a family history of heart disease and want to improve my heart health.',\n",
       "  'question': 'What plant-based diet is recommended for improving heart health?'},\n",
       " {'about_me': 'I am pregnant and following a plant-based diet.',\n",
       "  'question': 'How can I ensure I am getting all the necessary nutrients for a healthy pregnancy?'},\n",
       " {'about_me': 'I am a student looking to improve my concentration and focus through diet.',\n",
       "  'question': 'What plant-based foods are known to enhance cognitive function?'},\n",
       " {'about_me': 'I have irritable bowel syndrome (IBS) and am looking for a plant-based diet that can help manage my symptoms.',\n",
       "  'question': 'Are there specific plant-based foods that can ease IBS symptoms?'},\n",
       " {'about_me': 'I am a competitive runner interested in plant-based nutrition to enhance my training.',\n",
       "  'question': 'What dietary strategies can help improve my running performance on a plant-based diet?'},\n",
       " {'about_me': 'I am a parent looking to transition my family to a more plant-based diet.',\n",
       "  'question': 'How can I ensure my family is getting all the nutrients they need on a plant-based diet?'},\n",
       " {'about_me': 'I have diabetes and am interested in plant-based meal options to help manage my blood sugar levels.',\n",
       "  'question': 'What plant-based meals are recommended for individuals with diabetes?'},\n",
       " {'about_me': 'I am a cancer survivor looking to optimize my diet for overall health and wellness.',\n",
       "  'question': 'What plant-based foods are known for their anti-inflammatory properties that may benefit cancer survivors?'},\n",
       " {'about_me': 'I am a new vegan and am concerned about getting enough protein in my diet.',\n",
       "  'question': 'What plant-based sources of protein should I incorporate into my meals?'},\n",
       " {'about_me': 'I have high cholesterol and am interested in plant-based dietary options to help lower it.',\n",
       "  'question': 'What plant-based foods can help lower cholesterol levels?'},\n",
       " {'about_me': 'I am a vegetarian looking to switch to a fully plant-based diet for ethical reasons.',\n",
       "  'question': 'How can I ensure I am meeting all my nutrient needs on a plant-based diet?'},\n",
       " {'about_me': 'I am lactose intolerant and want to explore plant-based milk alternatives.',\n",
       "  'question': 'What are some plant-based milk options that are lactose-free?'},\n",
       " {'about_me': 'I am a chef interested in incorporating more plant-based dishes into my menu.',\n",
       "  'question': 'What are some creative plant-based recipes that appeal to a wide range of palates?'},\n",
       " {'about_me': 'I am a bodybuilder looking to build muscle on a plant-based diet.',\n",
       "  'question': 'What plant-based protein sources are best for muscle building?'},\n",
       " {'about_me': 'I am a child with food allergies and am looking for plant-based alternatives.',\n",
       "  'question': 'What plant-based foods can be good substitutes for common allergens like dairy and nuts?'},\n",
       " {'about_me': 'I have arthritis and am interested in plant-based foods that may help reduce inflammation.',\n",
       "  'question': 'Are there specific plant-based foods that are known to have anti-inflammatory properties for arthritis sufferers?'},\n",
       " {'about_me': 'I am an athlete recovering from an injury and want to optimize my diet for healing.',\n",
       "  'question': 'What plant-based foods can aid in the recovery process from sports injuries?'},\n",
       " {'about_me': 'I am a student looking to improve my skin health through diet.',\n",
       "  'question': 'What plant-based foods are beneficial for promoting healthy skin?'},\n",
       " {'about_me': 'I am a new mother considering a plant-based diet for my baby.',\n",
       "  'question': 'Is a plant-based diet safe and nutritious for infants?'},\n",
       " {'about_me': 'I am a senior citizen looking to improve my gut health.',\n",
       "  'question': 'Are there plant-based foods that can promote gut health in older adults?'},\n",
       " {'about_me': 'I am a healthcare professional interested in the benefits of plant-based nutrition for patients.',\n",
       "  'question': 'What scientific evidence supports the use of plant-based diets for improving health outcomes?'},\n",
       " {'about_me': 'I am a college student with a busy schedule and am looking for plant-based meal prep ideas.',\n",
       "  'question': 'What are some quick and easy plant-based meals that can be prepped ahead of time?'},\n",
       " {'about_me': 'I am training for a marathon and want to ensure I am fueling my body with the right plant-based foods.',\n",
       "  'question': 'What plant-based foods can help with endurance and recovery during marathon training?'},\n",
       " {'about_me': 'I have celiac disease and am interested in plant-based gluten-free options.',\n",
       "  'question': 'What plant-based foods are naturally gluten-free and safe for individuals with celiac disease?'},\n",
       " {'about_me': 'I am a chef specializing in plant-based cuisine and am looking for unique ingredients to work with.',\n",
       "  'question': 'What are some lesser-known plant-based ingredients that can add flavor and variety to dishes?'},\n",
       " {'about_me': 'I am a teacher planning a nutrition lesson for my students and want to focus on plant-based eating.',\n",
       "  'question': 'What are the key nutrients to highlight when teaching about plant-based nutrition to students?'},\n",
       " {'about_me': 'I have a gluten intolerance and am seeking plant-based options for a balanced diet.',\n",
       "  'question': 'What plant-based foods are naturally gluten-free and can provide essential nutrients for those with gluten intolerance?'},\n",
       " {'about_me': 'I am an athlete looking to improve my recovery time after workouts with plant-based foods.',\n",
       "  'question': 'What plant-based foods can aid in faster muscle recovery post-exercise?'},\n",
       " {'about_me': 'I am a nutritionist specializing in plant-based diets and am interested in the latest research on their health benefits.',\n",
       "  'question': 'What recent studies have been published on the health advantages of plant-based nutrition?'},\n",
       " {'about_me': 'I am a parent of a picky eater and am looking for creative ways to incorporate more plant-based foods into their diet.',\n",
       "  'question': 'What are some fun and engaging plant-based recipes that might appeal to picky eaters?'},\n",
       " {'about_me': 'I am a healthcare provider working with patients with chronic conditions and am considering recommending a plant-based diet.',\n",
       "  'question': 'What are the potential benefits of plant-based eating for individuals with chronic illnesses?'},\n",
       " {'about_me': 'I am a yoga instructor interested in how plant-based nutrition can complement a healthy lifestyle.',\n",
       "  'question': 'How can plant-based foods support overall wellness and enhance yoga practice?'},\n",
       " {'about_me': 'I am a personal trainer advising clients on weight loss and am considering incorporating plant-based meal plans.',\n",
       "  'question': 'What plant-based meal options can be effective for weight loss and muscle building?'},\n",
       " {'about_me': 'I am a nutrition student researching the effects of plant-based diets on mental health.',\n",
       "  'question': 'What is the connection between plant-based nutrition and mental well-being?'},\n",
       " {'about_me': 'I have a family history of diabetes and am interested in preventing the disease through plant-based nutrition.',\n",
       "  'question': 'How can plant-based eating help reduce the risk of developing diabetes?'},\n",
       " {'about_me': 'I am a chef creating a plant-based menu for a special event and want to showcase a variety of flavors and textures.',\n",
       "  'question': 'What plant-based dishes can I prepare to offer guests a diverse and satisfying culinary experience?'},\n",
       " {'about_me': 'I am a fitness enthusiast looking to incorporate more plant-based foods to support my workout routine.',\n",
       "  'question': 'How can plant-based nutrition optimize performance and recovery for exercise enthusiasts?'},\n",
       " {'about_me': 'I am a nature lover interested in sustainable eating practices and am considering a plant-based diet.',\n",
       "  'question': 'How does plant-based nutrition contribute to environmental sustainability and conservation efforts?'},\n",
       " {'about_me': 'I am a traveler exploring different cultures and cuisines and am curious about plant-based options around the world.',\n",
       "  'question': 'What are some traditional plant-based dishes from various countries that I can experience while traveling?'},\n",
       " {'about_me': 'I am a food blogger looking to create plant-based recipes that are both visually appealing and nutritious.',\n",
       "  'question': 'What are some visually stunning plant-based dishes that are also packed with essential nutrients?'},\n",
       " {'about_me': 'I am a mental health professional interested in the role of nutrition in mood disorders and am considering plant-based options for my clients.',\n",
       "  'question': 'How can plant-based eating influence mood and emotional well-being in individuals with mental health concerns?'},\n",
       " {'about_me': 'I am a chef specializing in plant-based cuisine and am looking for innovative ways to incorporate more protein into my dishes.',\n",
       "  'question': 'What plant-based protein sources can I use to create high-protein meals for my customers?'},\n",
       " {'about_me': 'I am a fitness coach working with clients to improve their overall health and am considering plant-based meal plans as part of their regimen.',\n",
       "  'question': 'How can plant-based nutrition support weight management and cardiovascular health in my clients?'},\n",
       " {'about_me': 'I am a food scientist researching plant-based alternatives to common allergens.',\n",
       "  'question': 'What plant-based ingredients can be used as substitutes for common food allergens like dairy, eggs, and nuts?'},\n",
       " {'about_me': 'I am an athlete recovering from a sports-related injury and am looking for plant-based foods to aid in the healing process.',\n",
       "  'question': 'What plant-based foods can help speed up recovery from sports injuries and improve overall healing?'},\n",
       " {'about_me': 'I am a physician interested in incorporating more plant-based recommendations into my practice for preventive care.',\n",
       "  'question': 'What evidence supports the use of plant-based diets for preventing chronic diseases in patients?'},\n",
       " {'about_me': 'I have a busy lifestyle and am looking for plant-based meal prep tips to save time during the week.',\n",
       "  'question': 'How can I streamline meal preparation with plant-based ingredients for quick and easy meals?'},\n",
       " {'about_me': 'I am a nutritionist working with clients who have digestive issues and am considering plant-based solutions to improve gut health.',\n",
       "  'question': 'What plant-based foods are beneficial for promoting a healthy digestive system and gut microbiome?'},\n",
       " {'about_me': 'I am a professional athlete looking to optimize my performance through plant-based nutrition.',\n",
       "  'question': 'What plant-based meal plans can help me achieve peak athletic performance and recovery?'},\n",
       " {'about_me': 'I am a culinary student exploring plant-based cuisine and am interested in traditional plant-based dishes from different cultures.',\n",
       "  'question': 'What are some classic plant-based recipes from around the world that I can study and recreate?'},\n",
       " {'about_me': 'I am a wellness coach specializing in plant-based nutrition and am looking for resources to educate my clients on its benefits.',\n",
       "  'question': 'What are some reputable sources of information on plant-based eating for educating clients about its advantages?'},\n",
       " {'about_me': 'I am a gardener interested in growing my own plant-based ingredients and am looking for advice on sustainable gardening practices.',\n",
       "  'question': 'How can I cultivate a garden that produces a variety of plant-based foods year-round and supports a sustainable lifestyle?'},\n",
       " {'about_me': 'I am a food entrepreneur developing a plant-based product line and am seeking guidance on ingredient selection.',\n",
       "  'question': 'What plant-based ingredients are trending in the food industry and can enhance the appeal of my product line?'},\n",
       " {'about_me': 'I have osteoporosis and am considering plant-based dietary options to promote bone health.',\n",
       "  'question': 'Are there specific plant-based foods that can help improve bone density and reduce the risk of fractures in individuals with osteoporosis?'},\n",
       " {'about_me': 'I am a chef looking to create plant-based meals that are high in fiber and promote digestive health.',\n",
       "  'question': 'What high-fiber plant-based ingredients can I use to develop recipes that support gut health and regular digestion?'},\n",
       " {'about_me': 'I have high blood pressure and am interested in plant-based meal options to help lower it.',\n",
       "  'question': 'What plant-based foods can be effective in reducing blood pressure and promoting heart health?'},\n",
       " {'about_me': 'I am a nutrition educator conducting workshops on plant-based eating and am seeking engaging activities for participants.',\n",
       "  'question': 'What interactive exercises and demonstrations can I include in my workshops to educate individuals on the benefits of plant-based nutrition?'},\n",
       " {'about_me': 'I am a parent of a teenage athlete and am looking for plant-based meal ideas to support their training and performance.',\n",
       "  'question': 'What nutrient-dense plant-based meals can I prepare for my teenage athlete to optimize their energy and recovery?'},\n",
       " {'about_me': 'I am a restaurant owner interested in adding more plant-based options to my menu and am looking for guidance on creating plant-based dishes that appeal to a diverse clientele.',\n",
       "  'question': 'How can I develop plant-based recipes that cater to different dietary preferences and taste preferences of customers?'},\n",
       " {'about_me': 'I am a sustainability advocate passionate about reducing food waste and am seeking plant-based solutions to minimize environmental impact.',\n",
       "  'question': 'What are some creative ways to use plant-based ingredients to create zero-waste dishes and contribute to sustainable food practices?'},\n",
       " {'about_me': 'I am a corporate wellness coordinator planning a plant-based challenge for employees and am looking for resources to support their participation.',\n",
       "  'question': 'What educational materials and meal plans can I provide to employees to make a plant-based challenge successful and engaging?'},\n",
       " {'about_me': 'I am a dietitian working with clients interested in transitioning to a plant-based lifestyle and am seeking evidence-based recommendations to guide them through the process.',\n",
       "  'question': 'What are the key steps and considerations for individuals looking to adopt a plant-based diet for improved health and well-being?'},\n",
       " {'about_me': 'I am a baker experimenting with plant-based desserts and am looking for innovative ways to substitute traditional ingredients.',\n",
       "  'question': 'What plant-based alternatives can I use to create decadent and flavorful desserts without dairy or eggs?'},\n",
       " {'about_me': 'I am a fitness blogger interested in the connection between plant-based nutrition and physical performance and recovery.',\n",
       "  'question': 'How does plant-based eating impact exercise performance, muscle repair, and recovery for athletes and active individuals?'},\n",
       " {'about_me': 'I am a restaurant chef interested in developing a plant-based menu that caters to customers with various dietary restrictions.',\n",
       "  'question': 'How can I create a diverse and inclusive plant-based menu that accommodates patrons with allergies, intolerances, and special dietary needs?'},\n",
       " {'about_me': 'I am a culinary instructor teaching plant-based cooking classes and am looking for theme night ideas to engage students in different cuisines.',\n",
       "  'question': 'What are some creative themes for plant-based cooking classes that can introduce students to global flavors and culinary traditions?'},\n",
       " {'about_me': 'I am a nutrition researcher studying the health benefits of plant-based diets and am interested in the long-term effects on chronic disease prevention.',\n",
       "  'question': 'What long-term studies have been conducted on the impact of plant-based nutrition on reducing the risk of chronic diseases such as heart disease, diabetes, and cancer?'},\n",
       " {'about_me': 'I am a wellness retreat organizer planning a plant-based retreat and am seeking guidance on creating a balanced and nourishing menu for participants.',\n",
       "  'question': 'What plant-based meal options can I offer at the retreat that are not only delicious but also provide essential nutrients for overall well-being?'},\n",
       " {'about_me': 'I am a food writer researching plant-based trends and am looking for insights on emerging ingredients and flavors in plant-based cuisine.',\n",
       "  'question': 'What new plant-based ingredients and flavor profiles are gaining popularity in the culinary world and shaping the future of plant-based eating?'},\n",
       " {'about_me': 'I am a cooking show host interested in featuring more plant-based recipes and am looking for culinary experts to share their plant-based cooking tips and techniques.',\n",
       "  'question': 'How can I showcase diverse plant-based recipes and cooking methods through guest chefs on my show to inspire viewers to try plant-based dishes at home?'},\n",
       " {'about_me': 'I am a food blogger exploring the versatility of plant-based ingredients in global cuisines and am seeking inspiration for new plant-based recipes.',\n",
       "  'question': 'What are some traditional plant-based dishes from different countries that I can adapt and reimagine with a modern twist for my readers?'}]"
      ]
     },
     "execution_count": 94,
     "metadata": {},
     "output_type": "execute_result"
    }
   ],
   "source": [
    "synthetic_data['data']"
   ]
  },
  {
   "cell_type": "markdown",
   "metadata": {},
   "source": [
    "Next we need to generate repsonses to all these questions. But to make them relevant we will use RAG on our pdf data to get relevant context."
   ]
  },
  {
   "cell_type": "code",
   "execution_count": null,
   "metadata": {},
   "outputs": [],
   "source": []
  }
 ],
 "metadata": {
  "kernelspec": {
   "display_name": "vegan",
   "language": "python",
   "name": "python3"
  },
  "language_info": {
   "codemirror_mode": {
    "name": "ipython",
    "version": 3
   },
   "file_extension": ".py",
   "mimetype": "text/x-python",
   "name": "python",
   "nbconvert_exporter": "python",
   "pygments_lexer": "ipython3",
   "version": "3.10.14"
  }
 },
 "nbformat": 4,
 "nbformat_minor": 2
}
